{
 "cells": [
  {
   "cell_type": "markdown",
   "metadata": {},
   "source": [
    "# 3장 데이터 분석 시작"
   ]
  },
  {
   "cell_type": "markdown",
   "metadata": {},
   "source": [
    "## 1. 데이터 분석 루틴 개발\n",
    "\n",
    "- 1. 데이터셋을 읽은 후 head() 메서드를 사용해 처음 다섯 줄을 살펴본다.\n",
    "- 2. shape attribute를 사용하여 DataFrame의 모양을 확인한다.\n",
    "- 3. info() 메서드를 사용하여 각 col의 data type, 누락값 개수, 메모리 사용량 등을 확인한다.\n",
    "- 4. 수치 col의 요약 통계량을 구한 후, 가독성을 위해 transpose 시킨다.\n",
    "- 5. object, category col에 대한 요약 통계량을 구한다.\n",
    "\n",
    "- 데이터 딕셔너리\n",
    "\n",
    "## 2. 데이터 형식을 변경해 메모리 절약\n",
    "\n",
    "- memory_usage(deep=True) 메소드를 이용하여 DataFrame의 메모리 사용량을 확인한다.\n",
    "- 수치 col의 메모리를 줄일 수 있는지 확인(ex:float64 -> int6)\n",
    "- object type을 category type으로 변경가능한지 확인\n",
    "- astype() 메서드를 이용하여 type 변환\n",
    "\n",
    "## 3. 최대에서 최소 선택\n",
    "\n",
    "- 평점이 가장 좋은 100개 영화 중 최저 예산 5개\n",
    "- nlargest(), nsmallest 메서드\n",
    "\n",
    "## 4. 정렬을 통해 각 그룹에서 최대 선택\n",
    "\n",
    "- 각 해의 최고 평점 영화\n",
    "- sort_values()\n",
    "- drop_duplicates()\n",
    "\n",
    "## 5. sort_values를 사용해 nlargest 복제\n",
    "\n",
    "- sort_values() 메서드를 이용하여 다수 col을 정렬\n",
    "- sort_values() 메서드의 ascending 매개변수\n",
    "\n",
    "## 6. 추적 지정 주문가 계산\n",
    "\n",
    "- import FinanceDataReader as fdr\n",
    "- cummax(), cummin() 메서드\n"
   ]
  },
  {
   "cell_type": "code",
   "execution_count": null,
   "metadata": {},
   "outputs": [],
   "source": []
  }
 ],
 "metadata": {
  "kernelspec": {
   "display_name": "Python 3",
   "language": "python",
   "name": "python3"
  },
  "language_info": {
   "codemirror_mode": {
    "name": "ipython",
    "version": 3
   },
   "file_extension": ".py",
   "mimetype": "text/x-python",
   "name": "python",
   "nbconvert_exporter": "python",
   "pygments_lexer": "ipython3",
   "version": "3.6.4"
  }
 },
 "nbformat": 4,
 "nbformat_minor": 2
}
