{
 "cells": [
  {
   "cell_type": "markdown",
   "metadata": {},
   "source": [
    "# ch04 데이터의 부분 집합 선택"
   ]
  },
  {
   "cell_type": "markdown",
   "metadata": {},
   "source": [
    "## 1. Series 데이터 선택\n",
    "\n",
    "- indexing operator\n",
    "- indexer: .loc, .iloc\n",
    "\n",
    "- Series에 indexer를 사용하면 스칼라 값\n",
    "- Series에 indexer를 사용하면서 list를 인자로 전달하면 Series\n",
    "- iloc, loc indexer 둘 모두 슬라이스 표현을 사용 가능\n",
    "\n",
    "## 2. DataFrame row 선택\n",
    "\n",
    "- iloc, loc indexer를 사용하여 DataFrame의 row 선택\n",
    "\n",
    "\n",
    "## 3. DataFrame row, col 동시에 선택\\\n",
    "\n",
    "- col, row를 동시에 선택하려면 .iloc, .loc indexer에 쉼표로 구분된 정확한 col, row를 동시에 전달해야한다.\n",
    "- col. row를 지정하여 선택하면 스칼라, list, 슬라이스 객체, 불리언 배열등이 반환된다.\n",
    "\n",
    "## 4. 정수와 레이블로 데이터 선택\n",
    "\n",
    "- index는 get_loc() 메서드를 가지고 있다.\n",
    "\n",
    "## 5. 스칼라 선택 더 빠르게 하기\n",
    "\n",
    "- iat, at indexer\n",
    "\n",
    "## 6. row를 게으르게 슬라이스\n",
    "## 7. 사전 순서대로 슬라이스"
   ]
  },
  {
   "cell_type": "code",
   "execution_count": null,
   "metadata": {},
   "outputs": [],
   "source": []
  }
 ],
 "metadata": {
  "kernelspec": {
   "display_name": "Python 3",
   "language": "python",
   "name": "python3"
  },
  "language_info": {
   "codemirror_mode": {
    "name": "ipython",
    "version": 3
   },
   "file_extension": ".py",
   "mimetype": "text/x-python",
   "name": "python",
   "nbconvert_exporter": "python",
   "pygments_lexer": "ipython3",
   "version": "3.6.4"
  }
 },
 "nbformat": 4,
 "nbformat_minor": 2
}
