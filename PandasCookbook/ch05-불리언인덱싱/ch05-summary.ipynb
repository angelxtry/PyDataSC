{
 "cells": [
  {
   "cell_type": "markdown",
   "metadata": {},
   "source": [
    "# ch05 불리언 인덱싱"
   ]
  },
  {
   "cell_type": "markdown",
   "metadata": {},
   "source": [
    "## 1. 불리언 통계량 계산\n",
    "## 2. 다중 불리언 조건 구축\n",
    "## 3. 불리언 인덱싱을 사용한 필터링\n",
    "## 4. 인덱스 선택을 통한 불리언 인덱싱 \n",
    "## 5. 정렬된 고유 인덱스를 사용한 선택\n",
    "## 6. 주가 전망\n",
    "## 7. SQL WHERE절 해석\n",
    "## 8. 주식 시장 수익률의 정규성 검정\n",
    "## 9. query 메서드를 사용한 불리언 인덱싱 가독성 개선\n",
    "## 10. where 메서드를 사용한 Series 보존\n",
    "## 11. DataFrame row 마스크\n",
    "## 12. 불리언, 정수 위치, 레이블을 사용한 선택"
   ]
  },
  {
   "cell_type": "code",
   "execution_count": null,
   "metadata": {},
   "outputs": [],
   "source": []
  }
 ],
 "metadata": {
  "kernelspec": {
   "display_name": "Python 3",
   "language": "python",
   "name": "python3"
  },
  "language_info": {
   "codemirror_mode": {
    "name": "ipython",
    "version": 3
   },
   "file_extension": ".py",
   "mimetype": "text/x-python",
   "name": "python",
   "nbconvert_exporter": "python",
   "pygments_lexer": "ipython3",
   "version": "3.6.4"
  }
 },
 "nbformat": 4,
 "nbformat_minor": 2
}
