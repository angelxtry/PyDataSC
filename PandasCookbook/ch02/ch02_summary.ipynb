{
 "cells": [
  {
   "cell_type": "markdown",
   "metadata": {},
   "source": [
    "# 2장 DataFrame 필수 연산"
   ]
  },
  {
   "cell_type": "markdown",
   "metadata": {},
   "source": [
    "## 1. DataFrame에서 복수 column 선택\n",
    "## 2. 메서드를 사용하여 column 선택\n",
    "## 3. column 정렬하기\n",
    "## 4. 전체 DataFrame에 대한 연산\n",
    "## 5. DataFrame 메서드 chaining\n",
    "## 6. DataFrame operator 이용\n",
    "## 7. 누락값 비교\n",
    "## 8. DataFrame에서 연산 방향 바꾸기\n",
    "## 9. 대학 캠퍼스의 다양성 지수 발견"
   ]
  },
  {
   "cell_type": "code",
   "execution_count": null,
   "metadata": {},
   "outputs": [],
   "source": []
  }
 ],
 "metadata": {
  "kernelspec": {
   "display_name": "Python 3",
   "language": "python",
   "name": "python3"
  },
  "language_info": {
   "codemirror_mode": {
    "name": "ipython",
    "version": 3
   },
   "file_extension": ".py",
   "mimetype": "text/x-python",
   "name": "python",
   "nbconvert_exporter": "python",
   "pygments_lexer": "ipython3",
   "version": "3.6.4"
  }
 },
 "nbformat": 4,
 "nbformat_minor": 2
}
