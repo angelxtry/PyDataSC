{
 "cells": [
  {
   "cell_type": "markdown",
   "metadata": {},
   "source": [
    "# 2장 DataFrame 필수 연산"
   ]
  },
  {
   "cell_type": "markdown",
   "metadata": {},
   "source": [
    "## 1. DataFrame에서 복수 column 선택\n",
    "\n",
    "- indexing operator에 list를 사용하여 복수의 column을 선택하면 DataFrame이 된다.\n",
    "- 단일 column을 선택하더라도 DataFrame으로 만들고 싶다면 indexing operator에 list를 사용한다.\n",
    "\n",
    "## 2. 메서드를 사용하여 column 선택\n",
    "\n",
    "- select_dtypes() 메서드\n",
    "- filter() 메서드\n",
    "    - items\n",
    "    - like\n",
    "    - regex\n",
    "\n",
    "## 3. column 정렬하기\n",
    "\n",
    "- column name을 list로 만들어 new_df = orgi_df[column_name_list]와 같은 방식으로 정렬한다.\n",
    "- column name의 일부만으로 새로운 df를 만들 수도 있다.\n",
    "\n",
    "## 4. 전체 DataFrame에 대한 연산\n",
    "\n",
    "- DataFrame의 attribute\n",
    "    - shape\n",
    "    - size\n",
    "    - ndim\n",
    "\n",
    "- DataFrame의 메서드\n",
    "    - min(), max(), mean(), median(), std() 처럼 요약 통계량을 반환하는 메서드는 모두 비슷한 Series를 반환한다.\n",
    "    - 요약 통계량을 계산할 수 없는 column은 제외\n",
    "    - 수치 column은 자동으로 누락값을 제외\n",
    "    - skipna=False로 설정하면 누락값이 있을 경우 NaN을 반환\n",
    "\n",
    "## 5. DataFrame 메서드 chaining\n",
    "\n",
    "- df.isnull().sum() 으로 DataFrame의 전체 column의 누락값 확인을 할 수 있다.\n",
    "\n",
    "## 6. DataFrame operator 이용\n",
    "\n",
    "- 'UGDS_' 항목을 추출\n",
    "- 가장 가까운 백단위로 반올림해보자.\n",
    "    - 각 값에 .00501을 더한다.\n",
    "    - floordiv를 이용하여 가장 가까운 정수 퍼센티지로 반올림\n",
    "    - 다시 100으로 나눈다.\n",
    "    - 검증을 위해 round로 반올림\n",
    "    - 반올림 오차를 처리하기 위해 반올림하기 전에 아주 작은 값을 더해준다.\n",
    "    - equals() 메서드를 이용하여 테스트\n",
    "\n",
    "## 7. 누락값 비교\n",
    "\n",
    "- pandas는 Numpy의 NaN 객체(np.nan)를 사용하여 누락값을 나타낸다.\n",
    "- 이 객체는 스스로가 자신과 같다는 등식이 성립하지 않는다.(같지 않음(!=)의 연산만 True)\n",
    "- DataFrame을 비교할 때는 == 연산자는 적합하지 않다. euqals() 메서드를 사용해야 한다.\n",
    "\n",
    "\n",
    "## 8. DataFrame에서 연산 방향 바꾸기\n",
    "\n",
    "- 'UGDS_' 항목을 추출\n",
    "- 인종의 비율에 해당하는 column은 모두 9개다. 각 대학마다 몇 개의 column이 누락인지 확인해보자.\n",
    "- 각 대학의 인종별 누적합계를 구해보자.\n",
    "\n",
    "## 9. 대학 캠퍼스의 다양성 지수 발견\n",
    "\n",
    "- 'UGDS_' 항목을 추출\n",
    "- 학생 수의 15% 이상의 차지하는 인종의 수를 확인한다.\n",
    "- 9개의 인종 column이 모두 누락된 대학은 제외한다.\n",
    "- 15% 이상을 차지하는 인종의 수가 가장 많은 대학은?"
   ]
  },
  {
   "cell_type": "code",
   "execution_count": null,
   "metadata": {},
   "outputs": [],
   "source": []
  }
 ],
 "metadata": {
  "kernelspec": {
   "display_name": "Python 3",
   "language": "python",
   "name": "python3"
  },
  "language_info": {
   "codemirror_mode": {
    "name": "ipython",
    "version": 3
   },
   "file_extension": ".py",
   "mimetype": "text/x-python",
   "name": "python",
   "nbconvert_exporter": "python",
   "pygments_lexer": "ipython3",
   "version": "3.6.4"
  }
 },
 "nbformat": 4,
 "nbformat_minor": 2
}
