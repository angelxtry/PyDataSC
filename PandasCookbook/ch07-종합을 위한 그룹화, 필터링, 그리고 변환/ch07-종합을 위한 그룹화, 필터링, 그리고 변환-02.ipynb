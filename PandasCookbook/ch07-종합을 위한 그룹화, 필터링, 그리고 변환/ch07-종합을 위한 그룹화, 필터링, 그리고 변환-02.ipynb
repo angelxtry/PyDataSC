{
 "cells": [
  {
   "cell_type": "markdown",
   "metadata": {},
   "source": [
    "# ch07-종합을 위한 그룹화, 필터링, 그리고 변환"
   ]
  },
  {
   "cell_type": "markdown",
   "metadata": {},
   "source": [
    "- 데이터 분석 중 가장 기본적인 과제는 각 그룹에 대한 계산을 수행하기 전에 데이터를 독립적인 그룹으로 분할하는 것이다.\n",
    "- 분할-적용-병합 split-apply-combine 으로 불린다.\n",
    "- groupby() 메서드의 결과는 groupby 객체다.\n",
    "- groupby 객체가 생성될 때 pandas가 하는 일을 별로 없고 단지 주어진 조건의 그룹화가 가능한지 확인만 한다.\n",
    "- 제대로 사용하려면 groupby 객체에 메서드를 체인시켜야 한다."
   ]
  },
  {
   "cell_type": "code",
   "execution_count": 1,
   "metadata": {},
   "outputs": [],
   "source": [
    "import numpy as np\n",
    "import pandas as pd\n",
    "from pandas import DataFrame, Series"
   ]
  },
  {
   "cell_type": "markdown",
   "metadata": {},
   "source": [
    "## 8.체중 감량 내기를 통한 변환"
   ]
  },
  {
   "cell_type": "markdown",
   "metadata": {},
   "source": [
    "- 두 명의 체중 감량을 4개월간 추적해 승자를 결정한다.\n",
    "- 각 달의 마지막에 그 달에 가장 체중 강량 비율이 큰 사람이 승자가 된다.\n",
    "- 체중 감량을 추적하기 위해 데이터를 월별, 사람별로 그룹화하고\n",
    "- transform() 메서드를 사용하 시작주 부터 각 주마다의 체중 감량 비율을 찾아본다."
   ]
  },
  {
   "cell_type": "markdown",
   "metadata": {},
   "source": [
    "- weight_loss 데이터셋을 읽는다."
   ]
  },
  {
   "cell_type": "code",
   "execution_count": 2,
   "metadata": {},
   "outputs": [],
   "source": [
    "weight_loss = pd.read_csv('../data/weight_loss.csv')"
   ]
  },
  {
   "cell_type": "code",
   "execution_count": 3,
   "metadata": {},
   "outputs": [
    {
     "data": {
      "text/html": [
       "<div>\n",
       "<style scoped>\n",
       "    .dataframe tbody tr th:only-of-type {\n",
       "        vertical-align: middle;\n",
       "    }\n",
       "\n",
       "    .dataframe tbody tr th {\n",
       "        vertical-align: top;\n",
       "    }\n",
       "\n",
       "    .dataframe thead th {\n",
       "        text-align: right;\n",
       "    }\n",
       "</style>\n",
       "<table border=\"1\" class=\"dataframe\">\n",
       "  <thead>\n",
       "    <tr style=\"text-align: right;\">\n",
       "      <th></th>\n",
       "      <th>Name</th>\n",
       "      <th>Month</th>\n",
       "      <th>Week</th>\n",
       "      <th>Weight</th>\n",
       "    </tr>\n",
       "  </thead>\n",
       "  <tbody>\n",
       "    <tr>\n",
       "      <th>0</th>\n",
       "      <td>Bob</td>\n",
       "      <td>Jan</td>\n",
       "      <td>Week 1</td>\n",
       "      <td>291</td>\n",
       "    </tr>\n",
       "    <tr>\n",
       "      <th>1</th>\n",
       "      <td>Amy</td>\n",
       "      <td>Jan</td>\n",
       "      <td>Week 1</td>\n",
       "      <td>197</td>\n",
       "    </tr>\n",
       "    <tr>\n",
       "      <th>2</th>\n",
       "      <td>Bob</td>\n",
       "      <td>Jan</td>\n",
       "      <td>Week 2</td>\n",
       "      <td>288</td>\n",
       "    </tr>\n",
       "    <tr>\n",
       "      <th>3</th>\n",
       "      <td>Amy</td>\n",
       "      <td>Jan</td>\n",
       "      <td>Week 2</td>\n",
       "      <td>189</td>\n",
       "    </tr>\n",
       "    <tr>\n",
       "      <th>4</th>\n",
       "      <td>Bob</td>\n",
       "      <td>Jan</td>\n",
       "      <td>Week 3</td>\n",
       "      <td>283</td>\n",
       "    </tr>\n",
       "  </tbody>\n",
       "</table>\n",
       "</div>"
      ],
      "text/plain": [
       "  Name Month    Week  Weight\n",
       "0  Bob   Jan  Week 1     291\n",
       "1  Amy   Jan  Week 1     197\n",
       "2  Bob   Jan  Week 2     288\n",
       "3  Amy   Jan  Week 2     189\n",
       "4  Bob   Jan  Week 3     283"
      ]
     },
     "execution_count": 3,
     "metadata": {},
     "output_type": "execute_result"
    }
   ],
   "source": [
    "weight_loss.head()"
   ]
  },
  {
   "cell_type": "code",
   "execution_count": 4,
   "metadata": {},
   "outputs": [
    {
     "data": {
      "text/plain": [
       "(32, 4)"
      ]
     },
     "execution_count": 4,
     "metadata": {},
     "output_type": "execute_result"
    }
   ],
   "source": [
    "weight_loss.shape"
   ]
  },
  {
   "cell_type": "code",
   "execution_count": 5,
   "metadata": {},
   "outputs": [
    {
     "name": "stdout",
     "output_type": "stream",
     "text": [
      "<class 'pandas.core.frame.DataFrame'>\n",
      "RangeIndex: 32 entries, 0 to 31\n",
      "Data columns (total 4 columns):\n",
      "Name      32 non-null object\n",
      "Month     32 non-null object\n",
      "Week      32 non-null object\n",
      "Weight    32 non-null int64\n",
      "dtypes: int64(1), object(3)\n",
      "memory usage: 680.0+ bytes\n"
     ]
    }
   ],
   "source": [
    "weight_loss.info()"
   ]
  },
  {
   "cell_type": "code",
   "execution_count": 6,
   "metadata": {},
   "outputs": [
    {
     "data": {
      "text/html": [
       "<div>\n",
       "<style scoped>\n",
       "    .dataframe tbody tr th:only-of-type {\n",
       "        vertical-align: middle;\n",
       "    }\n",
       "\n",
       "    .dataframe tbody tr th {\n",
       "        vertical-align: top;\n",
       "    }\n",
       "\n",
       "    .dataframe thead th {\n",
       "        text-align: right;\n",
       "    }\n",
       "</style>\n",
       "<table border=\"1\" class=\"dataframe\">\n",
       "  <thead>\n",
       "    <tr style=\"text-align: right;\">\n",
       "      <th></th>\n",
       "      <th>Name</th>\n",
       "      <th>Month</th>\n",
       "      <th>Week</th>\n",
       "      <th>Weight</th>\n",
       "    </tr>\n",
       "  </thead>\n",
       "  <tbody>\n",
       "    <tr>\n",
       "      <th>0</th>\n",
       "      <td>Bob</td>\n",
       "      <td>Jan</td>\n",
       "      <td>Week 1</td>\n",
       "      <td>291</td>\n",
       "    </tr>\n",
       "    <tr>\n",
       "      <th>1</th>\n",
       "      <td>Amy</td>\n",
       "      <td>Jan</td>\n",
       "      <td>Week 1</td>\n",
       "      <td>197</td>\n",
       "    </tr>\n",
       "    <tr>\n",
       "      <th>2</th>\n",
       "      <td>Bob</td>\n",
       "      <td>Jan</td>\n",
       "      <td>Week 2</td>\n",
       "      <td>288</td>\n",
       "    </tr>\n",
       "    <tr>\n",
       "      <th>3</th>\n",
       "      <td>Amy</td>\n",
       "      <td>Jan</td>\n",
       "      <td>Week 2</td>\n",
       "      <td>189</td>\n",
       "    </tr>\n",
       "    <tr>\n",
       "      <th>4</th>\n",
       "      <td>Bob</td>\n",
       "      <td>Jan</td>\n",
       "      <td>Week 3</td>\n",
       "      <td>283</td>\n",
       "    </tr>\n",
       "    <tr>\n",
       "      <th>5</th>\n",
       "      <td>Amy</td>\n",
       "      <td>Jan</td>\n",
       "      <td>Week 3</td>\n",
       "      <td>189</td>\n",
       "    </tr>\n",
       "    <tr>\n",
       "      <th>6</th>\n",
       "      <td>Bob</td>\n",
       "      <td>Jan</td>\n",
       "      <td>Week 4</td>\n",
       "      <td>283</td>\n",
       "    </tr>\n",
       "    <tr>\n",
       "      <th>7</th>\n",
       "      <td>Amy</td>\n",
       "      <td>Jan</td>\n",
       "      <td>Week 4</td>\n",
       "      <td>190</td>\n",
       "    </tr>\n",
       "  </tbody>\n",
       "</table>\n",
       "</div>"
      ],
      "text/plain": [
       "  Name Month    Week  Weight\n",
       "0  Bob   Jan  Week 1     291\n",
       "1  Amy   Jan  Week 1     197\n",
       "2  Bob   Jan  Week 2     288\n",
       "3  Amy   Jan  Week 2     189\n",
       "4  Bob   Jan  Week 3     283\n",
       "5  Amy   Jan  Week 3     189\n",
       "6  Bob   Jan  Week 4     283\n",
       "7  Amy   Jan  Week 4     190"
      ]
     },
     "execution_count": 6,
     "metadata": {},
     "output_type": "execute_result"
    }
   ],
   "source": [
    "weight_loss.query('Month == \"Jan\"')"
   ]
  },
  {
   "cell_type": "markdown",
   "metadata": {},
   "source": [
    "- 각 달의 승자를 결정하기 위해서는 각 달의 첫 번째 주와 마지막 주의 체중 변화만 계산하면 된다.\n",
    "- 주별로 정보를 갱신하고자 한다면 매주마다 그 달의 첫 번째 주부터 체중 감량을 계산해볼 수 있다."
   ]
  },
  {
   "cell_type": "code",
   "execution_count": 7,
   "metadata": {},
   "outputs": [],
   "source": [
    "def find_perc_loss(s):\n",
    "    return (s - s.iloc[0]) / s.iloc[0]"
   ]
  },
  {
   "cell_type": "code",
   "execution_count": 8,
   "metadata": {},
   "outputs": [],
   "source": [
    "bob_jan = weight_loss.query('Name == \"Bob\" and Month == \"Jan\"')"
   ]
  },
  {
   "cell_type": "code",
   "execution_count": 9,
   "metadata": {},
   "outputs": [
    {
     "data": {
      "text/html": [
       "<div>\n",
       "<style scoped>\n",
       "    .dataframe tbody tr th:only-of-type {\n",
       "        vertical-align: middle;\n",
       "    }\n",
       "\n",
       "    .dataframe tbody tr th {\n",
       "        vertical-align: top;\n",
       "    }\n",
       "\n",
       "    .dataframe thead th {\n",
       "        text-align: right;\n",
       "    }\n",
       "</style>\n",
       "<table border=\"1\" class=\"dataframe\">\n",
       "  <thead>\n",
       "    <tr style=\"text-align: right;\">\n",
       "      <th></th>\n",
       "      <th>Name</th>\n",
       "      <th>Month</th>\n",
       "      <th>Week</th>\n",
       "      <th>Weight</th>\n",
       "    </tr>\n",
       "  </thead>\n",
       "  <tbody>\n",
       "    <tr>\n",
       "      <th>0</th>\n",
       "      <td>Bob</td>\n",
       "      <td>Jan</td>\n",
       "      <td>Week 1</td>\n",
       "      <td>291</td>\n",
       "    </tr>\n",
       "    <tr>\n",
       "      <th>2</th>\n",
       "      <td>Bob</td>\n",
       "      <td>Jan</td>\n",
       "      <td>Week 2</td>\n",
       "      <td>288</td>\n",
       "    </tr>\n",
       "    <tr>\n",
       "      <th>4</th>\n",
       "      <td>Bob</td>\n",
       "      <td>Jan</td>\n",
       "      <td>Week 3</td>\n",
       "      <td>283</td>\n",
       "    </tr>\n",
       "    <tr>\n",
       "      <th>6</th>\n",
       "      <td>Bob</td>\n",
       "      <td>Jan</td>\n",
       "      <td>Week 4</td>\n",
       "      <td>283</td>\n",
       "    </tr>\n",
       "  </tbody>\n",
       "</table>\n",
       "</div>"
      ],
      "text/plain": [
       "  Name Month    Week  Weight\n",
       "0  Bob   Jan  Week 1     291\n",
       "2  Bob   Jan  Week 2     288\n",
       "4  Bob   Jan  Week 3     283\n",
       "6  Bob   Jan  Week 4     283"
      ]
     },
     "execution_count": 9,
     "metadata": {},
     "output_type": "execute_result"
    }
   ],
   "source": [
    "bob_jan"
   ]
  },
  {
   "cell_type": "code",
   "execution_count": 10,
   "metadata": {},
   "outputs": [
    {
     "data": {
      "text/plain": [
       "0    0.000000\n",
       "2   -0.010309\n",
       "4   -0.027491\n",
       "6   -0.027491\n",
       "Name: Weight, dtype: float64"
      ]
     },
     "execution_count": 10,
     "metadata": {},
     "output_type": "execute_result"
    }
   ],
   "source": [
    "find_perc_loss(bob_jan['Weight'])"
   ]
  },
  {
   "cell_type": "markdown",
   "metadata": {},
   "source": [
    "- 이 함수를 사람과 주에 대한 모든 단일 조합에 대해 적용하면 각 달의 첫 주와 대비한 주별 체중 감량값을 얻을 수 있다.\n",
    "- 데이터를 Name과 Month에 따라 그룹화하고 transform() 메서드를 사용해 이 커스컴 함수를 적용한다."
   ]
  },
  {
   "cell_type": "code",
   "execution_count": 11,
   "metadata": {},
   "outputs": [],
   "source": [
    "pcnt_loss = weight_loss.groupby(['Name', 'Month'])['Weight']\\\n",
    "                       .transform(find_perc_loss)"
   ]
  },
  {
   "cell_type": "code",
   "execution_count": 12,
   "metadata": {},
   "outputs": [
    {
     "data": {
      "text/plain": [
       "(32,)"
      ]
     },
     "execution_count": 12,
     "metadata": {},
     "output_type": "execute_result"
    }
   ],
   "source": [
    "pcnt_loss.shape"
   ]
  },
  {
   "cell_type": "code",
   "execution_count": 13,
   "metadata": {},
   "outputs": [
    {
     "data": {
      "text/plain": [
       "0    0.000000\n",
       "1    0.000000\n",
       "2   -0.010309\n",
       "3   -0.040609\n",
       "4   -0.027491\n",
       "5   -0.040609\n",
       "6   -0.027491\n",
       "7   -0.035533\n",
       "Name: Weight, dtype: float64"
      ]
     },
     "execution_count": 13,
     "metadata": {},
     "output_type": "execute_result"
    }
   ],
   "source": [
    "pcnt_loss.head(8)"
   ]
  },
  {
   "cell_type": "markdown",
   "metadata": {},
   "source": [
    "- transform() 메서드는 호출하는 DataFrame과 동일한 행 개수를 갖는 객체를 반환해야만 한다.\n",
    "- 이 결과를 최초 DataFrame에 새로운 col로 추가해보자.\n",
    "- 출력을 단순화하기 위해 bob의 처음 두 달 데이터만 선택한다."
   ]
  },
  {
   "cell_type": "code",
   "execution_count": 14,
   "metadata": {},
   "outputs": [],
   "source": [
    "weight_loss['Perc Weight Loss'] = pcnt_loss.round(3)"
   ]
  },
  {
   "cell_type": "code",
   "execution_count": 15,
   "metadata": {},
   "outputs": [
    {
     "data": {
      "text/html": [
       "<div>\n",
       "<style scoped>\n",
       "    .dataframe tbody tr th:only-of-type {\n",
       "        vertical-align: middle;\n",
       "    }\n",
       "\n",
       "    .dataframe tbody tr th {\n",
       "        vertical-align: top;\n",
       "    }\n",
       "\n",
       "    .dataframe thead th {\n",
       "        text-align: right;\n",
       "    }\n",
       "</style>\n",
       "<table border=\"1\" class=\"dataframe\">\n",
       "  <thead>\n",
       "    <tr style=\"text-align: right;\">\n",
       "      <th></th>\n",
       "      <th>Name</th>\n",
       "      <th>Month</th>\n",
       "      <th>Week</th>\n",
       "      <th>Weight</th>\n",
       "      <th>Perc Weight Loss</th>\n",
       "    </tr>\n",
       "  </thead>\n",
       "  <tbody>\n",
       "    <tr>\n",
       "      <th>0</th>\n",
       "      <td>Bob</td>\n",
       "      <td>Jan</td>\n",
       "      <td>Week 1</td>\n",
       "      <td>291</td>\n",
       "      <td>0.000</td>\n",
       "    </tr>\n",
       "    <tr>\n",
       "      <th>2</th>\n",
       "      <td>Bob</td>\n",
       "      <td>Jan</td>\n",
       "      <td>Week 2</td>\n",
       "      <td>288</td>\n",
       "      <td>-0.010</td>\n",
       "    </tr>\n",
       "    <tr>\n",
       "      <th>4</th>\n",
       "      <td>Bob</td>\n",
       "      <td>Jan</td>\n",
       "      <td>Week 3</td>\n",
       "      <td>283</td>\n",
       "      <td>-0.027</td>\n",
       "    </tr>\n",
       "    <tr>\n",
       "      <th>6</th>\n",
       "      <td>Bob</td>\n",
       "      <td>Jan</td>\n",
       "      <td>Week 4</td>\n",
       "      <td>283</td>\n",
       "      <td>-0.027</td>\n",
       "    </tr>\n",
       "    <tr>\n",
       "      <th>8</th>\n",
       "      <td>Bob</td>\n",
       "      <td>Feb</td>\n",
       "      <td>Week 1</td>\n",
       "      <td>283</td>\n",
       "      <td>0.000</td>\n",
       "    </tr>\n",
       "    <tr>\n",
       "      <th>10</th>\n",
       "      <td>Bob</td>\n",
       "      <td>Feb</td>\n",
       "      <td>Week 2</td>\n",
       "      <td>275</td>\n",
       "      <td>-0.028</td>\n",
       "    </tr>\n",
       "    <tr>\n",
       "      <th>12</th>\n",
       "      <td>Bob</td>\n",
       "      <td>Feb</td>\n",
       "      <td>Week 3</td>\n",
       "      <td>268</td>\n",
       "      <td>-0.053</td>\n",
       "    </tr>\n",
       "    <tr>\n",
       "      <th>14</th>\n",
       "      <td>Bob</td>\n",
       "      <td>Feb</td>\n",
       "      <td>Week 4</td>\n",
       "      <td>268</td>\n",
       "      <td>-0.053</td>\n",
       "    </tr>\n",
       "  </tbody>\n",
       "</table>\n",
       "</div>"
      ],
      "text/plain": [
       "   Name Month    Week  Weight  Perc Weight Loss\n",
       "0   Bob   Jan  Week 1     291             0.000\n",
       "2   Bob   Jan  Week 2     288            -0.010\n",
       "4   Bob   Jan  Week 3     283            -0.027\n",
       "6   Bob   Jan  Week 4     283            -0.027\n",
       "8   Bob   Feb  Week 1     283             0.000\n",
       "10  Bob   Feb  Week 2     275            -0.028\n",
       "12  Bob   Feb  Week 3     268            -0.053\n",
       "14  Bob   Feb  Week 4     268            -0.053"
      ]
     },
     "execution_count": 15,
     "metadata": {},
     "output_type": "execute_result"
    }
   ],
   "source": [
    "weight_loss.query('Name==\"Bob\" and Month in [\"Jan\", \"Feb\"]')"
   ]
  },
  {
   "cell_type": "markdown",
   "metadata": {},
   "source": [
    "- 매달 체중 감량 비율은 리셋되야 한다.\n",
    "- 중요한 것은 오직 마지막 주의 결과이므로 4주째를 선택한다."
   ]
  },
  {
   "cell_type": "code",
   "execution_count": 16,
   "metadata": {},
   "outputs": [],
   "source": [
    "week4 = weight_loss.query('Week == \"Week 4\"')"
   ]
  },
  {
   "cell_type": "code",
   "execution_count": 17,
   "metadata": {},
   "outputs": [
    {
     "data": {
      "text/html": [
       "<div>\n",
       "<style scoped>\n",
       "    .dataframe tbody tr th:only-of-type {\n",
       "        vertical-align: middle;\n",
       "    }\n",
       "\n",
       "    .dataframe tbody tr th {\n",
       "        vertical-align: top;\n",
       "    }\n",
       "\n",
       "    .dataframe thead th {\n",
       "        text-align: right;\n",
       "    }\n",
       "</style>\n",
       "<table border=\"1\" class=\"dataframe\">\n",
       "  <thead>\n",
       "    <tr style=\"text-align: right;\">\n",
       "      <th></th>\n",
       "      <th>Name</th>\n",
       "      <th>Month</th>\n",
       "      <th>Week</th>\n",
       "      <th>Weight</th>\n",
       "      <th>Perc Weight Loss</th>\n",
       "    </tr>\n",
       "  </thead>\n",
       "  <tbody>\n",
       "    <tr>\n",
       "      <th>6</th>\n",
       "      <td>Bob</td>\n",
       "      <td>Jan</td>\n",
       "      <td>Week 4</td>\n",
       "      <td>283</td>\n",
       "      <td>-0.027</td>\n",
       "    </tr>\n",
       "    <tr>\n",
       "      <th>7</th>\n",
       "      <td>Amy</td>\n",
       "      <td>Jan</td>\n",
       "      <td>Week 4</td>\n",
       "      <td>190</td>\n",
       "      <td>-0.036</td>\n",
       "    </tr>\n",
       "    <tr>\n",
       "      <th>14</th>\n",
       "      <td>Bob</td>\n",
       "      <td>Feb</td>\n",
       "      <td>Week 4</td>\n",
       "      <td>268</td>\n",
       "      <td>-0.053</td>\n",
       "    </tr>\n",
       "    <tr>\n",
       "      <th>15</th>\n",
       "      <td>Amy</td>\n",
       "      <td>Feb</td>\n",
       "      <td>Week 4</td>\n",
       "      <td>173</td>\n",
       "      <td>-0.089</td>\n",
       "    </tr>\n",
       "    <tr>\n",
       "      <th>22</th>\n",
       "      <td>Bob</td>\n",
       "      <td>Mar</td>\n",
       "      <td>Week 4</td>\n",
       "      <td>261</td>\n",
       "      <td>-0.026</td>\n",
       "    </tr>\n",
       "    <tr>\n",
       "      <th>23</th>\n",
       "      <td>Amy</td>\n",
       "      <td>Mar</td>\n",
       "      <td>Week 4</td>\n",
       "      <td>170</td>\n",
       "      <td>-0.017</td>\n",
       "    </tr>\n",
       "    <tr>\n",
       "      <th>30</th>\n",
       "      <td>Bob</td>\n",
       "      <td>Apr</td>\n",
       "      <td>Week 4</td>\n",
       "      <td>250</td>\n",
       "      <td>-0.042</td>\n",
       "    </tr>\n",
       "    <tr>\n",
       "      <th>31</th>\n",
       "      <td>Amy</td>\n",
       "      <td>Apr</td>\n",
       "      <td>Week 4</td>\n",
       "      <td>161</td>\n",
       "      <td>-0.053</td>\n",
       "    </tr>\n",
       "  </tbody>\n",
       "</table>\n",
       "</div>"
      ],
      "text/plain": [
       "   Name Month    Week  Weight  Perc Weight Loss\n",
       "6   Bob   Jan  Week 4     283            -0.027\n",
       "7   Amy   Jan  Week 4     190            -0.036\n",
       "14  Bob   Feb  Week 4     268            -0.053\n",
       "15  Amy   Feb  Week 4     173            -0.089\n",
       "22  Bob   Mar  Week 4     261            -0.026\n",
       "23  Amy   Mar  Week 4     170            -0.017\n",
       "30  Bob   Apr  Week 4     250            -0.042\n",
       "31  Amy   Apr  Week 4     161            -0.053"
      ]
     },
     "execution_count": 17,
     "metadata": {},
     "output_type": "execute_result"
    }
   ],
   "source": [
    "week4"
   ]
  },
  {
   "cell_type": "markdown",
   "metadata": {},
   "source": [
    "- 4주째만 선택했지만 각 월의 승자를 자동으로 찾아내지는 못한다.\n",
    "- pivot 메서드로 데이터를 재구성해 체중 감량 비율이 각 월별로 인접해 나타나도록 수정하자."
   ]
  },
  {
   "cell_type": "code",
   "execution_count": 18,
   "metadata": {},
   "outputs": [],
   "source": [
    "winner = week4.pivot(index='Month', columns='Name',\n",
    "                     values='Perc Weight Loss')"
   ]
  },
  {
   "cell_type": "code",
   "execution_count": 19,
   "metadata": {},
   "outputs": [
    {
     "data": {
      "text/html": [
       "<div>\n",
       "<style scoped>\n",
       "    .dataframe tbody tr th:only-of-type {\n",
       "        vertical-align: middle;\n",
       "    }\n",
       "\n",
       "    .dataframe tbody tr th {\n",
       "        vertical-align: top;\n",
       "    }\n",
       "\n",
       "    .dataframe thead th {\n",
       "        text-align: right;\n",
       "    }\n",
       "</style>\n",
       "<table border=\"1\" class=\"dataframe\">\n",
       "  <thead>\n",
       "    <tr style=\"text-align: right;\">\n",
       "      <th>Name</th>\n",
       "      <th>Amy</th>\n",
       "      <th>Bob</th>\n",
       "    </tr>\n",
       "    <tr>\n",
       "      <th>Month</th>\n",
       "      <th></th>\n",
       "      <th></th>\n",
       "    </tr>\n",
       "  </thead>\n",
       "  <tbody>\n",
       "    <tr>\n",
       "      <th>Apr</th>\n",
       "      <td>-0.053</td>\n",
       "      <td>-0.042</td>\n",
       "    </tr>\n",
       "    <tr>\n",
       "      <th>Feb</th>\n",
       "      <td>-0.089</td>\n",
       "      <td>-0.053</td>\n",
       "    </tr>\n",
       "    <tr>\n",
       "      <th>Jan</th>\n",
       "      <td>-0.036</td>\n",
       "      <td>-0.027</td>\n",
       "    </tr>\n",
       "    <tr>\n",
       "      <th>Mar</th>\n",
       "      <td>-0.017</td>\n",
       "      <td>-0.026</td>\n",
       "    </tr>\n",
       "  </tbody>\n",
       "</table>\n",
       "</div>"
      ],
      "text/plain": [
       "Name     Amy    Bob\n",
       "Month              \n",
       "Apr   -0.053 -0.042\n",
       "Feb   -0.089 -0.053\n",
       "Jan   -0.036 -0.027\n",
       "Mar   -0.017 -0.026"
      ]
     },
     "execution_count": 19,
     "metadata": {},
     "output_type": "execute_result"
    }
   ],
   "source": [
    "winner"
   ]
  },
  {
   "cell_type": "markdown",
   "metadata": {},
   "source": [
    "- 이 출력은 각 월별로 누가 승자인지 확연히 보여주지만, 자동화를 위해서는 여전히 몇 단계 작업을 더 거쳐야 한다.\n",
    "- Numpy에는 where라는 이름의 벡터화된 if-then-else 함수가 있어서 Series나 불리언 배열을 다른 값으로 매핑할 수 있다.\n",
    "- 승자 이름을 담을 새로운 col을 생성하고 그 달의 승자의 감량 비율을 부각시켜 보자."
   ]
  },
  {
   "cell_type": "code",
   "execution_count": 20,
   "metadata": {},
   "outputs": [],
   "source": [
    "winner['Winner'] = np.where(winner['Amy'] < winner['Bob'], 'Amy', 'Bob')"
   ]
  },
  {
   "cell_type": "code",
   "execution_count": 21,
   "metadata": {},
   "outputs": [
    {
     "data": {
      "text/html": [
       "<style  type=\"text/css\" >\n",
       "    #T_388d48ba_970b_11e8_846c_000af740aa11row0_col0 {\n",
       "            background-color:  yellow;\n",
       "        }    #T_388d48ba_970b_11e8_846c_000af740aa11row1_col0 {\n",
       "            background-color:  yellow;\n",
       "        }    #T_388d48ba_970b_11e8_846c_000af740aa11row2_col0 {\n",
       "            background-color:  yellow;\n",
       "        }    #T_388d48ba_970b_11e8_846c_000af740aa11row3_col1 {\n",
       "            background-color:  yellow;\n",
       "        }</style>  \n",
       "<table id=\"T_388d48ba_970b_11e8_846c_000af740aa11\" > \n",
       "<thead>    <tr> \n",
       "        <th class=\"index_name level0\" >Name</th> \n",
       "        <th class=\"col_heading level0 col0\" >Amy</th> \n",
       "        <th class=\"col_heading level0 col1\" >Bob</th> \n",
       "        <th class=\"col_heading level0 col2\" >Winner</th> \n",
       "    </tr>    <tr> \n",
       "        <th class=\"index_name level0\" >Month</th> \n",
       "        <th class=\"blank\" ></th> \n",
       "        <th class=\"blank\" ></th> \n",
       "        <th class=\"blank\" ></th> \n",
       "    </tr></thead> \n",
       "<tbody>    <tr> \n",
       "        <th id=\"T_388d48ba_970b_11e8_846c_000af740aa11level0_row0\" class=\"row_heading level0 row0\" >Apr</th> \n",
       "        <td id=\"T_388d48ba_970b_11e8_846c_000af740aa11row0_col0\" class=\"data row0 col0\" >-0.053</td> \n",
       "        <td id=\"T_388d48ba_970b_11e8_846c_000af740aa11row0_col1\" class=\"data row0 col1\" >-0.042</td> \n",
       "        <td id=\"T_388d48ba_970b_11e8_846c_000af740aa11row0_col2\" class=\"data row0 col2\" >Amy</td> \n",
       "    </tr>    <tr> \n",
       "        <th id=\"T_388d48ba_970b_11e8_846c_000af740aa11level0_row1\" class=\"row_heading level0 row1\" >Feb</th> \n",
       "        <td id=\"T_388d48ba_970b_11e8_846c_000af740aa11row1_col0\" class=\"data row1 col0\" >-0.089</td> \n",
       "        <td id=\"T_388d48ba_970b_11e8_846c_000af740aa11row1_col1\" class=\"data row1 col1\" >-0.053</td> \n",
       "        <td id=\"T_388d48ba_970b_11e8_846c_000af740aa11row1_col2\" class=\"data row1 col2\" >Amy</td> \n",
       "    </tr>    <tr> \n",
       "        <th id=\"T_388d48ba_970b_11e8_846c_000af740aa11level0_row2\" class=\"row_heading level0 row2\" >Jan</th> \n",
       "        <td id=\"T_388d48ba_970b_11e8_846c_000af740aa11row2_col0\" class=\"data row2 col0\" >-0.036</td> \n",
       "        <td id=\"T_388d48ba_970b_11e8_846c_000af740aa11row2_col1\" class=\"data row2 col1\" >-0.027</td> \n",
       "        <td id=\"T_388d48ba_970b_11e8_846c_000af740aa11row2_col2\" class=\"data row2 col2\" >Amy</td> \n",
       "    </tr>    <tr> \n",
       "        <th id=\"T_388d48ba_970b_11e8_846c_000af740aa11level0_row3\" class=\"row_heading level0 row3\" >Mar</th> \n",
       "        <td id=\"T_388d48ba_970b_11e8_846c_000af740aa11row3_col0\" class=\"data row3 col0\" >-0.017</td> \n",
       "        <td id=\"T_388d48ba_970b_11e8_846c_000af740aa11row3_col1\" class=\"data row3 col1\" >-0.026</td> \n",
       "        <td id=\"T_388d48ba_970b_11e8_846c_000af740aa11row3_col2\" class=\"data row3 col2\" >Bob</td> \n",
       "    </tr></tbody> \n",
       "</table> "
      ],
      "text/plain": [
       "<pandas.io.formats.style.Styler at 0x6c92690>"
      ]
     },
     "execution_count": 21,
     "metadata": {},
     "output_type": "execute_result"
    }
   ],
   "source": [
    "winner.style.highlight_min(axis=1)"
   ]
  },
  {
   "cell_type": "markdown",
   "metadata": {},
   "source": [
    "- 마지막으로 value_counts() 메서드로 승리한 월 개수를 세어 최종 점수를 반환한다."
   ]
  },
  {
   "cell_type": "code",
   "execution_count": 22,
   "metadata": {},
   "outputs": [
    {
     "data": {
      "text/plain": [
       "Amy    3\n",
       "Bob    1\n",
       "Name: Winner, dtype: int64"
      ]
     },
     "execution_count": 22,
     "metadata": {},
     "output_type": "execute_result"
    }
   ],
   "source": [
    "winner.Winner.value_counts()"
   ]
  },
  {
   "cell_type": "markdown",
   "metadata": {},
   "source": [
    "- 결과를 도출하는 동안 불리언 인덱싱 대신 query() 메서드를 사용해 데이터를 필터링 했다.\n",
    "- query() 메서드를 사용하면 불리언 인덱싱보다 가독성이 좋아진다."
   ]
  },
  {
   "cell_type": "markdown",
   "metadata": {},
   "source": [
    "- 각 사람의 월별 체중 감량 비율을 찾기 위해서는 각 주의 체중 감소를 월 초와 비교해야 한다.\n",
    "- 이 상황에서는 groupby의 transform() 메서드가 가장 적합하다.\n",
    "- transform() 메서드는 함수를 매개변수 중 하나로 받아들인다.\n",
    "- 이 함수는 묵시적으로 그룹화되지 않은 각 col에 전달된다.\n",
    "- 혹은 이번 예제처럼 Weight col에서 한 것처럼 인덱스 연산자에서 지정할 특정 col에 전달된다.\n",
    "- 이 메서드는 전달된 그룹과 동일한 길이의 값을 반환하고, 그렇지 않으면 오류가 발생한다.\n",
    "- 원시 DataFrame 으로부터의 모든 값이 변환된다.\n",
    "- 어떠한 aggregation이나 filtering도 일어나지 않는다."
   ]
  },
  {
   "cell_type": "markdown",
   "metadata": {},
   "source": [
    "- pivot 함수는 데이터셋을 한 col의 고유한 값을 중심축으로 새로운 col 이름으로 만들어준다.\n",
    "- index 매개변수를 사용하면 pivot으로 하기를 원하지 않는 열을 지정할 수 있다.\n",
    "- values 매개변수에 전달된 col들은 그 index와 columns 매개변수의 각 고유한 조합에 대해 연속적으로 쌓인다."
   ]
  },
  {
   "cell_type": "markdown",
   "metadata": {},
   "source": [
    "- pivot() 메서드는 index와 columns 매개변수의 고유한 조합이 단 한 번만 나타날 때만 작동한다.\n",
    "- 고유한 조합이 둘 이상 존재하면 오류가 발생한다.\n",
    "- 그런 경우에는 pivot_table을 사용해 복수값을 한꺼번에 종합할 수 있다."
   ]
  },
  {
   "cell_type": "markdown",
   "metadata": {},
   "source": [
    "- Numpy의 where 함수의 첫 번째 인수는 불리언 Series를 생성할 조건이다."
   ]
  },
  {
   "cell_type": "code",
   "execution_count": 23,
   "metadata": {},
   "outputs": [
    {
     "data": {
      "text/html": [
       "<style  type=\"text/css\" >\n",
       "    #T_389278da_970b_11e8_a735_000af740aa11row0_col0 {\n",
       "            background-color:  yellow;\n",
       "        }    #T_389278da_970b_11e8_a735_000af740aa11row1_col0 {\n",
       "            background-color:  yellow;\n",
       "        }    #T_389278da_970b_11e8_a735_000af740aa11row2_col0 {\n",
       "            background-color:  yellow;\n",
       "        }    #T_389278da_970b_11e8_a735_000af740aa11row3_col1 {\n",
       "            background-color:  yellow;\n",
       "        }</style>  \n",
       "<table id=\"T_389278da_970b_11e8_a735_000af740aa11\" > \n",
       "<thead>    <tr> \n",
       "        <th class=\"index_name level0\" >Name</th> \n",
       "        <th class=\"col_heading level0 col0\" >Amy</th> \n",
       "        <th class=\"col_heading level0 col1\" >Bob</th> \n",
       "        <th class=\"col_heading level0 col2\" >Winner</th> \n",
       "    </tr>    <tr> \n",
       "        <th class=\"index_name level0\" >Month</th> \n",
       "        <th class=\"blank\" ></th> \n",
       "        <th class=\"blank\" ></th> \n",
       "        <th class=\"blank\" ></th> \n",
       "    </tr></thead> \n",
       "<tbody>    <tr> \n",
       "        <th id=\"T_389278da_970b_11e8_a735_000af740aa11level0_row0\" class=\"row_heading level0 row0\" >Apr</th> \n",
       "        <td id=\"T_389278da_970b_11e8_a735_000af740aa11row0_col0\" class=\"data row0 col0\" >-0.053</td> \n",
       "        <td id=\"T_389278da_970b_11e8_a735_000af740aa11row0_col1\" class=\"data row0 col1\" >-0.042</td> \n",
       "        <td id=\"T_389278da_970b_11e8_a735_000af740aa11row0_col2\" class=\"data row0 col2\" >Amy</td> \n",
       "    </tr>    <tr> \n",
       "        <th id=\"T_389278da_970b_11e8_a735_000af740aa11level0_row1\" class=\"row_heading level0 row1\" >Feb</th> \n",
       "        <td id=\"T_389278da_970b_11e8_a735_000af740aa11row1_col0\" class=\"data row1 col0\" >-0.089</td> \n",
       "        <td id=\"T_389278da_970b_11e8_a735_000af740aa11row1_col1\" class=\"data row1 col1\" >-0.053</td> \n",
       "        <td id=\"T_389278da_970b_11e8_a735_000af740aa11row1_col2\" class=\"data row1 col2\" >Amy</td> \n",
       "    </tr>    <tr> \n",
       "        <th id=\"T_389278da_970b_11e8_a735_000af740aa11level0_row2\" class=\"row_heading level0 row2\" >Jan</th> \n",
       "        <td id=\"T_389278da_970b_11e8_a735_000af740aa11row2_col0\" class=\"data row2 col0\" >-0.036</td> \n",
       "        <td id=\"T_389278da_970b_11e8_a735_000af740aa11row2_col1\" class=\"data row2 col1\" >-0.027</td> \n",
       "        <td id=\"T_389278da_970b_11e8_a735_000af740aa11row2_col2\" class=\"data row2 col2\" >Amy</td> \n",
       "    </tr>    <tr> \n",
       "        <th id=\"T_389278da_970b_11e8_a735_000af740aa11level0_row3\" class=\"row_heading level0 row3\" >Mar</th> \n",
       "        <td id=\"T_389278da_970b_11e8_a735_000af740aa11row3_col0\" class=\"data row3 col0\" >-0.017</td> \n",
       "        <td id=\"T_389278da_970b_11e8_a735_000af740aa11row3_col1\" class=\"data row3 col1\" >-0.026</td> \n",
       "        <td id=\"T_389278da_970b_11e8_a735_000af740aa11row3_col2\" class=\"data row3 col2\" >Bob</td> \n",
       "    </tr></tbody> \n",
       "</table> "
      ],
      "text/plain": [
       "<pandas.io.formats.style.Styler at 0x8695dd0>"
      ]
     },
     "execution_count": 23,
     "metadata": {},
     "output_type": "execute_result"
    }
   ],
   "source": [
    "winner.style.highlight_min(axis=1)"
   ]
  },
  {
   "cell_type": "markdown",
   "metadata": {},
   "source": [
    "- pandas는 Month를 알파벳순으로 정렬한다.\n",
    "- 이것은 월의 데이터 형식을 범주형으로 바꾸면 해결할 수 있다.\n",
    "- 범주형 변수는 각 열의 모든 값을 정수로 매핑한다."
   ]
  },
  {
   "cell_type": "code",
   "execution_count": 24,
   "metadata": {},
   "outputs": [],
   "source": [
    "week4a = week4.copy()"
   ]
  },
  {
   "cell_type": "code",
   "execution_count": 25,
   "metadata": {},
   "outputs": [],
   "source": [
    "month_chron = week4a['Month'].unique() # or use drop_ducplicate"
   ]
  },
  {
   "cell_type": "code",
   "execution_count": 26,
   "metadata": {},
   "outputs": [
    {
     "data": {
      "text/plain": [
       "array(['Jan', 'Feb', 'Mar', 'Apr'], dtype=object)"
      ]
     },
     "execution_count": 26,
     "metadata": {},
     "output_type": "execute_result"
    }
   ],
   "source": [
    "month_chron"
   ]
  },
  {
   "cell_type": "code",
   "execution_count": 27,
   "metadata": {},
   "outputs": [],
   "source": [
    "week4a['Month'] = pd.Categorical(week4a['Month'],\n",
    "                                 categories=month_chron,\n",
    "                                 ordered=True)"
   ]
  },
  {
   "cell_type": "code",
   "execution_count": 28,
   "metadata": {},
   "outputs": [
    {
     "name": "stdout",
     "output_type": "stream",
     "text": [
      "<class 'pandas.core.frame.DataFrame'>\n",
      "Int64Index: 8 entries, 6 to 31\n",
      "Data columns (total 5 columns):\n",
      "Name                8 non-null object\n",
      "Month               8 non-null category\n",
      "Week                8 non-null object\n",
      "Weight              8 non-null int64\n",
      "Perc Weight Loss    8 non-null float64\n",
      "dtypes: category(1), float64(1), int64(1), object(2)\n",
      "memory usage: 376.0+ bytes\n"
     ]
    }
   ],
   "source": [
    "week4a.info()"
   ]
  },
  {
   "cell_type": "code",
   "execution_count": 29,
   "metadata": {},
   "outputs": [
    {
     "data": {
      "text/html": [
       "<div>\n",
       "<style scoped>\n",
       "    .dataframe tbody tr th:only-of-type {\n",
       "        vertical-align: middle;\n",
       "    }\n",
       "\n",
       "    .dataframe tbody tr th {\n",
       "        vertical-align: top;\n",
       "    }\n",
       "\n",
       "    .dataframe thead th {\n",
       "        text-align: right;\n",
       "    }\n",
       "</style>\n",
       "<table border=\"1\" class=\"dataframe\">\n",
       "  <thead>\n",
       "    <tr style=\"text-align: right;\">\n",
       "      <th>Name</th>\n",
       "      <th>Amy</th>\n",
       "      <th>Bob</th>\n",
       "    </tr>\n",
       "    <tr>\n",
       "      <th>Month</th>\n",
       "      <th></th>\n",
       "      <th></th>\n",
       "    </tr>\n",
       "  </thead>\n",
       "  <tbody>\n",
       "    <tr>\n",
       "      <th>Jan</th>\n",
       "      <td>-0.036</td>\n",
       "      <td>-0.027</td>\n",
       "    </tr>\n",
       "    <tr>\n",
       "      <th>Feb</th>\n",
       "      <td>-0.089</td>\n",
       "      <td>-0.053</td>\n",
       "    </tr>\n",
       "    <tr>\n",
       "      <th>Mar</th>\n",
       "      <td>-0.017</td>\n",
       "      <td>-0.026</td>\n",
       "    </tr>\n",
       "    <tr>\n",
       "      <th>Apr</th>\n",
       "      <td>-0.053</td>\n",
       "      <td>-0.042</td>\n",
       "    </tr>\n",
       "  </tbody>\n",
       "</table>\n",
       "</div>"
      ],
      "text/plain": [
       "Name     Amy    Bob\n",
       "Month              \n",
       "Jan   -0.036 -0.027\n",
       "Feb   -0.089 -0.053\n",
       "Mar   -0.017 -0.026\n",
       "Apr   -0.053 -0.042"
      ]
     },
     "execution_count": 29,
     "metadata": {},
     "output_type": "execute_result"
    }
   ],
   "source": [
    "week4a.pivot(index='Month',\n",
    "             columns='Name',\n",
    "             values='Perc Weight Loss')"
   ]
  },
  {
   "cell_type": "markdown",
   "metadata": {},
   "source": [
    "- Month col을 변환하기 위해 Categorical 생성자를 사용한다.\n",
    "- 원래 col을 Series에 전달하고 categories 매개변수에 모든 범주를 원하는 고유의 순서로 전달한다.\n",
    "- 일반적으로 객체 대이터 형식의 col을 알파벳순이 아닌 다른 순서로 정렬하기 위해 category형으로 변환한다."
   ]
  },
  {
   "cell_type": "markdown",
   "metadata": {},
   "source": [
    "## 9.apply를 사용해 주별 SAT 가중 평균 구하기"
   ]
  },
  {
   "cell_type": "markdown",
   "metadata": {},
   "source": [
    "- grouopby 객체는 각 그룹별로 계산을 수행하기 위해 함수를 받아들일 수 있는 네 가지 메서드를 갖고 있다.\n",
    "- 이 네 가지 메서드는 agg, filter, transform, apply다.\n",
    "- 처음 세 가지 메서드는 각각 함수가 반환해야하는 특정 출력이 정해져 있다.\n",
    "- agg는 스칼라 값, filter는 불리언, transform은 전달된 그룹과 동일한 길이의 Series를 반환한다.\n",
    "- apply() 메서드는 스칼라, Series, DataFrmae도 반환할 수 있어 아주 유연하다.\n",
    "- 그룹별로 한 번만 호출되므로 각 그룹화되지 않은 열에 오직 한 번만 호출되는 transform이나 agg와 대조된다.\n",
    "- apply 메서드는 동시에 복수 개의 열에 대해 연산할 때 단일 객체를 반환하는 기능도 있다."
   ]
  },
  {
   "cell_type": "markdown",
   "metadata": {},
   "source": [
    "- 대학 데이터셋으로부터 수학과 구술 점수의 가중 평균을 계산해보자.\n",
    "- 대학 데이터셋을 읽은 후 UGDS, SATMTMID, SATVRMID col 중 누락값이 있는 행은 삭제한다."
   ]
  },
  {
   "cell_type": "code",
   "execution_count": 30,
   "metadata": {},
   "outputs": [],
   "source": [
    "college = pd.read_csv('../data/college.csv')"
   ]
  },
  {
   "cell_type": "code",
   "execution_count": 31,
   "metadata": {},
   "outputs": [],
   "source": [
    "subset = ['UGDS', 'SATMTMID', 'SATVRMID']"
   ]
  },
  {
   "cell_type": "code",
   "execution_count": 32,
   "metadata": {},
   "outputs": [],
   "source": [
    "college2 = college.dropna(subset=subset)"
   ]
  },
  {
   "cell_type": "markdown",
   "metadata": {},
   "source": [
    "- dropna() 메서드의 subset 매개변수는 누락값을 살펴보는 col의 범위를 제한한다."
   ]
  },
  {
   "cell_type": "code",
   "execution_count": 33,
   "metadata": {},
   "outputs": [
    {
     "data": {
      "text/plain": [
       "(7535, 27)"
      ]
     },
     "execution_count": 33,
     "metadata": {},
     "output_type": "execute_result"
    }
   ],
   "source": [
    "college.shape"
   ]
  },
  {
   "cell_type": "code",
   "execution_count": 34,
   "metadata": {},
   "outputs": [
    {
     "data": {
      "text/plain": [
       "(1184, 27)"
      ]
     },
     "execution_count": 34,
     "metadata": {},
     "output_type": "execute_result"
    }
   ],
   "source": [
    "college2.shape"
   ]
  },
  {
   "cell_type": "markdown",
   "metadata": {},
   "source": [
    "- SAT 수학 점수만의 가중 평균을 계산하기 위한 사용자 정의 함수를 생성한다."
   ]
  },
  {
   "cell_type": "code",
   "execution_count": 35,
   "metadata": {},
   "outputs": [],
   "source": [
    "def weighted_math_average(df):\n",
    "    weighted_math = df['UGDS'] * df['SATMTMID']\n",
    "    return int(weighted_math.sum() / df['UGDS'].sum())"
   ]
  },
  {
   "cell_type": "code",
   "execution_count": 36,
   "metadata": {},
   "outputs": [
    {
     "data": {
      "text/plain": [
       "STABBR\n",
       "AK    503\n",
       "AL    536\n",
       "AR    529\n",
       "AZ    569\n",
       "CA    564\n",
       "dtype: int64"
      ]
     },
     "execution_count": 36,
     "metadata": {},
     "output_type": "execute_result"
    }
   ],
   "source": [
    "college2.groupby('STABBR').apply(weighted_math_average).head()"
   ]
  },
  {
   "cell_type": "markdown",
   "metadata": {},
   "source": [
    "- 같은 함수를 agg() 메서드에 전달하면 어떤 결과가 나올까?"
   ]
  },
  {
   "cell_type": "code",
   "execution_count": 37,
   "metadata": {},
   "outputs": [
    {
     "data": {
      "text/html": [
       "<div>\n",
       "<style scoped>\n",
       "    .dataframe tbody tr th:only-of-type {\n",
       "        vertical-align: middle;\n",
       "    }\n",
       "\n",
       "    .dataframe tbody tr th {\n",
       "        vertical-align: top;\n",
       "    }\n",
       "\n",
       "    .dataframe thead th {\n",
       "        text-align: right;\n",
       "    }\n",
       "</style>\n",
       "<table border=\"1\" class=\"dataframe\">\n",
       "  <thead>\n",
       "    <tr style=\"text-align: right;\">\n",
       "      <th></th>\n",
       "      <th>INSTNM</th>\n",
       "      <th>CITY</th>\n",
       "      <th>HBCU</th>\n",
       "      <th>MENONLY</th>\n",
       "      <th>WOMENONLY</th>\n",
       "      <th>RELAFFIL</th>\n",
       "      <th>SATVRMID</th>\n",
       "      <th>SATMTMID</th>\n",
       "      <th>DISTANCEONLY</th>\n",
       "      <th>UGDS</th>\n",
       "      <th>...</th>\n",
       "      <th>UGDS_2MOR</th>\n",
       "      <th>UGDS_NRA</th>\n",
       "      <th>UGDS_UNKN</th>\n",
       "      <th>PPTUG_EF</th>\n",
       "      <th>CURROPER</th>\n",
       "      <th>PCTPELL</th>\n",
       "      <th>PCTFLOAN</th>\n",
       "      <th>UG25ABV</th>\n",
       "      <th>MD_EARN_WNE_P10</th>\n",
       "      <th>GRAD_DEBT_MDN_SUPP</th>\n",
       "    </tr>\n",
       "    <tr>\n",
       "      <th>STABBR</th>\n",
       "      <th></th>\n",
       "      <th></th>\n",
       "      <th></th>\n",
       "      <th></th>\n",
       "      <th></th>\n",
       "      <th></th>\n",
       "      <th></th>\n",
       "      <th></th>\n",
       "      <th></th>\n",
       "      <th></th>\n",
       "      <th></th>\n",
       "      <th></th>\n",
       "      <th></th>\n",
       "      <th></th>\n",
       "      <th></th>\n",
       "      <th></th>\n",
       "      <th></th>\n",
       "      <th></th>\n",
       "      <th></th>\n",
       "      <th></th>\n",
       "      <th></th>\n",
       "    </tr>\n",
       "  </thead>\n",
       "  <tbody>\n",
       "    <tr>\n",
       "      <th>AK</th>\n",
       "      <td>503</td>\n",
       "      <td>503</td>\n",
       "      <td>503</td>\n",
       "      <td>503</td>\n",
       "      <td>503</td>\n",
       "      <td>503</td>\n",
       "      <td>503</td>\n",
       "      <td>503</td>\n",
       "      <td>503</td>\n",
       "      <td>503</td>\n",
       "      <td>...</td>\n",
       "      <td>503</td>\n",
       "      <td>503</td>\n",
       "      <td>503</td>\n",
       "      <td>503</td>\n",
       "      <td>503</td>\n",
       "      <td>503</td>\n",
       "      <td>503</td>\n",
       "      <td>503</td>\n",
       "      <td>503</td>\n",
       "      <td>503</td>\n",
       "    </tr>\n",
       "    <tr>\n",
       "      <th>AL</th>\n",
       "      <td>536</td>\n",
       "      <td>536</td>\n",
       "      <td>536</td>\n",
       "      <td>536</td>\n",
       "      <td>536</td>\n",
       "      <td>536</td>\n",
       "      <td>536</td>\n",
       "      <td>536</td>\n",
       "      <td>536</td>\n",
       "      <td>536</td>\n",
       "      <td>...</td>\n",
       "      <td>536</td>\n",
       "      <td>536</td>\n",
       "      <td>536</td>\n",
       "      <td>536</td>\n",
       "      <td>536</td>\n",
       "      <td>536</td>\n",
       "      <td>536</td>\n",
       "      <td>536</td>\n",
       "      <td>536</td>\n",
       "      <td>536</td>\n",
       "    </tr>\n",
       "    <tr>\n",
       "      <th>AR</th>\n",
       "      <td>529</td>\n",
       "      <td>529</td>\n",
       "      <td>529</td>\n",
       "      <td>529</td>\n",
       "      <td>529</td>\n",
       "      <td>529</td>\n",
       "      <td>529</td>\n",
       "      <td>529</td>\n",
       "      <td>529</td>\n",
       "      <td>529</td>\n",
       "      <td>...</td>\n",
       "      <td>529</td>\n",
       "      <td>529</td>\n",
       "      <td>529</td>\n",
       "      <td>529</td>\n",
       "      <td>529</td>\n",
       "      <td>529</td>\n",
       "      <td>529</td>\n",
       "      <td>529</td>\n",
       "      <td>529</td>\n",
       "      <td>529</td>\n",
       "    </tr>\n",
       "    <tr>\n",
       "      <th>AZ</th>\n",
       "      <td>569</td>\n",
       "      <td>569</td>\n",
       "      <td>569</td>\n",
       "      <td>569</td>\n",
       "      <td>569</td>\n",
       "      <td>569</td>\n",
       "      <td>569</td>\n",
       "      <td>569</td>\n",
       "      <td>569</td>\n",
       "      <td>569</td>\n",
       "      <td>...</td>\n",
       "      <td>569</td>\n",
       "      <td>569</td>\n",
       "      <td>569</td>\n",
       "      <td>569</td>\n",
       "      <td>569</td>\n",
       "      <td>569</td>\n",
       "      <td>569</td>\n",
       "      <td>569</td>\n",
       "      <td>569</td>\n",
       "      <td>569</td>\n",
       "    </tr>\n",
       "    <tr>\n",
       "      <th>CA</th>\n",
       "      <td>564</td>\n",
       "      <td>564</td>\n",
       "      <td>564</td>\n",
       "      <td>564</td>\n",
       "      <td>564</td>\n",
       "      <td>564</td>\n",
       "      <td>564</td>\n",
       "      <td>564</td>\n",
       "      <td>564</td>\n",
       "      <td>564</td>\n",
       "      <td>...</td>\n",
       "      <td>564</td>\n",
       "      <td>564</td>\n",
       "      <td>564</td>\n",
       "      <td>564</td>\n",
       "      <td>564</td>\n",
       "      <td>564</td>\n",
       "      <td>564</td>\n",
       "      <td>564</td>\n",
       "      <td>564</td>\n",
       "      <td>564</td>\n",
       "    </tr>\n",
       "  </tbody>\n",
       "</table>\n",
       "<p>5 rows × 26 columns</p>\n",
       "</div>"
      ],
      "text/plain": [
       "        INSTNM  CITY  HBCU  MENONLY  WOMENONLY  RELAFFIL  SATVRMID  SATMTMID  \\\n",
       "STABBR                                                                         \n",
       "AK         503   503   503      503        503       503       503       503   \n",
       "AL         536   536   536      536        536       536       536       536   \n",
       "AR         529   529   529      529        529       529       529       529   \n",
       "AZ         569   569   569      569        569       569       569       569   \n",
       "CA         564   564   564      564        564       564       564       564   \n",
       "\n",
       "        DISTANCEONLY  UGDS         ...          UGDS_2MOR  UGDS_NRA  \\\n",
       "STABBR                             ...                                \n",
       "AK               503   503         ...                503       503   \n",
       "AL               536   536         ...                536       536   \n",
       "AR               529   529         ...                529       529   \n",
       "AZ               569   569         ...                569       569   \n",
       "CA               564   564         ...                564       564   \n",
       "\n",
       "        UGDS_UNKN  PPTUG_EF  CURROPER  PCTPELL  PCTFLOAN  UG25ABV  \\\n",
       "STABBR                                                              \n",
       "AK            503       503       503      503       503      503   \n",
       "AL            536       536       536      536       536      536   \n",
       "AR            529       529       529      529       529      529   \n",
       "AZ            569       569       569      569       569      569   \n",
       "CA            564       564       564      564       564      564   \n",
       "\n",
       "        MD_EARN_WNE_P10  GRAD_DEBT_MDN_SUPP  \n",
       "STABBR                                       \n",
       "AK                  503                 503  \n",
       "AL                  536                 536  \n",
       "AR                  529                 529  \n",
       "AZ                  569                 569  \n",
       "CA                  564                 564  \n",
       "\n",
       "[5 rows x 26 columns]"
      ]
     },
     "execution_count": 37,
     "metadata": {},
     "output_type": "execute_result"
    }
   ],
   "source": [
    "college2.groupby('STABBR').agg(weighted_math_average).head()"
   ]
  },
  {
   "cell_type": "markdown",
   "metadata": {},
   "source": [
    "- weighted_math_average 함수는 DataFrame에서 aggregation되지 않은 각 col에 대해 적용됐다.\n",
    "- col을 SATMTMID로만 제한하려 한다면 UGDS에 접근할 수 없으므로 오류가 발생한다."
   ]
  },
  {
   "cell_type": "markdown",
   "metadata": {},
   "source": [
    "- apply가 가진 좋은 점은 Series를 반환해 복수 개의 새로운 열을 생성할 수 있다는 것이다.\n",
    "- 반환된 Series의 인덱스는 새 col의 이름이 된다."
   ]
  },
  {
   "cell_type": "code",
   "execution_count": 38,
   "metadata": {},
   "outputs": [],
   "source": [
    "from collections import OrderedDict\n",
    "def weighted_average(df):\n",
    "    data = OrderedDict()\n",
    "    weight_m = df['UGDS'] * df['SATMTMID']\n",
    "    weight_v = df['UGDS'] * df['SATVRMID']\n",
    "    wm_avg = weight_m.sum() / df['UGDS'].sum()\n",
    "    wv_avg = weight_v.sum() / df['UGDS'].sum()\n",
    "    \n",
    "    data['weighted_math_avg'] = wm_avg\n",
    "    data['weighted_verbal_avg'] = wv_avg\n",
    "    data['math_avg'] = df['SATMTMID'].mean()\n",
    "    data['verbal_avg'] = df['SATVRMID'].mean()\n",
    "    data['count'] = len(df)\n",
    "    return pd.Series(data, dtype='int')"
   ]
  },
  {
   "cell_type": "code",
   "execution_count": 39,
   "metadata": {},
   "outputs": [
    {
     "data": {
      "text/html": [
       "<div>\n",
       "<style scoped>\n",
       "    .dataframe tbody tr th:only-of-type {\n",
       "        vertical-align: middle;\n",
       "    }\n",
       "\n",
       "    .dataframe tbody tr th {\n",
       "        vertical-align: top;\n",
       "    }\n",
       "\n",
       "    .dataframe thead th {\n",
       "        text-align: right;\n",
       "    }\n",
       "</style>\n",
       "<table border=\"1\" class=\"dataframe\">\n",
       "  <thead>\n",
       "    <tr style=\"text-align: right;\">\n",
       "      <th></th>\n",
       "      <th>weighted_math_avg</th>\n",
       "      <th>weighted_verbal_avg</th>\n",
       "      <th>math_avg</th>\n",
       "      <th>verbal_avg</th>\n",
       "      <th>count</th>\n",
       "    </tr>\n",
       "    <tr>\n",
       "      <th>STABBR</th>\n",
       "      <th></th>\n",
       "      <th></th>\n",
       "      <th></th>\n",
       "      <th></th>\n",
       "      <th></th>\n",
       "    </tr>\n",
       "  </thead>\n",
       "  <tbody>\n",
       "    <tr>\n",
       "      <th>AK</th>\n",
       "      <td>503</td>\n",
       "      <td>555</td>\n",
       "      <td>503</td>\n",
       "      <td>555</td>\n",
       "      <td>1</td>\n",
       "    </tr>\n",
       "    <tr>\n",
       "      <th>AL</th>\n",
       "      <td>536</td>\n",
       "      <td>533</td>\n",
       "      <td>504</td>\n",
       "      <td>508</td>\n",
       "      <td>21</td>\n",
       "    </tr>\n",
       "    <tr>\n",
       "      <th>AR</th>\n",
       "      <td>529</td>\n",
       "      <td>504</td>\n",
       "      <td>515</td>\n",
       "      <td>491</td>\n",
       "      <td>16</td>\n",
       "    </tr>\n",
       "    <tr>\n",
       "      <th>AZ</th>\n",
       "      <td>569</td>\n",
       "      <td>557</td>\n",
       "      <td>536</td>\n",
       "      <td>538</td>\n",
       "      <td>6</td>\n",
       "    </tr>\n",
       "    <tr>\n",
       "      <th>CA</th>\n",
       "      <td>564</td>\n",
       "      <td>539</td>\n",
       "      <td>562</td>\n",
       "      <td>549</td>\n",
       "      <td>72</td>\n",
       "    </tr>\n",
       "    <tr>\n",
       "      <th>CO</th>\n",
       "      <td>553</td>\n",
       "      <td>547</td>\n",
       "      <td>540</td>\n",
       "      <td>537</td>\n",
       "      <td>14</td>\n",
       "    </tr>\n",
       "    <tr>\n",
       "      <th>CT</th>\n",
       "      <td>545</td>\n",
       "      <td>533</td>\n",
       "      <td>522</td>\n",
       "      <td>517</td>\n",
       "      <td>14</td>\n",
       "    </tr>\n",
       "    <tr>\n",
       "      <th>DC</th>\n",
       "      <td>621</td>\n",
       "      <td>623</td>\n",
       "      <td>588</td>\n",
       "      <td>589</td>\n",
       "      <td>6</td>\n",
       "    </tr>\n",
       "    <tr>\n",
       "      <th>DE</th>\n",
       "      <td>569</td>\n",
       "      <td>553</td>\n",
       "      <td>495</td>\n",
       "      <td>486</td>\n",
       "      <td>3</td>\n",
       "    </tr>\n",
       "    <tr>\n",
       "      <th>FL</th>\n",
       "      <td>565</td>\n",
       "      <td>565</td>\n",
       "      <td>521</td>\n",
       "      <td>529</td>\n",
       "      <td>38</td>\n",
       "    </tr>\n",
       "  </tbody>\n",
       "</table>\n",
       "</div>"
      ],
      "text/plain": [
       "        weighted_math_avg  weighted_verbal_avg  math_avg  verbal_avg  count\n",
       "STABBR                                                                     \n",
       "AK                    503                  555       503         555      1\n",
       "AL                    536                  533       504         508     21\n",
       "AR                    529                  504       515         491     16\n",
       "AZ                    569                  557       536         538      6\n",
       "CA                    564                  539       562         549     72\n",
       "CO                    553                  547       540         537     14\n",
       "CT                    545                  533       522         517     14\n",
       "DC                    621                  623       588         589      6\n",
       "DE                    569                  553       495         486      3\n",
       "FL                    565                  565       521         529     38"
      ]
     },
     "execution_count": 39,
     "metadata": {},
     "output_type": "execute_result"
    }
   ],
   "source": [
    "college2.groupby('STABBR').apply(weighted_average).head(10)"
   ]
  },
  {
   "cell_type": "markdown",
   "metadata": {},
   "source": [
    "- apply로 복수 개의 col을 상성하기 위해서는 weighted_average 함수는 Series를 반환해야 한다.\n",
    "- 결과 DataFrame에서는 인덱스 값이 col의 이름으로 사용되었다."
   ]
  },
  {
   "cell_type": "code",
   "execution_count": 40,
   "metadata": {},
   "outputs": [],
   "source": [
    "# from scipy.stats import gmean, hmean\n",
    "# def calculate_means(df):\n",
    "#     df_menas = pd.DataFrame(index=['Arithmetic', 'Weighted', 'Geometric', 'Harmonic'])\n",
    "#     cols = ['SATMTMID', 'SATVRMID']\n",
    "#     for col in cols:\n",
    "#         arithmetic = df[col].mean()\n",
    "#         weighted = np.average(df[col], weights=df['UGDS'])\n",
    "#         geometric = gmean(df[col])\n",
    "#         harmonic = hmean(df[col])\n",
    "#         df_means[col] = [arithmetic, weighted, geometric. harmonic]\n",
    "\n",
    "#     df_means['count'] = len(df)\n",
    "#     return df_menas.astype(int)"
   ]
  },
  {
   "cell_type": "code",
   "execution_count": 41,
   "metadata": {},
   "outputs": [],
   "source": [
    "# college2.groupby('STABBR').apply(calculate_means).head()"
   ]
  },
  {
   "cell_type": "markdown",
   "metadata": {},
   "source": [
    "## 10.연속 변수에 대한 그룹화"
   ]
  },
  {
   "cell_type": "markdown",
   "metadata": {},
   "source": [
    "- pandas에서 그룹화할 때는 대개 이산값이 반복되는 열을 사용한다.\n",
    "- 연속 수치를 가진 열은 대개 반복되는 값이 없으므로 일반적으로 그룹화에 사용되지 않는다.\n",
    "- 그러나 연속값을 가진 열을 각 값을 어느 점위에 포함한다든지, 반올림한다든지, 다른 매핑을 사용해 이산값을 가진 열로 변환하면 그룹화를 수행할 수 있다."
   ]
  },
  {
   "cell_type": "markdown",
   "metadata": {},
   "source": [
    "- 비행 데이터셋을 이용하여 운항 거리에 대한 분포를 조사한다.\n",
    "- 예를 들면 500마일과 1000마일 사이의 거리를 가장 많이 비행하는 항공사를 찾을 수 있다.\n",
    "- pandas cut 함수를 사용해 각 비행 거리를 이산값으로 바꾼다."
   ]
  },
  {
   "cell_type": "code",
   "execution_count": 42,
   "metadata": {},
   "outputs": [],
   "source": [
    "flights = pd.read_csv('../data/flights.csv')"
   ]
  },
  {
   "cell_type": "code",
   "execution_count": 43,
   "metadata": {},
   "outputs": [
    {
     "data": {
      "text/html": [
       "<div>\n",
       "<style scoped>\n",
       "    .dataframe tbody tr th:only-of-type {\n",
       "        vertical-align: middle;\n",
       "    }\n",
       "\n",
       "    .dataframe tbody tr th {\n",
       "        vertical-align: top;\n",
       "    }\n",
       "\n",
       "    .dataframe thead th {\n",
       "        text-align: right;\n",
       "    }\n",
       "</style>\n",
       "<table border=\"1\" class=\"dataframe\">\n",
       "  <thead>\n",
       "    <tr style=\"text-align: right;\">\n",
       "      <th></th>\n",
       "      <th>MONTH</th>\n",
       "      <th>DAY</th>\n",
       "      <th>WEEKDAY</th>\n",
       "      <th>AIRLINE</th>\n",
       "      <th>ORG_AIR</th>\n",
       "      <th>DEST_AIR</th>\n",
       "      <th>SCHED_DEP</th>\n",
       "      <th>DEP_DELAY</th>\n",
       "      <th>AIR_TIME</th>\n",
       "      <th>DIST</th>\n",
       "      <th>SCHED_ARR</th>\n",
       "      <th>ARR_DELAY</th>\n",
       "      <th>DIVERTED</th>\n",
       "      <th>CANCELLED</th>\n",
       "    </tr>\n",
       "  </thead>\n",
       "  <tbody>\n",
       "    <tr>\n",
       "      <th>0</th>\n",
       "      <td>1</td>\n",
       "      <td>1</td>\n",
       "      <td>4</td>\n",
       "      <td>WN</td>\n",
       "      <td>LAX</td>\n",
       "      <td>SLC</td>\n",
       "      <td>1625</td>\n",
       "      <td>58.0</td>\n",
       "      <td>94.0</td>\n",
       "      <td>590</td>\n",
       "      <td>1905</td>\n",
       "      <td>65.0</td>\n",
       "      <td>0</td>\n",
       "      <td>0</td>\n",
       "    </tr>\n",
       "    <tr>\n",
       "      <th>1</th>\n",
       "      <td>1</td>\n",
       "      <td>1</td>\n",
       "      <td>4</td>\n",
       "      <td>UA</td>\n",
       "      <td>DEN</td>\n",
       "      <td>IAD</td>\n",
       "      <td>823</td>\n",
       "      <td>7.0</td>\n",
       "      <td>154.0</td>\n",
       "      <td>1452</td>\n",
       "      <td>1333</td>\n",
       "      <td>-13.0</td>\n",
       "      <td>0</td>\n",
       "      <td>0</td>\n",
       "    </tr>\n",
       "    <tr>\n",
       "      <th>2</th>\n",
       "      <td>1</td>\n",
       "      <td>1</td>\n",
       "      <td>4</td>\n",
       "      <td>MQ</td>\n",
       "      <td>DFW</td>\n",
       "      <td>VPS</td>\n",
       "      <td>1305</td>\n",
       "      <td>36.0</td>\n",
       "      <td>85.0</td>\n",
       "      <td>641</td>\n",
       "      <td>1453</td>\n",
       "      <td>35.0</td>\n",
       "      <td>0</td>\n",
       "      <td>0</td>\n",
       "    </tr>\n",
       "    <tr>\n",
       "      <th>3</th>\n",
       "      <td>1</td>\n",
       "      <td>1</td>\n",
       "      <td>4</td>\n",
       "      <td>AA</td>\n",
       "      <td>DFW</td>\n",
       "      <td>DCA</td>\n",
       "      <td>1555</td>\n",
       "      <td>7.0</td>\n",
       "      <td>126.0</td>\n",
       "      <td>1192</td>\n",
       "      <td>1935</td>\n",
       "      <td>-7.0</td>\n",
       "      <td>0</td>\n",
       "      <td>0</td>\n",
       "    </tr>\n",
       "    <tr>\n",
       "      <th>4</th>\n",
       "      <td>1</td>\n",
       "      <td>1</td>\n",
       "      <td>4</td>\n",
       "      <td>WN</td>\n",
       "      <td>LAX</td>\n",
       "      <td>MCI</td>\n",
       "      <td>1720</td>\n",
       "      <td>48.0</td>\n",
       "      <td>166.0</td>\n",
       "      <td>1363</td>\n",
       "      <td>2225</td>\n",
       "      <td>39.0</td>\n",
       "      <td>0</td>\n",
       "      <td>0</td>\n",
       "    </tr>\n",
       "  </tbody>\n",
       "</table>\n",
       "</div>"
      ],
      "text/plain": [
       "   MONTH  DAY  WEEKDAY AIRLINE ORG_AIR DEST_AIR  SCHED_DEP  DEP_DELAY  \\\n",
       "0      1    1        4      WN     LAX      SLC       1625       58.0   \n",
       "1      1    1        4      UA     DEN      IAD        823        7.0   \n",
       "2      1    1        4      MQ     DFW      VPS       1305       36.0   \n",
       "3      1    1        4      AA     DFW      DCA       1555        7.0   \n",
       "4      1    1        4      WN     LAX      MCI       1720       48.0   \n",
       "\n",
       "   AIR_TIME  DIST  SCHED_ARR  ARR_DELAY  DIVERTED  CANCELLED  \n",
       "0      94.0   590       1905       65.0         0          0  \n",
       "1     154.0  1452       1333      -13.0         0          0  \n",
       "2      85.0   641       1453       35.0         0          0  \n",
       "3     126.0  1192       1935       -7.0         0          0  \n",
       "4     166.0  1363       2225       39.0         0          0  "
      ]
     },
     "execution_count": 43,
     "metadata": {},
     "output_type": "execute_result"
    }
   ],
   "source": [
    "flights.head()"
   ]
  },
  {
   "cell_type": "markdown",
   "metadata": {},
   "source": [
    "- 거리의 범위에 대한 항공사의 분포를 찾으려면 DIST col에 있는 값을 이산값의 범위에 매핑해야 한다.\n",
    "- pandas cut 함수를 사용해 데이터를 5개의 구간으로 분할한다."
   ]
  },
  {
   "cell_type": "code",
   "execution_count": 44,
   "metadata": {},
   "outputs": [],
   "source": [
    "bins = [-np.inf, 200, 500, 1000, 2000, np.inf]"
   ]
  },
  {
   "cell_type": "code",
   "execution_count": 45,
   "metadata": {},
   "outputs": [],
   "source": [
    "cuts = pd.cut(flights['DIST'], bins=bins)"
   ]
  },
  {
   "cell_type": "code",
   "execution_count": 47,
   "metadata": {},
   "outputs": [
    {
     "data": {
      "text/plain": [
       "0     (500.0, 1000.0]\n",
       "1    (1000.0, 2000.0]\n",
       "2     (500.0, 1000.0]\n",
       "3    (1000.0, 2000.0]\n",
       "4    (1000.0, 2000.0]\n",
       "Name: DIST, dtype: category\n",
       "Categories (5, interval[float64]): [(-inf, 200.0] < (200.0, 500.0] < (500.0, 1000.0] < (1000.0, 2000.0] < (2000.0, inf]]"
      ]
     },
     "execution_count": 47,
     "metadata": {},
     "output_type": "execute_result"
    }
   ],
   "source": [
    "cuts.head()"
   ]
  },
  {
   "cell_type": "markdown",
   "metadata": {},
   "source": [
    "- 정렬된 범주형 Series가 생성됐다.\n",
    "- 각 범주의 값을 세어보자."
   ]
  },
  {
   "cell_type": "code",
   "execution_count": 49,
   "metadata": {},
   "outputs": [
    {
     "data": {
      "text/plain": [
       "(500.0, 1000.0]     20659\n",
       "(200.0, 500.0]      15874\n",
       "(1000.0, 2000.0]    14186\n",
       "(2000.0, inf]        4054\n",
       "(-inf, 200.0]        3719\n",
       "Name: DIST, dtype: int64"
      ]
     },
     "execution_count": 49,
     "metadata": {},
     "output_type": "execute_result"
    }
   ],
   "source": [
    "cuts.value_counts()"
   ]
  },
  {
   "cell_type": "markdown",
   "metadata": {},
   "source": [
    "- cuts Series는 그룹화를 위해 사용된다.\n",
    "- pandas는 원하는 어떤 방식이든 그룹을 형성할 수 있다.\n",
    "- cuts Series를 groupby 메서드에 전달하고 AIRLINE 열에 value_counts() 메서드를 호출하면 각 거리 그룹별로 분포를 찾을 수 있다."
   ]
  },
  {
   "cell_type": "code",
   "execution_count": 51,
   "metadata": {},
   "outputs": [
    {
     "data": {
      "text/plain": [
       "DIST           AIRLINE\n",
       "(-inf, 200.0]  OO         0.326\n",
       "               EV         0.289\n",
       "               MQ         0.211\n",
       "               DL         0.086\n",
       "               AA         0.052\n",
       "Name: AIRLINE, dtype: float64"
      ]
     },
     "execution_count": 51,
     "metadata": {},
     "output_type": "execute_result"
    }
   ],
   "source": [
    "flights.groupby(cuts)['AIRLINE'].value_counts(normalize=True).round(3).head()"
   ]
  },
  {
   "cell_type": "markdown",
   "metadata": {},
   "source": [
    "- OO AIRLINE의 약 33%가 200 마일 미만이다."
   ]
  },
  {
   "cell_type": "markdown",
   "metadata": {},
   "source": [
    "- cut 함수는 DIST col의 각 값을 하나의 칸에 매핑한다.\n",
    "- 각 칸의 한계선 밖에 있는 값은 누락값으로 설정되고 칸에 소속되지 않는다.\n",
    "- cuts 변수는 5개의 정렬된 범주의 Series다.\n",
    "- groupby는 쳣ㄴ 변수에 있는 값에 의해 그룹화한다.\n",
    "- 각 그룹화에 대해 value_counts에 normalize를 True로 설정하여 항공사별 비행 비율을 찾아낸다."
   ]
  },
  {
   "cell_type": "markdown",
   "metadata": {},
   "source": [
    "- cuts 변수로 그룹화하면 다른 더 많은 결과를 얻을 수 있다.\n",
    "- 각 비행거리 그룹마다 25%, 50%,75% 비행 시간을 구할 수 있다."
   ]
  },
  {
   "cell_type": "code",
   "execution_count": 52,
   "metadata": {},
   "outputs": [
    {
     "data": {
      "text/plain": [
       "DIST                  \n",
       "(-inf, 200.0]     0.25    0.43\n",
       "                  0.50    0.50\n",
       "                  0.75    0.57\n",
       "(200.0, 500.0]    0.25    0.77\n",
       "                  0.50    0.92\n",
       "                  0.75    1.05\n",
       "(500.0, 1000.0]   0.25    1.43\n",
       "                  0.50    1.65\n",
       "                  0.75    1.92\n",
       "(1000.0, 2000.0]  0.25    2.50\n",
       "                  0.50    2.93\n",
       "                  0.75    3.40\n",
       "(2000.0, inf]     0.25    4.30\n",
       "                  0.50    4.70\n",
       "                  0.75    5.03\n",
       "Name: AIR_TIME, dtype: float64"
      ]
     },
     "execution_count": 52,
     "metadata": {},
     "output_type": "execute_result"
    }
   ],
   "source": [
    "flights.groupby(cuts)['AIR_TIME'].quantile(q=[.25, .5, .75]).div(60).round(2)"
   ]
  },
  {
   "cell_type": "markdown",
   "metadata": {},
   "source": [
    "- cut 함수를 이용할 때 이 정보를 사용하면 정보가 담긴 문자열 레이블을 생성할 수 있따.\n",
    "- 이 레이블들로 구간 표기를 바꾼다.\n",
    "- 안쪽 인덱스 레벨을 컬럼의 col로 변환하는 unstack 함수를 체인시킬 수도 있다."
   ]
  },
  {
   "cell_type": "code",
   "execution_count": 53,
   "metadata": {},
   "outputs": [],
   "source": [
    "labels = ['Under an Hour', '1 Hour', '1-2 Hours', '2-4 Hours', '4+ Hours']"
   ]
  },
  {
   "cell_type": "code",
   "execution_count": 55,
   "metadata": {},
   "outputs": [],
   "source": [
    "cuts2 = pd.cut(flights['DIST'], bins=bins, labels=labels)"
   ]
  },
  {
   "cell_type": "code",
   "execution_count": 57,
   "metadata": {},
   "outputs": [
    {
     "data": {
      "text/plain": [
       "0    1-2 Hours\n",
       "1    2-4 Hours\n",
       "2    1-2 Hours\n",
       "3    2-4 Hours\n",
       "4    2-4 Hours\n",
       "Name: DIST, dtype: category\n",
       "Categories (5, object): [Under an Hour < 1 Hour < 1-2 Hours < 2-4 Hours < 4+ Hours]"
      ]
     },
     "execution_count": 57,
     "metadata": {},
     "output_type": "execute_result"
    }
   ],
   "source": [
    "cuts2.head()"
   ]
  },
  {
   "cell_type": "code",
   "execution_count": 58,
   "metadata": {},
   "outputs": [
    {
     "data": {
      "text/html": [
       "<style  type=\"text/css\" >\n",
       "    #T_953108ca_970d_11e8_af03_000af740aa11row0_col9 {\n",
       "            background-color:  yellow;\n",
       "        }    #T_953108ca_970d_11e8_af03_000af740aa11row1_col13 {\n",
       "            background-color:  yellow;\n",
       "        }    #T_953108ca_970d_11e8_af03_000af740aa11row2_col3 {\n",
       "            background-color:  yellow;\n",
       "        }    #T_953108ca_970d_11e8_af03_000af740aa11row3_col0 {\n",
       "            background-color:  yellow;\n",
       "        }    #T_953108ca_970d_11e8_af03_000af740aa11row4_col10 {\n",
       "            background-color:  yellow;\n",
       "        }</style>  \n",
       "<table id=\"T_953108ca_970d_11e8_af03_000af740aa11\" > \n",
       "<thead>    <tr> \n",
       "        <th class=\"index_name level0\" >AIRLINE</th> \n",
       "        <th class=\"col_heading level0 col0\" >AA</th> \n",
       "        <th class=\"col_heading level0 col1\" >AS</th> \n",
       "        <th class=\"col_heading level0 col2\" >B6</th> \n",
       "        <th class=\"col_heading level0 col3\" >DL</th> \n",
       "        <th class=\"col_heading level0 col4\" >EV</th> \n",
       "        <th class=\"col_heading level0 col5\" >F9</th> \n",
       "        <th class=\"col_heading level0 col6\" >HA</th> \n",
       "        <th class=\"col_heading level0 col7\" >MQ</th> \n",
       "        <th class=\"col_heading level0 col8\" >NK</th> \n",
       "        <th class=\"col_heading level0 col9\" >OO</th> \n",
       "        <th class=\"col_heading level0 col10\" >UA</th> \n",
       "        <th class=\"col_heading level0 col11\" >US</th> \n",
       "        <th class=\"col_heading level0 col12\" >VX</th> \n",
       "        <th class=\"col_heading level0 col13\" >WN</th> \n",
       "    </tr>    <tr> \n",
       "        <th class=\"index_name level0\" >DIST</th> \n",
       "        <th class=\"blank\" ></th> \n",
       "        <th class=\"blank\" ></th> \n",
       "        <th class=\"blank\" ></th> \n",
       "        <th class=\"blank\" ></th> \n",
       "        <th class=\"blank\" ></th> \n",
       "        <th class=\"blank\" ></th> \n",
       "        <th class=\"blank\" ></th> \n",
       "        <th class=\"blank\" ></th> \n",
       "        <th class=\"blank\" ></th> \n",
       "        <th class=\"blank\" ></th> \n",
       "        <th class=\"blank\" ></th> \n",
       "        <th class=\"blank\" ></th> \n",
       "        <th class=\"blank\" ></th> \n",
       "        <th class=\"blank\" ></th> \n",
       "    </tr></thead> \n",
       "<tbody>    <tr> \n",
       "        <th id=\"T_953108ca_970d_11e8_af03_000af740aa11level0_row0\" class=\"row_heading level0 row0\" >Under an Hour</th> \n",
       "        <td id=\"T_953108ca_970d_11e8_af03_000af740aa11row0_col0\" class=\"data row0 col0\" >0.052</td> \n",
       "        <td id=\"T_953108ca_970d_11e8_af03_000af740aa11row0_col1\" class=\"data row0 col1\" >nan</td> \n",
       "        <td id=\"T_953108ca_970d_11e8_af03_000af740aa11row0_col2\" class=\"data row0 col2\" >nan</td> \n",
       "        <td id=\"T_953108ca_970d_11e8_af03_000af740aa11row0_col3\" class=\"data row0 col3\" >0.086</td> \n",
       "        <td id=\"T_953108ca_970d_11e8_af03_000af740aa11row0_col4\" class=\"data row0 col4\" >0.289</td> \n",
       "        <td id=\"T_953108ca_970d_11e8_af03_000af740aa11row0_col5\" class=\"data row0 col5\" >nan</td> \n",
       "        <td id=\"T_953108ca_970d_11e8_af03_000af740aa11row0_col6\" class=\"data row0 col6\" >nan</td> \n",
       "        <td id=\"T_953108ca_970d_11e8_af03_000af740aa11row0_col7\" class=\"data row0 col7\" >0.211</td> \n",
       "        <td id=\"T_953108ca_970d_11e8_af03_000af740aa11row0_col8\" class=\"data row0 col8\" >nan</td> \n",
       "        <td id=\"T_953108ca_970d_11e8_af03_000af740aa11row0_col9\" class=\"data row0 col9\" >0.326</td> \n",
       "        <td id=\"T_953108ca_970d_11e8_af03_000af740aa11row0_col10\" class=\"data row0 col10\" >0.027</td> \n",
       "        <td id=\"T_953108ca_970d_11e8_af03_000af740aa11row0_col11\" class=\"data row0 col11\" >nan</td> \n",
       "        <td id=\"T_953108ca_970d_11e8_af03_000af740aa11row0_col12\" class=\"data row0 col12\" >nan</td> \n",
       "        <td id=\"T_953108ca_970d_11e8_af03_000af740aa11row0_col13\" class=\"data row0 col13\" >0.009</td> \n",
       "    </tr>    <tr> \n",
       "        <th id=\"T_953108ca_970d_11e8_af03_000af740aa11level0_row1\" class=\"row_heading level0 row1\" >1 Hour</th> \n",
       "        <td id=\"T_953108ca_970d_11e8_af03_000af740aa11row1_col0\" class=\"data row1 col0\" >0.071</td> \n",
       "        <td id=\"T_953108ca_970d_11e8_af03_000af740aa11row1_col1\" class=\"data row1 col1\" >0.001</td> \n",
       "        <td id=\"T_953108ca_970d_11e8_af03_000af740aa11row1_col2\" class=\"data row1 col2\" >0.007</td> \n",
       "        <td id=\"T_953108ca_970d_11e8_af03_000af740aa11row1_col3\" class=\"data row1 col3\" >0.189</td> \n",
       "        <td id=\"T_953108ca_970d_11e8_af03_000af740aa11row1_col4\" class=\"data row1 col4\" >0.156</td> \n",
       "        <td id=\"T_953108ca_970d_11e8_af03_000af740aa11row1_col5\" class=\"data row1 col5\" >0.005</td> \n",
       "        <td id=\"T_953108ca_970d_11e8_af03_000af740aa11row1_col6\" class=\"data row1 col6\" >nan</td> \n",
       "        <td id=\"T_953108ca_970d_11e8_af03_000af740aa11row1_col7\" class=\"data row1 col7\" >0.1</td> \n",
       "        <td id=\"T_953108ca_970d_11e8_af03_000af740aa11row1_col8\" class=\"data row1 col8\" >0.012</td> \n",
       "        <td id=\"T_953108ca_970d_11e8_af03_000af740aa11row1_col9\" class=\"data row1 col9\" >0.159</td> \n",
       "        <td id=\"T_953108ca_970d_11e8_af03_000af740aa11row1_col10\" class=\"data row1 col10\" >0.062</td> \n",
       "        <td id=\"T_953108ca_970d_11e8_af03_000af740aa11row1_col11\" class=\"data row1 col11\" >0.016</td> \n",
       "        <td id=\"T_953108ca_970d_11e8_af03_000af740aa11row1_col12\" class=\"data row1 col12\" >0.028</td> \n",
       "        <td id=\"T_953108ca_970d_11e8_af03_000af740aa11row1_col13\" class=\"data row1 col13\" >0.194</td> \n",
       "    </tr>    <tr> \n",
       "        <th id=\"T_953108ca_970d_11e8_af03_000af740aa11level0_row2\" class=\"row_heading level0 row2\" >1-2 Hours</th> \n",
       "        <td id=\"T_953108ca_970d_11e8_af03_000af740aa11row2_col0\" class=\"data row2 col0\" >0.144</td> \n",
       "        <td id=\"T_953108ca_970d_11e8_af03_000af740aa11row2_col1\" class=\"data row2 col1\" >0.023</td> \n",
       "        <td id=\"T_953108ca_970d_11e8_af03_000af740aa11row2_col2\" class=\"data row2 col2\" >0.003</td> \n",
       "        <td id=\"T_953108ca_970d_11e8_af03_000af740aa11row2_col3\" class=\"data row2 col3\" >0.206</td> \n",
       "        <td id=\"T_953108ca_970d_11e8_af03_000af740aa11row2_col4\" class=\"data row2 col4\" >0.101</td> \n",
       "        <td id=\"T_953108ca_970d_11e8_af03_000af740aa11row2_col5\" class=\"data row2 col5\" >0.038</td> \n",
       "        <td id=\"T_953108ca_970d_11e8_af03_000af740aa11row2_col6\" class=\"data row2 col6\" >nan</td> \n",
       "        <td id=\"T_953108ca_970d_11e8_af03_000af740aa11row2_col7\" class=\"data row2 col7\" >0.051</td> \n",
       "        <td id=\"T_953108ca_970d_11e8_af03_000af740aa11row2_col8\" class=\"data row2 col8\" >0.03</td> \n",
       "        <td id=\"T_953108ca_970d_11e8_af03_000af740aa11row2_col9\" class=\"data row2 col9\" >0.106</td> \n",
       "        <td id=\"T_953108ca_970d_11e8_af03_000af740aa11row2_col10\" class=\"data row2 col10\" >0.131</td> \n",
       "        <td id=\"T_953108ca_970d_11e8_af03_000af740aa11row2_col11\" class=\"data row2 col11\" >0.025</td> \n",
       "        <td id=\"T_953108ca_970d_11e8_af03_000af740aa11row2_col12\" class=\"data row2 col12\" >0.004</td> \n",
       "        <td id=\"T_953108ca_970d_11e8_af03_000af740aa11row2_col13\" class=\"data row2 col13\" >0.138</td> \n",
       "    </tr>    <tr> \n",
       "        <th id=\"T_953108ca_970d_11e8_af03_000af740aa11level0_row3\" class=\"row_heading level0 row3\" >2-4 Hours</th> \n",
       "        <td id=\"T_953108ca_970d_11e8_af03_000af740aa11row3_col0\" class=\"data row3 col0\" >0.264</td> \n",
       "        <td id=\"T_953108ca_970d_11e8_af03_000af740aa11row3_col1\" class=\"data row3 col1\" >0.016</td> \n",
       "        <td id=\"T_953108ca_970d_11e8_af03_000af740aa11row3_col2\" class=\"data row3 col2\" >0.003</td> \n",
       "        <td id=\"T_953108ca_970d_11e8_af03_000af740aa11row3_col3\" class=\"data row3 col3\" >0.165</td> \n",
       "        <td id=\"T_953108ca_970d_11e8_af03_000af740aa11row3_col4\" class=\"data row3 col4\" >0.016</td> \n",
       "        <td id=\"T_953108ca_970d_11e8_af03_000af740aa11row3_col5\" class=\"data row3 col5\" >0.031</td> \n",
       "        <td id=\"T_953108ca_970d_11e8_af03_000af740aa11row3_col6\" class=\"data row3 col6\" >nan</td> \n",
       "        <td id=\"T_953108ca_970d_11e8_af03_000af740aa11row3_col7\" class=\"data row3 col7\" >0.003</td> \n",
       "        <td id=\"T_953108ca_970d_11e8_af03_000af740aa11row3_col8\" class=\"data row3 col8\" >0.045</td> \n",
       "        <td id=\"T_953108ca_970d_11e8_af03_000af740aa11row3_col9\" class=\"data row3 col9\" >0.046</td> \n",
       "        <td id=\"T_953108ca_970d_11e8_af03_000af740aa11row3_col10\" class=\"data row3 col10\" >0.199</td> \n",
       "        <td id=\"T_953108ca_970d_11e8_af03_000af740aa11row3_col11\" class=\"data row3 col11\" >0.04</td> \n",
       "        <td id=\"T_953108ca_970d_11e8_af03_000af740aa11row3_col12\" class=\"data row3 col12\" >0.012</td> \n",
       "        <td id=\"T_953108ca_970d_11e8_af03_000af740aa11row3_col13\" class=\"data row3 col13\" >0.16</td> \n",
       "    </tr>    <tr> \n",
       "        <th id=\"T_953108ca_970d_11e8_af03_000af740aa11level0_row4\" class=\"row_heading level0 row4\" >4+ Hours</th> \n",
       "        <td id=\"T_953108ca_970d_11e8_af03_000af740aa11row4_col0\" class=\"data row4 col0\" >0.212</td> \n",
       "        <td id=\"T_953108ca_970d_11e8_af03_000af740aa11row4_col1\" class=\"data row4 col1\" >0.012</td> \n",
       "        <td id=\"T_953108ca_970d_11e8_af03_000af740aa11row4_col2\" class=\"data row4 col2\" >0.08</td> \n",
       "        <td id=\"T_953108ca_970d_11e8_af03_000af740aa11row4_col3\" class=\"data row4 col3\" >0.171</td> \n",
       "        <td id=\"T_953108ca_970d_11e8_af03_000af740aa11row4_col4\" class=\"data row4 col4\" >nan</td> \n",
       "        <td id=\"T_953108ca_970d_11e8_af03_000af740aa11row4_col5\" class=\"data row4 col5\" >0.004</td> \n",
       "        <td id=\"T_953108ca_970d_11e8_af03_000af740aa11row4_col6\" class=\"data row4 col6\" >0.028</td> \n",
       "        <td id=\"T_953108ca_970d_11e8_af03_000af740aa11row4_col7\" class=\"data row4 col7\" >nan</td> \n",
       "        <td id=\"T_953108ca_970d_11e8_af03_000af740aa11row4_col8\" class=\"data row4 col8\" >0.019</td> \n",
       "        <td id=\"T_953108ca_970d_11e8_af03_000af740aa11row4_col9\" class=\"data row4 col9\" >nan</td> \n",
       "        <td id=\"T_953108ca_970d_11e8_af03_000af740aa11row4_col10\" class=\"data row4 col10\" >0.289</td> \n",
       "        <td id=\"T_953108ca_970d_11e8_af03_000af740aa11row4_col11\" class=\"data row4 col11\" >0.065</td> \n",
       "        <td id=\"T_953108ca_970d_11e8_af03_000af740aa11row4_col12\" class=\"data row4 col12\" >0.074</td> \n",
       "        <td id=\"T_953108ca_970d_11e8_af03_000af740aa11row4_col13\" class=\"data row4 col13\" >0.046</td> \n",
       "    </tr></tbody> \n",
       "</table> "
      ],
      "text/plain": [
       "<pandas.io.formats.style.Styler at 0x879f570>"
      ]
     },
     "execution_count": 58,
     "metadata": {},
     "output_type": "execute_result"
    }
   ],
   "source": [
    "flights.groupby(cuts2)['AIRLINE'].value_counts(normalize=True)\\\n",
    "       .round(3)\\\n",
    "       .unstack()\\\n",
    "       .style.highlight_max(axis=1)"
   ]
  },
  {
   "cell_type": "markdown",
   "metadata": {},
   "source": [
    "## 11.도시 간 총 비행 횟수 계산"
   ]
  },
  {
   "cell_type": "markdown",
   "metadata": {},
   "source": [
    "- 항공 데이터셋에는 출발지와 목적지 공항에 대한 자료가 있다.\n",
    "- 휴스턴에서 이륙해서 애틀란타에 착률하는 비행편수를 계산하는 것은 아주 간단하다.\n",
    "- 출발과 도착에 상관없이 두 도시 사이의 총 비행편수를 계산해보자.\n",
    "- 출발지와 도착지 공항을 알파벳순으로 정렬해 공항 간의 각 조합이 항상 같은 순서로 나타나도록 한다."
   ]
  },
  {
   "cell_type": "code",
   "execution_count": 60,
   "metadata": {},
   "outputs": [],
   "source": [
    "flights = pd.read_csv('../data/flights.csv')"
   ]
  },
  {
   "cell_type": "code",
   "execution_count": 61,
   "metadata": {},
   "outputs": [],
   "source": [
    "flights_ct = flights.groupby(['ORG_AIR', 'DEST_AIR']).size()"
   ]
  },
  {
   "cell_type": "code",
   "execution_count": 62,
   "metadata": {},
   "outputs": [
    {
     "data": {
      "text/plain": [
       "ORG_AIR  DEST_AIR\n",
       "ATL      ABE         31\n",
       "         ABQ         16\n",
       "         ABY         19\n",
       "         ACY          6\n",
       "         AEX         40\n",
       "dtype: int64"
      ]
     },
     "execution_count": 62,
     "metadata": {},
     "output_type": "execute_result"
    }
   ],
   "source": [
    "flights_ct.head()"
   ]
  },
  {
   "cell_type": "markdown",
   "metadata": {},
   "source": [
    "- 휴스턴(IAH)과 애틀란타(ATL) 사이에 양쪽 방향의 총 비행편수를 선택한다."
   ]
  },
  {
   "cell_type": "code",
   "execution_count": 63,
   "metadata": {},
   "outputs": [
    {
     "data": {
      "text/plain": [
       "ORG_AIR  DEST_AIR\n",
       "ATL      IAH         121\n",
       "IAH      ATL         148\n",
       "dtype: int64"
      ]
     },
     "execution_count": 63,
     "metadata": {},
     "output_type": "execute_result"
    }
   ],
   "source": [
    "flights_ct.loc[('ATL', 'IAH'), ('IAH', 'ATL')]"
   ]
  },
  {
   "cell_type": "markdown",
   "metadata": {},
   "source": [
    "- 모든 비행편에 적용할 수 있는 더 효율적이고 자동화된 방법을 찾아보자.\n",
    "- 각 행에 있는 출발지와 목적지를 독립적으로 알파벳순으로 정렬해보자."
   ]
  },
  {
   "cell_type": "code",
   "execution_count": 65,
   "metadata": {},
   "outputs": [],
   "source": [
    "flights_sort = flights[['ORG_AIR', 'DEST_AIR']].apply(sorted, axis=1)"
   ]
  },
  {
   "cell_type": "code",
   "execution_count": 66,
   "metadata": {},
   "outputs": [
    {
     "data": {
      "text/html": [
       "<div>\n",
       "<style scoped>\n",
       "    .dataframe tbody tr th:only-of-type {\n",
       "        vertical-align: middle;\n",
       "    }\n",
       "\n",
       "    .dataframe tbody tr th {\n",
       "        vertical-align: top;\n",
       "    }\n",
       "\n",
       "    .dataframe thead th {\n",
       "        text-align: right;\n",
       "    }\n",
       "</style>\n",
       "<table border=\"1\" class=\"dataframe\">\n",
       "  <thead>\n",
       "    <tr style=\"text-align: right;\">\n",
       "      <th></th>\n",
       "      <th>ORG_AIR</th>\n",
       "      <th>DEST_AIR</th>\n",
       "    </tr>\n",
       "  </thead>\n",
       "  <tbody>\n",
       "    <tr>\n",
       "      <th>0</th>\n",
       "      <td>LAX</td>\n",
       "      <td>SLC</td>\n",
       "    </tr>\n",
       "    <tr>\n",
       "      <th>1</th>\n",
       "      <td>DEN</td>\n",
       "      <td>IAD</td>\n",
       "    </tr>\n",
       "    <tr>\n",
       "      <th>2</th>\n",
       "      <td>DFW</td>\n",
       "      <td>VPS</td>\n",
       "    </tr>\n",
       "    <tr>\n",
       "      <th>3</th>\n",
       "      <td>DCA</td>\n",
       "      <td>DFW</td>\n",
       "    </tr>\n",
       "    <tr>\n",
       "      <th>4</th>\n",
       "      <td>LAX</td>\n",
       "      <td>MCI</td>\n",
       "    </tr>\n",
       "  </tbody>\n",
       "</table>\n",
       "</div>"
      ],
      "text/plain": [
       "  ORG_AIR DEST_AIR\n",
       "0     LAX      SLC\n",
       "1     DEN      IAD\n",
       "2     DFW      VPS\n",
       "3     DCA      DFW\n",
       "4     LAX      MCI"
      ]
     },
     "execution_count": 66,
     "metadata": {},
     "output_type": "execute_result"
    }
   ],
   "source": [
    "flights_sort.head()"
   ]
  },
  {
   "cell_type": "markdown",
   "metadata": {},
   "source": [
    "- 각 row는 독립적으로 정렬됐으므로 col 이름은 정확하지 않다.\n",
    "- 보다 포괄적인 이름으로 바꾸고 다시 한번 전체 도시 간의 총 비행편수를 찾아보자."
   ]
  },
  {
   "cell_type": "code",
   "execution_count": 68,
   "metadata": {},
   "outputs": [],
   "source": [
    "rename_dict = {'ORG_AIR': 'AIR1', 'DEST_AIR': 'AIR2'}"
   ]
  },
  {
   "cell_type": "code",
   "execution_count": 70,
   "metadata": {},
   "outputs": [],
   "source": [
    "flights_sort = flights_sort.rename(columns=rename_dict)"
   ]
  },
  {
   "cell_type": "code",
   "execution_count": 71,
   "metadata": {},
   "outputs": [],
   "source": [
    "flights_ct2 = flights_sort.groupby(['AIR1', 'AIR2']).size()"
   ]
  },
  {
   "cell_type": "code",
   "execution_count": 73,
   "metadata": {},
   "outputs": [
    {
     "data": {
      "text/plain": [
       "AIR1  AIR2\n",
       "ABE   ATL     31\n",
       "      ORD     24\n",
       "ABI   DFW     74\n",
       "ABQ   ATL     16\n",
       "      DEN     46\n",
       "dtype: int64"
      ]
     },
     "execution_count": 73,
     "metadata": {},
     "output_type": "execute_result"
    }
   ],
   "source": [
    "flights_ct2.head()"
   ]
  },
  {
   "cell_type": "code",
   "execution_count": 75,
   "metadata": {},
   "outputs": [
    {
     "data": {
      "text/plain": [
       "269"
      ]
     },
     "execution_count": 75,
     "metadata": {},
     "output_type": "execute_result"
    }
   ],
   "source": [
    "flights_ct2.loc[('ATL', 'IAH')]"
   ]
  },
  {
   "cell_type": "markdown",
   "metadata": {},
   "source": [
    "- flight_count Series는 두 레벨의 MultiIndex를 가진다.\n",
    "- MultiIndex에서 행을 선택하는 방법 중 하나는 loc 인덱스 연산자에 정확한 레벨 값을 가진 튜플을 전달하는 것이다."
   ]
  },
  {
   "cell_type": "markdown",
   "metadata": {},
   "source": [
    "- apply() 메서드를 호출할 때 axis=1로 설정하는 것은 pandas에서 제공하는 연산 중 가장 성능이 저하되는 것 중 하나다.\n",
    "- pandas의 각 행을 따라가면 연산하는 것은 Numpy로 부터 속도 향상을 받지 못하는 경우가 많다.\n",
    "- 가능하다면 apply를 사용할 대 axis=1로 설정하는 것은 피하는 것이 좋다."
   ]
  },
  {
   "cell_type": "markdown",
   "metadata": {},
   "source": [
    "- NumPy sort 함수를 사용하면 엄청난 속도 향성을 얻을 수 있다.\n",
    "- 디폴트로 NumPy sort 함수는 각 행을 독립적으로 정렬한다."
   ]
  },
  {
   "cell_type": "code",
   "execution_count": 76,
   "metadata": {},
   "outputs": [],
   "source": [
    "data_sorted = np.sort(flights[['ORG_AIR', 'DEST_AIR']])"
   ]
  },
  {
   "cell_type": "code",
   "execution_count": 77,
   "metadata": {},
   "outputs": [
    {
     "data": {
      "text/plain": [
       "array([['LAX', 'SLC'],\n",
       "       ['DEN', 'IAD'],\n",
       "       ['DFW', 'VPS'],\n",
       "       ['DCA', 'DFW'],\n",
       "       ['LAX', 'MCI'],\n",
       "       ['IAH', 'SAN'],\n",
       "       ['DFW', 'MSY'],\n",
       "       ['PHX', 'SFO'],\n",
       "       ['ORD', 'STL'],\n",
       "       ['IAH', 'SJC']], dtype=object)"
      ]
     },
     "execution_count": 77,
     "metadata": {},
     "output_type": "execute_result"
    }
   ],
   "source": [
    "data_sorted[:10]"
   ]
  },
  {
   "cell_type": "markdown",
   "metadata": {},
   "source": [
    "- 2차원 NumPy 배열이 반환된다.\n",
    "- NumPy에서는 그룹화가 용이하지 않으므로 DataFrame 생성자를 이용해 새로운 DataFrame을 생성하고, 이 값이 flights_sorted DataFrame과 동일한지 확인해보자."
   ]
  },
  {
   "cell_type": "code",
   "execution_count": 78,
   "metadata": {},
   "outputs": [],
   "source": [
    "flights_sort2 = pd.DataFrame(data_sorted, columns=['AIR1', 'AIR2'])"
   ]
  },
  {
   "cell_type": "code",
   "execution_count": 79,
   "metadata": {},
   "outputs": [],
   "source": [
    "fs_orig = flights_sort.rename(columns={'ORG_AIR': 'AIR1', 'DEST_AIR': 'AIR2'})"
   ]
  },
  {
   "cell_type": "code",
   "execution_count": 80,
   "metadata": {},
   "outputs": [
    {
     "data": {
      "text/plain": [
       "True"
      ]
     },
     "execution_count": 80,
     "metadata": {},
     "output_type": "execute_result"
    }
   ],
   "source": [
    "flights_sort2.equals(fs_orig)"
   ]
  },
  {
   "cell_type": "markdown",
   "metadata": {},
   "source": [
    "- 시간 차이를 측정해보자."
   ]
  },
  {
   "cell_type": "code",
   "execution_count": 81,
   "metadata": {},
   "outputs": [
    {
     "name": "stdout",
     "output_type": "stream",
     "text": [
      "6.23 s ± 63.9 ms per loop (mean ± std. dev. of 7 runs, 1 loop each)\n"
     ]
    }
   ],
   "source": [
    "%%timeit\n",
    "flights_sort = flights[['ORG_AIR', 'DEST_AIR']].apply(sorted, axis=1)"
   ]
  },
  {
   "cell_type": "code",
   "execution_count": 83,
   "metadata": {},
   "outputs": [
    {
     "name": "stdout",
     "output_type": "stream",
     "text": [
      "8.18 ms ± 51.1 µs per loop (mean ± std. dev. of 7 runs, 100 loops each)\n"
     ]
    }
   ],
   "source": [
    "%%timeit\n",
    "data_sorted = np.sort(flights[['ORG_AIR', 'DEST_AIR']])\n",
    "flights_sort2 = pd.DataFrame(data_sorted, columns=['AIR1', 'AIR2'])"
   ]
  },
  {
   "cell_type": "markdown",
   "metadata": {},
   "source": [
    "## 12.최장 연속 정시 운행 찾기"
   ]
  },
  {
   "cell_type": "markdown",
   "metadata": {},
   "source": [
    "- pandas는 직접적으로 항공사별로 총 정시 비행편수와 빙율을 계산할 수 있다.\n",
    "- 각 항공사별로 출발 공항에 따라 최장 연속 정시 비행같은 계산도 가능하다."
   ]
  },
  {
   "cell_type": "markdown",
   "metadata": {},
   "source": [
    "- 샘플 데이터로 연속된 1을 찾는 연습을 해보자."
   ]
  },
  {
   "cell_type": "code",
   "execution_count": 84,
   "metadata": {},
   "outputs": [],
   "source": [
    "s = pd.Series([0, 1, 1, 0, 1, 1, 1, 0])"
   ]
  },
  {
   "cell_type": "code",
   "execution_count": 85,
   "metadata": {},
   "outputs": [
    {
     "data": {
      "text/plain": [
       "0    0\n",
       "1    1\n",
       "2    1\n",
       "3    0\n",
       "4    1\n",
       "5    1\n",
       "6    1\n",
       "7    0\n",
       "dtype: int64"
      ]
     },
     "execution_count": 85,
     "metadata": {},
     "output_type": "execute_result"
    }
   ],
   "source": [
    "s"
   ]
  },
  {
   "cell_type": "code",
   "execution_count": 86,
   "metadata": {},
   "outputs": [],
   "source": [
    "s1 = s.cumsum()"
   ]
  },
  {
   "cell_type": "code",
   "execution_count": 87,
   "metadata": {},
   "outputs": [
    {
     "data": {
      "text/plain": [
       "0    0\n",
       "1    1\n",
       "2    2\n",
       "3    2\n",
       "4    3\n",
       "5    4\n",
       "6    5\n",
       "7    5\n",
       "dtype: int64"
      ]
     },
     "execution_count": 87,
     "metadata": {},
     "output_type": "execute_result"
    }
   ],
   "source": [
    "s1"
   ]
  },
  {
   "cell_type": "code",
   "execution_count": 88,
   "metadata": {},
   "outputs": [
    {
     "data": {
      "text/plain": [
       "0    0\n",
       "1    1\n",
       "2    2\n",
       "3    0\n",
       "4    3\n",
       "5    4\n",
       "6    5\n",
       "7    0\n",
       "dtype: int64"
      ]
     },
     "execution_count": 88,
     "metadata": {},
     "output_type": "execute_result"
    }
   ],
   "source": [
    "s.mul(s1)"
   ]
  },
  {
   "cell_type": "code",
   "execution_count": 89,
   "metadata": {},
   "outputs": [
    {
     "data": {
      "text/plain": [
       "0    NaN\n",
       "1    1.0\n",
       "2    1.0\n",
       "3   -2.0\n",
       "4    3.0\n",
       "5    1.0\n",
       "6    1.0\n",
       "7   -5.0\n",
       "dtype: float64"
      ]
     },
     "execution_count": 89,
     "metadata": {},
     "output_type": "execute_result"
    }
   ],
   "source": [
    "s.mul(s1).diff()"
   ]
  },
  {
   "cell_type": "code",
   "execution_count": 90,
   "metadata": {},
   "outputs": [
    {
     "data": {
      "text/plain": [
       "0    NaN\n",
       "1    NaN\n",
       "2    NaN\n",
       "3   -2.0\n",
       "4    NaN\n",
       "5    NaN\n",
       "6    NaN\n",
       "7   -5.0\n",
       "dtype: float64"
      ]
     },
     "execution_count": 90,
     "metadata": {},
     "output_type": "execute_result"
    }
   ],
   "source": [
    "s.mul(s1).diff().where(lambda x: x < 0)"
   ]
  },
  {
   "cell_type": "code",
   "execution_count": 91,
   "metadata": {},
   "outputs": [
    {
     "data": {
      "text/plain": [
       "0    NaN\n",
       "1    NaN\n",
       "2    NaN\n",
       "3   -2.0\n",
       "4   -2.0\n",
       "5   -2.0\n",
       "6   -2.0\n",
       "7   -5.0\n",
       "dtype: float64"
      ]
     },
     "execution_count": 91,
     "metadata": {},
     "output_type": "execute_result"
    }
   ],
   "source": [
    "s.mul(s1).diff().where(lambda x: x < 0).ffill()"
   ]
  },
  {
   "cell_type": "code",
   "execution_count": 92,
   "metadata": {},
   "outputs": [
    {
     "data": {
      "text/plain": [
       "0    0.0\n",
       "1    1.0\n",
       "2    2.0\n",
       "3    0.0\n",
       "4    1.0\n",
       "5    2.0\n",
       "6    3.0\n",
       "7    0.0\n",
       "dtype: float64"
      ]
     },
     "execution_count": 92,
     "metadata": {},
     "output_type": "execute_result"
    }
   ],
   "source": [
    "s.mul(s1).diff().where(lambda x: x < 0).ffill().add(s1, fill_value=0)"
   ]
  },
  {
   "cell_type": "code",
   "execution_count": null,
   "metadata": {},
   "outputs": [],
   "source": []
  },
  {
   "cell_type": "code",
   "execution_count": null,
   "metadata": {},
   "outputs": [],
   "source": []
  },
  {
   "cell_type": "code",
   "execution_count": null,
   "metadata": {},
   "outputs": [],
   "source": []
  },
  {
   "cell_type": "code",
   "execution_count": null,
   "metadata": {},
   "outputs": [],
   "source": []
  },
  {
   "cell_type": "code",
   "execution_count": null,
   "metadata": {},
   "outputs": [],
   "source": []
  },
  {
   "cell_type": "markdown",
   "metadata": {},
   "source": [
    "\n",
    "\n",
    "\n",
    "\n",
    "\n",
    "\n",
    "\n",
    "\n",
    "\n",
    "\n",
    "\n"
   ]
  },
  {
   "cell_type": "code",
   "execution_count": null,
   "metadata": {},
   "outputs": [],
   "source": []
  }
 ],
 "metadata": {
  "kernelspec": {
   "display_name": "Python 3",
   "language": "python",
   "name": "python3"
  },
  "language_info": {
   "codemirror_mode": {
    "name": "ipython",
    "version": 3
   },
   "file_extension": ".py",
   "mimetype": "text/x-python",
   "name": "python",
   "nbconvert_exporter": "python",
   "pygments_lexer": "ipython3",
   "version": "3.6.1"
  }
 },
 "nbformat": 4,
 "nbformat_minor": 2
}
