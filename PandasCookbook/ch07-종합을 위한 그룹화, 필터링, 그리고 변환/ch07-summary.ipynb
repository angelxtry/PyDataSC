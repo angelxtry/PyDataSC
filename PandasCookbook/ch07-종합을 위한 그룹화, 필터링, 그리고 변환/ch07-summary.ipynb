{
 "cells": [
  {
   "cell_type": "markdown",
   "metadata": {},
   "source": [
    "# ch07-종합을 위한 그룹화, 필터링, 그리고 변환"
   ]
  },
  {
   "cell_type": "markdown",
   "metadata": {},
   "source": [
    "## 1.종합 aggregation에 대한 정의\n",
    "## 2.복수 열과 함수를 사용한 그룹화와 종합\n",
    "## 3.그룹화 후 MultiIndex 제거\n",
    "## 4.종합 함수 커스터마이즈\n",
    "## 5.*arg, **kwargs 함수를 사용한 종합 커스터마이즈\n",
    "## 6. groupby 객체 조사\n",
    "## 7.소수 인종이 다수인 주 찾기\n",
    "## 8.체중 감량 내기를 통한 변환\n",
    "## 9.apply를 사용해 주별 SAT 가중 평균 구하기\n",
    "## 10.연속 변수에 대한 그룹화\n",
    "## 11.도시 간 총 비행 횟수 계산\n",
    "## 12.최장 연속 정시 운행 찾기"
   ]
  },
  {
   "cell_type": "code",
   "execution_count": null,
   "metadata": {},
   "outputs": [],
   "source": []
  }
 ],
 "metadata": {
  "kernelspec": {
   "display_name": "Python 3",
   "language": "python",
   "name": "python3"
  },
  "language_info": {
   "codemirror_mode": {
    "name": "ipython",
    "version": 3
   },
   "file_extension": ".py",
   "mimetype": "text/x-python",
   "name": "python",
   "nbconvert_exporter": "python",
   "pygments_lexer": "ipython3",
   "version": "3.6.4"
  }
 },
 "nbformat": 4,
 "nbformat_minor": 2
}
