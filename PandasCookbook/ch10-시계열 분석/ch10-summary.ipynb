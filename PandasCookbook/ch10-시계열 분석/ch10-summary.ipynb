{
 "cells": [
  {
   "cell_type": "markdown",
   "metadata": {},
   "source": [
    "# ch10. 시계열 분석"
   ]
  },
  {
   "cell_type": "markdown",
   "metadata": {},
   "source": [
    "## 1.파이썬과 pandas 날짜 도구 차이 이해\n",
    "## 2.시계열을 현명하게 분할하기\n",
    "## 3.DatetimeIndex에만 작동하는 메서드 이용\n",
    "## 4.주별 범죄 건수 알아보기\n",
    "## 5.주별 범죄와 교통사고를 별도로 종합\n",
    "## 6.연도별 주 중 범죄 측정\n",
    "## 7.DatetimeIndex와 익명 함수로 그룹화하기\n",
    "## 8.Timestamp와 다른 열로 그룹화\n",
    "## 9.merge_asof를 사용해 범죄율이 20% 낮은 마지막 시기 찾기"
   ]
  },
  {
   "cell_type": "code",
   "execution_count": null,
   "metadata": {},
   "outputs": [],
   "source": []
  }
 ],
 "metadata": {
  "kernelspec": {
   "display_name": "Python 3",
   "language": "python",
   "name": "python3"
  },
  "language_info": {
   "codemirror_mode": {
    "name": "ipython",
    "version": 3
   },
   "file_extension": ".py",
   "mimetype": "text/x-python",
   "name": "python",
   "nbconvert_exporter": "python",
   "pygments_lexer": "ipython3",
   "version": "3.6.4"
  }
 },
 "nbformat": 4,
 "nbformat_minor": 2
}
