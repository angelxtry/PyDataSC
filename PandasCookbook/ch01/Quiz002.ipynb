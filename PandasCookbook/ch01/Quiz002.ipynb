{
 "cells": [
  {
   "cell_type": "markdown",
   "metadata": {},
   "source": [
    "# Quiz 002\n",
    "\n",
    "## 1. movie.csv 파일을 읽어 movie DataFrame을 생성하세요. 생성 시 index를 movie_title로 지정합니다.\n",
    "\n",
    "## 2. movie.drop()까지 입력한 후 shift+tap을 입력하세요. Signature를 확인하세요.\n",
    "\n",
    "## 3. drop() 메서드를 labels keyword param을 이용하여 Avatar row를 삭제하세요.\n",
    "\n",
    "## 4. drop() 메서드를 index keyword param을 이용하여 Spectre row를 삭제하세요.\n",
    "\n",
    "## 5. drop() 메서드를 columns keyword param을 이용하여 duration column을 삭제하세요.\n",
    "\n",
    "## 6. movie DataFrame의 각 column의 data type을 출력하고, 각 data type의 빈도를 출력하세요.\n",
    "\n",
    "## 7. 영화를 가장 많이 제작한 감독 10명을 출력하세요.\n",
    "\n",
    "## 8. movie DataFrame의 index는 moive_title로 설정되어 있습니다. index를 director_name으로 변경하세요. movie_title은 DataFrame으로 다시 포함되도록 합니다.\n",
    "\n",
    "## 9. gross는 총수익, budget은 제작비를 의미합니다. 두 column의 순서(위치)를 출력하세요. (몇 번째 column인지 확인하면 됩니다.)\n",
    "\n",
    "## 10. gross column의 우측에 profit column을 추가하세요. (profit = gross - budget) (위치를 지정하여 column을 추가하는 연습)"
   ]
  },
  {
   "cell_type": "code",
   "execution_count": null,
   "metadata": {},
   "outputs": [],
   "source": []
  }
 ],
 "metadata": {
  "kernelspec": {
   "display_name": "Python 3",
   "language": "python",
   "name": "python3"
  },
  "language_info": {
   "codemirror_mode": {
    "name": "ipython",
    "version": 3
   },
   "file_extension": ".py",
   "mimetype": "text/x-python",
   "name": "python",
   "nbconvert_exporter": "python",
   "pygments_lexer": "ipython3",
   "version": "3.6.4"
  }
 },
 "nbformat": 4,
 "nbformat_minor": 2
}
