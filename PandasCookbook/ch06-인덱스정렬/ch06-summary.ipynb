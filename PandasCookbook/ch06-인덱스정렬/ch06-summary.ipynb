{
 "cells": [
  {
   "cell_type": "markdown",
   "metadata": {},
   "source": [
    "# ch06 인덱스 정렬"
   ]
  },
  {
   "cell_type": "markdown",
   "metadata": {},
   "source": [
    "## 1.인덱스 객체 조사\n",
    "## 2.카티션 곱 생성\n",
    "## 3.인덱스 폭발\n",
    "## 4.서로 다른 인덱스에 값 채우기\n",
    "## 5.다른 DataFrame의 col 추가\n",
    "## 6.각 col로부터 최대값 하이라이트\n",
    "## 7.메서드 체인을 활용한 idxmax 복제\n",
    "## 8.가장 보편적인 최대값 검색"
   ]
  },
  {
   "cell_type": "code",
   "execution_count": null,
   "metadata": {},
   "outputs": [],
   "source": []
  }
 ],
 "metadata": {
  "kernelspec": {
   "display_name": "Python 3",
   "language": "python",
   "name": "python3"
  },
  "language_info": {
   "codemirror_mode": {
    "name": "ipython",
    "version": 3
   },
   "file_extension": ".py",
   "mimetype": "text/x-python",
   "name": "python",
   "nbconvert_exporter": "python",
   "pygments_lexer": "ipython3",
   "version": "3.6.4"
  }
 },
 "nbformat": 4,
 "nbformat_minor": 2
}
