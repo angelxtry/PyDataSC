{
 "cells": [
  {
   "cell_type": "markdown",
   "metadata": {},
   "source": [
    "# ch08. 정돈된 형태로 데이터 재구성"
   ]
  },
  {
   "cell_type": "markdown",
   "metadata": {},
   "source": [
    "## 1.stack을 이용해 변수값을 열 이름으로 정돈\n",
    "## 2.melt를 사용해 변수값을 열 이름으로 정돈\n",
    "## 3.여러 변수 그룹을 동시에 스태킹하기\n",
    "## 4.스택된 데이터 뒤집기\n",
    "## 5.groupby로 aggregation한 후 unstack하기\n",
    "## 6.groupby aggregation으로 pivot_table 복제\n",
    "## 7.쉬운 재구성을 위한 축 레벨 재명명\n",
    "## 8.복수 변수가 열 이름에 저장됐을 때의 정돈\n",
    "## 9.복수 변수가 col값에 저장됬을 때의 정돈\n",
    "## 10.2개 이상의 변수가 같은 셀에 저장됐을 때의 정돈\n",
    "## 11.변수가 col 이름과 값으로 저장됐을 때의 정돈\n",
    "## 12.복수 개의 관측 단위가 같은 테이블에 저장됐을 때의 정돈"
   ]
  },
  {
   "cell_type": "code",
   "execution_count": null,
   "metadata": {},
   "outputs": [],
   "source": []
  }
 ],
 "metadata": {
  "kernelspec": {
   "display_name": "Python 3",
   "language": "python",
   "name": "python3"
  },
  "language_info": {
   "codemirror_mode": {
    "name": "ipython",
    "version": 3
   },
   "file_extension": ".py",
   "mimetype": "text/x-python",
   "name": "python",
   "nbconvert_exporter": "python",
   "pygments_lexer": "ipython3",
   "version": "3.6.4"
  }
 },
 "nbformat": 4,
 "nbformat_minor": 2
}
