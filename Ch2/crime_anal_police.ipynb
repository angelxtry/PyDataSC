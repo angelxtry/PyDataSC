{
 "cells": [
  {
   "cell_type": "code",
   "execution_count": null,
   "metadata": {},
   "outputs": [],
   "source": [
    "import numpy as np\n",
    "import pandas as pd"
   ]
  },
  {
   "cell_type": "code",
   "execution_count": null,
   "metadata": {},
   "outputs": [],
   "source": [
    "crime_anal_police = pd.read_csv('../data/02.crime_in_Seoul.csv', thousands=',', encoding='euc-kr')"
   ]
  },
  {
   "cell_type": "code",
   "execution_count": null,
   "metadata": {},
   "outputs": [],
   "source": [
    "crime_anal_police.head()"
   ]
  },
  {
   "cell_type": "code",
   "execution_count": null,
   "metadata": {},
   "outputs": [],
   "source": [
    "del crime_anal_police[\"Unnamed: 11\"]"
   ]
  },
  {
   "cell_type": "code",
   "execution_count": null,
   "metadata": {},
   "outputs": [],
   "source": [
    "crime_anal_police.head()"
   ]
  },
  {
   "cell_type": "code",
   "execution_count": null,
   "metadata": {},
   "outputs": [],
   "source": [
    "# import googlemaps\n",
    "# gmaps_key = \"*map key*\"\n",
    "# gmaps = googlemaps.Client(key=gmaps_key)\n",
    "# gmaps.geocode('서울중부경찰서', language='ko')"
   ]
  },
  {
   "cell_type": "code",
   "execution_count": null,
   "metadata": {},
   "outputs": [],
   "source": [
    "# station_name = ['서울'+str(name[:-1])+'경찰서' for name in crime_anal_police['관서명']]"
   ]
  },
  {
   "cell_type": "code",
   "execution_count": null,
   "metadata": {},
   "outputs": [],
   "source": [
    "# station_name"
   ]
  },
  {
   "cell_type": "code",
   "execution_count": null,
   "metadata": {},
   "outputs": [],
   "source": [
    "# station_geocode = [gmaps.geocode(name, language='ko') for name in station_name]"
   ]
  },
  {
   "cell_type": "code",
   "execution_count": null,
   "metadata": {},
   "outputs": [],
   "source": [
    "# station_address = [geocode[0][\"formatted_address\"] for geocode in station_geocode]"
   ]
  },
  {
   "cell_type": "code",
   "execution_count": null,
   "metadata": {},
   "outputs": [],
   "source": [
    "# station_lat = [geocode[0][\"geometry\"][\"location\"]['lat'] for geocode in station_geocode]"
   ]
  },
  {
   "cell_type": "code",
   "execution_count": null,
   "metadata": {},
   "outputs": [],
   "source": [
    "# station_lng = [geocode[0][\"geometry\"][\"location\"]['lng'] for geocode in station_geocode]"
   ]
  },
  {
   "cell_type": "code",
   "execution_count": null,
   "metadata": {},
   "outputs": [],
   "source": [
    "# df_station_geo_data = pd.DataFrame(data={'station_name': station_name, 'station_address': station_address,\n",
    "#                                          'station_lat': station_lat, 'station_lng': station_lng} )\n",
    "\n",
    "# df_station_geo_data.to_csv('../data/02.station_geo_data_by_googlemaps.csv', sep=',', encoding='utf-8')"
   ]
  },
  {
   "cell_type": "code",
   "execution_count": null,
   "metadata": {},
   "outputs": [],
   "source": [
    "df_station_geo_data_by_googlemaps = pd.read_csv('../data/02.station_geo_data_by_googlemaps.csv',\n",
    "                                                encoding='utf-8', index_col=0)"
   ]
  },
  {
   "cell_type": "code",
   "execution_count": null,
   "metadata": {},
   "outputs": [],
   "source": [
    "df_station_geo_data_by_googlemaps"
   ]
  },
  {
   "cell_type": "code",
   "execution_count": null,
   "metadata": {},
   "outputs": [],
   "source": [
    "# gu_name = []\n",
    "# for name in station_address:\n",
    "#     tmp = name.split()\n",
    "#     tmp_gu = [gu for gu in tmp if gu[-1] == '구'][0]\n",
    "#     gu_name.append(tmp_gu)"
   ]
  },
  {
   "cell_type": "code",
   "execution_count": null,
   "metadata": {},
   "outputs": [],
   "source": [
    "# crime_anal_police['구별'] = gu_name"
   ]
  },
  {
   "cell_type": "code",
   "execution_count": null,
   "metadata": {},
   "outputs": [],
   "source": [
    "# crime_anal_police.head()"
   ]
  },
  {
   "cell_type": "code",
   "execution_count": null,
   "metadata": {},
   "outputs": [],
   "source": [
    "# crime_anal_police[crime_anal_police['관서명']=='금천서']"
   ]
  },
  {
   "cell_type": "code",
   "execution_count": null,
   "metadata": {},
   "outputs": [],
   "source": [
    "# crime_anal_police.loc[crime_anal_police['관서명']=='금천서', ['구별']]"
   ]
  },
  {
   "cell_type": "code",
   "execution_count": null,
   "metadata": {},
   "outputs": [],
   "source": [
    "# crime_anal_police.loc[crime_anal_police['관서명']=='금천서', ['구별']] = '금천구'"
   ]
  },
  {
   "cell_type": "code",
   "execution_count": null,
   "metadata": {},
   "outputs": [],
   "source": [
    "# crime_anal_police[crime_anal_police['관서명']=='금천서']"
   ]
  },
  {
   "cell_type": "code",
   "execution_count": null,
   "metadata": {},
   "outputs": [],
   "source": [
    "# crime_anal_police.to_csv('../data/02.crime_in_Seoul_include_gu_name_20180315.csv', sep=',', encoding='utf-8')"
   ]
  },
  {
   "cell_type": "code",
   "execution_count": null,
   "metadata": {},
   "outputs": [],
   "source": [
    "crime_anal_raw = pd.read_csv('../data/02.crime_in_Seoul_include_gu_name.csv',\n",
    "                             encoding='utf-8', index_col=0)"
   ]
  },
  {
   "cell_type": "code",
   "execution_count": null,
   "metadata": {},
   "outputs": [],
   "source": [
    "crime_anal_raw"
   ]
  },
  {
   "cell_type": "code",
   "execution_count": null,
   "metadata": {},
   "outputs": [],
   "source": [
    "crime_anal = pd.pivot_table(crime_anal_raw, index='구별', aggfunc=np.sum)"
   ]
  },
  {
   "cell_type": "code",
   "execution_count": null,
   "metadata": {},
   "outputs": [],
   "source": [
    "crime_anal"
   ]
  },
  {
   "cell_type": "code",
   "execution_count": null,
   "metadata": {},
   "outputs": [],
   "source": [
    "crime_anal['강간검거율'] = crime_anal['강간 검거']/crime_anal['강간 발생']*100\n",
    "crime_anal['강도검거율'] = crime_anal['강도 검거']/crime_anal['강도 발생']*100\n",
    "crime_anal['살인검거율'] = crime_anal['살인 검거']/crime_anal['살인 발생']*100\n",
    "crime_anal['절도검거율'] = crime_anal['절도 검거']/crime_anal['절도 발생']*100\n",
    "crime_anal['폭력검거율'] = crime_anal['폭력 검거']/crime_anal['폭력 발생']*100"
   ]
  },
  {
   "cell_type": "code",
   "execution_count": null,
   "metadata": {},
   "outputs": [],
   "source": [
    "crime_anal"
   ]
  },
  {
   "cell_type": "code",
   "execution_count": null,
   "metadata": {},
   "outputs": [],
   "source": [
    "del crime_anal['강간 검거']\n",
    "del crime_anal['강도 검거']\n",
    "del crime_anal['살인 검거']\n",
    "del crime_anal['절도 검거']\n",
    "del crime_anal['폭력 검거']"
   ]
  },
  {
   "cell_type": "code",
   "execution_count": null,
   "metadata": {},
   "outputs": [],
   "source": [
    "crime_anal"
   ]
  },
  {
   "cell_type": "code",
   "execution_count": null,
   "metadata": {},
   "outputs": [],
   "source": [
    "con_list = ['강간검거율', '강도검거율', '살인검거율', '절도검거율', '폭력검거율']\n",
    "for con in con_list:\n",
    "    crime_anal.loc[crime_anal[con] > 100, con] = 100"
   ]
  },
  {
   "cell_type": "code",
   "execution_count": null,
   "metadata": {},
   "outputs": [],
   "source": [
    "crime_anal"
   ]
  },
  {
   "cell_type": "code",
   "execution_count": null,
   "metadata": {},
   "outputs": [],
   "source": [
    "crime_anal.rename(columns = {'강간 발생': '강간',\n",
    "                             '강도 발생': '강도',\n",
    "                             '살인 발생': '살인',\n",
    "                             '절도 발생': '절도',\n",
    "                             '폭력 발생': '폭력'}, inplace=True)"
   ]
  },
  {
   "cell_type": "code",
   "execution_count": null,
   "metadata": {},
   "outputs": [],
   "source": [
    "crime_anal"
   ]
  },
  {
   "cell_type": "code",
   "execution_count": null,
   "metadata": {},
   "outputs": [],
   "source": [
    "from sklearn import preprocessing\n",
    "col = ['강간','강도', '살인', '절도', '폭력']\n",
    "x = crime_anal[col].values\n",
    "min_max_scaler = preprocessing.MinMaxScaler()\n",
    "x_scaled = min_max_scaler.fit_transform(x.astype(float))\n",
    "crime_anal_norm = pd.DataFrame(x_scaled, columns=col, index=crime_anal.index)\n",
    "col2 = ['강간검거율', '강도검거율', '살인검거율', '절도검거율', '폭력검거율']\n",
    "crime_anal_norm[col2] = crime_anal[col2]"
   ]
  },
  {
   "cell_type": "code",
   "execution_count": null,
   "metadata": {},
   "outputs": [],
   "source": [
    "crime_anal_norm"
   ]
  },
  {
   "cell_type": "code",
   "execution_count": null,
   "metadata": {},
   "outputs": [],
   "source": [
    "result_CCTV = pd.read_csv('../data/01.CCTV_result.csv', encoding='UTF-8', index_col='구별')"
   ]
  },
  {
   "cell_type": "code",
   "execution_count": null,
   "metadata": {},
   "outputs": [],
   "source": [
    "result_CCTV"
   ]
  },
  {
   "cell_type": "code",
   "execution_count": null,
   "metadata": {},
   "outputs": [],
   "source": [
    "crime_anal_norm[['인구수', 'CCTV']] = result_CCTV[['인구수', '소계']]"
   ]
  },
  {
   "cell_type": "code",
   "execution_count": null,
   "metadata": {},
   "outputs": [],
   "source": [
    "crime_anal_norm"
   ]
  },
  {
   "cell_type": "code",
   "execution_count": null,
   "metadata": {},
   "outputs": [],
   "source": [
    "col = ['강간','강도', '살인', '절도', '폭력']\n",
    "crime_anal_norm['범죄'] = np.sum(crime_anal_norm[col], axis=1)"
   ]
  },
  {
   "cell_type": "code",
   "execution_count": null,
   "metadata": {},
   "outputs": [],
   "source": [
    "crime_anal_norm"
   ]
  },
  {
   "cell_type": "code",
   "execution_count": null,
   "metadata": {},
   "outputs": [],
   "source": [
    "col = ['강간검거율', '강도검거율', '살인검거율', '절도검거율', '폭력검거율']\n",
    "crime_anal_norm['검거'] = np.sum(crime_anal_norm[col], axis=1)"
   ]
  },
  {
   "cell_type": "code",
   "execution_count": null,
   "metadata": {},
   "outputs": [],
   "source": [
    "crime_anal_norm"
   ]
  },
  {
   "cell_type": "code",
   "execution_count": null,
   "metadata": {},
   "outputs": [],
   "source": [
    "import platform\n",
    "from matplotlib import font_manager, rc\n",
    "import matplotlib.pyplot as plt\n",
    "import seaborn as sns\n",
    "plt.rcParams['axes.unicode_minus'] = False\n",
    "if platform.system() == 'Darwin':\n",
    "    rc('font', family='AppleGothic')\n",
    "elif platform.system() == 'Windows':\n",
    "    path = 'C:Windows/Fonts/malgun.ttf'\n",
    "    font_name = font_manager.FontProperties(fname=path).get_name()\n",
    "    rc('font', family=font_name)\n",
    "else:\n",
    "    print('Unknown system')\n",
    "%matplotlib inline"
   ]
  },
  {
   "cell_type": "code",
   "execution_count": null,
   "metadata": {},
   "outputs": [],
   "source": [
    "sns.pairplot(crime_anal_norm, vars=['강도', '살인', '폭력'],\n",
    "             kind='reg', size=3)\n",
    "plt.show()"
   ]
  },
  {
   "cell_type": "code",
   "execution_count": null,
   "metadata": {},
   "outputs": [],
   "source": [
    " sns.pairplot(crime_anal_norm, x_vars=['인구수', 'CCTV'],\n",
    "              y_vars=['살인', '강도'], kind='reg', size=3)\n",
    "plt.show()"
   ]
  },
  {
   "cell_type": "code",
   "execution_count": null,
   "metadata": {},
   "outputs": [],
   "source": [
    "sns.pairplot(crime_anal_norm,\n",
    "             x_vars=['인구수', 'CCTV'],\n",
    "             y_vars=['살인검거율', '폭력검거율'],\n",
    "             kind='reg', size=3)\n",
    "plt.show()"
   ]
  },
  {
   "cell_type": "code",
   "execution_count": null,
   "metadata": {},
   "outputs": [],
   "source": [
    "tmp_max = crime_anal_norm['검거'].max()\n",
    "crime_anal_norm['검거'] = crime_anal_norm['검거'] / tmp_max * 100\n",
    "crime_anal_norm_sort = crime_anal_norm.sort_values(by='검거', ascending=False)\n",
    "crime_anal_norm_sort"
   ]
  },
  {
   "cell_type": "code",
   "execution_count": null,
   "metadata": {},
   "outputs": [],
   "source": [
    "target_col = ['강간검거율', '강도검거율', '살인검거율', '절도검거율', '폭력검거율']\n",
    "plt.figure(figsize = (10, 10))\n",
    "sns.heatmap(crime_anal_norm_sort[target_col], annot=True, fmt='f', linewidths=.5)\n",
    "plt.title('범죄 검거 비율(정규화된 검거의 합으로 정렬)')\n",
    "plt.show()"
   ]
  },
  {
   "cell_type": "code",
   "execution_count": null,
   "metadata": {},
   "outputs": [],
   "source": [
    "target_col = ['강간', '강도', '살인', '절도', '폭력', '범죄']\n",
    "crime_anal_norm['범죄'] = crime_anal_norm['범죄'] / 5\n",
    "crime_anal_norm_sort = crime_anal_norm.sort_values(by='범죄', ascending=False)\n",
    "plt.figure(figsize=(10, 10))\n",
    "sns.heatmap(crime_anal_norm_sort[target_col], annot=True, fmt='f', linewidths=.5)\n",
    "plt.title('범죄비율(정규화된 발생 건수로 정렬)')\n",
    "plt.show()"
   ]
  },
  {
   "cell_type": "code",
   "execution_count": null,
   "metadata": {},
   "outputs": [],
   "source": [
    "crime_anal_norm.to_csv('../data/02.crime_in_Seoul_final_20180315.csv',\n",
    "                       sep=',', encoding='utf=8')"
   ]
  },
  {
   "cell_type": "code",
   "execution_count": null,
   "metadata": {},
   "outputs": [],
   "source": [
    "import json\n",
    "geo_path = '../data/02.skorea_municipalities_geo_simple.json'\n",
    "geo_str = json.load(open(geo_path, encoding='utf-8'))\n",
    "geo_str"
   ]
  },
  {
   "cell_type": "code",
   "execution_count": null,
   "metadata": {},
   "outputs": [],
   "source": [
    "import folium\n",
    "map = folium.Map(location=[37.5502, 126.982], zoom_start=11,\n",
    "                 tiles='Stamen Toner')\n",
    "map.choropleth(geo_data = geo_str,\n",
    "               data = crime_anal_norm['살인'],\n",
    "               columns = [crime_anal_norm.index, crime_anal_norm['살인']],\n",
    "               fill_color = 'PuRd',\n",
    "               key_on = 'feature.id')\n",
    "map"
   ]
  },
  {
   "cell_type": "code",
   "execution_count": null,
   "metadata": {},
   "outputs": [],
   "source": [
    "import folium\n",
    "map = folium.Map(location=[37.5502, 126.982], zoom_start=11,\n",
    "                 tiles='Stamen Toner')\n",
    "map.choropleth(geo_data = geo_str,\n",
    "               data = crime_anal_norm['강간'],\n",
    "               columns = [crime_anal_norm.index, crime_anal_norm['강간']],\n",
    "               fill_color = 'PuRd',\n",
    "               key_on = 'feature.id')\n",
    "map"
   ]
  },
  {
   "cell_type": "code",
   "execution_count": null,
   "metadata": {},
   "outputs": [],
   "source": [
    "import folium\n",
    "map = folium.Map(location=[37.5502, 126.982], zoom_start=11,\n",
    "                 tiles='Stamen Toner')\n",
    "map.choropleth(geo_data = geo_str,\n",
    "               data = crime_anal_norm['범죄'],\n",
    "               columns = [crime_anal_norm.index, crime_anal_norm['범죄']],\n",
    "               fill_color = 'PuRd',\n",
    "               key_on = 'feature.id')\n",
    "map"
   ]
  },
  {
   "cell_type": "code",
   "execution_count": null,
   "metadata": {},
   "outputs": [],
   "source": [
    "tmp_criminal = crime_anal_norm['살인'] / crime_anal_norm['인구수'] * 1000000\n",
    "map = folium.Map(location=[37.5502, 126.982], zoom_start=11,\n",
    "                 tiles='Stamen Toner')\n",
    "map.choropleth(geo_data = geo_str,\n",
    "               data = tmp_criminal,\n",
    "               columns = [crime_anal.index, tmp_criminal],\n",
    "               fill_color = 'PuRd',\n",
    "               key_on = 'feature.id')\n",
    "map"
   ]
  },
  {
   "cell_type": "code",
   "execution_count": null,
   "metadata": {},
   "outputs": [],
   "source": [
    "crime_anal_raw['lat'] = df_station_geo_data_by_googlemaps['station_lat']\n",
    "crime_anal_raw['lng'] = df_station_geo_data_by_googlemaps['station_lng']"
   ]
  },
  {
   "cell_type": "code",
   "execution_count": null,
   "metadata": {},
   "outputs": [],
   "source": [
    "crime_anal_raw"
   ]
  },
  {
   "cell_type": "code",
   "execution_count": null,
   "metadata": {},
   "outputs": [],
   "source": [
    "col = ['살인 검거', '강도 검거', '강간 검거', '절도 검거', '폭력 검거']\n",
    "tmp = crime_anal_raw[col] / crime_anal_raw[col].max()\n",
    "crime_anal_raw['검거'] = np.sum(tmp, axis=1)\n",
    "crime_anal_raw.head()"
   ]
  },
  {
   "cell_type": "code",
   "execution_count": null,
   "metadata": {
    "scrolled": true
   },
   "outputs": [],
   "source": [
    "map = folium.Map(location=[37.5502, 126.982], zoom_start=11)\n",
    "\n",
    "for n in crime_anal_raw.index:\n",
    "    folium.Marker([crime_anal_raw['lat'][n], crime_anal_raw['lng'][n]]).add_to(map)\n",
    "map"
   ]
  },
  {
   "cell_type": "code",
   "execution_count": null,
   "metadata": {},
   "outputs": [],
   "source": [
    "map1 = folium.Map(location=[37.5502, 126.982], zoom_start=11)\n",
    "\n",
    "for n in crime_anal_raw.index:\n",
    "    folium.CircleMarker([crime_anal_raw['lat'][n], crime_anal_raw['lng'][n]],\n",
    "                        radius=int(crime_anal_raw['검거'][n]*10),\n",
    "                        color='#3186cc', fill_color='#3186cc', fill=True).add_to(map1)\n",
    "map1"
   ]
  },
  {
   "cell_type": "code",
   "execution_count": null,
   "metadata": {},
   "outputs": [],
   "source": [
    "map = folium.Map(location=[37.5502, 126.982], zoom_start=11)\n",
    "\n",
    "map.choropleth(geo_data = geo_str,\n",
    "               data = tmp_criminal,\n",
    "               columns = [crime_anal.index, tmp_criminal],\n",
    "               fill_color = 'PuRd',\n",
    "               key_on = 'feature.id')\n",
    "\n",
    "for n in crime_anal_raw.index:\n",
    "    folium.CircleMarker([crime_anal_raw['lat'][n], crime_anal_raw['lng'][n]],\n",
    "                        radius=int(crime_anal_raw['검거'][n]*10),\n",
    "                        color='#3186cc', fill_color='#3186cc', fill=True).add_to(map)\n",
    "\n",
    "map"
   ]
  },
  {
   "cell_type": "code",
   "execution_count": null,
   "metadata": {},
   "outputs": [],
   "source": []
  }
 ],
 "metadata": {
  "kernelspec": {
   "display_name": "Python 3",
   "language": "python",
   "name": "python3"
  },
  "language_info": {
   "codemirror_mode": {
    "name": "ipython",
    "version": 3
   },
   "file_extension": ".py",
   "mimetype": "text/x-python",
   "name": "python",
   "nbconvert_exporter": "python",
   "pygments_lexer": "ipython3",
   "version": "3.6.1"
  }
 },
 "nbformat": 4,
 "nbformat_minor": 2
}
