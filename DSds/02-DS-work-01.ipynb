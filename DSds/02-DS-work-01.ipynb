{
 "cells": [
  {
   "cell_type": "markdown",
   "metadata": {},
   "source": [
    "# TKX 피트니스를 더 개선시켜주세요.\n",
    "\n",
    "안녕하세요! TKX 피트니스 데이터분석팀입니다.\n",
    "\n",
    "저번 시간에 보여주신 훌륭한 데이터 분석력, 매우 감명받았습니다. 데이터를 깔끔히 정리하고 분석해주신 덕분에 저희의 업무량이 줄어든 것은 물론, 더 정량적인 분석이 가능해진 것 같습니다.\n",
    "\n",
    "그런 의미에서 새로운 업무를 맡길까 합니다. 저번 시간에 다뤘던 회원정보 데이터와 더불어, 이번 시간에는 1) 회원들의 개인 PT 정보와 2) 회원들의 체중 기록을 추가로 제공하겠습니다. 이 데이터를 데이터분석 패키지 판다스(Pandas)를 활용해 다음의 내용을 분석해주세요.\n",
    "\n",
    "[데이터는 다음의 URL [https://goo.gl/8XGH4T](https://goo.gl/8XGH4T) 에서 다운받을 수 있습니다. 데이터를 다운받아 읽어온 뒤, 하기에 적어놓은 내용대로 데이터를 분석 및 정리를 해주세요.]\n",
    "\n",
    "\n"
   ]
  },
  {
   "cell_type": "code",
   "execution_count": 1,
   "metadata": {},
   "outputs": [],
   "source": [
    "import numpy as np\n",
    "import pandas as pd\n",
    "from pandas import DataFrame, Series"
   ]
  },
  {
   "cell_type": "markdown",
   "metadata": {},
   "source": [
    "## 실습"
   ]
  },
  {
   "cell_type": "markdown",
   "metadata": {},
   "source": [
    "** 1. 2018년도 회원 데이터와, PT 데이터를 읽어오세요. **"
   ]
  },
  {
   "cell_type": "code",
   "execution_count": 5,
   "metadata": {},
   "outputs": [],
   "source": [
    "user_info = pd.read_csv('./data/tkx-user-data-2018.csv')"
   ]
  },
  {
   "cell_type": "code",
   "execution_count": 6,
   "metadata": {},
   "outputs": [
    {
     "data": {
      "text/html": [
       "<div>\n",
       "<style scoped>\n",
       "    .dataframe tbody tr th:only-of-type {\n",
       "        vertical-align: middle;\n",
       "    }\n",
       "\n",
       "    .dataframe tbody tr th {\n",
       "        vertical-align: top;\n",
       "    }\n",
       "\n",
       "    .dataframe thead th {\n",
       "        text-align: right;\n",
       "    }\n",
       "</style>\n",
       "<table border=\"1\" class=\"dataframe\">\n",
       "  <thead>\n",
       "    <tr style=\"text-align: right;\">\n",
       "      <th></th>\n",
       "      <th>이름</th>\n",
       "      <th>성별</th>\n",
       "      <th>전화번호</th>\n",
       "      <th>나이</th>\n",
       "      <th>현재 체중</th>\n",
       "      <th>목표 체중</th>\n",
       "      <th>키</th>\n",
       "      <th>회원 가입일</th>\n",
       "      <th>회원 정보 갱신일</th>\n",
       "      <th>흡연 여부</th>\n",
       "      <th>음주 여부</th>\n",
       "      <th>가입 개월 수</th>\n",
       "      <th>개인상담 요청</th>\n",
       "    </tr>\n",
       "  </thead>\n",
       "  <tbody>\n",
       "    <tr>\n",
       "      <th>0</th>\n",
       "      <td>문장우</td>\n",
       "      <td>남성</td>\n",
       "      <td>010-6677-7652</td>\n",
       "      <td>32</td>\n",
       "      <td>80</td>\n",
       "      <td>70</td>\n",
       "      <td>173</td>\n",
       "      <td>2018년 02월 09일</td>\n",
       "      <td>2018년 02월 09일</td>\n",
       "      <td>아니오</td>\n",
       "      <td>월 1회</td>\n",
       "      <td>6개월</td>\n",
       "      <td>아니요</td>\n",
       "    </tr>\n",
       "    <tr>\n",
       "      <th>1</th>\n",
       "      <td>황채아</td>\n",
       "      <td>여</td>\n",
       "      <td>010-7758-8785</td>\n",
       "      <td>NaN</td>\n",
       "      <td>55 kg</td>\n",
       "      <td>46 kg</td>\n",
       "      <td>170</td>\n",
       "      <td>2018년 02월 21일</td>\n",
       "      <td>2018년 02월 21일</td>\n",
       "      <td>아니오</td>\n",
       "      <td>월 2회</td>\n",
       "      <td>3개월</td>\n",
       "      <td>아니요</td>\n",
       "    </tr>\n",
       "    <tr>\n",
       "      <th>2</th>\n",
       "      <td>박서현</td>\n",
       "      <td>여성</td>\n",
       "      <td>01019295153</td>\n",
       "      <td>28</td>\n",
       "      <td>0</td>\n",
       "      <td>0</td>\n",
       "      <td>171</td>\n",
       "      <td>2018년 01월 03일</td>\n",
       "      <td>2018년 01월 03일</td>\n",
       "      <td>아니오</td>\n",
       "      <td>주 1회</td>\n",
       "      <td>0개월</td>\n",
       "      <td>예</td>\n",
       "    </tr>\n",
       "    <tr>\n",
       "      <th>3</th>\n",
       "      <td>최소윤</td>\n",
       "      <td>여</td>\n",
       "      <td>010-7785-1911</td>\n",
       "      <td>36</td>\n",
       "      <td>0</td>\n",
       "      <td>0</td>\n",
       "      <td>172</td>\n",
       "      <td>2018년 01월 31일</td>\n",
       "      <td>2018년 01월 31일</td>\n",
       "      <td>아니오</td>\n",
       "      <td>월 2회</td>\n",
       "      <td>0개월</td>\n",
       "      <td>예</td>\n",
       "    </tr>\n",
       "    <tr>\n",
       "      <th>4</th>\n",
       "      <td>백성준</td>\n",
       "      <td>남</td>\n",
       "      <td>010-5513-5523</td>\n",
       "      <td>37</td>\n",
       "      <td>23kg</td>\n",
       "      <td>16kg</td>\n",
       "      <td>174</td>\n",
       "      <td>2018년 02월 02일</td>\n",
       "      <td>2018년 02월 02일</td>\n",
       "      <td>아니오</td>\n",
       "      <td>주 1회</td>\n",
       "      <td>3개월</td>\n",
       "      <td>아니요</td>\n",
       "    </tr>\n",
       "  </tbody>\n",
       "</table>\n",
       "</div>"
      ],
      "text/plain": [
       "    이름  성별           전화번호   나이  현재 체중  목표 체중    키         회원 가입일  \\\n",
       "0  문장우  남성  010-6677-7652   32     80     70  173  2018년 02월 09일   \n",
       "1  황채아   여  010-7758-8785  NaN  55 kg  46 kg  170  2018년 02월 21일   \n",
       "2  박서현  여성    01019295153   28      0      0  171  2018년 01월 03일   \n",
       "3  최소윤   여  010-7785-1911   36      0      0  172  2018년 01월 31일   \n",
       "4  백성준   남  010-5513-5523   37   23kg   16kg  174  2018년 02월 02일   \n",
       "\n",
       "       회원 정보 갱신일 흡연 여부 음주 여부 가입 개월 수 개인상담 요청  \n",
       "0  2018년 02월 09일   아니오  월 1회     6개월     아니요  \n",
       "1  2018년 02월 21일   아니오  월 2회     3개월     아니요  \n",
       "2  2018년 01월 03일   아니오  주 1회     0개월       예  \n",
       "3  2018년 01월 31일   아니오  월 2회     0개월       예  \n",
       "4  2018년 02월 02일   아니오  주 1회     3개월     아니요  "
      ]
     },
     "execution_count": 6,
     "metadata": {},
     "output_type": "execute_result"
    }
   ],
   "source": [
    "user_info.head()"
   ]
  },
  {
   "cell_type": "code",
   "execution_count": 8,
   "metadata": {},
   "outputs": [
    {
     "data": {
      "text/plain": [
       "(21368, 13)"
      ]
     },
     "execution_count": 8,
     "metadata": {},
     "output_type": "execute_result"
    }
   ],
   "source": [
    "user_info.shape"
   ]
  },
  {
   "cell_type": "code",
   "execution_count": 11,
   "metadata": {},
   "outputs": [
    {
     "name": "stdout",
     "output_type": "stream",
     "text": [
      "<class 'pandas.core.frame.DataFrame'>\n",
      "RangeIndex: 21368 entries, 0 to 21367\n",
      "Data columns (total 13 columns):\n",
      "이름           21368 non-null object\n",
      "성별           21368 non-null object\n",
      "전화번호         21368 non-null object\n",
      "나이           19218 non-null object\n",
      "현재 체중        21368 non-null object\n",
      "목표 체중        21368 non-null object\n",
      "키            21368 non-null object\n",
      "회원 가입일       21368 non-null object\n",
      "회원 정보 갱신일    21368 non-null object\n",
      "흡연 여부        21368 non-null object\n",
      "음주 여부        21368 non-null object\n",
      "가입 개월 수      21368 non-null object\n",
      "개인상담 요청      21368 non-null object\n",
      "dtypes: object(13)\n",
      "memory usage: 1.1+ MB\n"
     ]
    }
   ],
   "source": [
    "user_info.info()"
   ]
  },
  {
   "cell_type": "markdown",
   "metadata": {},
   "source": [
    "- 데이터가 모두 object type. 정리가 필요하다."
   ]
  },
  {
   "cell_type": "code",
   "execution_count": 13,
   "metadata": {},
   "outputs": [],
   "source": [
    "pt_hist = pd.read_excel('./data/pt-history.xlsx')"
   ]
  },
  {
   "cell_type": "code",
   "execution_count": 14,
   "metadata": {},
   "outputs": [
    {
     "data": {
      "text/html": [
       "<div>\n",
       "<style scoped>\n",
       "    .dataframe tbody tr th:only-of-type {\n",
       "        vertical-align: middle;\n",
       "    }\n",
       "\n",
       "    .dataframe tbody tr th {\n",
       "        vertical-align: top;\n",
       "    }\n",
       "\n",
       "    .dataframe thead th {\n",
       "        text-align: right;\n",
       "    }\n",
       "</style>\n",
       "<table border=\"1\" class=\"dataframe\">\n",
       "  <thead>\n",
       "    <tr style=\"text-align: right;\">\n",
       "      <th></th>\n",
       "      <th>담당 선생님</th>\n",
       "      <th>수강일</th>\n",
       "      <th>이름</th>\n",
       "      <th>전화번호</th>\n",
       "      <th>회차</th>\n",
       "    </tr>\n",
       "  </thead>\n",
       "  <tbody>\n",
       "    <tr>\n",
       "      <th>0</th>\n",
       "      <td>황설희 선생님</td>\n",
       "      <td>2016년 01월 04일</td>\n",
       "      <td>이윤태</td>\n",
       "      <td>01058851494</td>\n",
       "      <td>1 회차</td>\n",
       "    </tr>\n",
       "    <tr>\n",
       "      <th>1</th>\n",
       "      <td>강현우 선생님</td>\n",
       "      <td>2016년 01월 04일</td>\n",
       "      <td>문동환</td>\n",
       "      <td>010-3495-5299</td>\n",
       "      <td>1 회차</td>\n",
       "    </tr>\n",
       "    <tr>\n",
       "      <th>2</th>\n",
       "      <td>홍동운 선생님</td>\n",
       "      <td>2016년 01월 04일</td>\n",
       "      <td>송은준</td>\n",
       "      <td>01029598386</td>\n",
       "      <td>1 회차</td>\n",
       "    </tr>\n",
       "    <tr>\n",
       "      <th>3</th>\n",
       "      <td>손성은 선생님</td>\n",
       "      <td>2016년 01월 04일</td>\n",
       "      <td>손민진</td>\n",
       "      <td>010-2757-6111</td>\n",
       "      <td>1 회차</td>\n",
       "    </tr>\n",
       "    <tr>\n",
       "      <th>4</th>\n",
       "      <td>문채안 선생님</td>\n",
       "      <td>2016년 01월 05일</td>\n",
       "      <td>신채연</td>\n",
       "      <td>01076274183</td>\n",
       "      <td>1 회차</td>\n",
       "    </tr>\n",
       "  </tbody>\n",
       "</table>\n",
       "</div>"
      ],
      "text/plain": [
       "    담당 선생님            수강일   이름           전화번호    회차\n",
       "0  황설희 선생님  2016년 01월 04일  이윤태    01058851494  1 회차\n",
       "1  강현우 선생님  2016년 01월 04일  문동환  010-3495-5299  1 회차\n",
       "2  홍동운 선생님  2016년 01월 04일  송은준    01029598386  1 회차\n",
       "3  손성은 선생님  2016년 01월 04일  손민진  010-2757-6111  1 회차\n",
       "4  문채안 선생님  2016년 01월 05일  신채연    01076274183  1 회차"
      ]
     },
     "execution_count": 14,
     "metadata": {},
     "output_type": "execute_result"
    }
   ],
   "source": [
    "pt_hist.head()"
   ]
  },
  {
   "cell_type": "code",
   "execution_count": 16,
   "metadata": {},
   "outputs": [
    {
     "data": {
      "text/plain": [
       "(428903, 5)"
      ]
     },
     "execution_count": 16,
     "metadata": {},
     "output_type": "execute_result"
    }
   ],
   "source": [
    "pt_hist.shape"
   ]
  },
  {
   "cell_type": "code",
   "execution_count": 15,
   "metadata": {},
   "outputs": [
    {
     "name": "stdout",
     "output_type": "stream",
     "text": [
      "<class 'pandas.core.frame.DataFrame'>\n",
      "RangeIndex: 428903 entries, 0 to 428902\n",
      "Data columns (total 5 columns):\n",
      "담당 선생님    428903 non-null object\n",
      "수강일       428903 non-null object\n",
      "이름        428903 non-null object\n",
      "전화번호      428903 non-null object\n",
      "회차        428903 non-null object\n",
      "dtypes: object(5)\n",
      "memory usage: 8.2+ MB\n"
     ]
    }
   ],
   "source": [
    "pt_hist.info()"
   ]
  },
  {
   "cell_type": "code",
   "execution_count": 50,
   "metadata": {},
   "outputs": [
    {
     "data": {
      "text/plain": [
       "400463"
      ]
     },
     "execution_count": 50,
     "metadata": {},
     "output_type": "execute_result"
    }
   ],
   "source": [
    "pt_hist.duplicated(['이름', '전화번호']).sum()"
   ]
  },
  {
   "cell_type": "code",
   "execution_count": 51,
   "metadata": {},
   "outputs": [
    {
     "data": {
      "text/plain": [
       "418748"
      ]
     },
     "execution_count": 51,
     "metadata": {},
     "output_type": "execute_result"
    }
   ],
   "source": [
    "pt_hist.duplicated(['이름']).sum()"
   ]
  },
  {
   "cell_type": "markdown",
   "metadata": {},
   "source": [
    "** 2. 이전 회원 데이터(2016 ~ 2017년)와 2018년도 회원 데이터를 하나로 합쳐주세요. **"
   ]
  },
  {
   "cell_type": "code",
   "execution_count": 17,
   "metadata": {},
   "outputs": [],
   "source": [
    "user_info_2016 = pd.read_csv('./data/tkx-user-data.csv')"
   ]
  },
  {
   "cell_type": "code",
   "execution_count": 18,
   "metadata": {},
   "outputs": [
    {
     "data": {
      "text/html": [
       "<div>\n",
       "<style scoped>\n",
       "    .dataframe tbody tr th:only-of-type {\n",
       "        vertical-align: middle;\n",
       "    }\n",
       "\n",
       "    .dataframe tbody tr th {\n",
       "        vertical-align: top;\n",
       "    }\n",
       "\n",
       "    .dataframe thead th {\n",
       "        text-align: right;\n",
       "    }\n",
       "</style>\n",
       "<table border=\"1\" class=\"dataframe\">\n",
       "  <thead>\n",
       "    <tr style=\"text-align: right;\">\n",
       "      <th></th>\n",
       "      <th>이름</th>\n",
       "      <th>성별</th>\n",
       "      <th>전화번호</th>\n",
       "      <th>나이</th>\n",
       "      <th>현재 체중</th>\n",
       "      <th>목표 체중</th>\n",
       "      <th>키</th>\n",
       "      <th>회원 가입일</th>\n",
       "      <th>회원 정보 갱신일</th>\n",
       "      <th>흡연 여부</th>\n",
       "      <th>음주 여부</th>\n",
       "      <th>가입 개월 수</th>\n",
       "      <th>개인상담 요청</th>\n",
       "    </tr>\n",
       "  </thead>\n",
       "  <tbody>\n",
       "    <tr>\n",
       "      <th>0</th>\n",
       "      <td>안원준</td>\n",
       "      <td>남성</td>\n",
       "      <td>010-2292-6251</td>\n",
       "      <td>31세</td>\n",
       "      <td>78</td>\n",
       "      <td>68</td>\n",
       "      <td>176</td>\n",
       "      <td>2016년 07월 05일</td>\n",
       "      <td>2016년 07월 05일</td>\n",
       "      <td>아니오</td>\n",
       "      <td>주 1회</td>\n",
       "      <td>0개월</td>\n",
       "      <td>아니요</td>\n",
       "    </tr>\n",
       "    <tr>\n",
       "      <th>1</th>\n",
       "      <td>유세아</td>\n",
       "      <td>여성</td>\n",
       "      <td>01045795881</td>\n",
       "      <td>39</td>\n",
       "      <td>56kg</td>\n",
       "      <td>51kg</td>\n",
       "      <td>172</td>\n",
       "      <td>2016년 10월 02일</td>\n",
       "      <td>2016년 11월 29일</td>\n",
       "      <td>예</td>\n",
       "      <td>월 1회</td>\n",
       "      <td>0개월</td>\n",
       "      <td>아니요</td>\n",
       "    </tr>\n",
       "    <tr>\n",
       "      <th>2</th>\n",
       "      <td>송솔은</td>\n",
       "      <td>여성</td>\n",
       "      <td>010-7719-8346</td>\n",
       "      <td>NaN</td>\n",
       "      <td>29</td>\n",
       "      <td>21</td>\n",
       "      <td>167</td>\n",
       "      <td>2017년 09월 06일</td>\n",
       "      <td>2017년 09월 06일</td>\n",
       "      <td>예</td>\n",
       "      <td>주 1회</td>\n",
       "      <td>0개월</td>\n",
       "      <td>아니요</td>\n",
       "    </tr>\n",
       "    <tr>\n",
       "      <th>3</th>\n",
       "      <td>백서원</td>\n",
       "      <td>여성</td>\n",
       "      <td>01011947169</td>\n",
       "      <td>36</td>\n",
       "      <td>67</td>\n",
       "      <td>65</td>\n",
       "      <td>0</td>\n",
       "      <td>2017년 06월 02일</td>\n",
       "      <td>2017년 07월 28일</td>\n",
       "      <td>예</td>\n",
       "      <td>안 마심</td>\n",
       "      <td>0개월</td>\n",
       "      <td>아니요</td>\n",
       "    </tr>\n",
       "    <tr>\n",
       "      <th>4</th>\n",
       "      <td>박서은</td>\n",
       "      <td>여성</td>\n",
       "      <td>010-2575-6398</td>\n",
       "      <td>42</td>\n",
       "      <td>60</td>\n",
       "      <td>57</td>\n",
       "      <td>167</td>\n",
       "      <td>2017년 05월 07일</td>\n",
       "      <td>2017년 05월 07일</td>\n",
       "      <td>아니오</td>\n",
       "      <td>안 마심</td>\n",
       "      <td>0개월</td>\n",
       "      <td>예</td>\n",
       "    </tr>\n",
       "  </tbody>\n",
       "</table>\n",
       "</div>"
      ],
      "text/plain": [
       "    이름  성별           전화번호   나이 현재 체중 목표 체중    키         회원 가입일      회원 정보 갱신일  \\\n",
       "0  안원준  남성  010-2292-6251  31세    78    68  176  2016년 07월 05일  2016년 07월 05일   \n",
       "1  유세아  여성    01045795881   39  56kg  51kg  172  2016년 10월 02일  2016년 11월 29일   \n",
       "2  송솔은  여성  010-7719-8346  NaN    29    21  167  2017년 09월 06일  2017년 09월 06일   \n",
       "3  백서원  여성    01011947169   36    67    65    0  2017년 06월 02일  2017년 07월 28일   \n",
       "4  박서은  여성  010-2575-6398   42    60    57  167  2017년 05월 07일  2017년 05월 07일   \n",
       "\n",
       "  흡연 여부 음주 여부 가입 개월 수 개인상담 요청  \n",
       "0   아니오  주 1회     0개월     아니요  \n",
       "1     예  월 1회     0개월     아니요  \n",
       "2     예  주 1회     0개월     아니요  \n",
       "3     예  안 마심     0개월     아니요  \n",
       "4   아니오  안 마심     0개월       예  "
      ]
     },
     "execution_count": 18,
     "metadata": {},
     "output_type": "execute_result"
    }
   ],
   "source": [
    "user_info_2016.head()"
   ]
  },
  {
   "cell_type": "code",
   "execution_count": 21,
   "metadata": {},
   "outputs": [
    {
     "data": {
      "text/plain": [
       "(106839, 13)"
      ]
     },
     "execution_count": 21,
     "metadata": {},
     "output_type": "execute_result"
    }
   ],
   "source": [
    "user_info_2016.shape"
   ]
  },
  {
   "cell_type": "code",
   "execution_count": 20,
   "metadata": {},
   "outputs": [
    {
     "name": "stdout",
     "output_type": "stream",
     "text": [
      "<class 'pandas.core.frame.DataFrame'>\n",
      "RangeIndex: 106839 entries, 0 to 106838\n",
      "Data columns (total 13 columns):\n",
      "이름           106839 non-null object\n",
      "성별           106839 non-null object\n",
      "전화번호         106839 non-null object\n",
      "나이           96199 non-null object\n",
      "현재 체중        106839 non-null object\n",
      "목표 체중        106839 non-null object\n",
      "키            106839 non-null object\n",
      "회원 가입일       106839 non-null object\n",
      "회원 정보 갱신일    106839 non-null object\n",
      "흡연 여부        106839 non-null object\n",
      "음주 여부        106839 non-null object\n",
      "가입 개월 수      106839 non-null object\n",
      "개인상담 요청      106839 non-null object\n",
      "dtypes: object(13)\n",
      "memory usage: 5.3+ MB\n"
     ]
    }
   ],
   "source": [
    "user_info_2016.info()"
   ]
  },
  {
   "cell_type": "code",
   "execution_count": 25,
   "metadata": {},
   "outputs": [],
   "source": [
    "users = pd.concat([user_info, user_info_2016])"
   ]
  },
  {
   "cell_type": "markdown",
   "metadata": {},
   "source": [
    "- concat() 메서드를 사용하면 key col을 사용하지 않고 단순히 데이터를 연결한다.\n",
    "- 기본적으로 위/아래로 데이터를 연결한다."
   ]
  },
  {
   "cell_type": "code",
   "execution_count": 26,
   "metadata": {},
   "outputs": [
    {
     "data": {
      "text/html": [
       "<div>\n",
       "<style scoped>\n",
       "    .dataframe tbody tr th:only-of-type {\n",
       "        vertical-align: middle;\n",
       "    }\n",
       "\n",
       "    .dataframe tbody tr th {\n",
       "        vertical-align: top;\n",
       "    }\n",
       "\n",
       "    .dataframe thead th {\n",
       "        text-align: right;\n",
       "    }\n",
       "</style>\n",
       "<table border=\"1\" class=\"dataframe\">\n",
       "  <thead>\n",
       "    <tr style=\"text-align: right;\">\n",
       "      <th></th>\n",
       "      <th>이름</th>\n",
       "      <th>성별</th>\n",
       "      <th>전화번호</th>\n",
       "      <th>나이</th>\n",
       "      <th>현재 체중</th>\n",
       "      <th>목표 체중</th>\n",
       "      <th>키</th>\n",
       "      <th>회원 가입일</th>\n",
       "      <th>회원 정보 갱신일</th>\n",
       "      <th>흡연 여부</th>\n",
       "      <th>음주 여부</th>\n",
       "      <th>가입 개월 수</th>\n",
       "      <th>개인상담 요청</th>\n",
       "    </tr>\n",
       "  </thead>\n",
       "  <tbody>\n",
       "    <tr>\n",
       "      <th>0</th>\n",
       "      <td>문장우</td>\n",
       "      <td>남성</td>\n",
       "      <td>010-6677-7652</td>\n",
       "      <td>32</td>\n",
       "      <td>80</td>\n",
       "      <td>70</td>\n",
       "      <td>173</td>\n",
       "      <td>2018년 02월 09일</td>\n",
       "      <td>2018년 02월 09일</td>\n",
       "      <td>아니오</td>\n",
       "      <td>월 1회</td>\n",
       "      <td>6개월</td>\n",
       "      <td>아니요</td>\n",
       "    </tr>\n",
       "    <tr>\n",
       "      <th>1</th>\n",
       "      <td>황채아</td>\n",
       "      <td>여</td>\n",
       "      <td>010-7758-8785</td>\n",
       "      <td>NaN</td>\n",
       "      <td>55 kg</td>\n",
       "      <td>46 kg</td>\n",
       "      <td>170</td>\n",
       "      <td>2018년 02월 21일</td>\n",
       "      <td>2018년 02월 21일</td>\n",
       "      <td>아니오</td>\n",
       "      <td>월 2회</td>\n",
       "      <td>3개월</td>\n",
       "      <td>아니요</td>\n",
       "    </tr>\n",
       "    <tr>\n",
       "      <th>2</th>\n",
       "      <td>박서현</td>\n",
       "      <td>여성</td>\n",
       "      <td>01019295153</td>\n",
       "      <td>28</td>\n",
       "      <td>0</td>\n",
       "      <td>0</td>\n",
       "      <td>171</td>\n",
       "      <td>2018년 01월 03일</td>\n",
       "      <td>2018년 01월 03일</td>\n",
       "      <td>아니오</td>\n",
       "      <td>주 1회</td>\n",
       "      <td>0개월</td>\n",
       "      <td>예</td>\n",
       "    </tr>\n",
       "    <tr>\n",
       "      <th>3</th>\n",
       "      <td>최소윤</td>\n",
       "      <td>여</td>\n",
       "      <td>010-7785-1911</td>\n",
       "      <td>36</td>\n",
       "      <td>0</td>\n",
       "      <td>0</td>\n",
       "      <td>172</td>\n",
       "      <td>2018년 01월 31일</td>\n",
       "      <td>2018년 01월 31일</td>\n",
       "      <td>아니오</td>\n",
       "      <td>월 2회</td>\n",
       "      <td>0개월</td>\n",
       "      <td>예</td>\n",
       "    </tr>\n",
       "    <tr>\n",
       "      <th>4</th>\n",
       "      <td>백성준</td>\n",
       "      <td>남</td>\n",
       "      <td>010-5513-5523</td>\n",
       "      <td>37</td>\n",
       "      <td>23kg</td>\n",
       "      <td>16kg</td>\n",
       "      <td>174</td>\n",
       "      <td>2018년 02월 02일</td>\n",
       "      <td>2018년 02월 02일</td>\n",
       "      <td>아니오</td>\n",
       "      <td>주 1회</td>\n",
       "      <td>3개월</td>\n",
       "      <td>아니요</td>\n",
       "    </tr>\n",
       "  </tbody>\n",
       "</table>\n",
       "</div>"
      ],
      "text/plain": [
       "    이름  성별           전화번호   나이  현재 체중  목표 체중    키         회원 가입일  \\\n",
       "0  문장우  남성  010-6677-7652   32     80     70  173  2018년 02월 09일   \n",
       "1  황채아   여  010-7758-8785  NaN  55 kg  46 kg  170  2018년 02월 21일   \n",
       "2  박서현  여성    01019295153   28      0      0  171  2018년 01월 03일   \n",
       "3  최소윤   여  010-7785-1911   36      0      0  172  2018년 01월 31일   \n",
       "4  백성준   남  010-5513-5523   37   23kg   16kg  174  2018년 02월 02일   \n",
       "\n",
       "       회원 정보 갱신일 흡연 여부 음주 여부 가입 개월 수 개인상담 요청  \n",
       "0  2018년 02월 09일   아니오  월 1회     6개월     아니요  \n",
       "1  2018년 02월 21일   아니오  월 2회     3개월     아니요  \n",
       "2  2018년 01월 03일   아니오  주 1회     0개월       예  \n",
       "3  2018년 01월 31일   아니오  월 2회     0개월       예  \n",
       "4  2018년 02월 02일   아니오  주 1회     3개월     아니요  "
      ]
     },
     "execution_count": 26,
     "metadata": {},
     "output_type": "execute_result"
    }
   ],
   "source": [
    "users.head()"
   ]
  },
  {
   "cell_type": "code",
   "execution_count": 27,
   "metadata": {},
   "outputs": [
    {
     "data": {
      "text/plain": [
       "(128207, 13)"
      ]
     },
     "execution_count": 27,
     "metadata": {},
     "output_type": "execute_result"
    }
   ],
   "source": [
    "users.shape"
   ]
  },
  {
   "cell_type": "code",
   "execution_count": 28,
   "metadata": {},
   "outputs": [
    {
     "data": {
      "text/plain": [
       "128207"
      ]
     },
     "execution_count": 28,
     "metadata": {},
     "output_type": "execute_result"
    }
   ],
   "source": [
    "user_info.shape[0] + user_info_2016.shape[0]"
   ]
  },
  {
   "cell_type": "code",
   "execution_count": 29,
   "metadata": {},
   "outputs": [
    {
     "name": "stdout",
     "output_type": "stream",
     "text": [
      "<class 'pandas.core.frame.DataFrame'>\n",
      "Int64Index: 128207 entries, 0 to 106838\n",
      "Data columns (total 13 columns):\n",
      "이름           128207 non-null object\n",
      "성별           128207 non-null object\n",
      "전화번호         128207 non-null object\n",
      "나이           115417 non-null object\n",
      "현재 체중        128207 non-null object\n",
      "목표 체중        128207 non-null object\n",
      "키            128207 non-null object\n",
      "회원 가입일       128207 non-null object\n",
      "회원 정보 갱신일    128207 non-null object\n",
      "흡연 여부        128207 non-null object\n",
      "음주 여부        128207 non-null object\n",
      "가입 개월 수      128207 non-null object\n",
      "개인상담 요청      128207 non-null object\n",
      "dtypes: object(13)\n",
      "memory usage: 7.3+ MB\n"
     ]
    }
   ],
   "source": [
    "users.info()"
   ]
  },
  {
   "cell_type": "code",
   "execution_count": null,
   "metadata": {},
   "outputs": [],
   "source": []
  },
  {
   "cell_type": "markdown",
   "metadata": {},
   "source": [
    "** 3. PT 데이터와 회원 데이터를 하나로 합쳐주세요. **"
   ]
  },
  {
   "cell_type": "code",
   "execution_count": 52,
   "metadata": {},
   "outputs": [],
   "source": [
    "pt_result = pd.merge(pt_hist, users, on=['이름', '전화번호'])"
   ]
  },
  {
   "cell_type": "code",
   "execution_count": 60,
   "metadata": {},
   "outputs": [
    {
     "data": {
      "text/html": [
       "<div>\n",
       "<style scoped>\n",
       "    .dataframe tbody tr th:only-of-type {\n",
       "        vertical-align: middle;\n",
       "    }\n",
       "\n",
       "    .dataframe tbody tr th {\n",
       "        vertical-align: top;\n",
       "    }\n",
       "\n",
       "    .dataframe thead th {\n",
       "        text-align: right;\n",
       "    }\n",
       "</style>\n",
       "<table border=\"1\" class=\"dataframe\">\n",
       "  <thead>\n",
       "    <tr style=\"text-align: right;\">\n",
       "      <th></th>\n",
       "      <th>담당 선생님</th>\n",
       "      <th>수강일</th>\n",
       "      <th>이름</th>\n",
       "      <th>전화번호</th>\n",
       "      <th>회차</th>\n",
       "      <th>성별</th>\n",
       "      <th>나이</th>\n",
       "      <th>현재 체중</th>\n",
       "      <th>목표 체중</th>\n",
       "      <th>키</th>\n",
       "      <th>회원 가입일</th>\n",
       "      <th>회원 정보 갱신일</th>\n",
       "      <th>흡연 여부</th>\n",
       "      <th>음주 여부</th>\n",
       "      <th>가입 개월 수</th>\n",
       "      <th>개인상담 요청</th>\n",
       "    </tr>\n",
       "  </thead>\n",
       "  <tbody>\n",
       "    <tr>\n",
       "      <th>0</th>\n",
       "      <td>황설희 선생님</td>\n",
       "      <td>2016년 01월 04일</td>\n",
       "      <td>이윤태</td>\n",
       "      <td>01058851494</td>\n",
       "      <td>1 회차</td>\n",
       "      <td>남성</td>\n",
       "      <td>30</td>\n",
       "      <td>84</td>\n",
       "      <td>82</td>\n",
       "      <td>181</td>\n",
       "      <td>2016년 01월 01일</td>\n",
       "      <td>2016년 02월 08일</td>\n",
       "      <td>아니오</td>\n",
       "      <td>주 2회</td>\n",
       "      <td>3개월</td>\n",
       "      <td>아니요</td>\n",
       "    </tr>\n",
       "    <tr>\n",
       "      <th>1</th>\n",
       "      <td>황설희 선생님</td>\n",
       "      <td>2016년 01월 11일</td>\n",
       "      <td>이윤태</td>\n",
       "      <td>01058851494</td>\n",
       "      <td>2 회차</td>\n",
       "      <td>남성</td>\n",
       "      <td>30</td>\n",
       "      <td>84</td>\n",
       "      <td>82</td>\n",
       "      <td>181</td>\n",
       "      <td>2016년 01월 01일</td>\n",
       "      <td>2016년 02월 08일</td>\n",
       "      <td>아니오</td>\n",
       "      <td>주 2회</td>\n",
       "      <td>3개월</td>\n",
       "      <td>아니요</td>\n",
       "    </tr>\n",
       "    <tr>\n",
       "      <th>2</th>\n",
       "      <td>황설희 선생님</td>\n",
       "      <td>2016년 01월 18일</td>\n",
       "      <td>이윤태</td>\n",
       "      <td>01058851494</td>\n",
       "      <td>3 회차</td>\n",
       "      <td>남성</td>\n",
       "      <td>30</td>\n",
       "      <td>84</td>\n",
       "      <td>82</td>\n",
       "      <td>181</td>\n",
       "      <td>2016년 01월 01일</td>\n",
       "      <td>2016년 02월 08일</td>\n",
       "      <td>아니오</td>\n",
       "      <td>주 2회</td>\n",
       "      <td>3개월</td>\n",
       "      <td>아니요</td>\n",
       "    </tr>\n",
       "    <tr>\n",
       "      <th>3</th>\n",
       "      <td>황설희 선생님</td>\n",
       "      <td>2016년 01월 25일</td>\n",
       "      <td>이윤태</td>\n",
       "      <td>01058851494</td>\n",
       "      <td>4 회차</td>\n",
       "      <td>남성</td>\n",
       "      <td>30</td>\n",
       "      <td>84</td>\n",
       "      <td>82</td>\n",
       "      <td>181</td>\n",
       "      <td>2016년 01월 01일</td>\n",
       "      <td>2016년 02월 08일</td>\n",
       "      <td>아니오</td>\n",
       "      <td>주 2회</td>\n",
       "      <td>3개월</td>\n",
       "      <td>아니요</td>\n",
       "    </tr>\n",
       "    <tr>\n",
       "      <th>4</th>\n",
       "      <td>황설희 선생님</td>\n",
       "      <td>2016년 02월 02일</td>\n",
       "      <td>이윤태</td>\n",
       "      <td>01058851494</td>\n",
       "      <td>5 회차</td>\n",
       "      <td>남성</td>\n",
       "      <td>30</td>\n",
       "      <td>84</td>\n",
       "      <td>82</td>\n",
       "      <td>181</td>\n",
       "      <td>2016년 01월 01일</td>\n",
       "      <td>2016년 02월 08일</td>\n",
       "      <td>아니오</td>\n",
       "      <td>주 2회</td>\n",
       "      <td>3개월</td>\n",
       "      <td>아니요</td>\n",
       "    </tr>\n",
       "  </tbody>\n",
       "</table>\n",
       "</div>"
      ],
      "text/plain": [
       "    담당 선생님            수강일   이름         전화번호    회차  성별  나이 현재 체중 목표 체중    키  \\\n",
       "0  황설희 선생님  2016년 01월 04일  이윤태  01058851494  1 회차  남성  30    84    82  181   \n",
       "1  황설희 선생님  2016년 01월 11일  이윤태  01058851494  2 회차  남성  30    84    82  181   \n",
       "2  황설희 선생님  2016년 01월 18일  이윤태  01058851494  3 회차  남성  30    84    82  181   \n",
       "3  황설희 선생님  2016년 01월 25일  이윤태  01058851494  4 회차  남성  30    84    82  181   \n",
       "4  황설희 선생님  2016년 02월 02일  이윤태  01058851494  5 회차  남성  30    84    82  181   \n",
       "\n",
       "          회원 가입일      회원 정보 갱신일 흡연 여부 음주 여부 가입 개월 수 개인상담 요청  \n",
       "0  2016년 01월 01일  2016년 02월 08일   아니오  주 2회     3개월     아니요  \n",
       "1  2016년 01월 01일  2016년 02월 08일   아니오  주 2회     3개월     아니요  \n",
       "2  2016년 01월 01일  2016년 02월 08일   아니오  주 2회     3개월     아니요  \n",
       "3  2016년 01월 01일  2016년 02월 08일   아니오  주 2회     3개월     아니요  \n",
       "4  2016년 01월 01일  2016년 02월 08일   아니오  주 2회     3개월     아니요  "
      ]
     },
     "execution_count": 60,
     "metadata": {},
     "output_type": "execute_result"
    }
   ],
   "source": [
    "pt_result.head()"
   ]
  },
  {
   "cell_type": "code",
   "execution_count": 61,
   "metadata": {},
   "outputs": [
    {
     "data": {
      "text/plain": [
       "(437645, 16)"
      ]
     },
     "execution_count": 61,
     "metadata": {},
     "output_type": "execute_result"
    }
   ],
   "source": [
    "pt_result.shape"
   ]
  },
  {
   "cell_type": "markdown",
   "metadata": {},
   "source": [
    "** 4. 3번 데이터에서 전체가 아닌 필요한 컬럼만 골라서 보고습니다. 다음의 컬럼만 골라서 출력해주세요. **\n",
    "\n",
    "  * 이름\n",
    "  * 성별\n",
    "  * 전화번호\n",
    "  * 현재 체중\n",
    "  * 목표 체중\n",
    "  * 담당 선생님"
   ]
  },
  {
   "cell_type": "code",
   "execution_count": 62,
   "metadata": {},
   "outputs": [],
   "source": [
    "columns = ['이름', '성별', '전화번호', '현재 체중', '목표 체중', '담당 선생님']\n",
    "pt_result2 = pt_result[columns]"
   ]
  },
  {
   "cell_type": "code",
   "execution_count": 64,
   "metadata": {},
   "outputs": [
    {
     "data": {
      "text/html": [
       "<div>\n",
       "<style scoped>\n",
       "    .dataframe tbody tr th:only-of-type {\n",
       "        vertical-align: middle;\n",
       "    }\n",
       "\n",
       "    .dataframe tbody tr th {\n",
       "        vertical-align: top;\n",
       "    }\n",
       "\n",
       "    .dataframe thead th {\n",
       "        text-align: right;\n",
       "    }\n",
       "</style>\n",
       "<table border=\"1\" class=\"dataframe\">\n",
       "  <thead>\n",
       "    <tr style=\"text-align: right;\">\n",
       "      <th></th>\n",
       "      <th>이름</th>\n",
       "      <th>성별</th>\n",
       "      <th>전화번호</th>\n",
       "      <th>현재 체중</th>\n",
       "      <th>목표 체중</th>\n",
       "      <th>담당 선생님</th>\n",
       "    </tr>\n",
       "  </thead>\n",
       "  <tbody>\n",
       "    <tr>\n",
       "      <th>0</th>\n",
       "      <td>이윤태</td>\n",
       "      <td>남성</td>\n",
       "      <td>01058851494</td>\n",
       "      <td>84</td>\n",
       "      <td>82</td>\n",
       "      <td>황설희 선생님</td>\n",
       "    </tr>\n",
       "    <tr>\n",
       "      <th>1</th>\n",
       "      <td>이윤태</td>\n",
       "      <td>남성</td>\n",
       "      <td>01058851494</td>\n",
       "      <td>84</td>\n",
       "      <td>82</td>\n",
       "      <td>황설희 선생님</td>\n",
       "    </tr>\n",
       "    <tr>\n",
       "      <th>2</th>\n",
       "      <td>이윤태</td>\n",
       "      <td>남성</td>\n",
       "      <td>01058851494</td>\n",
       "      <td>84</td>\n",
       "      <td>82</td>\n",
       "      <td>황설희 선생님</td>\n",
       "    </tr>\n",
       "    <tr>\n",
       "      <th>3</th>\n",
       "      <td>이윤태</td>\n",
       "      <td>남성</td>\n",
       "      <td>01058851494</td>\n",
       "      <td>84</td>\n",
       "      <td>82</td>\n",
       "      <td>황설희 선생님</td>\n",
       "    </tr>\n",
       "    <tr>\n",
       "      <th>4</th>\n",
       "      <td>이윤태</td>\n",
       "      <td>남성</td>\n",
       "      <td>01058851494</td>\n",
       "      <td>84</td>\n",
       "      <td>82</td>\n",
       "      <td>황설희 선생님</td>\n",
       "    </tr>\n",
       "  </tbody>\n",
       "</table>\n",
       "</div>"
      ],
      "text/plain": [
       "    이름  성별         전화번호 현재 체중 목표 체중   담당 선생님\n",
       "0  이윤태  남성  01058851494    84    82  황설희 선생님\n",
       "1  이윤태  남성  01058851494    84    82  황설희 선생님\n",
       "2  이윤태  남성  01058851494    84    82  황설희 선생님\n",
       "3  이윤태  남성  01058851494    84    82  황설희 선생님\n",
       "4  이윤태  남성  01058851494    84    82  황설희 선생님"
      ]
     },
     "execution_count": 64,
     "metadata": {},
     "output_type": "execute_result"
    }
   ],
   "source": [
    "pt_result2.head()"
   ]
  },
  {
   "cell_type": "code",
   "execution_count": 65,
   "metadata": {},
   "outputs": [
    {
     "data": {
      "text/plain": [
       "(437645, 6)"
      ]
     },
     "execution_count": 65,
     "metadata": {},
     "output_type": "execute_result"
    }
   ],
   "source": [
    "pt_result2.shape"
   ]
  },
  {
   "cell_type": "code",
   "execution_count": 66,
   "metadata": {},
   "outputs": [
    {
     "name": "stdout",
     "output_type": "stream",
     "text": [
      "<class 'pandas.core.frame.DataFrame'>\n",
      "Int64Index: 437645 entries, 0 to 437644\n",
      "Data columns (total 6 columns):\n",
      "이름        437645 non-null object\n",
      "성별        437645 non-null object\n",
      "전화번호      437645 non-null object\n",
      "현재 체중     437645 non-null object\n",
      "목표 체중     437645 non-null object\n",
      "담당 선생님    437645 non-null object\n",
      "dtypes: object(6)\n",
      "memory usage: 13.4+ MB\n"
     ]
    }
   ],
   "source": [
    "pt_result2.info()"
   ]
  },
  {
   "cell_type": "markdown",
   "metadata": {},
   "source": [
    "** 5. PT 담당 선생님만 추려서, 가장 PT를 많이 한 선생님 순으로 정렬해서 보여주세요. **"
   ]
  },
  {
   "cell_type": "code",
   "execution_count": 68,
   "metadata": {},
   "outputs": [
    {
     "data": {
      "text/plain": [
       "서슬희 선생님    902\n",
       "손성은 선생님    850\n",
       "장슬윤 선생님    825\n",
       "권소현 선생님    712\n",
       "최설희 선생님    711\n",
       "손준영 선생님    705\n",
       "안지율 선생님    700\n",
       "고준아 선생님    668\n",
       "장세희 선생님    668\n",
       "황수연 선생님    664\n",
       "Name: 담당 선생님, dtype: int64"
      ]
     },
     "execution_count": 68,
     "metadata": {},
     "output_type": "execute_result"
    }
   ],
   "source": [
    "pt_result2['담당 선생님'].value_counts().head(10)"
   ]
  },
  {
   "cell_type": "markdown",
   "metadata": {},
   "source": [
    "## 과제(초급)"
   ]
  },
  {
   "cell_type": "markdown",
   "metadata": {},
   "source": [
    "** 6. 회원분들의 체중 기록을 9개의 CSV에서 각각 읽어와주세요.**"
   ]
  },
  {
   "cell_type": "code",
   "execution_count": 8,
   "metadata": {
    "collapsed": true
   },
   "outputs": [],
   "source": [
    "# Write your code here!"
   ]
  },
  {
   "cell_type": "markdown",
   "metadata": {},
   "source": [
    "** 7. 회원 분들의 체중 기록을 DB에서 10개의 테이블에서 SQL로 각각 읽어와주세요. **"
   ]
  },
  {
   "cell_type": "code",
   "execution_count": 9,
   "metadata": {
    "collapsed": true
   },
   "outputs": [],
   "source": [
    "# Write your code here!"
   ]
  },
  {
   "cell_type": "markdown",
   "metadata": {},
   "source": [
    "** 8. 여러 데이터로 나뉘어져 있는 체중 기록을 하나로 합쳐주세요. **"
   ]
  },
  {
   "cell_type": "code",
   "execution_count": 10,
   "metadata": {
    "collapsed": true
   },
   "outputs": [],
   "source": [
    "# Write your code here!"
   ]
  },
  {
   "cell_type": "markdown",
   "metadata": {},
   "source": [
    "** 9. 체중 기록과 회원 데이터를 하나로 합쳐주세요. **"
   ]
  },
  {
   "cell_type": "code",
   "execution_count": 11,
   "metadata": {
    "collapsed": true
   },
   "outputs": [],
   "source": [
    "# Write your code here!"
   ]
  },
  {
   "cell_type": "markdown",
   "metadata": {},
   "source": [
    "** 10. 9번 데이터에서 현재 체중과 측정 체중이 가장 차이가 크게 나는 순으로 정렬해주세요. **"
   ]
  },
  {
   "cell_type": "code",
   "execution_count": 12,
   "metadata": {
    "collapsed": true
   },
   "outputs": [],
   "source": [
    "# Write your code here!"
   ]
  },
  {
   "cell_type": "markdown",
   "metadata": {},
   "source": [
    "## 과제(중급)"
   ]
  },
  {
   "cell_type": "markdown",
   "metadata": {},
   "source": [
    "** 11. 회원 - 체중 기록 데이터를 활용해 목표 체중을 달성한 사람만을 추려주세요. ** \n",
    "\n",
    "여기서 체중이 다시 올랐을 경우는 고려하지 않습니다. 즉, 그 사람의 체중이 가장 낮았을 때만 고려하면 됩니다."
   ]
  },
  {
   "cell_type": "code",
   "execution_count": 13,
   "metadata": {
    "collapsed": true
   },
   "outputs": [],
   "source": [
    "# Write your code here!"
   ]
  },
  {
   "cell_type": "markdown",
   "metadata": {},
   "source": [
    "** 12. 11번의 데이터를 활용해, 남성/여성별 목표 체중을 달성한 사람의 전체 인원수를 찾아주세요. ** "
   ]
  },
  {
   "cell_type": "code",
   "execution_count": 14,
   "metadata": {
    "collapsed": true
   },
   "outputs": [],
   "source": [
    "# Write your code here!"
   ]
  },
  {
   "cell_type": "markdown",
   "metadata": {},
   "source": [
    "** 13. 12번과 비슷하게, 흡연이 체중 감량에 미치는 영향을 알고 싶습니다. 흡연/비흡연자의 목표 체중을 달성한 사람들의 총 인원을 찾아주세요. **"
   ]
  },
  {
   "cell_type": "code",
   "execution_count": 15,
   "metadata": {
    "collapsed": true
   },
   "outputs": [],
   "source": [
    "# Write your code here!"
   ]
  },
  {
   "cell_type": "markdown",
   "metadata": {},
   "source": [
    "** 14. 매 월(1월 ~ 12월) 가장 PT를 많이 한 담당 선생님 Top 10을 찾아주세요. ** "
   ]
  },
  {
   "cell_type": "code",
   "execution_count": 16,
   "metadata": {
    "collapsed": true
   },
   "outputs": [],
   "source": [
    "# Write your code here!"
   ]
  },
  {
   "cell_type": "markdown",
   "metadata": {},
   "source": [
    "** 15. 2016 ~ 2018년도 기록을 모두 합쳐서 가장 많은 PT를 받은 수강생 + 선생님 조합의 Top 10을 찾아주세요. ** "
   ]
  },
  {
   "cell_type": "code",
   "execution_count": 17,
   "metadata": {
    "collapsed": true
   },
   "outputs": [],
   "source": [
    "# Write your code here!"
   ]
  },
  {
   "cell_type": "markdown",
   "metadata": {},
   "source": [
    "## 과제(고급)"
   ]
  },
  {
   "cell_type": "markdown",
   "metadata": {},
   "source": [
    "** 16. 사용자별 현재 체중과 더불어 체중과 1) 가장 최근에 측정한 체중, 2) 가장 낮았을 때의 체중을 찾아주세요. ** "
   ]
  },
  {
   "cell_type": "code",
   "execution_count": 18,
   "metadata": {
    "collapsed": true
   },
   "outputs": [],
   "source": [
    "# Write your code here!"
   ]
  },
  {
   "cell_type": "markdown",
   "metadata": {},
   "source": [
    "** 17. 체중 기록에서 단순히 그 날 측정한 체중 뿐만 아니라, 바로 이전에 측정한 체중과의 차이를 찾아주세요. ** "
   ]
  },
  {
   "cell_type": "code",
   "execution_count": 19,
   "metadata": {
    "collapsed": true
   },
   "outputs": [],
   "source": [
    "# Write your code here!"
   ]
  },
  {
   "cell_type": "markdown",
   "metadata": {},
   "source": [
    "** 18. 체중 감량을 많이 한 사람들을 대상으로 환급 프로그램을 적용하고 싶습니다. **\n",
    "\n",
    "현재 체중과 목표 체중과의 차이가 5kg 이상인 사람 중에서, 실제 목표를 달성한 사람만을 뽑아서 리스트업 해주세요."
   ]
  },
  {
   "cell_type": "code",
   "execution_count": 20,
   "metadata": {
    "collapsed": true
   },
   "outputs": [],
   "source": [
    "# Write your code here!"
   ]
  },
  {
   "cell_type": "markdown",
   "metadata": {},
   "source": [
    "** 19. 18번 데이터를 바탕으로, 사람들이 목표 체중을 달성하는데 평균적으로 며칠이 걸리는지를 계산해주세요. **"
   ]
  },
  {
   "cell_type": "code",
   "execution_count": 21,
   "metadata": {
    "collapsed": true
   },
   "outputs": [],
   "source": [
    "# Write your code here!"
   ]
  },
  {
   "cell_type": "markdown",
   "metadata": {},
   "source": [
    "** 20. 사람들이 헬스장에 가입한 이후, 매 주 평균적으로 얼만큼 감량하는지를 1주부터 10주까지 평균을 내서 보여주세요. **"
   ]
  },
  {
   "cell_type": "code",
   "execution_count": 22,
   "metadata": {
    "collapsed": true
   },
   "outputs": [],
   "source": [
    "# Write your code here!"
   ]
  }
 ],
 "metadata": {
  "kernelspec": {
   "display_name": "Python 3",
   "language": "python",
   "name": "python3"
  },
  "language_info": {
   "codemirror_mode": {
    "name": "ipython",
    "version": 3
   },
   "file_extension": ".py",
   "mimetype": "text/x-python",
   "name": "python",
   "nbconvert_exporter": "python",
   "pygments_lexer": "ipython3",
   "version": "3.6.4"
  }
 },
 "nbformat": 4,
 "nbformat_minor": 2
}
