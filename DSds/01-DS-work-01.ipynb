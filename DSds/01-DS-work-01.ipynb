{
 "cells": [
  {
   "cell_type": "markdown",
   "metadata": {},
   "source": [
    "## TKX 피트니스에 오신 것을 환영합니다!\n",
    "\n",
    "안녕하세요! TKX 피트니스 데이터분석팀에 오신 것을 환영합니다.\n",
    "\n",
    "TKX는 국내 최대의 프렌차이즈 피트니스 센터로서, 매월 수 천명에 달하는 신규 회원을 받아 데이터를 분석하고 있습니다.\n",
    "\n",
    "TKX 피트니스의 장점은 프로그래밍 언어 파이썬(Python)과 데이터 분석 프레임워크 판다스(Pandas)를 활용한 면밀한 데이터 분석입니다. 이 데이터 분석을 바탕으로 KTX의 오퍼레이션 팀 / 코칭 팀은 피트니스 센터에 방문하는 고객 분들, 그리고 방문하지 않는 고객 분들에게도 최선의 맞춤 서비스를 제공해 드리고 있습니다.\n",
    "\n",
    "오늘 이 노트북을 받은 분이 해주셔야 하는 일은 2016년도 1월부터 2017년도 12월까지의 신규 가입 고객 데이터를 받아와, 차후에 데이터분석을 더 용이하게 할 수 있도록 데이터를 정리해주는 작업, 일명 데이터 클리닝(Data Cleaning) 작업입니다.\n",
    "\n",
    "저희 TKX 피트니스는 언제나 잘 정리되어 있는 고객 정보를 받아서 데이터 분석팀에게 맡길려고 노력하고 있으나, (이 노트북을 받은 분들도 아시겠지만) 현실은 언제나 100% 잘 정리되어있는 데이터를 받아오기가 어렵습니다.\n",
    "\n",
    "때문에 이번 시간에는 신규 가입 고객 데이터를 분석하여, 데이터에 몇몇 누락된 부분이나 잘못 기입된 부분 등을 판다스로 정리하고 그 결과를 분석하는 일을 해주셨으면 합니다.\n",
    "\n",
    "데이터는 다음의 URL [https://goo.gl/8XGH4T](https://goo.gl/8XGH4T) 에서 다운받을 수 있습니다. 데이터를 다운받아 읽어온 뒤, 하기에 적어놓은 내용대로 데이터를 분석 및 정리를 해주세요.\n",
    "\n",
    "\n"
   ]
  },
  {
   "cell_type": "markdown",
   "metadata": {},
   "source": [
    "## Load Dataset"
   ]
  },
  {
   "cell_type": "code",
   "execution_count": 1,
   "metadata": {},
   "outputs": [],
   "source": [
    "import numpy as np\n",
    "import pandas as pd\n",
    "from pandas import DataFrame, Series"
   ]
  },
  {
   "cell_type": "code",
   "execution_count": 2,
   "metadata": {},
   "outputs": [],
   "source": [
    "user_info = pd.read_csv('./data/tkx-user-data.csv')"
   ]
  },
  {
   "cell_type": "code",
   "execution_count": 3,
   "metadata": {},
   "outputs": [
    {
     "data": {
      "text/html": [
       "<div>\n",
       "<style scoped>\n",
       "    .dataframe tbody tr th:only-of-type {\n",
       "        vertical-align: middle;\n",
       "    }\n",
       "\n",
       "    .dataframe tbody tr th {\n",
       "        vertical-align: top;\n",
       "    }\n",
       "\n",
       "    .dataframe thead th {\n",
       "        text-align: right;\n",
       "    }\n",
       "</style>\n",
       "<table border=\"1\" class=\"dataframe\">\n",
       "  <thead>\n",
       "    <tr style=\"text-align: right;\">\n",
       "      <th></th>\n",
       "      <th>이름</th>\n",
       "      <th>성별</th>\n",
       "      <th>전화번호</th>\n",
       "      <th>나이</th>\n",
       "      <th>현재 체중</th>\n",
       "      <th>목표 체중</th>\n",
       "      <th>키</th>\n",
       "      <th>회원 가입일</th>\n",
       "      <th>회원 정보 갱신일</th>\n",
       "      <th>흡연 여부</th>\n",
       "      <th>음주 여부</th>\n",
       "      <th>가입 개월 수</th>\n",
       "      <th>개인상담 요청</th>\n",
       "    </tr>\n",
       "  </thead>\n",
       "  <tbody>\n",
       "    <tr>\n",
       "      <th>0</th>\n",
       "      <td>안원준</td>\n",
       "      <td>남성</td>\n",
       "      <td>010-2292-6251</td>\n",
       "      <td>31세</td>\n",
       "      <td>78</td>\n",
       "      <td>68</td>\n",
       "      <td>176</td>\n",
       "      <td>2016년 07월 05일</td>\n",
       "      <td>2016년 07월 05일</td>\n",
       "      <td>아니오</td>\n",
       "      <td>주 1회</td>\n",
       "      <td>0개월</td>\n",
       "      <td>아니요</td>\n",
       "    </tr>\n",
       "    <tr>\n",
       "      <th>1</th>\n",
       "      <td>유세아</td>\n",
       "      <td>여성</td>\n",
       "      <td>01045795881</td>\n",
       "      <td>39</td>\n",
       "      <td>56kg</td>\n",
       "      <td>51kg</td>\n",
       "      <td>172</td>\n",
       "      <td>2016년 10월 02일</td>\n",
       "      <td>2016년 11월 29일</td>\n",
       "      <td>예</td>\n",
       "      <td>월 1회</td>\n",
       "      <td>0개월</td>\n",
       "      <td>아니요</td>\n",
       "    </tr>\n",
       "    <tr>\n",
       "      <th>2</th>\n",
       "      <td>송솔은</td>\n",
       "      <td>여성</td>\n",
       "      <td>010-7719-8346</td>\n",
       "      <td>NaN</td>\n",
       "      <td>29</td>\n",
       "      <td>21</td>\n",
       "      <td>167</td>\n",
       "      <td>2017년 09월 06일</td>\n",
       "      <td>2017년 09월 06일</td>\n",
       "      <td>예</td>\n",
       "      <td>주 1회</td>\n",
       "      <td>0개월</td>\n",
       "      <td>아니요</td>\n",
       "    </tr>\n",
       "    <tr>\n",
       "      <th>3</th>\n",
       "      <td>백서원</td>\n",
       "      <td>여성</td>\n",
       "      <td>01011947169</td>\n",
       "      <td>36</td>\n",
       "      <td>67</td>\n",
       "      <td>65</td>\n",
       "      <td>0</td>\n",
       "      <td>2017년 06월 02일</td>\n",
       "      <td>2017년 07월 28일</td>\n",
       "      <td>예</td>\n",
       "      <td>안 마심</td>\n",
       "      <td>0개월</td>\n",
       "      <td>아니요</td>\n",
       "    </tr>\n",
       "    <tr>\n",
       "      <th>4</th>\n",
       "      <td>박서은</td>\n",
       "      <td>여성</td>\n",
       "      <td>010-2575-6398</td>\n",
       "      <td>42</td>\n",
       "      <td>60</td>\n",
       "      <td>57</td>\n",
       "      <td>167</td>\n",
       "      <td>2017년 05월 07일</td>\n",
       "      <td>2017년 05월 07일</td>\n",
       "      <td>아니오</td>\n",
       "      <td>안 마심</td>\n",
       "      <td>0개월</td>\n",
       "      <td>예</td>\n",
       "    </tr>\n",
       "  </tbody>\n",
       "</table>\n",
       "</div>"
      ],
      "text/plain": [
       "    이름  성별           전화번호   나이 현재 체중 목표 체중    키         회원 가입일      회원 정보 갱신일  \\\n",
       "0  안원준  남성  010-2292-6251  31세    78    68  176  2016년 07월 05일  2016년 07월 05일   \n",
       "1  유세아  여성    01045795881   39  56kg  51kg  172  2016년 10월 02일  2016년 11월 29일   \n",
       "2  송솔은  여성  010-7719-8346  NaN    29    21  167  2017년 09월 06일  2017년 09월 06일   \n",
       "3  백서원  여성    01011947169   36    67    65    0  2017년 06월 02일  2017년 07월 28일   \n",
       "4  박서은  여성  010-2575-6398   42    60    57  167  2017년 05월 07일  2017년 05월 07일   \n",
       "\n",
       "  흡연 여부 음주 여부 가입 개월 수 개인상담 요청  \n",
       "0   아니오  주 1회     0개월     아니요  \n",
       "1     예  월 1회     0개월     아니요  \n",
       "2     예  주 1회     0개월     아니요  \n",
       "3     예  안 마심     0개월     아니요  \n",
       "4   아니오  안 마심     0개월       예  "
      ]
     },
     "execution_count": 3,
     "metadata": {},
     "output_type": "execute_result"
    }
   ],
   "source": [
    "user_info.head()"
   ]
  },
  {
   "cell_type": "code",
   "execution_count": 4,
   "metadata": {},
   "outputs": [
    {
     "data": {
      "text/plain": [
       "(106839, 13)"
      ]
     },
     "execution_count": 4,
     "metadata": {},
     "output_type": "execute_result"
    }
   ],
   "source": [
    "user_info.shape"
   ]
  },
  {
   "cell_type": "markdown",
   "metadata": {},
   "source": [
    "## 실습"
   ]
  },
  {
   "cell_type": "markdown",
   "metadata": {},
   "source": [
    "** 1. 텍스트로 된 흡연 여부(예/아니오)를 True/False 로 바꾸기 **"
   ]
  },
  {
   "cell_type": "code",
   "execution_count": 5,
   "metadata": {},
   "outputs": [
    {
     "data": {
      "text/plain": [
       "아니오    85468\n",
       "예      21371\n",
       "Name: 흡연 여부, dtype: int64"
      ]
     },
     "execution_count": 5,
     "metadata": {},
     "output_type": "execute_result"
    }
   ],
   "source": [
    "# 흡연 여부 col이 어떻게 생겼는지 확인한다.\n",
    "user_info['흡연 여부'].value_counts()"
   ]
  },
  {
   "cell_type": "code",
   "execution_count": 6,
   "metadata": {},
   "outputs": [
    {
     "data": {
      "text/plain": [
       "array(['아니오', '예'], dtype=object)"
      ]
     },
     "execution_count": 6,
     "metadata": {},
     "output_type": "execute_result"
    }
   ],
   "source": [
    "# 흡연 여부 col이 어떻게 생겼는지 확인한다.\n",
    "user_info['흡연 여부'].unique()"
   ]
  },
  {
   "cell_type": "code",
   "execution_count": 7,
   "metadata": {},
   "outputs": [],
   "source": [
    "# '흡연 여부' 의 value == '예' 이면 True, 아니면 False\n",
    "user_info['흡연 여부'] = user_info['흡연 여부'] == '예'"
   ]
  },
  {
   "cell_type": "code",
   "execution_count": 8,
   "metadata": {},
   "outputs": [
    {
     "data": {
      "text/plain": [
       "False    85468\n",
       "True     21371\n",
       "Name: 흡연 여부, dtype: int64"
      ]
     },
     "execution_count": 8,
     "metadata": {},
     "output_type": "execute_result"
    }
   ],
   "source": [
    "# 잘 적용되었는지 확인\n",
    "user_info['흡연 여부'].value_counts()"
   ]
  },
  {
   "cell_type": "code",
   "execution_count": 9,
   "metadata": {},
   "outputs": [
    {
     "data": {
      "text/html": [
       "<div>\n",
       "<style scoped>\n",
       "    .dataframe tbody tr th:only-of-type {\n",
       "        vertical-align: middle;\n",
       "    }\n",
       "\n",
       "    .dataframe tbody tr th {\n",
       "        vertical-align: top;\n",
       "    }\n",
       "\n",
       "    .dataframe thead th {\n",
       "        text-align: right;\n",
       "    }\n",
       "</style>\n",
       "<table border=\"1\" class=\"dataframe\">\n",
       "  <thead>\n",
       "    <tr style=\"text-align: right;\">\n",
       "      <th></th>\n",
       "      <th>이름</th>\n",
       "      <th>성별</th>\n",
       "      <th>전화번호</th>\n",
       "      <th>나이</th>\n",
       "      <th>현재 체중</th>\n",
       "      <th>목표 체중</th>\n",
       "      <th>키</th>\n",
       "      <th>회원 가입일</th>\n",
       "      <th>회원 정보 갱신일</th>\n",
       "      <th>흡연 여부</th>\n",
       "      <th>음주 여부</th>\n",
       "      <th>가입 개월 수</th>\n",
       "      <th>개인상담 요청</th>\n",
       "    </tr>\n",
       "  </thead>\n",
       "  <tbody>\n",
       "    <tr>\n",
       "      <th>0</th>\n",
       "      <td>안원준</td>\n",
       "      <td>남성</td>\n",
       "      <td>010-2292-6251</td>\n",
       "      <td>31세</td>\n",
       "      <td>78</td>\n",
       "      <td>68</td>\n",
       "      <td>176</td>\n",
       "      <td>2016년 07월 05일</td>\n",
       "      <td>2016년 07월 05일</td>\n",
       "      <td>False</td>\n",
       "      <td>주 1회</td>\n",
       "      <td>0개월</td>\n",
       "      <td>아니요</td>\n",
       "    </tr>\n",
       "    <tr>\n",
       "      <th>1</th>\n",
       "      <td>유세아</td>\n",
       "      <td>여성</td>\n",
       "      <td>01045795881</td>\n",
       "      <td>39</td>\n",
       "      <td>56kg</td>\n",
       "      <td>51kg</td>\n",
       "      <td>172</td>\n",
       "      <td>2016년 10월 02일</td>\n",
       "      <td>2016년 11월 29일</td>\n",
       "      <td>True</td>\n",
       "      <td>월 1회</td>\n",
       "      <td>0개월</td>\n",
       "      <td>아니요</td>\n",
       "    </tr>\n",
       "    <tr>\n",
       "      <th>2</th>\n",
       "      <td>송솔은</td>\n",
       "      <td>여성</td>\n",
       "      <td>010-7719-8346</td>\n",
       "      <td>NaN</td>\n",
       "      <td>29</td>\n",
       "      <td>21</td>\n",
       "      <td>167</td>\n",
       "      <td>2017년 09월 06일</td>\n",
       "      <td>2017년 09월 06일</td>\n",
       "      <td>True</td>\n",
       "      <td>주 1회</td>\n",
       "      <td>0개월</td>\n",
       "      <td>아니요</td>\n",
       "    </tr>\n",
       "    <tr>\n",
       "      <th>3</th>\n",
       "      <td>백서원</td>\n",
       "      <td>여성</td>\n",
       "      <td>01011947169</td>\n",
       "      <td>36</td>\n",
       "      <td>67</td>\n",
       "      <td>65</td>\n",
       "      <td>0</td>\n",
       "      <td>2017년 06월 02일</td>\n",
       "      <td>2017년 07월 28일</td>\n",
       "      <td>True</td>\n",
       "      <td>안 마심</td>\n",
       "      <td>0개월</td>\n",
       "      <td>아니요</td>\n",
       "    </tr>\n",
       "    <tr>\n",
       "      <th>4</th>\n",
       "      <td>박서은</td>\n",
       "      <td>여성</td>\n",
       "      <td>010-2575-6398</td>\n",
       "      <td>42</td>\n",
       "      <td>60</td>\n",
       "      <td>57</td>\n",
       "      <td>167</td>\n",
       "      <td>2017년 05월 07일</td>\n",
       "      <td>2017년 05월 07일</td>\n",
       "      <td>False</td>\n",
       "      <td>안 마심</td>\n",
       "      <td>0개월</td>\n",
       "      <td>예</td>\n",
       "    </tr>\n",
       "  </tbody>\n",
       "</table>\n",
       "</div>"
      ],
      "text/plain": [
       "    이름  성별           전화번호   나이 현재 체중 목표 체중    키         회원 가입일      회원 정보 갱신일  \\\n",
       "0  안원준  남성  010-2292-6251  31세    78    68  176  2016년 07월 05일  2016년 07월 05일   \n",
       "1  유세아  여성    01045795881   39  56kg  51kg  172  2016년 10월 02일  2016년 11월 29일   \n",
       "2  송솔은  여성  010-7719-8346  NaN    29    21  167  2017년 09월 06일  2017년 09월 06일   \n",
       "3  백서원  여성    01011947169   36    67    65    0  2017년 06월 02일  2017년 07월 28일   \n",
       "4  박서은  여성  010-2575-6398   42    60    57  167  2017년 05월 07일  2017년 05월 07일   \n",
       "\n",
       "   흡연 여부 음주 여부 가입 개월 수 개인상담 요청  \n",
       "0  False  주 1회     0개월     아니요  \n",
       "1   True  월 1회     0개월     아니요  \n",
       "2   True  주 1회     0개월     아니요  \n",
       "3   True  안 마심     0개월     아니요  \n",
       "4  False  안 마심     0개월       예  "
      ]
     },
     "execution_count": 9,
     "metadata": {},
     "output_type": "execute_result"
    }
   ],
   "source": [
    "# DataFrame 확인\n",
    "user_info.head()"
   ]
  },
  {
   "cell_type": "markdown",
   "metadata": {},
   "source": [
    "** 2. 나이에서 0세라고 되어있는 것을 NaN으로 바꾸기 **"
   ]
  },
  {
   "cell_type": "markdown",
   "metadata": {},
   "source": [
    "- 0인 항목을 찾기 위해 value_counts() 메소드를 이용했는데 이걸로는 확인하기 어려웠다."
   ]
  },
  {
   "cell_type": "code",
   "execution_count": 10,
   "metadata": {},
   "outputs": [
    {
     "data": {
      "text/html": [
       "<div>\n",
       "<style scoped>\n",
       "    .dataframe tbody tr th:only-of-type {\n",
       "        vertical-align: middle;\n",
       "    }\n",
       "\n",
       "    .dataframe tbody tr th {\n",
       "        vertical-align: top;\n",
       "    }\n",
       "\n",
       "    .dataframe thead th {\n",
       "        text-align: right;\n",
       "    }\n",
       "</style>\n",
       "<table border=\"1\" class=\"dataframe\">\n",
       "  <thead>\n",
       "    <tr style=\"text-align: right;\">\n",
       "      <th></th>\n",
       "      <th>이름</th>\n",
       "      <th>성별</th>\n",
       "      <th>전화번호</th>\n",
       "      <th>나이</th>\n",
       "      <th>현재 체중</th>\n",
       "      <th>목표 체중</th>\n",
       "      <th>키</th>\n",
       "      <th>회원 가입일</th>\n",
       "      <th>회원 정보 갱신일</th>\n",
       "      <th>흡연 여부</th>\n",
       "      <th>음주 여부</th>\n",
       "      <th>가입 개월 수</th>\n",
       "      <th>개인상담 요청</th>\n",
       "    </tr>\n",
       "  </thead>\n",
       "  <tbody>\n",
       "  </tbody>\n",
       "</table>\n",
       "</div>"
      ],
      "text/plain": [
       "Empty DataFrame\n",
       "Columns: [이름, 성별, 전화번호, 나이, 현재 체중, 목표 체중, 키, 회원 가입일, 회원 정보 갱신일, 흡연 여부, 음주 여부, 가입 개월 수, 개인상담 요청]\n",
       "Index: []"
      ]
     },
     "execution_count": 10,
     "metadata": {},
     "output_type": "execute_result"
    }
   ],
   "source": [
    "user_info[user_info['나이'] == 0]"
   ]
  },
  {
   "cell_type": "markdown",
   "metadata": {},
   "source": [
    "- 나이가 0인 항목이 없는데?"
   ]
  },
  {
   "cell_type": "markdown",
   "metadata": {},
   "source": [
    "** 3. 나이 컬럼을 정리하기 **"
   ]
  },
  {
   "cell_type": "code",
   "execution_count": 11,
   "metadata": {},
   "outputs": [
    {
     "data": {
      "text/plain": [
       "array(['31세', '39', nan, '36', '42', '32', '27', '29', '37', '37세', '34',\n",
       "       '40', '33 세', '35', '30', '28', '50', '43', '31', '27세', '20',\n",
       "       '36세', '22', '33세', '33', '25', '38', '23', '38 세', '26', '34 세',\n",
       "       '2', '31 세', '35 세', '49', '41', '24', '44', '39세', '105', '118',\n",
       "       '36 세', '5', '28 세', '37 세', '19', '32 세', '21', '25 세', '42세',\n",
       "       '44세', '46', '24 세', '85', '26 세', '39 세', '43세', '47', '82',\n",
       "       '38세', '45세', '30 세', '19세', '32세', '20세', '116', '40세', '34세',\n",
       "       '6', '6 세', '47세', '16', '81', '30세', '24세', '45', '18', '20 세',\n",
       "       '42 세', '26세', '27 세', '35세', '110', '4', '8', '21 세', '115',\n",
       "       '25세', '28세', '29세', '7', '80세', '21세', '3', '96 세', '23 세', '15',\n",
       "       '119', '14', '29 세', '5세', '91', '44 세', '112', '40 세', '109',\n",
       "       '17', '92', '51', '16세', '94', '22 세', '41세', '5 세', '41 세', '48',\n",
       "       '102', '22세', '114', '84', '106', '50세', '96', '87', '95', '23세',\n",
       "       '49세', '8 세', '111', '46세', '101', '97세', '7 세', '112세', '113',\n",
       "       '7세', '86', '43 세', '107', '97', '46 세', '45 세', '3세', '19 세',\n",
       "       '90', '103', '4 세', '117', '92 세', '88', '100', '108', '13',\n",
       "       '107 세', '80', '90세', '50 세', '99', '104', '47 세', '93', '98',\n",
       "       '110세', '108 세', '3 세', '87 세', '101세', '52', '109 세', '48세',\n",
       "       '94세', '18 세', '16 세', '18세', '114세', '92세', '8세', '83', '2 세',\n",
       "       '107세', '80 세', '2세', '4세', '103 세', '53', '110 세', '89', '119세',\n",
       "       '99세', '82세', '91 세', '84 세', '17세', '104세', '85세', '113세', '17 세',\n",
       "       '119 세', '86세', '91세', '6세', '49 세', '102 세', '13 세', '48 세',\n",
       "       '52세', '101 세', '117세', '94 세', '11', '54', '104 세', '89세', '116세',\n",
       "       '87세', '88세', '89 세', '12', '98세', '90 세', '103세', '106 세', '15세',\n",
       "       '97 세', '112 세', '81 세', '100 세', '95세', '81세', '85 세', '93세',\n",
       "       '100세', '105 세', '118세', '116 세', '105세', '111 세', '106세', '98 세',\n",
       "       '88 세', '109세'], dtype=object)"
      ]
     },
     "execution_count": 11,
     "metadata": {},
     "output_type": "execute_result"
    }
   ],
   "source": [
    "# 데이터 확인\n",
    "user_info['나이'].unique()"
   ]
  },
  {
   "cell_type": "code",
   "execution_count": 12,
   "metadata": {},
   "outputs": [],
   "source": [
    "# 수치 col에 불필요한 데이터를 제거하거나 변경한다.\n",
    "def clean_num_col(old, new):\n",
    "    def wrapper(data):\n",
    "        if type(data) is str:\n",
    "            num = data.replace(old, new)\n",
    "            return int(num)\n",
    "        return data\n",
    "    return wrapper"
   ]
  },
  {
   "cell_type": "code",
   "execution_count": 13,
   "metadata": {},
   "outputs": [],
   "source": [
    "clean_age = clean_num_col('세', '')\n",
    "user_info['나이'] = user_info['나이'].map(clean_age)"
   ]
  },
  {
   "cell_type": "code",
   "execution_count": 14,
   "metadata": {},
   "outputs": [
    {
     "data": {
      "text/plain": [
       "array([ 31.,  39.,  nan,  36.,  42.,  32.,  27.,  29.,  37.,  34.,  40.,\n",
       "        33.,  35.,  30.,  28.,  50.,  43.,  20.,  22.,  25.,  38.,  23.,\n",
       "        26.,   2.,  49.,  41.,  24.,  44., 105., 118.,   5.,  19.,  21.,\n",
       "        46.,  85.,  47.,  82.,  45., 116.,   6.,  16.,  81.,  18., 110.,\n",
       "         4.,   8., 115.,   7.,  80.,   3.,  96.,  15., 119.,  14.,  91.,\n",
       "       112., 109.,  17.,  92.,  51.,  94.,  48., 102., 114.,  84., 106.,\n",
       "        87.,  95., 111., 101.,  97., 113.,  86., 107.,  90., 103., 117.,\n",
       "        88., 100., 108.,  13.,  99., 104.,  93.,  98.,  52.,  83.,  53.,\n",
       "        89.,  11.,  54.,  12.])"
      ]
     },
     "execution_count": 14,
     "metadata": {},
     "output_type": "execute_result"
    }
   ],
   "source": [
    "user_info['나이'].unique()"
   ]
  },
  {
   "cell_type": "code",
   "execution_count": 15,
   "metadata": {},
   "outputs": [],
   "source": [
    "# map, apply 어떤 메서드를 사용하여도 상관없다.\n",
    "age = user_info['나이'].apply(clean_age)"
   ]
  },
  {
   "cell_type": "code",
   "execution_count": 16,
   "metadata": {},
   "outputs": [
    {
     "data": {
      "text/plain": [
       "array([ 31.,  39.,  nan,  36.,  42.,  32.,  27.,  29.,  37.,  34.,  40.,\n",
       "        33.,  35.,  30.,  28.,  50.,  43.,  20.,  22.,  25.,  38.,  23.,\n",
       "        26.,   2.,  49.,  41.,  24.,  44., 105., 118.,   5.,  19.,  21.,\n",
       "        46.,  85.,  47.,  82.,  45., 116.,   6.,  16.,  81.,  18., 110.,\n",
       "         4.,   8., 115.,   7.,  80.,   3.,  96.,  15., 119.,  14.,  91.,\n",
       "       112., 109.,  17.,  92.,  51.,  94.,  48., 102., 114.,  84., 106.,\n",
       "        87.,  95., 111., 101.,  97., 113.,  86., 107.,  90., 103., 117.,\n",
       "        88., 100., 108.,  13.,  99., 104.,  93.,  98.,  52.,  83.,  53.,\n",
       "        89.,  11.,  54.,  12.])"
      ]
     },
     "execution_count": 16,
     "metadata": {},
     "output_type": "execute_result"
    }
   ],
   "source": [
    "age.unique()"
   ]
  },
  {
   "cell_type": "markdown",
   "metadata": {},
   "source": [
    "** 4. 평균(mean) / 최소(min) / 최대(max) 나이 구하기 **"
   ]
  },
  {
   "cell_type": "code",
   "execution_count": 17,
   "metadata": {},
   "outputs": [
    {
     "data": {
      "text/plain": [
       "(33.29973284545577, 2.0, 119.0)"
      ]
     },
     "execution_count": 17,
     "metadata": {},
     "output_type": "execute_result"
    }
   ],
   "source": [
    "age = user_info['나이']\n",
    "(age.mean(), age.min(), age.max())"
   ]
  },
  {
   "cell_type": "markdown",
   "metadata": {},
   "source": [
    "** 5. 컬럼의 순서를 조금 더 직관적으로 바꾸기 **"
   ]
  },
  {
   "cell_type": "code",
   "execution_count": 18,
   "metadata": {},
   "outputs": [
    {
     "data": {
      "text/html": [
       "<div>\n",
       "<style scoped>\n",
       "    .dataframe tbody tr th:only-of-type {\n",
       "        vertical-align: middle;\n",
       "    }\n",
       "\n",
       "    .dataframe tbody tr th {\n",
       "        vertical-align: top;\n",
       "    }\n",
       "\n",
       "    .dataframe thead th {\n",
       "        text-align: right;\n",
       "    }\n",
       "</style>\n",
       "<table border=\"1\" class=\"dataframe\">\n",
       "  <thead>\n",
       "    <tr style=\"text-align: right;\">\n",
       "      <th></th>\n",
       "      <th>이름</th>\n",
       "      <th>성별</th>\n",
       "      <th>전화번호</th>\n",
       "      <th>나이</th>\n",
       "      <th>현재 체중</th>\n",
       "      <th>목표 체중</th>\n",
       "      <th>키</th>\n",
       "      <th>회원 가입일</th>\n",
       "      <th>회원 정보 갱신일</th>\n",
       "      <th>흡연 여부</th>\n",
       "      <th>음주 여부</th>\n",
       "      <th>가입 개월 수</th>\n",
       "      <th>개인상담 요청</th>\n",
       "    </tr>\n",
       "  </thead>\n",
       "  <tbody>\n",
       "    <tr>\n",
       "      <th>0</th>\n",
       "      <td>안원준</td>\n",
       "      <td>남성</td>\n",
       "      <td>010-2292-6251</td>\n",
       "      <td>31.0</td>\n",
       "      <td>78</td>\n",
       "      <td>68</td>\n",
       "      <td>176</td>\n",
       "      <td>2016년 07월 05일</td>\n",
       "      <td>2016년 07월 05일</td>\n",
       "      <td>False</td>\n",
       "      <td>주 1회</td>\n",
       "      <td>0개월</td>\n",
       "      <td>아니요</td>\n",
       "    </tr>\n",
       "    <tr>\n",
       "      <th>1</th>\n",
       "      <td>유세아</td>\n",
       "      <td>여성</td>\n",
       "      <td>01045795881</td>\n",
       "      <td>39.0</td>\n",
       "      <td>56kg</td>\n",
       "      <td>51kg</td>\n",
       "      <td>172</td>\n",
       "      <td>2016년 10월 02일</td>\n",
       "      <td>2016년 11월 29일</td>\n",
       "      <td>True</td>\n",
       "      <td>월 1회</td>\n",
       "      <td>0개월</td>\n",
       "      <td>아니요</td>\n",
       "    </tr>\n",
       "    <tr>\n",
       "      <th>2</th>\n",
       "      <td>송솔은</td>\n",
       "      <td>여성</td>\n",
       "      <td>010-7719-8346</td>\n",
       "      <td>NaN</td>\n",
       "      <td>29</td>\n",
       "      <td>21</td>\n",
       "      <td>167</td>\n",
       "      <td>2017년 09월 06일</td>\n",
       "      <td>2017년 09월 06일</td>\n",
       "      <td>True</td>\n",
       "      <td>주 1회</td>\n",
       "      <td>0개월</td>\n",
       "      <td>아니요</td>\n",
       "    </tr>\n",
       "    <tr>\n",
       "      <th>3</th>\n",
       "      <td>백서원</td>\n",
       "      <td>여성</td>\n",
       "      <td>01011947169</td>\n",
       "      <td>36.0</td>\n",
       "      <td>67</td>\n",
       "      <td>65</td>\n",
       "      <td>0</td>\n",
       "      <td>2017년 06월 02일</td>\n",
       "      <td>2017년 07월 28일</td>\n",
       "      <td>True</td>\n",
       "      <td>안 마심</td>\n",
       "      <td>0개월</td>\n",
       "      <td>아니요</td>\n",
       "    </tr>\n",
       "    <tr>\n",
       "      <th>4</th>\n",
       "      <td>박서은</td>\n",
       "      <td>여성</td>\n",
       "      <td>010-2575-6398</td>\n",
       "      <td>42.0</td>\n",
       "      <td>60</td>\n",
       "      <td>57</td>\n",
       "      <td>167</td>\n",
       "      <td>2017년 05월 07일</td>\n",
       "      <td>2017년 05월 07일</td>\n",
       "      <td>False</td>\n",
       "      <td>안 마심</td>\n",
       "      <td>0개월</td>\n",
       "      <td>예</td>\n",
       "    </tr>\n",
       "  </tbody>\n",
       "</table>\n",
       "</div>"
      ],
      "text/plain": [
       "    이름  성별           전화번호    나이 현재 체중 목표 체중    키         회원 가입일  \\\n",
       "0  안원준  남성  010-2292-6251  31.0    78    68  176  2016년 07월 05일   \n",
       "1  유세아  여성    01045795881  39.0  56kg  51kg  172  2016년 10월 02일   \n",
       "2  송솔은  여성  010-7719-8346   NaN    29    21  167  2017년 09월 06일   \n",
       "3  백서원  여성    01011947169  36.0    67    65    0  2017년 06월 02일   \n",
       "4  박서은  여성  010-2575-6398  42.0    60    57  167  2017년 05월 07일   \n",
       "\n",
       "       회원 정보 갱신일  흡연 여부 음주 여부 가입 개월 수 개인상담 요청  \n",
       "0  2016년 07월 05일  False  주 1회     0개월     아니요  \n",
       "1  2016년 11월 29일   True  월 1회     0개월     아니요  \n",
       "2  2017년 09월 06일   True  주 1회     0개월     아니요  \n",
       "3  2017년 07월 28일   True  안 마심     0개월     아니요  \n",
       "4  2017년 05월 07일  False  안 마심     0개월       예  "
      ]
     },
     "execution_count": 18,
     "metadata": {},
     "output_type": "execute_result"
    }
   ],
   "source": [
    "user_info.head()"
   ]
  },
  {
   "cell_type": "code",
   "execution_count": 19,
   "metadata": {},
   "outputs": [],
   "source": [
    "private_info = ['이름', '성별', '나이', '키', '현재 체중', '목표 체중', '흡연 여부', '음주 여부', '전화번호']\n",
    "etc_info = ['개인상담 요청', '가입 개월 수', '회원 가입일', '회원 정보 갱신일']"
   ]
  },
  {
   "cell_type": "code",
   "execution_count": 20,
   "metadata": {},
   "outputs": [
    {
     "data": {
      "text/html": [
       "<div>\n",
       "<style scoped>\n",
       "    .dataframe tbody tr th:only-of-type {\n",
       "        vertical-align: middle;\n",
       "    }\n",
       "\n",
       "    .dataframe tbody tr th {\n",
       "        vertical-align: top;\n",
       "    }\n",
       "\n",
       "    .dataframe thead th {\n",
       "        text-align: right;\n",
       "    }\n",
       "</style>\n",
       "<table border=\"1\" class=\"dataframe\">\n",
       "  <thead>\n",
       "    <tr style=\"text-align: right;\">\n",
       "      <th></th>\n",
       "      <th>이름</th>\n",
       "      <th>성별</th>\n",
       "      <th>나이</th>\n",
       "      <th>키</th>\n",
       "      <th>현재 체중</th>\n",
       "      <th>목표 체중</th>\n",
       "      <th>흡연 여부</th>\n",
       "      <th>음주 여부</th>\n",
       "      <th>전화번호</th>\n",
       "      <th>개인상담 요청</th>\n",
       "      <th>가입 개월 수</th>\n",
       "      <th>회원 가입일</th>\n",
       "      <th>회원 정보 갱신일</th>\n",
       "    </tr>\n",
       "  </thead>\n",
       "  <tbody>\n",
       "    <tr>\n",
       "      <th>0</th>\n",
       "      <td>안원준</td>\n",
       "      <td>남성</td>\n",
       "      <td>31.0</td>\n",
       "      <td>176</td>\n",
       "      <td>78</td>\n",
       "      <td>68</td>\n",
       "      <td>False</td>\n",
       "      <td>주 1회</td>\n",
       "      <td>010-2292-6251</td>\n",
       "      <td>아니요</td>\n",
       "      <td>0개월</td>\n",
       "      <td>2016년 07월 05일</td>\n",
       "      <td>2016년 07월 05일</td>\n",
       "    </tr>\n",
       "    <tr>\n",
       "      <th>1</th>\n",
       "      <td>유세아</td>\n",
       "      <td>여성</td>\n",
       "      <td>39.0</td>\n",
       "      <td>172</td>\n",
       "      <td>56kg</td>\n",
       "      <td>51kg</td>\n",
       "      <td>True</td>\n",
       "      <td>월 1회</td>\n",
       "      <td>01045795881</td>\n",
       "      <td>아니요</td>\n",
       "      <td>0개월</td>\n",
       "      <td>2016년 10월 02일</td>\n",
       "      <td>2016년 11월 29일</td>\n",
       "    </tr>\n",
       "    <tr>\n",
       "      <th>2</th>\n",
       "      <td>송솔은</td>\n",
       "      <td>여성</td>\n",
       "      <td>NaN</td>\n",
       "      <td>167</td>\n",
       "      <td>29</td>\n",
       "      <td>21</td>\n",
       "      <td>True</td>\n",
       "      <td>주 1회</td>\n",
       "      <td>010-7719-8346</td>\n",
       "      <td>아니요</td>\n",
       "      <td>0개월</td>\n",
       "      <td>2017년 09월 06일</td>\n",
       "      <td>2017년 09월 06일</td>\n",
       "    </tr>\n",
       "    <tr>\n",
       "      <th>3</th>\n",
       "      <td>백서원</td>\n",
       "      <td>여성</td>\n",
       "      <td>36.0</td>\n",
       "      <td>0</td>\n",
       "      <td>67</td>\n",
       "      <td>65</td>\n",
       "      <td>True</td>\n",
       "      <td>안 마심</td>\n",
       "      <td>01011947169</td>\n",
       "      <td>아니요</td>\n",
       "      <td>0개월</td>\n",
       "      <td>2017년 06월 02일</td>\n",
       "      <td>2017년 07월 28일</td>\n",
       "    </tr>\n",
       "    <tr>\n",
       "      <th>4</th>\n",
       "      <td>박서은</td>\n",
       "      <td>여성</td>\n",
       "      <td>42.0</td>\n",
       "      <td>167</td>\n",
       "      <td>60</td>\n",
       "      <td>57</td>\n",
       "      <td>False</td>\n",
       "      <td>안 마심</td>\n",
       "      <td>010-2575-6398</td>\n",
       "      <td>예</td>\n",
       "      <td>0개월</td>\n",
       "      <td>2017년 05월 07일</td>\n",
       "      <td>2017년 05월 07일</td>\n",
       "    </tr>\n",
       "  </tbody>\n",
       "</table>\n",
       "</div>"
      ],
      "text/plain": [
       "    이름  성별    나이    키 현재 체중 목표 체중  흡연 여부 음주 여부           전화번호 개인상담 요청 가입 개월 수  \\\n",
       "0  안원준  남성  31.0  176    78    68  False  주 1회  010-2292-6251     아니요     0개월   \n",
       "1  유세아  여성  39.0  172  56kg  51kg   True  월 1회    01045795881     아니요     0개월   \n",
       "2  송솔은  여성   NaN  167    29    21   True  주 1회  010-7719-8346     아니요     0개월   \n",
       "3  백서원  여성  36.0    0    67    65   True  안 마심    01011947169     아니요     0개월   \n",
       "4  박서은  여성  42.0  167    60    57  False  안 마심  010-2575-6398       예     0개월   \n",
       "\n",
       "          회원 가입일      회원 정보 갱신일  \n",
       "0  2016년 07월 05일  2016년 07월 05일  \n",
       "1  2016년 10월 02일  2016년 11월 29일  \n",
       "2  2017년 09월 06일  2017년 09월 06일  \n",
       "3  2017년 06월 02일  2017년 07월 28일  \n",
       "4  2017년 05월 07일  2017년 05월 07일  "
      ]
     },
     "execution_count": 20,
     "metadata": {},
     "output_type": "execute_result"
    }
   ],
   "source": [
    "user_info_ordered = user_info[private_info + etc_info]\n",
    "user_info_ordered.head()"
   ]
  },
  {
   "cell_type": "markdown",
   "metadata": {},
   "source": [
    "## 과제(초급)"
   ]
  },
  {
   "cell_type": "markdown",
   "metadata": {},
   "source": [
    "### 데이터를 사용하기 용이하게 정리하기"
   ]
  },
  {
   "cell_type": "markdown",
   "metadata": {},
   "source": [
    "**6. 컬럼 이름 바꾸기**\n",
    "\n",
    "보통 프로그래밍을 할 때 한글 컬럼을 사용하면 다양한 문제로 불편을 겪을 때가 많습니다.\n",
    "\n",
    "그러므로 컬럼을 전부 한글에서 영어로 바꿔주세요. 컬럼명은 다음과 같이 바꿔주시면 됩니다.\n",
    "\n",
    "* 이름 - Name\n",
    "* 성별 - Gender\n",
    "* 전화번호 - Phone Number\n",
    "* 나이 - Age\n",
    "* 현재 체중 - Current Weight\n",
    "* 목표 체종 - Goal Weight\n",
    "* 키 - Height\n",
    "* 흡연 여부 - Smoking\n",
    "* 음주 여부 - Drinking\n",
    "* 개인상담 요청 - Request Counselling\n",
    "* 회원 가입일 - Joined At\n",
    "* 회원 정보 갱신일 - Updated At\n",
    "* 가입 개월 수 - Paid Plan"
   ]
  },
  {
   "cell_type": "code",
   "execution_count": 21,
   "metadata": {},
   "outputs": [],
   "source": [
    "col_name = {'이름': 'Name',\n",
    "            '성별': 'Gender',\n",
    "            '전화번호': 'Phone Number',\n",
    "            '나이': 'Age',\n",
    "            '현재 체중': 'Current Weight',\n",
    "            '목표 체중': 'Goal Weight',\n",
    "            '키': 'Height',\n",
    "            '흡연 여부': 'Smoking',\n",
    "            '음주 여부': 'Drinking',\n",
    "            '개인상담 요청': 'Request Counselling',\n",
    "            '회원 가입일': 'Joined At',\n",
    "            '회원 정보 갱신일': 'Updated At',\n",
    "            '가입 개월 수': 'Paid Plan'}"
   ]
  },
  {
   "cell_type": "code",
   "execution_count": 22,
   "metadata": {},
   "outputs": [
    {
     "data": {
      "text/html": [
       "<div>\n",
       "<style scoped>\n",
       "    .dataframe tbody tr th:only-of-type {\n",
       "        vertical-align: middle;\n",
       "    }\n",
       "\n",
       "    .dataframe tbody tr th {\n",
       "        vertical-align: top;\n",
       "    }\n",
       "\n",
       "    .dataframe thead th {\n",
       "        text-align: right;\n",
       "    }\n",
       "</style>\n",
       "<table border=\"1\" class=\"dataframe\">\n",
       "  <thead>\n",
       "    <tr style=\"text-align: right;\">\n",
       "      <th></th>\n",
       "      <th>Name</th>\n",
       "      <th>Gender</th>\n",
       "      <th>Age</th>\n",
       "      <th>Height</th>\n",
       "      <th>Current Weight</th>\n",
       "      <th>Goal Weight</th>\n",
       "      <th>Smoking</th>\n",
       "      <th>Drinking</th>\n",
       "      <th>Phone Number</th>\n",
       "      <th>Request Counselling</th>\n",
       "      <th>Paid Plan</th>\n",
       "      <th>Joined At</th>\n",
       "      <th>Updated At</th>\n",
       "    </tr>\n",
       "  </thead>\n",
       "  <tbody>\n",
       "    <tr>\n",
       "      <th>0</th>\n",
       "      <td>안원준</td>\n",
       "      <td>남성</td>\n",
       "      <td>31.0</td>\n",
       "      <td>176</td>\n",
       "      <td>78</td>\n",
       "      <td>68</td>\n",
       "      <td>False</td>\n",
       "      <td>주 1회</td>\n",
       "      <td>010-2292-6251</td>\n",
       "      <td>아니요</td>\n",
       "      <td>0개월</td>\n",
       "      <td>2016년 07월 05일</td>\n",
       "      <td>2016년 07월 05일</td>\n",
       "    </tr>\n",
       "    <tr>\n",
       "      <th>1</th>\n",
       "      <td>유세아</td>\n",
       "      <td>여성</td>\n",
       "      <td>39.0</td>\n",
       "      <td>172</td>\n",
       "      <td>56kg</td>\n",
       "      <td>51kg</td>\n",
       "      <td>True</td>\n",
       "      <td>월 1회</td>\n",
       "      <td>01045795881</td>\n",
       "      <td>아니요</td>\n",
       "      <td>0개월</td>\n",
       "      <td>2016년 10월 02일</td>\n",
       "      <td>2016년 11월 29일</td>\n",
       "    </tr>\n",
       "    <tr>\n",
       "      <th>2</th>\n",
       "      <td>송솔은</td>\n",
       "      <td>여성</td>\n",
       "      <td>NaN</td>\n",
       "      <td>167</td>\n",
       "      <td>29</td>\n",
       "      <td>21</td>\n",
       "      <td>True</td>\n",
       "      <td>주 1회</td>\n",
       "      <td>010-7719-8346</td>\n",
       "      <td>아니요</td>\n",
       "      <td>0개월</td>\n",
       "      <td>2017년 09월 06일</td>\n",
       "      <td>2017년 09월 06일</td>\n",
       "    </tr>\n",
       "    <tr>\n",
       "      <th>3</th>\n",
       "      <td>백서원</td>\n",
       "      <td>여성</td>\n",
       "      <td>36.0</td>\n",
       "      <td>0</td>\n",
       "      <td>67</td>\n",
       "      <td>65</td>\n",
       "      <td>True</td>\n",
       "      <td>안 마심</td>\n",
       "      <td>01011947169</td>\n",
       "      <td>아니요</td>\n",
       "      <td>0개월</td>\n",
       "      <td>2017년 06월 02일</td>\n",
       "      <td>2017년 07월 28일</td>\n",
       "    </tr>\n",
       "    <tr>\n",
       "      <th>4</th>\n",
       "      <td>박서은</td>\n",
       "      <td>여성</td>\n",
       "      <td>42.0</td>\n",
       "      <td>167</td>\n",
       "      <td>60</td>\n",
       "      <td>57</td>\n",
       "      <td>False</td>\n",
       "      <td>안 마심</td>\n",
       "      <td>010-2575-6398</td>\n",
       "      <td>예</td>\n",
       "      <td>0개월</td>\n",
       "      <td>2017년 05월 07일</td>\n",
       "      <td>2017년 05월 07일</td>\n",
       "    </tr>\n",
       "  </tbody>\n",
       "</table>\n",
       "</div>"
      ],
      "text/plain": [
       "  Name Gender   Age Height Current Weight Goal Weight  Smoking Drinking  \\\n",
       "0  안원준     남성  31.0    176             78          68    False     주 1회   \n",
       "1  유세아     여성  39.0    172           56kg        51kg     True     월 1회   \n",
       "2  송솔은     여성   NaN    167             29          21     True     주 1회   \n",
       "3  백서원     여성  36.0      0             67          65     True     안 마심   \n",
       "4  박서은     여성  42.0    167             60          57    False     안 마심   \n",
       "\n",
       "    Phone Number Request Counselling Paid Plan      Joined At     Updated At  \n",
       "0  010-2292-6251                 아니요       0개월  2016년 07월 05일  2016년 07월 05일  \n",
       "1    01045795881                 아니요       0개월  2016년 10월 02일  2016년 11월 29일  \n",
       "2  010-7719-8346                 아니요       0개월  2017년 09월 06일  2017년 09월 06일  \n",
       "3    01011947169                 아니요       0개월  2017년 06월 02일  2017년 07월 28일  \n",
       "4  010-2575-6398                   예       0개월  2017년 05월 07일  2017년 05월 07일  "
      ]
     },
     "execution_count": 22,
     "metadata": {},
     "output_type": "execute_result"
    }
   ],
   "source": [
    "# rename() 메서드로 컬럼명 변경\n",
    "user_info2 = user_info_ordered.rename(columns=col_name)\n",
    "user_info2.head()"
   ]
  },
  {
   "cell_type": "markdown",
   "metadata": {},
   "source": [
    "- 이후 과정에서 이 DataFrame을 계속 수정한다.\n",
    "- 수정 하기 전 임시 저장"
   ]
  },
  {
   "cell_type": "code",
   "execution_count": 23,
   "metadata": {},
   "outputs": [],
   "source": [
    "user_info2.to_csv('./data/USER_INFO_01.csv', index=False)"
   ]
  },
  {
   "cell_type": "markdown",
   "metadata": {},
   "source": [
    "** 7. '상담 요청' 컬럼을 예/아니오 에서 True/False로 바꿔주세요 **"
   ]
  },
  {
   "cell_type": "code",
   "execution_count": 24,
   "metadata": {},
   "outputs": [],
   "source": [
    "users = pd.read_csv('./data/USER_INFO_01.csv')"
   ]
  },
  {
   "cell_type": "code",
   "execution_count": 25,
   "metadata": {},
   "outputs": [
    {
     "data": {
      "text/html": [
       "<div>\n",
       "<style scoped>\n",
       "    .dataframe tbody tr th:only-of-type {\n",
       "        vertical-align: middle;\n",
       "    }\n",
       "\n",
       "    .dataframe tbody tr th {\n",
       "        vertical-align: top;\n",
       "    }\n",
       "\n",
       "    .dataframe thead th {\n",
       "        text-align: right;\n",
       "    }\n",
       "</style>\n",
       "<table border=\"1\" class=\"dataframe\">\n",
       "  <thead>\n",
       "    <tr style=\"text-align: right;\">\n",
       "      <th></th>\n",
       "      <th>Name</th>\n",
       "      <th>Gender</th>\n",
       "      <th>Age</th>\n",
       "      <th>Height</th>\n",
       "      <th>Current Weight</th>\n",
       "      <th>Goal Weight</th>\n",
       "      <th>Smoking</th>\n",
       "      <th>Drinking</th>\n",
       "      <th>Phone Number</th>\n",
       "      <th>Request Counselling</th>\n",
       "      <th>Paid Plan</th>\n",
       "      <th>Joined At</th>\n",
       "      <th>Updated At</th>\n",
       "    </tr>\n",
       "  </thead>\n",
       "  <tbody>\n",
       "    <tr>\n",
       "      <th>0</th>\n",
       "      <td>안원준</td>\n",
       "      <td>남성</td>\n",
       "      <td>31.0</td>\n",
       "      <td>176</td>\n",
       "      <td>78</td>\n",
       "      <td>68</td>\n",
       "      <td>False</td>\n",
       "      <td>주 1회</td>\n",
       "      <td>010-2292-6251</td>\n",
       "      <td>아니요</td>\n",
       "      <td>0개월</td>\n",
       "      <td>2016년 07월 05일</td>\n",
       "      <td>2016년 07월 05일</td>\n",
       "    </tr>\n",
       "    <tr>\n",
       "      <th>1</th>\n",
       "      <td>유세아</td>\n",
       "      <td>여성</td>\n",
       "      <td>39.0</td>\n",
       "      <td>172</td>\n",
       "      <td>56kg</td>\n",
       "      <td>51kg</td>\n",
       "      <td>True</td>\n",
       "      <td>월 1회</td>\n",
       "      <td>01045795881</td>\n",
       "      <td>아니요</td>\n",
       "      <td>0개월</td>\n",
       "      <td>2016년 10월 02일</td>\n",
       "      <td>2016년 11월 29일</td>\n",
       "    </tr>\n",
       "    <tr>\n",
       "      <th>2</th>\n",
       "      <td>송솔은</td>\n",
       "      <td>여성</td>\n",
       "      <td>NaN</td>\n",
       "      <td>167</td>\n",
       "      <td>29</td>\n",
       "      <td>21</td>\n",
       "      <td>True</td>\n",
       "      <td>주 1회</td>\n",
       "      <td>010-7719-8346</td>\n",
       "      <td>아니요</td>\n",
       "      <td>0개월</td>\n",
       "      <td>2017년 09월 06일</td>\n",
       "      <td>2017년 09월 06일</td>\n",
       "    </tr>\n",
       "    <tr>\n",
       "      <th>3</th>\n",
       "      <td>백서원</td>\n",
       "      <td>여성</td>\n",
       "      <td>36.0</td>\n",
       "      <td>0</td>\n",
       "      <td>67</td>\n",
       "      <td>65</td>\n",
       "      <td>True</td>\n",
       "      <td>안 마심</td>\n",
       "      <td>01011947169</td>\n",
       "      <td>아니요</td>\n",
       "      <td>0개월</td>\n",
       "      <td>2017년 06월 02일</td>\n",
       "      <td>2017년 07월 28일</td>\n",
       "    </tr>\n",
       "    <tr>\n",
       "      <th>4</th>\n",
       "      <td>박서은</td>\n",
       "      <td>여성</td>\n",
       "      <td>42.0</td>\n",
       "      <td>167</td>\n",
       "      <td>60</td>\n",
       "      <td>57</td>\n",
       "      <td>False</td>\n",
       "      <td>안 마심</td>\n",
       "      <td>010-2575-6398</td>\n",
       "      <td>예</td>\n",
       "      <td>0개월</td>\n",
       "      <td>2017년 05월 07일</td>\n",
       "      <td>2017년 05월 07일</td>\n",
       "    </tr>\n",
       "  </tbody>\n",
       "</table>\n",
       "</div>"
      ],
      "text/plain": [
       "  Name Gender   Age Height Current Weight Goal Weight  Smoking Drinking  \\\n",
       "0  안원준     남성  31.0    176             78          68    False     주 1회   \n",
       "1  유세아     여성  39.0    172           56kg        51kg     True     월 1회   \n",
       "2  송솔은     여성   NaN    167             29          21     True     주 1회   \n",
       "3  백서원     여성  36.0      0             67          65     True     안 마심   \n",
       "4  박서은     여성  42.0    167             60          57    False     안 마심   \n",
       "\n",
       "    Phone Number Request Counselling Paid Plan      Joined At     Updated At  \n",
       "0  010-2292-6251                 아니요       0개월  2016년 07월 05일  2016년 07월 05일  \n",
       "1    01045795881                 아니요       0개월  2016년 10월 02일  2016년 11월 29일  \n",
       "2  010-7719-8346                 아니요       0개월  2017년 09월 06일  2017년 09월 06일  \n",
       "3    01011947169                 아니요       0개월  2017년 06월 02일  2017년 07월 28일  \n",
       "4  010-2575-6398                   예       0개월  2017년 05월 07일  2017년 05월 07일  "
      ]
     },
     "execution_count": 25,
     "metadata": {},
     "output_type": "execute_result"
    }
   ],
   "source": [
    "users.head()"
   ]
  },
  {
   "cell_type": "code",
   "execution_count": 26,
   "metadata": {},
   "outputs": [
    {
     "data": {
      "text/plain": [
       "아니요    96260\n",
       "예      10579\n",
       "Name: Request Counselling, dtype: int64"
      ]
     },
     "execution_count": 26,
     "metadata": {},
     "output_type": "execute_result"
    }
   ],
   "source": [
    "users['Request Counselling'].value_counts()"
   ]
  },
  {
   "cell_type": "code",
   "execution_count": 27,
   "metadata": {},
   "outputs": [],
   "source": [
    "users['Request Counselling'] = user_info2['Request Counselling'] == '예'"
   ]
  },
  {
   "cell_type": "code",
   "execution_count": 28,
   "metadata": {},
   "outputs": [
    {
     "data": {
      "text/plain": [
       "False    96260\n",
       "True     10579\n",
       "Name: Request Counselling, dtype: int64"
      ]
     },
     "execution_count": 28,
     "metadata": {},
     "output_type": "execute_result"
    }
   ],
   "source": [
    "users['Request Counselling'].value_counts()"
   ]
  },
  {
   "cell_type": "code",
   "execution_count": 29,
   "metadata": {},
   "outputs": [],
   "source": [
    "#users.to_csv('./data/USER_INFO_02.csv', index=False)"
   ]
  },
  {
   "cell_type": "markdown",
   "metadata": {},
   "source": [
    "**8. '가입 개월 수' 컬럼을 분석해서, 무료(0개월)인 경우를 True로, 유료인 경우(3, 6, 9, 12개월)를 False로 보여주는 새로운 컬럼을 만들어주세요.**"
   ]
  },
  {
   "cell_type": "code",
   "execution_count": 30,
   "metadata": {},
   "outputs": [],
   "source": [
    "#users = pd.read_csv('./data/USER_INFO_02.csv')"
   ]
  },
  {
   "cell_type": "code",
   "execution_count": 31,
   "metadata": {},
   "outputs": [
    {
     "data": {
      "text/html": [
       "<div>\n",
       "<style scoped>\n",
       "    .dataframe tbody tr th:only-of-type {\n",
       "        vertical-align: middle;\n",
       "    }\n",
       "\n",
       "    .dataframe tbody tr th {\n",
       "        vertical-align: top;\n",
       "    }\n",
       "\n",
       "    .dataframe thead th {\n",
       "        text-align: right;\n",
       "    }\n",
       "</style>\n",
       "<table border=\"1\" class=\"dataframe\">\n",
       "  <thead>\n",
       "    <tr style=\"text-align: right;\">\n",
       "      <th></th>\n",
       "      <th>Name</th>\n",
       "      <th>Gender</th>\n",
       "      <th>Age</th>\n",
       "      <th>Height</th>\n",
       "      <th>Current Weight</th>\n",
       "      <th>Goal Weight</th>\n",
       "      <th>Smoking</th>\n",
       "      <th>Drinking</th>\n",
       "      <th>Phone Number</th>\n",
       "      <th>Request Counselling</th>\n",
       "      <th>Paid Plan</th>\n",
       "      <th>Joined At</th>\n",
       "      <th>Updated At</th>\n",
       "    </tr>\n",
       "  </thead>\n",
       "  <tbody>\n",
       "    <tr>\n",
       "      <th>0</th>\n",
       "      <td>안원준</td>\n",
       "      <td>남성</td>\n",
       "      <td>31.0</td>\n",
       "      <td>176</td>\n",
       "      <td>78</td>\n",
       "      <td>68</td>\n",
       "      <td>False</td>\n",
       "      <td>주 1회</td>\n",
       "      <td>010-2292-6251</td>\n",
       "      <td>False</td>\n",
       "      <td>0개월</td>\n",
       "      <td>2016년 07월 05일</td>\n",
       "      <td>2016년 07월 05일</td>\n",
       "    </tr>\n",
       "    <tr>\n",
       "      <th>1</th>\n",
       "      <td>유세아</td>\n",
       "      <td>여성</td>\n",
       "      <td>39.0</td>\n",
       "      <td>172</td>\n",
       "      <td>56kg</td>\n",
       "      <td>51kg</td>\n",
       "      <td>True</td>\n",
       "      <td>월 1회</td>\n",
       "      <td>01045795881</td>\n",
       "      <td>False</td>\n",
       "      <td>0개월</td>\n",
       "      <td>2016년 10월 02일</td>\n",
       "      <td>2016년 11월 29일</td>\n",
       "    </tr>\n",
       "    <tr>\n",
       "      <th>2</th>\n",
       "      <td>송솔은</td>\n",
       "      <td>여성</td>\n",
       "      <td>NaN</td>\n",
       "      <td>167</td>\n",
       "      <td>29</td>\n",
       "      <td>21</td>\n",
       "      <td>True</td>\n",
       "      <td>주 1회</td>\n",
       "      <td>010-7719-8346</td>\n",
       "      <td>False</td>\n",
       "      <td>0개월</td>\n",
       "      <td>2017년 09월 06일</td>\n",
       "      <td>2017년 09월 06일</td>\n",
       "    </tr>\n",
       "    <tr>\n",
       "      <th>3</th>\n",
       "      <td>백서원</td>\n",
       "      <td>여성</td>\n",
       "      <td>36.0</td>\n",
       "      <td>0</td>\n",
       "      <td>67</td>\n",
       "      <td>65</td>\n",
       "      <td>True</td>\n",
       "      <td>안 마심</td>\n",
       "      <td>01011947169</td>\n",
       "      <td>False</td>\n",
       "      <td>0개월</td>\n",
       "      <td>2017년 06월 02일</td>\n",
       "      <td>2017년 07월 28일</td>\n",
       "    </tr>\n",
       "    <tr>\n",
       "      <th>4</th>\n",
       "      <td>박서은</td>\n",
       "      <td>여성</td>\n",
       "      <td>42.0</td>\n",
       "      <td>167</td>\n",
       "      <td>60</td>\n",
       "      <td>57</td>\n",
       "      <td>False</td>\n",
       "      <td>안 마심</td>\n",
       "      <td>010-2575-6398</td>\n",
       "      <td>True</td>\n",
       "      <td>0개월</td>\n",
       "      <td>2017년 05월 07일</td>\n",
       "      <td>2017년 05월 07일</td>\n",
       "    </tr>\n",
       "  </tbody>\n",
       "</table>\n",
       "</div>"
      ],
      "text/plain": [
       "  Name Gender   Age Height Current Weight Goal Weight  Smoking Drinking  \\\n",
       "0  안원준     남성  31.0    176             78          68    False     주 1회   \n",
       "1  유세아     여성  39.0    172           56kg        51kg     True     월 1회   \n",
       "2  송솔은     여성   NaN    167             29          21     True     주 1회   \n",
       "3  백서원     여성  36.0      0             67          65     True     안 마심   \n",
       "4  박서은     여성  42.0    167             60          57    False     안 마심   \n",
       "\n",
       "    Phone Number  Request Counselling Paid Plan      Joined At     Updated At  \n",
       "0  010-2292-6251                False       0개월  2016년 07월 05일  2016년 07월 05일  \n",
       "1    01045795881                False       0개월  2016년 10월 02일  2016년 11월 29일  \n",
       "2  010-7719-8346                False       0개월  2017년 09월 06일  2017년 09월 06일  \n",
       "3    01011947169                False       0개월  2017년 06월 02일  2017년 07월 28일  \n",
       "4  010-2575-6398                 True       0개월  2017년 05월 07일  2017년 05월 07일  "
      ]
     },
     "execution_count": 31,
     "metadata": {},
     "output_type": "execute_result"
    }
   ],
   "source": [
    "users.head()"
   ]
  },
  {
   "cell_type": "code",
   "execution_count": 32,
   "metadata": {},
   "outputs": [
    {
     "data": {
      "text/plain": [
       "0개월     74955\n",
       "3개월     21250\n",
       "6개월      7291\n",
       "12개월     3343\n",
       "Name: Paid Plan, dtype: int64"
      ]
     },
     "execution_count": 32,
     "metadata": {},
     "output_type": "execute_result"
    }
   ],
   "source": [
    "users['Paid Plan'].value_counts()"
   ]
  },
  {
   "cell_type": "code",
   "execution_count": 33,
   "metadata": {},
   "outputs": [],
   "source": [
    "users['Is Free'] = user_info2['Paid Plan'] == '0개월'"
   ]
  },
  {
   "cell_type": "code",
   "execution_count": 34,
   "metadata": {},
   "outputs": [
    {
     "data": {
      "text/html": [
       "<div>\n",
       "<style scoped>\n",
       "    .dataframe tbody tr th:only-of-type {\n",
       "        vertical-align: middle;\n",
       "    }\n",
       "\n",
       "    .dataframe tbody tr th {\n",
       "        vertical-align: top;\n",
       "    }\n",
       "\n",
       "    .dataframe thead th {\n",
       "        text-align: right;\n",
       "    }\n",
       "</style>\n",
       "<table border=\"1\" class=\"dataframe\">\n",
       "  <thead>\n",
       "    <tr style=\"text-align: right;\">\n",
       "      <th></th>\n",
       "      <th>Name</th>\n",
       "      <th>Gender</th>\n",
       "      <th>Age</th>\n",
       "      <th>Height</th>\n",
       "      <th>Current Weight</th>\n",
       "      <th>Goal Weight</th>\n",
       "      <th>Smoking</th>\n",
       "      <th>Drinking</th>\n",
       "      <th>Phone Number</th>\n",
       "      <th>Request Counselling</th>\n",
       "      <th>Paid Plan</th>\n",
       "      <th>Joined At</th>\n",
       "      <th>Updated At</th>\n",
       "      <th>Is Free</th>\n",
       "    </tr>\n",
       "  </thead>\n",
       "  <tbody>\n",
       "    <tr>\n",
       "      <th>0</th>\n",
       "      <td>안원준</td>\n",
       "      <td>남성</td>\n",
       "      <td>31.0</td>\n",
       "      <td>176</td>\n",
       "      <td>78</td>\n",
       "      <td>68</td>\n",
       "      <td>False</td>\n",
       "      <td>주 1회</td>\n",
       "      <td>010-2292-6251</td>\n",
       "      <td>False</td>\n",
       "      <td>0개월</td>\n",
       "      <td>2016년 07월 05일</td>\n",
       "      <td>2016년 07월 05일</td>\n",
       "      <td>True</td>\n",
       "    </tr>\n",
       "    <tr>\n",
       "      <th>1</th>\n",
       "      <td>유세아</td>\n",
       "      <td>여성</td>\n",
       "      <td>39.0</td>\n",
       "      <td>172</td>\n",
       "      <td>56kg</td>\n",
       "      <td>51kg</td>\n",
       "      <td>True</td>\n",
       "      <td>월 1회</td>\n",
       "      <td>01045795881</td>\n",
       "      <td>False</td>\n",
       "      <td>0개월</td>\n",
       "      <td>2016년 10월 02일</td>\n",
       "      <td>2016년 11월 29일</td>\n",
       "      <td>True</td>\n",
       "    </tr>\n",
       "    <tr>\n",
       "      <th>2</th>\n",
       "      <td>송솔은</td>\n",
       "      <td>여성</td>\n",
       "      <td>NaN</td>\n",
       "      <td>167</td>\n",
       "      <td>29</td>\n",
       "      <td>21</td>\n",
       "      <td>True</td>\n",
       "      <td>주 1회</td>\n",
       "      <td>010-7719-8346</td>\n",
       "      <td>False</td>\n",
       "      <td>0개월</td>\n",
       "      <td>2017년 09월 06일</td>\n",
       "      <td>2017년 09월 06일</td>\n",
       "      <td>True</td>\n",
       "    </tr>\n",
       "    <tr>\n",
       "      <th>3</th>\n",
       "      <td>백서원</td>\n",
       "      <td>여성</td>\n",
       "      <td>36.0</td>\n",
       "      <td>0</td>\n",
       "      <td>67</td>\n",
       "      <td>65</td>\n",
       "      <td>True</td>\n",
       "      <td>안 마심</td>\n",
       "      <td>01011947169</td>\n",
       "      <td>False</td>\n",
       "      <td>0개월</td>\n",
       "      <td>2017년 06월 02일</td>\n",
       "      <td>2017년 07월 28일</td>\n",
       "      <td>True</td>\n",
       "    </tr>\n",
       "    <tr>\n",
       "      <th>4</th>\n",
       "      <td>박서은</td>\n",
       "      <td>여성</td>\n",
       "      <td>42.0</td>\n",
       "      <td>167</td>\n",
       "      <td>60</td>\n",
       "      <td>57</td>\n",
       "      <td>False</td>\n",
       "      <td>안 마심</td>\n",
       "      <td>010-2575-6398</td>\n",
       "      <td>True</td>\n",
       "      <td>0개월</td>\n",
       "      <td>2017년 05월 07일</td>\n",
       "      <td>2017년 05월 07일</td>\n",
       "      <td>True</td>\n",
       "    </tr>\n",
       "  </tbody>\n",
       "</table>\n",
       "</div>"
      ],
      "text/plain": [
       "  Name Gender   Age Height Current Weight Goal Weight  Smoking Drinking  \\\n",
       "0  안원준     남성  31.0    176             78          68    False     주 1회   \n",
       "1  유세아     여성  39.0    172           56kg        51kg     True     월 1회   \n",
       "2  송솔은     여성   NaN    167             29          21     True     주 1회   \n",
       "3  백서원     여성  36.0      0             67          65     True     안 마심   \n",
       "4  박서은     여성  42.0    167             60          57    False     안 마심   \n",
       "\n",
       "    Phone Number  Request Counselling Paid Plan      Joined At     Updated At  \\\n",
       "0  010-2292-6251                False       0개월  2016년 07월 05일  2016년 07월 05일   \n",
       "1    01045795881                False       0개월  2016년 10월 02일  2016년 11월 29일   \n",
       "2  010-7719-8346                False       0개월  2017년 09월 06일  2017년 09월 06일   \n",
       "3    01011947169                False       0개월  2017년 06월 02일  2017년 07월 28일   \n",
       "4  010-2575-6398                 True       0개월  2017년 05월 07일  2017년 05월 07일   \n",
       "\n",
       "   Is Free  \n",
       "0     True  \n",
       "1     True  \n",
       "2     True  \n",
       "3     True  \n",
       "4     True  "
      ]
     },
     "execution_count": 34,
     "metadata": {},
     "output_type": "execute_result"
    }
   ],
   "source": [
    "users.head()"
   ]
  },
  {
   "cell_type": "code",
   "execution_count": 35,
   "metadata": {},
   "outputs": [
    {
     "data": {
      "text/html": [
       "<div>\n",
       "<style scoped>\n",
       "    .dataframe tbody tr th:only-of-type {\n",
       "        vertical-align: middle;\n",
       "    }\n",
       "\n",
       "    .dataframe tbody tr th {\n",
       "        vertical-align: top;\n",
       "    }\n",
       "\n",
       "    .dataframe thead th {\n",
       "        text-align: right;\n",
       "    }\n",
       "</style>\n",
       "<table border=\"1\" class=\"dataframe\">\n",
       "  <thead>\n",
       "    <tr style=\"text-align: right;\">\n",
       "      <th></th>\n",
       "      <th>Paid Plan</th>\n",
       "      <th>Is Free</th>\n",
       "    </tr>\n",
       "  </thead>\n",
       "  <tbody>\n",
       "    <tr>\n",
       "      <th>0</th>\n",
       "      <td>0개월</td>\n",
       "      <td>True</td>\n",
       "    </tr>\n",
       "    <tr>\n",
       "      <th>1</th>\n",
       "      <td>0개월</td>\n",
       "      <td>True</td>\n",
       "    </tr>\n",
       "    <tr>\n",
       "      <th>2</th>\n",
       "      <td>0개월</td>\n",
       "      <td>True</td>\n",
       "    </tr>\n",
       "    <tr>\n",
       "      <th>3</th>\n",
       "      <td>0개월</td>\n",
       "      <td>True</td>\n",
       "    </tr>\n",
       "    <tr>\n",
       "      <th>4</th>\n",
       "      <td>0개월</td>\n",
       "      <td>True</td>\n",
       "    </tr>\n",
       "    <tr>\n",
       "      <th>5</th>\n",
       "      <td>3개월</td>\n",
       "      <td>False</td>\n",
       "    </tr>\n",
       "    <tr>\n",
       "      <th>6</th>\n",
       "      <td>12개월</td>\n",
       "      <td>False</td>\n",
       "    </tr>\n",
       "    <tr>\n",
       "      <th>7</th>\n",
       "      <td>0개월</td>\n",
       "      <td>True</td>\n",
       "    </tr>\n",
       "    <tr>\n",
       "      <th>8</th>\n",
       "      <td>0개월</td>\n",
       "      <td>True</td>\n",
       "    </tr>\n",
       "    <tr>\n",
       "      <th>9</th>\n",
       "      <td>3개월</td>\n",
       "      <td>False</td>\n",
       "    </tr>\n",
       "  </tbody>\n",
       "</table>\n",
       "</div>"
      ],
      "text/plain": [
       "  Paid Plan  Is Free\n",
       "0       0개월     True\n",
       "1       0개월     True\n",
       "2       0개월     True\n",
       "3       0개월     True\n",
       "4       0개월     True\n",
       "5       3개월    False\n",
       "6      12개월    False\n",
       "7       0개월     True\n",
       "8       0개월     True\n",
       "9       3개월    False"
      ]
     },
     "execution_count": 35,
     "metadata": {},
     "output_type": "execute_result"
    }
   ],
   "source": [
    "users[['Paid Plan', 'Is Free']].head(10)"
   ]
  },
  {
   "cell_type": "code",
   "execution_count": 36,
   "metadata": {},
   "outputs": [],
   "source": [
    "#users.to_csv('./data/USER_INFO_03.csv', index=False)"
   ]
  },
  {
   "cell_type": "markdown",
   "metadata": {},
   "source": [
    "### 컬럼의 형태를 하나로 통일하고, 빈 값이나 outlier들을 NaN으로 바꾸기"
   ]
  },
  {
   "cell_type": "markdown",
   "metadata": {},
   "source": [
    "** 9. 전화번호 컬럼을 정리해주세요. 다음과 같이 정리해주시면 됩니다. **\n",
    "  * unknown 이라고 표시되어 있는 전화번호는 빈 전화번호입니다. 이를 NaN으로 바꿔주세요."
   ]
  },
  {
   "cell_type": "code",
   "execution_count": 37,
   "metadata": {},
   "outputs": [],
   "source": [
    "#users = pd.read_csv('./data/USER_INFO_03.csv')"
   ]
  },
  {
   "cell_type": "code",
   "execution_count": 38,
   "metadata": {},
   "outputs": [
    {
     "data": {
      "text/html": [
       "<div>\n",
       "<style scoped>\n",
       "    .dataframe tbody tr th:only-of-type {\n",
       "        vertical-align: middle;\n",
       "    }\n",
       "\n",
       "    .dataframe tbody tr th {\n",
       "        vertical-align: top;\n",
       "    }\n",
       "\n",
       "    .dataframe thead th {\n",
       "        text-align: right;\n",
       "    }\n",
       "</style>\n",
       "<table border=\"1\" class=\"dataframe\">\n",
       "  <thead>\n",
       "    <tr style=\"text-align: right;\">\n",
       "      <th></th>\n",
       "      <th>Name</th>\n",
       "      <th>Gender</th>\n",
       "      <th>Age</th>\n",
       "      <th>Height</th>\n",
       "      <th>Current Weight</th>\n",
       "      <th>Goal Weight</th>\n",
       "      <th>Smoking</th>\n",
       "      <th>Drinking</th>\n",
       "      <th>Phone Number</th>\n",
       "      <th>Request Counselling</th>\n",
       "      <th>Paid Plan</th>\n",
       "      <th>Joined At</th>\n",
       "      <th>Updated At</th>\n",
       "      <th>Is Free</th>\n",
       "    </tr>\n",
       "  </thead>\n",
       "  <tbody>\n",
       "    <tr>\n",
       "      <th>0</th>\n",
       "      <td>안원준</td>\n",
       "      <td>남성</td>\n",
       "      <td>31.0</td>\n",
       "      <td>176</td>\n",
       "      <td>78</td>\n",
       "      <td>68</td>\n",
       "      <td>False</td>\n",
       "      <td>주 1회</td>\n",
       "      <td>010-2292-6251</td>\n",
       "      <td>False</td>\n",
       "      <td>0개월</td>\n",
       "      <td>2016년 07월 05일</td>\n",
       "      <td>2016년 07월 05일</td>\n",
       "      <td>True</td>\n",
       "    </tr>\n",
       "    <tr>\n",
       "      <th>1</th>\n",
       "      <td>유세아</td>\n",
       "      <td>여성</td>\n",
       "      <td>39.0</td>\n",
       "      <td>172</td>\n",
       "      <td>56kg</td>\n",
       "      <td>51kg</td>\n",
       "      <td>True</td>\n",
       "      <td>월 1회</td>\n",
       "      <td>01045795881</td>\n",
       "      <td>False</td>\n",
       "      <td>0개월</td>\n",
       "      <td>2016년 10월 02일</td>\n",
       "      <td>2016년 11월 29일</td>\n",
       "      <td>True</td>\n",
       "    </tr>\n",
       "    <tr>\n",
       "      <th>2</th>\n",
       "      <td>송솔은</td>\n",
       "      <td>여성</td>\n",
       "      <td>NaN</td>\n",
       "      <td>167</td>\n",
       "      <td>29</td>\n",
       "      <td>21</td>\n",
       "      <td>True</td>\n",
       "      <td>주 1회</td>\n",
       "      <td>010-7719-8346</td>\n",
       "      <td>False</td>\n",
       "      <td>0개월</td>\n",
       "      <td>2017년 09월 06일</td>\n",
       "      <td>2017년 09월 06일</td>\n",
       "      <td>True</td>\n",
       "    </tr>\n",
       "    <tr>\n",
       "      <th>3</th>\n",
       "      <td>백서원</td>\n",
       "      <td>여성</td>\n",
       "      <td>36.0</td>\n",
       "      <td>0</td>\n",
       "      <td>67</td>\n",
       "      <td>65</td>\n",
       "      <td>True</td>\n",
       "      <td>안 마심</td>\n",
       "      <td>01011947169</td>\n",
       "      <td>False</td>\n",
       "      <td>0개월</td>\n",
       "      <td>2017년 06월 02일</td>\n",
       "      <td>2017년 07월 28일</td>\n",
       "      <td>True</td>\n",
       "    </tr>\n",
       "    <tr>\n",
       "      <th>4</th>\n",
       "      <td>박서은</td>\n",
       "      <td>여성</td>\n",
       "      <td>42.0</td>\n",
       "      <td>167</td>\n",
       "      <td>60</td>\n",
       "      <td>57</td>\n",
       "      <td>False</td>\n",
       "      <td>안 마심</td>\n",
       "      <td>010-2575-6398</td>\n",
       "      <td>True</td>\n",
       "      <td>0개월</td>\n",
       "      <td>2017년 05월 07일</td>\n",
       "      <td>2017년 05월 07일</td>\n",
       "      <td>True</td>\n",
       "    </tr>\n",
       "  </tbody>\n",
       "</table>\n",
       "</div>"
      ],
      "text/plain": [
       "  Name Gender   Age Height Current Weight Goal Weight  Smoking Drinking  \\\n",
       "0  안원준     남성  31.0    176             78          68    False     주 1회   \n",
       "1  유세아     여성  39.0    172           56kg        51kg     True     월 1회   \n",
       "2  송솔은     여성   NaN    167             29          21     True     주 1회   \n",
       "3  백서원     여성  36.0      0             67          65     True     안 마심   \n",
       "4  박서은     여성  42.0    167             60          57    False     안 마심   \n",
       "\n",
       "    Phone Number  Request Counselling Paid Plan      Joined At     Updated At  \\\n",
       "0  010-2292-6251                False       0개월  2016년 07월 05일  2016년 07월 05일   \n",
       "1    01045795881                False       0개월  2016년 10월 02일  2016년 11월 29일   \n",
       "2  010-7719-8346                False       0개월  2017년 09월 06일  2017년 09월 06일   \n",
       "3    01011947169                False       0개월  2017년 06월 02일  2017년 07월 28일   \n",
       "4  010-2575-6398                 True       0개월  2017년 05월 07일  2017년 05월 07일   \n",
       "\n",
       "   Is Free  \n",
       "0     True  \n",
       "1     True  \n",
       "2     True  \n",
       "3     True  \n",
       "4     True  "
      ]
     },
     "execution_count": 38,
     "metadata": {},
     "output_type": "execute_result"
    }
   ],
   "source": [
    "# 일단 user_info2가 어떻게 생겼나보자.\n",
    "users.head()"
   ]
  },
  {
   "cell_type": "code",
   "execution_count": 39,
   "metadata": {},
   "outputs": [
    {
     "data": {
      "text/plain": [
       "0    010-2292-6251\n",
       "1      01045795881\n",
       "2    010-7719-8346\n",
       "3      01011947169\n",
       "4    010-2575-6398\n",
       "Name: Phone Number, dtype: object"
      ]
     },
     "execution_count": 39,
     "metadata": {},
     "output_type": "execute_result"
    }
   ],
   "source": [
    "# 전화번호 컬럼은 Phone Number로 변경했다.\n",
    "# 어떤 데이터가 있는지 보자.\n",
    "# 전화번호니까 분포를 볼 필요는 없을 것 같다. 그냥 Series를 출력한다.\n",
    "users['Phone Number'].head()"
   ]
  },
  {
   "cell_type": "code",
   "execution_count": 40,
   "metadata": {},
   "outputs": [
    {
     "data": {
      "text/html": [
       "<div>\n",
       "<style scoped>\n",
       "    .dataframe tbody tr th:only-of-type {\n",
       "        vertical-align: middle;\n",
       "    }\n",
       "\n",
       "    .dataframe tbody tr th {\n",
       "        vertical-align: top;\n",
       "    }\n",
       "\n",
       "    .dataframe thead th {\n",
       "        text-align: right;\n",
       "    }\n",
       "</style>\n",
       "<table border=\"1\" class=\"dataframe\">\n",
       "  <thead>\n",
       "    <tr style=\"text-align: right;\">\n",
       "      <th></th>\n",
       "      <th>Name</th>\n",
       "      <th>Gender</th>\n",
       "      <th>Age</th>\n",
       "      <th>Height</th>\n",
       "      <th>Current Weight</th>\n",
       "      <th>Goal Weight</th>\n",
       "      <th>Smoking</th>\n",
       "      <th>Drinking</th>\n",
       "      <th>Phone Number</th>\n",
       "      <th>Request Counselling</th>\n",
       "      <th>Paid Plan</th>\n",
       "      <th>Joined At</th>\n",
       "      <th>Updated At</th>\n",
       "      <th>Is Free</th>\n",
       "    </tr>\n",
       "  </thead>\n",
       "  <tbody>\n",
       "    <tr>\n",
       "      <th>10</th>\n",
       "      <td>한대권</td>\n",
       "      <td>남성</td>\n",
       "      <td>37.0</td>\n",
       "      <td>0</td>\n",
       "      <td>78</td>\n",
       "      <td>69</td>\n",
       "      <td>False</td>\n",
       "      <td>주 1회</td>\n",
       "      <td>unknown</td>\n",
       "      <td>False</td>\n",
       "      <td>3개월</td>\n",
       "      <td>2016년 04월 10일</td>\n",
       "      <td>2016년 04월 10일</td>\n",
       "      <td>False</td>\n",
       "    </tr>\n",
       "    <tr>\n",
       "      <th>16</th>\n",
       "      <td>황서은</td>\n",
       "      <td>여성</td>\n",
       "      <td>34.0</td>\n",
       "      <td>172</td>\n",
       "      <td>59</td>\n",
       "      <td>56</td>\n",
       "      <td>False</td>\n",
       "      <td>월 2회</td>\n",
       "      <td>unknown</td>\n",
       "      <td>False</td>\n",
       "      <td>0개월</td>\n",
       "      <td>2016년 08월 17일</td>\n",
       "      <td>2016년 08월 29일</td>\n",
       "      <td>True</td>\n",
       "    </tr>\n",
       "    <tr>\n",
       "      <th>28</th>\n",
       "      <td>박성원</td>\n",
       "      <td>남성</td>\n",
       "      <td>34.0</td>\n",
       "      <td>0</td>\n",
       "      <td>0</td>\n",
       "      <td>0</td>\n",
       "      <td>False</td>\n",
       "      <td>월 2회</td>\n",
       "      <td>unknown</td>\n",
       "      <td>False</td>\n",
       "      <td>6개월</td>\n",
       "      <td>2016년 09월 21일</td>\n",
       "      <td>2016년 09월 21일</td>\n",
       "      <td>False</td>\n",
       "    </tr>\n",
       "    <tr>\n",
       "      <th>35</th>\n",
       "      <td>한대윤</td>\n",
       "      <td>남</td>\n",
       "      <td>NaN</td>\n",
       "      <td>176</td>\n",
       "      <td>82kg</td>\n",
       "      <td>75kg</td>\n",
       "      <td>False</td>\n",
       "      <td>월 1회</td>\n",
       "      <td>unknown</td>\n",
       "      <td>False</td>\n",
       "      <td>0개월</td>\n",
       "      <td>2017년 08월 13일</td>\n",
       "      <td>2017년 08월 13일</td>\n",
       "      <td>True</td>\n",
       "    </tr>\n",
       "    <tr>\n",
       "      <th>49</th>\n",
       "      <td>황은우</td>\n",
       "      <td>남성</td>\n",
       "      <td>37.0</td>\n",
       "      <td>174</td>\n",
       "      <td>82kg</td>\n",
       "      <td>81kg</td>\n",
       "      <td>False</td>\n",
       "      <td>주 1회</td>\n",
       "      <td>unknown</td>\n",
       "      <td>False</td>\n",
       "      <td>0개월</td>\n",
       "      <td>2017년 11월 10일</td>\n",
       "      <td>2018년 02월 16일</td>\n",
       "      <td>True</td>\n",
       "    </tr>\n",
       "  </tbody>\n",
       "</table>\n",
       "</div>"
      ],
      "text/plain": [
       "   Name Gender   Age Height Current Weight Goal Weight  Smoking Drinking  \\\n",
       "10  한대권     남성  37.0      0             78          69    False     주 1회   \n",
       "16  황서은     여성  34.0    172             59          56    False     월 2회   \n",
       "28  박성원     남성  34.0      0              0           0    False     월 2회   \n",
       "35  한대윤      남   NaN    176           82kg        75kg    False     월 1회   \n",
       "49  황은우     남성  37.0    174           82kg        81kg    False     주 1회   \n",
       "\n",
       "   Phone Number  Request Counselling Paid Plan      Joined At     Updated At  \\\n",
       "10      unknown                False       3개월  2016년 04월 10일  2016년 04월 10일   \n",
       "16      unknown                False       0개월  2016년 08월 17일  2016년 08월 29일   \n",
       "28      unknown                False       6개월  2016년 09월 21일  2016년 09월 21일   \n",
       "35      unknown                False       0개월  2017년 08월 13일  2017년 08월 13일   \n",
       "49      unknown                False       0개월  2017년 11월 10일  2018년 02월 16일   \n",
       "\n",
       "    Is Free  \n",
       "10    False  \n",
       "16     True  \n",
       "28    False  \n",
       "35     True  \n",
       "49     True  "
      ]
     },
     "execution_count": 40,
     "metadata": {},
     "output_type": "execute_result"
    }
   ],
   "source": [
    "# 먼저 unknown인 것을 출력해보자.\n",
    "users[users['Phone Number'] == 'unknown'].head()"
   ]
  },
  {
   "cell_type": "code",
   "execution_count": 41,
   "metadata": {},
   "outputs": [
    {
     "data": {
      "text/plain": [
       "10640"
      ]
     },
     "execution_count": 41,
     "metadata": {},
     "output_type": "execute_result"
    }
   ],
   "source": [
    "# unknown의 개수를 확인해보자.\n",
    "len(users[users['Phone Number'] == 'unknown'])"
   ]
  },
  {
   "cell_type": "markdown",
   "metadata": {},
   "source": [
    "- **unknown을 NaN으로 변환한다.**"
   ]
  },
  {
   "cell_type": "code",
   "execution_count": 42,
   "metadata": {},
   "outputs": [],
   "source": [
    "users.loc[users['Phone Number'] == 'unknown', 'Phone Number'] = np.nan"
   ]
  },
  {
   "cell_type": "code",
   "execution_count": 43,
   "metadata": {},
   "outputs": [
    {
     "data": {
      "text/html": [
       "<div>\n",
       "<style scoped>\n",
       "    .dataframe tbody tr th:only-of-type {\n",
       "        vertical-align: middle;\n",
       "    }\n",
       "\n",
       "    .dataframe tbody tr th {\n",
       "        vertical-align: top;\n",
       "    }\n",
       "\n",
       "    .dataframe thead th {\n",
       "        text-align: right;\n",
       "    }\n",
       "</style>\n",
       "<table border=\"1\" class=\"dataframe\">\n",
       "  <thead>\n",
       "    <tr style=\"text-align: right;\">\n",
       "      <th></th>\n",
       "      <th>Name</th>\n",
       "      <th>Gender</th>\n",
       "      <th>Age</th>\n",
       "      <th>Height</th>\n",
       "      <th>Current Weight</th>\n",
       "      <th>Goal Weight</th>\n",
       "      <th>Smoking</th>\n",
       "      <th>Drinking</th>\n",
       "      <th>Phone Number</th>\n",
       "      <th>Request Counselling</th>\n",
       "      <th>Paid Plan</th>\n",
       "      <th>Joined At</th>\n",
       "      <th>Updated At</th>\n",
       "      <th>Is Free</th>\n",
       "    </tr>\n",
       "  </thead>\n",
       "  <tbody>\n",
       "  </tbody>\n",
       "</table>\n",
       "</div>"
      ],
      "text/plain": [
       "Empty DataFrame\n",
       "Columns: [Name, Gender, Age, Height, Current Weight, Goal Weight, Smoking, Drinking, Phone Number, Request Counselling, Paid Plan, Joined At, Updated At, Is Free]\n",
       "Index: []"
      ]
     },
     "execution_count": 43,
     "metadata": {},
     "output_type": "execute_result"
    }
   ],
   "source": [
    "# unknown은 없는 것이 확인됐다.\n",
    "users[users['Phone Number'] == 'unknown']"
   ]
  },
  {
   "cell_type": "code",
   "execution_count": 44,
   "metadata": {},
   "outputs": [
    {
     "data": {
      "text/plain": [
       "10640"
      ]
     },
     "execution_count": 44,
     "metadata": {},
     "output_type": "execute_result"
    }
   ],
   "source": [
    "users['Phone Number'].isnull().sum()"
   ]
  },
  {
   "cell_type": "code",
   "execution_count": 45,
   "metadata": {},
   "outputs": [
    {
     "data": {
      "text/plain": [
       "0    010-2292-6251\n",
       "1      01045795881\n",
       "2    010-7719-8346\n",
       "3      01011947169\n",
       "4    010-2575-6398\n",
       "Name: Phone Number, dtype: object"
      ]
     },
     "execution_count": 45,
     "metadata": {},
     "output_type": "execute_result"
    }
   ],
   "source": [
    "users['Phone Number'].head()"
   ]
  },
  {
   "cell_type": "code",
   "execution_count": 46,
   "metadata": {},
   "outputs": [],
   "source": [
    "#users.to_csv('./data/USER_INFO_04.csv', index=False)"
   ]
  },
  {
   "cell_type": "markdown",
   "metadata": {},
   "source": [
    "** 10. 키(cm) 컬럼을 정리해주세요. 다음과 같이 정리해주시면 됩니다.** \n",
    "\n",
    "* 다양한 형태로 표현되어 있는 키 컬럼(?, ?cm, ? cm 등)을 숫자로 통일해주세요.\n",
    "* 키가 0으로 되어있으면 NaN으로 바꿔주세요.\n",
    "* 키가 너무 작거나(140cm 이하) 너무 크면(210cm 이상) 마찬가지로 NaN으로 바꿔주세요."
   ]
  },
  {
   "cell_type": "code",
   "execution_count": 47,
   "metadata": {},
   "outputs": [],
   "source": [
    "#users = pd.read_csv('./data/USER_INFO_04.csv')"
   ]
  },
  {
   "cell_type": "code",
   "execution_count": 48,
   "metadata": {},
   "outputs": [
    {
     "data": {
      "text/html": [
       "<div>\n",
       "<style scoped>\n",
       "    .dataframe tbody tr th:only-of-type {\n",
       "        vertical-align: middle;\n",
       "    }\n",
       "\n",
       "    .dataframe tbody tr th {\n",
       "        vertical-align: top;\n",
       "    }\n",
       "\n",
       "    .dataframe thead th {\n",
       "        text-align: right;\n",
       "    }\n",
       "</style>\n",
       "<table border=\"1\" class=\"dataframe\">\n",
       "  <thead>\n",
       "    <tr style=\"text-align: right;\">\n",
       "      <th></th>\n",
       "      <th>Name</th>\n",
       "      <th>Gender</th>\n",
       "      <th>Age</th>\n",
       "      <th>Height</th>\n",
       "      <th>Current Weight</th>\n",
       "      <th>Goal Weight</th>\n",
       "      <th>Smoking</th>\n",
       "      <th>Drinking</th>\n",
       "      <th>Phone Number</th>\n",
       "      <th>Request Counselling</th>\n",
       "      <th>Paid Plan</th>\n",
       "      <th>Joined At</th>\n",
       "      <th>Updated At</th>\n",
       "      <th>Is Free</th>\n",
       "    </tr>\n",
       "  </thead>\n",
       "  <tbody>\n",
       "    <tr>\n",
       "      <th>0</th>\n",
       "      <td>안원준</td>\n",
       "      <td>남성</td>\n",
       "      <td>31.0</td>\n",
       "      <td>176</td>\n",
       "      <td>78</td>\n",
       "      <td>68</td>\n",
       "      <td>False</td>\n",
       "      <td>주 1회</td>\n",
       "      <td>010-2292-6251</td>\n",
       "      <td>False</td>\n",
       "      <td>0개월</td>\n",
       "      <td>2016년 07월 05일</td>\n",
       "      <td>2016년 07월 05일</td>\n",
       "      <td>True</td>\n",
       "    </tr>\n",
       "    <tr>\n",
       "      <th>1</th>\n",
       "      <td>유세아</td>\n",
       "      <td>여성</td>\n",
       "      <td>39.0</td>\n",
       "      <td>172</td>\n",
       "      <td>56kg</td>\n",
       "      <td>51kg</td>\n",
       "      <td>True</td>\n",
       "      <td>월 1회</td>\n",
       "      <td>01045795881</td>\n",
       "      <td>False</td>\n",
       "      <td>0개월</td>\n",
       "      <td>2016년 10월 02일</td>\n",
       "      <td>2016년 11월 29일</td>\n",
       "      <td>True</td>\n",
       "    </tr>\n",
       "    <tr>\n",
       "      <th>2</th>\n",
       "      <td>송솔은</td>\n",
       "      <td>여성</td>\n",
       "      <td>NaN</td>\n",
       "      <td>167</td>\n",
       "      <td>29</td>\n",
       "      <td>21</td>\n",
       "      <td>True</td>\n",
       "      <td>주 1회</td>\n",
       "      <td>010-7719-8346</td>\n",
       "      <td>False</td>\n",
       "      <td>0개월</td>\n",
       "      <td>2017년 09월 06일</td>\n",
       "      <td>2017년 09월 06일</td>\n",
       "      <td>True</td>\n",
       "    </tr>\n",
       "    <tr>\n",
       "      <th>3</th>\n",
       "      <td>백서원</td>\n",
       "      <td>여성</td>\n",
       "      <td>36.0</td>\n",
       "      <td>0</td>\n",
       "      <td>67</td>\n",
       "      <td>65</td>\n",
       "      <td>True</td>\n",
       "      <td>안 마심</td>\n",
       "      <td>01011947169</td>\n",
       "      <td>False</td>\n",
       "      <td>0개월</td>\n",
       "      <td>2017년 06월 02일</td>\n",
       "      <td>2017년 07월 28일</td>\n",
       "      <td>True</td>\n",
       "    </tr>\n",
       "    <tr>\n",
       "      <th>4</th>\n",
       "      <td>박서은</td>\n",
       "      <td>여성</td>\n",
       "      <td>42.0</td>\n",
       "      <td>167</td>\n",
       "      <td>60</td>\n",
       "      <td>57</td>\n",
       "      <td>False</td>\n",
       "      <td>안 마심</td>\n",
       "      <td>010-2575-6398</td>\n",
       "      <td>True</td>\n",
       "      <td>0개월</td>\n",
       "      <td>2017년 05월 07일</td>\n",
       "      <td>2017년 05월 07일</td>\n",
       "      <td>True</td>\n",
       "    </tr>\n",
       "  </tbody>\n",
       "</table>\n",
       "</div>"
      ],
      "text/plain": [
       "  Name Gender   Age Height Current Weight Goal Weight  Smoking Drinking  \\\n",
       "0  안원준     남성  31.0    176             78          68    False     주 1회   \n",
       "1  유세아     여성  39.0    172           56kg        51kg     True     월 1회   \n",
       "2  송솔은     여성   NaN    167             29          21     True     주 1회   \n",
       "3  백서원     여성  36.0      0             67          65     True     안 마심   \n",
       "4  박서은     여성  42.0    167             60          57    False     안 마심   \n",
       "\n",
       "    Phone Number  Request Counselling Paid Plan      Joined At     Updated At  \\\n",
       "0  010-2292-6251                False       0개월  2016년 07월 05일  2016년 07월 05일   \n",
       "1    01045795881                False       0개월  2016년 10월 02일  2016년 11월 29일   \n",
       "2  010-7719-8346                False       0개월  2017년 09월 06일  2017년 09월 06일   \n",
       "3    01011947169                False       0개월  2017년 06월 02일  2017년 07월 28일   \n",
       "4  010-2575-6398                 True       0개월  2017년 05월 07일  2017년 05월 07일   \n",
       "\n",
       "   Is Free  \n",
       "0     True  \n",
       "1     True  \n",
       "2     True  \n",
       "3     True  \n",
       "4     True  "
      ]
     },
     "execution_count": 48,
     "metadata": {},
     "output_type": "execute_result"
    }
   ],
   "source": [
    "users.head()"
   ]
  },
  {
   "cell_type": "code",
   "execution_count": 49,
   "metadata": {},
   "outputs": [
    {
     "data": {
      "text/plain": [
       "array(['176', '172', '167', '0', '171', '177', '164', '170', '178', '182',\n",
       "       '184', '217 cm', '159', '169', '175', '173', '121cm', '156', '168',\n",
       "       '166', '165', '206cm', '181', '174', '177 cm', '157', '172cm',\n",
       "       '180 cm', '175cm', '179cm', '179', '161', '183', '132', '185',\n",
       "       '180', '172 cm', '169 cm', '174 cm', '162', '174cm', '170 cm',\n",
       "       '188', '160', '171cm', '126', '158', '176 cm', '173 cm', '167 cm',\n",
       "       '162cm', '180cm', '134cm', '234', '159cm', '163', '155', '182cm',\n",
       "       '178cm', '104', '163 cm', '162 cm', '166 cm', '187', '114', '106',\n",
       "       '164cm', '173cm', '182 cm', '166cm', '181cm', '186 cm', '192',\n",
       "       '165 cm', '139', '160 cm', '181 cm', '170cm', '171 cm', '179 cm',\n",
       "       '186', '201', '243', '168cm', '208', '219', '178 cm', '176cm',\n",
       "       '164 cm', '177cm', '152', '238', '225', '169cm', '211', '184 cm',\n",
       "       '183cm', '155cm', '167cm', '110', '247', '246', '124', '165cm',\n",
       "       '161cm', '109', '183 cm', '222', '191', '125', '175 cm', '206',\n",
       "       '154', '163cm', '212', '230', '218', '159 cm', '119', '168 cm',\n",
       "       '242', '129 cm', '224', '161 cm', '187 cm', '107', '137', '160cm',\n",
       "       '185cm', '189', '210cm', '213', '237', '200', '131', '241', '100',\n",
       "       '187cm', '122 cm', '158cm', '101', '215', '134', '234cm', '209',\n",
       "       '190cm', '185 cm', '130', '231 cm', '129', '127', '214cm', '139cm',\n",
       "       '121', '153', '220', '184cm', '231', '193', '227', '103', '204',\n",
       "       '102', '158 cm', '155 cm', '221', '136', '225cm', '248cm', '205',\n",
       "       '228', '190', '226', '219cm', '236 cm', '117', '115', '127 cm',\n",
       "       '186cm', '214', '195', '138', '235', '205cm', '157cm', '188 cm',\n",
       "       '108', '203', '243cm', '245', '133', '207', '149', '248', '127cm',\n",
       "       '130 cm', '108cm', '101cm', '210', '236', '232', '100cm', '120',\n",
       "       '154cm', '156cm', '128', '233', '239', '115 cm', '216', '151',\n",
       "       '247cm', '122', '112', '249', '234 cm', '223 cm', '105', '202',\n",
       "       '135', '223', '157 cm', '118', '211cm', '226cm', '151cm', '204cm',\n",
       "       '217', '103cm', '229', '189cm', '227cm', '244', '111', '118 cm',\n",
       "       '245 cm', '116', '240', '121 cm', '113', '244cm', '194', '152cm',\n",
       "       '113 cm', '233 cm', '153cm', '229 cm', '208cm', '150', '126cm',\n",
       "       '188cm', '223cm', '123', '212 cm', '246cm', '114cm', '111cm',\n",
       "       '220cm', '153 cm', '224 cm', '216 cm', '136cm', '224cm', '148',\n",
       "       '189 cm', '216cm', '137 cm', '130cm', '154 cm', '138 cm', '135cm',\n",
       "       '125 cm', '100 cm', '209cm', '226 cm', '116cm', '126 cm', '239cm',\n",
       "       '210 cm', '221cm', '232 cm', '106cm', '120cm', '247 cm', '228 cm',\n",
       "       '129cm', '128cm', '124 cm', '229cm', '246 cm', '156 cm', '119 cm',\n",
       "       '117cm', '238 cm', '111 cm', '107 cm', '120 cm', '207cm', '101 cm',\n",
       "       '105cm', '190 cm', '191 cm', '215 cm', '107cm', '123cm', '131 cm',\n",
       "       '204 cm', '136 cm', '104cm', '115cm', '102cm', '117 cm', '193cm',\n",
       "       '108 cm', '209 cm', '218cm', '152 cm', '237 cm', '196', '137cm',\n",
       "       '102 cm', '138cm', '217cm', '114 cm', '197', '110cm', '112 cm',\n",
       "       '240 cm', '236cm', '242cm', '192cm', '139 cm', '132 cm', '194cm',\n",
       "       '222 cm', '241 cm', '106 cm', '104 cm', '221 cm', '230cm', '133cm',\n",
       "       '131cm', '201 cm', '211 cm', '125cm', '249cm', '132cm', '202cm',\n",
       "       '213 cm', '220 cm', '207 cm', '208 cm', '240cm', '200 cm', '237cm',\n",
       "       '206 cm', '151 cm', '212cm', '135 cm', '112cm', '150cm'],\n",
       "      dtype=object)"
      ]
     },
     "execution_count": 49,
     "metadata": {},
     "output_type": "execute_result"
    }
   ],
   "source": [
    "users['Height'].unique()"
   ]
  },
  {
   "cell_type": "code",
   "execution_count": 50,
   "metadata": {},
   "outputs": [],
   "source": [
    "clean_height = clean_num_col('cm', '')\n",
    "users['Height'] = users['Height'].map(clean_height)"
   ]
  },
  {
   "cell_type": "code",
   "execution_count": 51,
   "metadata": {},
   "outputs": [
    {
     "data": {
      "text/plain": [
       "array([176, 172, 167,   0, 171, 177, 164, 170, 178, 182, 184, 217, 159,\n",
       "       169, 175, 173, 121, 156, 168, 166, 165, 206, 181, 174, 157, 180,\n",
       "       179, 161, 183, 132, 185, 162, 188, 160, 126, 158, 134, 234, 163,\n",
       "       155, 104, 187, 114, 106, 186, 192, 139, 201, 243, 208, 219, 152,\n",
       "       238, 225, 211, 110, 247, 246, 124, 109, 222, 191, 125, 154, 212,\n",
       "       230, 218, 119, 242, 129, 224, 107, 137, 189, 210, 213, 237, 200,\n",
       "       131, 241, 100, 122, 101, 215, 209, 190, 130, 231, 127, 214, 153,\n",
       "       220, 193, 227, 103, 204, 102, 221, 136, 248, 205, 228, 226, 236,\n",
       "       117, 115, 195, 138, 235, 108, 203, 245, 133, 207, 149, 232, 120,\n",
       "       128, 233, 239, 216, 151, 112, 249, 223, 105, 202, 135, 118, 229,\n",
       "       244, 111, 116, 240, 113, 194, 150, 123, 148, 196, 197], dtype=int64)"
      ]
     },
     "execution_count": 51,
     "metadata": {},
     "output_type": "execute_result"
    }
   ],
   "source": [
    "users['Height'].unique()"
   ]
  },
  {
   "cell_type": "code",
   "execution_count": 52,
   "metadata": {},
   "outputs": [],
   "source": [
    "def drop_value(func):\n",
    "    def wrapper(data):\n",
    "        if func(data):\n",
    "            return np.nan\n",
    "        return data\n",
    "    return wrapper"
   ]
  },
  {
   "cell_type": "code",
   "execution_count": 53,
   "metadata": {},
   "outputs": [],
   "source": [
    "drop_height_min_value = drop_value(lambda x: x <= 120 or x >= 210)"
   ]
  },
  {
   "cell_type": "code",
   "execution_count": 54,
   "metadata": {},
   "outputs": [
    {
     "data": {
      "text/plain": [
       "nan"
      ]
     },
     "execution_count": 54,
     "metadata": {},
     "output_type": "execute_result"
    }
   ],
   "source": [
    "drop_height_min_value(220)"
   ]
  },
  {
   "cell_type": "code",
   "execution_count": 55,
   "metadata": {},
   "outputs": [],
   "source": [
    "users['Height'] = users['Height'].map(drop_height_min_value)"
   ]
  },
  {
   "cell_type": "code",
   "execution_count": 56,
   "metadata": {},
   "outputs": [
    {
     "data": {
      "text/plain": [
       "array([176., 172., 167.,  nan, 171., 177., 164., 170., 178., 182., 184.,\n",
       "       159., 169., 175., 173., 121., 156., 168., 166., 165., 206., 181.,\n",
       "       174., 157., 180., 179., 161., 183., 132., 185., 162., 188., 160.,\n",
       "       126., 158., 134., 163., 155., 187., 186., 192., 139., 201., 208.,\n",
       "       152., 124., 191., 125., 154., 129., 137., 189., 200., 131., 122.,\n",
       "       209., 190., 130., 127., 153., 193., 204., 136., 205., 195., 138.,\n",
       "       203., 133., 207., 149., 128., 151., 202., 135., 194., 150., 123.,\n",
       "       148., 196., 197.])"
      ]
     },
     "execution_count": 56,
     "metadata": {},
     "output_type": "execute_result"
    }
   ],
   "source": [
    "users['Height'].unique()"
   ]
  },
  {
   "cell_type": "code",
   "execution_count": 57,
   "metadata": {},
   "outputs": [],
   "source": [
    "#users.to_csv('./data/USER_INFO_05.csv', index=False)"
   ]
  },
  {
   "cell_type": "markdown",
   "metadata": {},
   "source": [
    "** 11.'현재 체중'과\t'목표 체중' 컬럼을 정리해주세요. 다음과 같이 정리해주시면 됩니다.** \n",
    "\n",
    "* 다양한 형태로 표현되어 있는 몸무게 컬럼(?, ?kg, ? kg 등)을 숫자로 통일해주세요.\n",
    "* 몸무게가 0으로 되어있으면 NaN으로 바꿔주세요.\n",
    "* 몸무게가 너무 작거나(40kg 이하) 너무 크면(150kg 이상) 마찬가지로 NaN으로 바꿔주세요."
   ]
  },
  {
   "cell_type": "code",
   "execution_count": 58,
   "metadata": {},
   "outputs": [],
   "source": [
    "#users = pd.read_csv('./data/USER_INFO_05.csv')"
   ]
  },
  {
   "cell_type": "code",
   "execution_count": 59,
   "metadata": {},
   "outputs": [
    {
     "data": {
      "text/html": [
       "<div>\n",
       "<style scoped>\n",
       "    .dataframe tbody tr th:only-of-type {\n",
       "        vertical-align: middle;\n",
       "    }\n",
       "\n",
       "    .dataframe tbody tr th {\n",
       "        vertical-align: top;\n",
       "    }\n",
       "\n",
       "    .dataframe thead th {\n",
       "        text-align: right;\n",
       "    }\n",
       "</style>\n",
       "<table border=\"1\" class=\"dataframe\">\n",
       "  <thead>\n",
       "    <tr style=\"text-align: right;\">\n",
       "      <th></th>\n",
       "      <th>Name</th>\n",
       "      <th>Gender</th>\n",
       "      <th>Age</th>\n",
       "      <th>Height</th>\n",
       "      <th>Current Weight</th>\n",
       "      <th>Goal Weight</th>\n",
       "      <th>Smoking</th>\n",
       "      <th>Drinking</th>\n",
       "      <th>Phone Number</th>\n",
       "      <th>Request Counselling</th>\n",
       "      <th>Paid Plan</th>\n",
       "      <th>Joined At</th>\n",
       "      <th>Updated At</th>\n",
       "      <th>Is Free</th>\n",
       "    </tr>\n",
       "  </thead>\n",
       "  <tbody>\n",
       "    <tr>\n",
       "      <th>0</th>\n",
       "      <td>안원준</td>\n",
       "      <td>남성</td>\n",
       "      <td>31.0</td>\n",
       "      <td>176.0</td>\n",
       "      <td>78</td>\n",
       "      <td>68</td>\n",
       "      <td>False</td>\n",
       "      <td>주 1회</td>\n",
       "      <td>010-2292-6251</td>\n",
       "      <td>False</td>\n",
       "      <td>0개월</td>\n",
       "      <td>2016년 07월 05일</td>\n",
       "      <td>2016년 07월 05일</td>\n",
       "      <td>True</td>\n",
       "    </tr>\n",
       "    <tr>\n",
       "      <th>1</th>\n",
       "      <td>유세아</td>\n",
       "      <td>여성</td>\n",
       "      <td>39.0</td>\n",
       "      <td>172.0</td>\n",
       "      <td>56kg</td>\n",
       "      <td>51kg</td>\n",
       "      <td>True</td>\n",
       "      <td>월 1회</td>\n",
       "      <td>01045795881</td>\n",
       "      <td>False</td>\n",
       "      <td>0개월</td>\n",
       "      <td>2016년 10월 02일</td>\n",
       "      <td>2016년 11월 29일</td>\n",
       "      <td>True</td>\n",
       "    </tr>\n",
       "    <tr>\n",
       "      <th>2</th>\n",
       "      <td>송솔은</td>\n",
       "      <td>여성</td>\n",
       "      <td>NaN</td>\n",
       "      <td>167.0</td>\n",
       "      <td>29</td>\n",
       "      <td>21</td>\n",
       "      <td>True</td>\n",
       "      <td>주 1회</td>\n",
       "      <td>010-7719-8346</td>\n",
       "      <td>False</td>\n",
       "      <td>0개월</td>\n",
       "      <td>2017년 09월 06일</td>\n",
       "      <td>2017년 09월 06일</td>\n",
       "      <td>True</td>\n",
       "    </tr>\n",
       "    <tr>\n",
       "      <th>3</th>\n",
       "      <td>백서원</td>\n",
       "      <td>여성</td>\n",
       "      <td>36.0</td>\n",
       "      <td>NaN</td>\n",
       "      <td>67</td>\n",
       "      <td>65</td>\n",
       "      <td>True</td>\n",
       "      <td>안 마심</td>\n",
       "      <td>01011947169</td>\n",
       "      <td>False</td>\n",
       "      <td>0개월</td>\n",
       "      <td>2017년 06월 02일</td>\n",
       "      <td>2017년 07월 28일</td>\n",
       "      <td>True</td>\n",
       "    </tr>\n",
       "    <tr>\n",
       "      <th>4</th>\n",
       "      <td>박서은</td>\n",
       "      <td>여성</td>\n",
       "      <td>42.0</td>\n",
       "      <td>167.0</td>\n",
       "      <td>60</td>\n",
       "      <td>57</td>\n",
       "      <td>False</td>\n",
       "      <td>안 마심</td>\n",
       "      <td>010-2575-6398</td>\n",
       "      <td>True</td>\n",
       "      <td>0개월</td>\n",
       "      <td>2017년 05월 07일</td>\n",
       "      <td>2017년 05월 07일</td>\n",
       "      <td>True</td>\n",
       "    </tr>\n",
       "  </tbody>\n",
       "</table>\n",
       "</div>"
      ],
      "text/plain": [
       "  Name Gender   Age  Height Current Weight Goal Weight  Smoking Drinking  \\\n",
       "0  안원준     남성  31.0   176.0             78          68    False     주 1회   \n",
       "1  유세아     여성  39.0   172.0           56kg        51kg     True     월 1회   \n",
       "2  송솔은     여성   NaN   167.0             29          21     True     주 1회   \n",
       "3  백서원     여성  36.0     NaN             67          65     True     안 마심   \n",
       "4  박서은     여성  42.0   167.0             60          57    False     안 마심   \n",
       "\n",
       "    Phone Number  Request Counselling Paid Plan      Joined At     Updated At  \\\n",
       "0  010-2292-6251                False       0개월  2016년 07월 05일  2016년 07월 05일   \n",
       "1    01045795881                False       0개월  2016년 10월 02일  2016년 11월 29일   \n",
       "2  010-7719-8346                False       0개월  2017년 09월 06일  2017년 09월 06일   \n",
       "3    01011947169                False       0개월  2017년 06월 02일  2017년 07월 28일   \n",
       "4  010-2575-6398                 True       0개월  2017년 05월 07일  2017년 05월 07일   \n",
       "\n",
       "   Is Free  \n",
       "0     True  \n",
       "1     True  \n",
       "2     True  \n",
       "3     True  \n",
       "4     True  "
      ]
     },
     "execution_count": 59,
     "metadata": {},
     "output_type": "execute_result"
    }
   ],
   "source": [
    "users.head()"
   ]
  },
  {
   "cell_type": "code",
   "execution_count": 60,
   "metadata": {},
   "outputs": [],
   "source": [
    "clean_weight = clean_num_col('kg', '')\n",
    "users['Current Weight'] = users['Current Weight'].map(clean_weight)\n",
    "users['Goal Weight'] = users['Goal Weight'].map(clean_weight)"
   ]
  },
  {
   "cell_type": "code",
   "execution_count": 61,
   "metadata": {},
   "outputs": [
    {
     "data": {
      "text/plain": [
       "array([ 78,  56,  29,  67,  60,  76,   0,  83,  84,  80,  59,  81,  82,\n",
       "        62,  77,  55,  75,  58,  66,  63,  57, 142,  73,  39,  85,  61,\n",
       "        86,  65,  79,  74,  52,  53,  64,  33,  38,  72,  20,  50,  68,\n",
       "        54,  34,  88,  22, 139, 121, 122,  71,  87,  30,  37,  25,  70,\n",
       "        51, 133, 146, 127,  35, 134, 131, 135,  23, 120, 138, 132, 130,\n",
       "        27, 141,  89,  26,  24,  21, 140,  31,  69, 145,  36,  32, 148,\n",
       "        49, 136, 124, 123, 129, 126,  90,  28, 144, 143, 137, 147, 128,\n",
       "       125,  48, 149,  44,  91,  92], dtype=int64)"
      ]
     },
     "execution_count": 61,
     "metadata": {},
     "output_type": "execute_result"
    }
   ],
   "source": [
    "users['Current Weight'].unique()"
   ]
  },
  {
   "cell_type": "code",
   "execution_count": 62,
   "metadata": {},
   "outputs": [
    {
     "data": {
      "text/plain": [
       "array([ 68,  51,  21,  65,  57,  73,   0,  78,  58,  70,  69,  50,  82,\n",
       "        77,  72,  56,  74,  75,  79,  55,  80,  76,  48,  53,  62,  54,\n",
       "        52,  71,  47, 138,  81,  67,  29,  46,  66,  49,  59,  43,  30,\n",
       "        63,  31,  10,  42,  61,  25,  64,  60, 134, 113,  45, 114,  14,\n",
       "        20,  32,  24,  84,  83,  33,  28, 132, 143, 122, 126, 124, 131,\n",
       "        86, 128,  27, 123, 135,  17,  44,  26, 136, 137,  13, 115, 112,\n",
       "        19,  23,  85, 141, 127,  15, 129,  36, 133,  18, 121, 111, 117,\n",
       "        88,  34, 139, 130,  11,  22,  16,  38, 116,  41, 118, 146, 140,\n",
       "        40, 125, 120, 144,  39,  37, 145,  12, 119,  87,  35, 110, 142,\n",
       "       147,  89, 148,  90], dtype=int64)"
      ]
     },
     "execution_count": 62,
     "metadata": {},
     "output_type": "execute_result"
    }
   ],
   "source": [
    "users['Goal Weight'].unique()"
   ]
  },
  {
   "cell_type": "code",
   "execution_count": 63,
   "metadata": {},
   "outputs": [],
   "source": [
    "drop_weight_min_value = drop_value(lambda x: x <= 40 or x >= 150)\n",
    "users['Current Weight'] = users['Current Weight'].map(drop_weight_min_value)\n",
    "users['Goal Weight'] = users['Goal Weight'].map(drop_weight_min_value)"
   ]
  },
  {
   "cell_type": "code",
   "execution_count": 64,
   "metadata": {},
   "outputs": [
    {
     "data": {
      "text/plain": [
       "array([ 78.,  56.,  nan,  67.,  60.,  76.,  83.,  84.,  80.,  59.,  81.,\n",
       "        82.,  62.,  77.,  55.,  75.,  58.,  66.,  63.,  57., 142.,  73.,\n",
       "        85.,  61.,  86.,  65.,  79.,  74.,  52.,  53.,  64.,  72.,  50.,\n",
       "        68.,  54.,  88., 139., 121., 122.,  71.,  87.,  70.,  51., 133.,\n",
       "       146., 127., 134., 131., 135., 120., 138., 132., 130., 141.,  89.,\n",
       "       140.,  69., 145., 148.,  49., 136., 124., 123., 129., 126.,  90.,\n",
       "       144., 143., 137., 147., 128., 125.,  48., 149.,  44.,  91.,  92.])"
      ]
     },
     "execution_count": 64,
     "metadata": {},
     "output_type": "execute_result"
    }
   ],
   "source": [
    "users['Current Weight'].unique()"
   ]
  },
  {
   "cell_type": "code",
   "execution_count": 65,
   "metadata": {},
   "outputs": [
    {
     "data": {
      "text/plain": [
       "array([ 68.,  51.,  nan,  65.,  57.,  73.,  78.,  58.,  70.,  69.,  50.,\n",
       "        82.,  77.,  72.,  56.,  74.,  75.,  79.,  55.,  80.,  76.,  48.,\n",
       "        53.,  62.,  54.,  52.,  71.,  47., 138.,  81.,  67.,  46.,  66.,\n",
       "        49.,  59.,  43.,  63.,  42.,  61.,  64.,  60., 134., 113.,  45.,\n",
       "       114.,  84.,  83., 132., 143., 122., 126., 124., 131.,  86., 128.,\n",
       "       123., 135.,  44., 136., 137., 115., 112.,  85., 141., 127., 129.,\n",
       "       133., 121., 111., 117.,  88., 139., 130., 116.,  41., 118., 146.,\n",
       "       140., 125., 120., 144., 145., 119.,  87., 110., 142., 147.,  89.,\n",
       "       148.,  90.])"
      ]
     },
     "execution_count": 65,
     "metadata": {},
     "output_type": "execute_result"
    }
   ],
   "source": [
    "users['Goal Weight'].unique()"
   ]
  },
  {
   "cell_type": "code",
   "execution_count": 66,
   "metadata": {},
   "outputs": [],
   "source": [
    "#users.to_csv('./data/USER_INFO_06.csv', index=False)"
   ]
  },
  {
   "cell_type": "markdown",
   "metadata": {},
   "source": [
    "### 기본적인 분석을 하기"
   ]
  },
  {
   "cell_type": "markdown",
   "metadata": {},
   "source": [
    "** 12. 전체 데이터에서 평균/최소/최대 키(cm), 그리고 평균/최소/최대 '현재 체중(kg)'과 '목표 체중(kg)'을 찾아주세요. **"
   ]
  },
  {
   "cell_type": "code",
   "execution_count": 67,
   "metadata": {},
   "outputs": [],
   "source": [
    "#users = pd.read_csv('./data/USER_INFO_06.csv')"
   ]
  },
  {
   "cell_type": "code",
   "execution_count": 68,
   "metadata": {},
   "outputs": [
    {
     "data": {
      "text/html": [
       "<div>\n",
       "<style scoped>\n",
       "    .dataframe tbody tr th:only-of-type {\n",
       "        vertical-align: middle;\n",
       "    }\n",
       "\n",
       "    .dataframe tbody tr th {\n",
       "        vertical-align: top;\n",
       "    }\n",
       "\n",
       "    .dataframe thead th {\n",
       "        text-align: right;\n",
       "    }\n",
       "</style>\n",
       "<table border=\"1\" class=\"dataframe\">\n",
       "  <thead>\n",
       "    <tr style=\"text-align: right;\">\n",
       "      <th></th>\n",
       "      <th>Name</th>\n",
       "      <th>Gender</th>\n",
       "      <th>Age</th>\n",
       "      <th>Height</th>\n",
       "      <th>Current Weight</th>\n",
       "      <th>Goal Weight</th>\n",
       "      <th>Smoking</th>\n",
       "      <th>Drinking</th>\n",
       "      <th>Phone Number</th>\n",
       "      <th>Request Counselling</th>\n",
       "      <th>Paid Plan</th>\n",
       "      <th>Joined At</th>\n",
       "      <th>Updated At</th>\n",
       "      <th>Is Free</th>\n",
       "    </tr>\n",
       "  </thead>\n",
       "  <tbody>\n",
       "    <tr>\n",
       "      <th>0</th>\n",
       "      <td>안원준</td>\n",
       "      <td>남성</td>\n",
       "      <td>31.0</td>\n",
       "      <td>176.0</td>\n",
       "      <td>78.0</td>\n",
       "      <td>68.0</td>\n",
       "      <td>False</td>\n",
       "      <td>주 1회</td>\n",
       "      <td>010-2292-6251</td>\n",
       "      <td>False</td>\n",
       "      <td>0개월</td>\n",
       "      <td>2016년 07월 05일</td>\n",
       "      <td>2016년 07월 05일</td>\n",
       "      <td>True</td>\n",
       "    </tr>\n",
       "    <tr>\n",
       "      <th>1</th>\n",
       "      <td>유세아</td>\n",
       "      <td>여성</td>\n",
       "      <td>39.0</td>\n",
       "      <td>172.0</td>\n",
       "      <td>56.0</td>\n",
       "      <td>51.0</td>\n",
       "      <td>True</td>\n",
       "      <td>월 1회</td>\n",
       "      <td>01045795881</td>\n",
       "      <td>False</td>\n",
       "      <td>0개월</td>\n",
       "      <td>2016년 10월 02일</td>\n",
       "      <td>2016년 11월 29일</td>\n",
       "      <td>True</td>\n",
       "    </tr>\n",
       "    <tr>\n",
       "      <th>2</th>\n",
       "      <td>송솔은</td>\n",
       "      <td>여성</td>\n",
       "      <td>NaN</td>\n",
       "      <td>167.0</td>\n",
       "      <td>NaN</td>\n",
       "      <td>NaN</td>\n",
       "      <td>True</td>\n",
       "      <td>주 1회</td>\n",
       "      <td>010-7719-8346</td>\n",
       "      <td>False</td>\n",
       "      <td>0개월</td>\n",
       "      <td>2017년 09월 06일</td>\n",
       "      <td>2017년 09월 06일</td>\n",
       "      <td>True</td>\n",
       "    </tr>\n",
       "    <tr>\n",
       "      <th>3</th>\n",
       "      <td>백서원</td>\n",
       "      <td>여성</td>\n",
       "      <td>36.0</td>\n",
       "      <td>NaN</td>\n",
       "      <td>67.0</td>\n",
       "      <td>65.0</td>\n",
       "      <td>True</td>\n",
       "      <td>안 마심</td>\n",
       "      <td>01011947169</td>\n",
       "      <td>False</td>\n",
       "      <td>0개월</td>\n",
       "      <td>2017년 06월 02일</td>\n",
       "      <td>2017년 07월 28일</td>\n",
       "      <td>True</td>\n",
       "    </tr>\n",
       "    <tr>\n",
       "      <th>4</th>\n",
       "      <td>박서은</td>\n",
       "      <td>여성</td>\n",
       "      <td>42.0</td>\n",
       "      <td>167.0</td>\n",
       "      <td>60.0</td>\n",
       "      <td>57.0</td>\n",
       "      <td>False</td>\n",
       "      <td>안 마심</td>\n",
       "      <td>010-2575-6398</td>\n",
       "      <td>True</td>\n",
       "      <td>0개월</td>\n",
       "      <td>2017년 05월 07일</td>\n",
       "      <td>2017년 05월 07일</td>\n",
       "      <td>True</td>\n",
       "    </tr>\n",
       "  </tbody>\n",
       "</table>\n",
       "</div>"
      ],
      "text/plain": [
       "  Name Gender   Age  Height  Current Weight  Goal Weight  Smoking Drinking  \\\n",
       "0  안원준     남성  31.0   176.0            78.0         68.0    False     주 1회   \n",
       "1  유세아     여성  39.0   172.0            56.0         51.0     True     월 1회   \n",
       "2  송솔은     여성   NaN   167.0             NaN          NaN     True     주 1회   \n",
       "3  백서원     여성  36.0     NaN            67.0         65.0     True     안 마심   \n",
       "4  박서은     여성  42.0   167.0            60.0         57.0    False     안 마심   \n",
       "\n",
       "    Phone Number  Request Counselling Paid Plan      Joined At     Updated At  \\\n",
       "0  010-2292-6251                False       0개월  2016년 07월 05일  2016년 07월 05일   \n",
       "1    01045795881                False       0개월  2016년 10월 02일  2016년 11월 29일   \n",
       "2  010-7719-8346                False       0개월  2017년 09월 06일  2017년 09월 06일   \n",
       "3    01011947169                False       0개월  2017년 06월 02일  2017년 07월 28일   \n",
       "4  010-2575-6398                 True       0개월  2017년 05월 07일  2017년 05월 07일   \n",
       "\n",
       "   Is Free  \n",
       "0     True  \n",
       "1     True  \n",
       "2     True  \n",
       "3     True  \n",
       "4     True  "
      ]
     },
     "execution_count": 68,
     "metadata": {},
     "output_type": "execute_result"
    }
   ],
   "source": [
    "users.head()"
   ]
  },
  {
   "cell_type": "code",
   "execution_count": 69,
   "metadata": {},
   "outputs": [
    {
     "data": {
      "text/plain": [
       "'키 평균: 172.05803119730186, 최소: 121.0, 최대: 209.0'"
      ]
     },
     "execution_count": 69,
     "metadata": {},
     "output_type": "execute_result"
    }
   ],
   "source": [
    "height = users['Height']\n",
    "'키 평균: {}, 최소: {}, 최대: {}'.format(height.mean(), height.min(), height.max())"
   ]
  },
  {
   "cell_type": "code",
   "execution_count": 70,
   "metadata": {},
   "outputs": [
    {
     "data": {
      "text/plain": [
       "'현재 체중 평균: 71.86686965195024, 최소: 44.0, 최대: 149.0'"
      ]
     },
     "execution_count": 70,
     "metadata": {},
     "output_type": "execute_result"
    }
   ],
   "source": [
    "cw = users['Current Weight']\n",
    "'현재 체중 평균: {}, 최소: {}, 최대: {}'.format(cw.mean(), cw.min(), cw.max())"
   ]
  },
  {
   "cell_type": "code",
   "execution_count": 71,
   "metadata": {},
   "outputs": [
    {
     "data": {
      "text/plain": [
       "'목표 체중 평균: 66.3754436440767, 최소: 41.0, 최대: 148.0'"
      ]
     },
     "execution_count": 71,
     "metadata": {},
     "output_type": "execute_result"
    }
   ],
   "source": [
    "gw = users['Goal Weight']\n",
    "'목표 체중 평균: {}, 최소: {}, 최대: {}'.format(gw.mean(), gw.min(), gw.max())"
   ]
  },
  {
   "cell_type": "markdown",
   "metadata": {},
   "source": [
    "** 13. 전체 데이터에서 흡연자와 비흡연자 인원의 총합을 찾아주세요. **"
   ]
  },
  {
   "cell_type": "code",
   "execution_count": 72,
   "metadata": {},
   "outputs": [
    {
     "data": {
      "text/html": [
       "<div>\n",
       "<style scoped>\n",
       "    .dataframe tbody tr th:only-of-type {\n",
       "        vertical-align: middle;\n",
       "    }\n",
       "\n",
       "    .dataframe tbody tr th {\n",
       "        vertical-align: top;\n",
       "    }\n",
       "\n",
       "    .dataframe thead th {\n",
       "        text-align: right;\n",
       "    }\n",
       "</style>\n",
       "<table border=\"1\" class=\"dataframe\">\n",
       "  <thead>\n",
       "    <tr style=\"text-align: right;\">\n",
       "      <th></th>\n",
       "      <th>Name</th>\n",
       "      <th>Gender</th>\n",
       "      <th>Age</th>\n",
       "      <th>Height</th>\n",
       "      <th>Current Weight</th>\n",
       "      <th>Goal Weight</th>\n",
       "      <th>Smoking</th>\n",
       "      <th>Drinking</th>\n",
       "      <th>Phone Number</th>\n",
       "      <th>Request Counselling</th>\n",
       "      <th>Paid Plan</th>\n",
       "      <th>Joined At</th>\n",
       "      <th>Updated At</th>\n",
       "      <th>Is Free</th>\n",
       "    </tr>\n",
       "  </thead>\n",
       "  <tbody>\n",
       "    <tr>\n",
       "      <th>0</th>\n",
       "      <td>안원준</td>\n",
       "      <td>남성</td>\n",
       "      <td>31.0</td>\n",
       "      <td>176.0</td>\n",
       "      <td>78.0</td>\n",
       "      <td>68.0</td>\n",
       "      <td>False</td>\n",
       "      <td>주 1회</td>\n",
       "      <td>010-2292-6251</td>\n",
       "      <td>False</td>\n",
       "      <td>0개월</td>\n",
       "      <td>2016년 07월 05일</td>\n",
       "      <td>2016년 07월 05일</td>\n",
       "      <td>True</td>\n",
       "    </tr>\n",
       "    <tr>\n",
       "      <th>1</th>\n",
       "      <td>유세아</td>\n",
       "      <td>여성</td>\n",
       "      <td>39.0</td>\n",
       "      <td>172.0</td>\n",
       "      <td>56.0</td>\n",
       "      <td>51.0</td>\n",
       "      <td>True</td>\n",
       "      <td>월 1회</td>\n",
       "      <td>01045795881</td>\n",
       "      <td>False</td>\n",
       "      <td>0개월</td>\n",
       "      <td>2016년 10월 02일</td>\n",
       "      <td>2016년 11월 29일</td>\n",
       "      <td>True</td>\n",
       "    </tr>\n",
       "    <tr>\n",
       "      <th>2</th>\n",
       "      <td>송솔은</td>\n",
       "      <td>여성</td>\n",
       "      <td>NaN</td>\n",
       "      <td>167.0</td>\n",
       "      <td>NaN</td>\n",
       "      <td>NaN</td>\n",
       "      <td>True</td>\n",
       "      <td>주 1회</td>\n",
       "      <td>010-7719-8346</td>\n",
       "      <td>False</td>\n",
       "      <td>0개월</td>\n",
       "      <td>2017년 09월 06일</td>\n",
       "      <td>2017년 09월 06일</td>\n",
       "      <td>True</td>\n",
       "    </tr>\n",
       "    <tr>\n",
       "      <th>3</th>\n",
       "      <td>백서원</td>\n",
       "      <td>여성</td>\n",
       "      <td>36.0</td>\n",
       "      <td>NaN</td>\n",
       "      <td>67.0</td>\n",
       "      <td>65.0</td>\n",
       "      <td>True</td>\n",
       "      <td>안 마심</td>\n",
       "      <td>01011947169</td>\n",
       "      <td>False</td>\n",
       "      <td>0개월</td>\n",
       "      <td>2017년 06월 02일</td>\n",
       "      <td>2017년 07월 28일</td>\n",
       "      <td>True</td>\n",
       "    </tr>\n",
       "    <tr>\n",
       "      <th>4</th>\n",
       "      <td>박서은</td>\n",
       "      <td>여성</td>\n",
       "      <td>42.0</td>\n",
       "      <td>167.0</td>\n",
       "      <td>60.0</td>\n",
       "      <td>57.0</td>\n",
       "      <td>False</td>\n",
       "      <td>안 마심</td>\n",
       "      <td>010-2575-6398</td>\n",
       "      <td>True</td>\n",
       "      <td>0개월</td>\n",
       "      <td>2017년 05월 07일</td>\n",
       "      <td>2017년 05월 07일</td>\n",
       "      <td>True</td>\n",
       "    </tr>\n",
       "  </tbody>\n",
       "</table>\n",
       "</div>"
      ],
      "text/plain": [
       "  Name Gender   Age  Height  Current Weight  Goal Weight  Smoking Drinking  \\\n",
       "0  안원준     남성  31.0   176.0            78.0         68.0    False     주 1회   \n",
       "1  유세아     여성  39.0   172.0            56.0         51.0     True     월 1회   \n",
       "2  송솔은     여성   NaN   167.0             NaN          NaN     True     주 1회   \n",
       "3  백서원     여성  36.0     NaN            67.0         65.0     True     안 마심   \n",
       "4  박서은     여성  42.0   167.0            60.0         57.0    False     안 마심   \n",
       "\n",
       "    Phone Number  Request Counselling Paid Plan      Joined At     Updated At  \\\n",
       "0  010-2292-6251                False       0개월  2016년 07월 05일  2016년 07월 05일   \n",
       "1    01045795881                False       0개월  2016년 10월 02일  2016년 11월 29일   \n",
       "2  010-7719-8346                False       0개월  2017년 09월 06일  2017년 09월 06일   \n",
       "3    01011947169                False       0개월  2017년 06월 02일  2017년 07월 28일   \n",
       "4  010-2575-6398                 True       0개월  2017년 05월 07일  2017년 05월 07일   \n",
       "\n",
       "   Is Free  \n",
       "0     True  \n",
       "1     True  \n",
       "2     True  \n",
       "3     True  \n",
       "4     True  "
      ]
     },
     "execution_count": 72,
     "metadata": {},
     "output_type": "execute_result"
    }
   ],
   "source": [
    "users.head()"
   ]
  },
  {
   "cell_type": "code",
   "execution_count": 73,
   "metadata": {},
   "outputs": [
    {
     "data": {
      "text/plain": [
       "array([False,  True])"
      ]
     },
     "execution_count": 73,
     "metadata": {},
     "output_type": "execute_result"
    }
   ],
   "source": [
    "users['Smoking'].unique()"
   ]
  },
  {
   "cell_type": "code",
   "execution_count": 74,
   "metadata": {},
   "outputs": [
    {
     "data": {
      "text/plain": [
       "False    85468\n",
       "True     21371\n",
       "Name: Smoking, dtype: int64"
      ]
     },
     "execution_count": 74,
     "metadata": {},
     "output_type": "execute_result"
    }
   ],
   "source": [
    "users['Smoking'].value_counts()"
   ]
  },
  {
   "cell_type": "code",
   "execution_count": 75,
   "metadata": {},
   "outputs": [
    {
     "data": {
      "text/plain": [
       "0"
      ]
     },
     "execution_count": 75,
     "metadata": {},
     "output_type": "execute_result"
    }
   ],
   "source": [
    "users['Smoking'].isnull().sum()"
   ]
  },
  {
   "cell_type": "code",
   "execution_count": 76,
   "metadata": {},
   "outputs": [
    {
     "data": {
      "text/plain": [
       "(106839, 14)"
      ]
     },
     "execution_count": 76,
     "metadata": {},
     "output_type": "execute_result"
    }
   ],
   "source": [
    "users.shape"
   ]
  },
  {
   "cell_type": "markdown",
   "metadata": {},
   "source": [
    "** 14. 전체 데이터에서 유료 사용자와 무료 사용자의 인원의 총합을 찾아주세요. **\n",
    "\n",
    "또한 유료 사용자만 한정해서, 3개월 / 6개월 / 12개월 결제자의 인원의 총합을 찾아주세요."
   ]
  },
  {
   "cell_type": "code",
   "execution_count": 77,
   "metadata": {},
   "outputs": [
    {
     "data": {
      "text/html": [
       "<div>\n",
       "<style scoped>\n",
       "    .dataframe tbody tr th:only-of-type {\n",
       "        vertical-align: middle;\n",
       "    }\n",
       "\n",
       "    .dataframe tbody tr th {\n",
       "        vertical-align: top;\n",
       "    }\n",
       "\n",
       "    .dataframe thead th {\n",
       "        text-align: right;\n",
       "    }\n",
       "</style>\n",
       "<table border=\"1\" class=\"dataframe\">\n",
       "  <thead>\n",
       "    <tr style=\"text-align: right;\">\n",
       "      <th></th>\n",
       "      <th>Name</th>\n",
       "      <th>Gender</th>\n",
       "      <th>Age</th>\n",
       "      <th>Height</th>\n",
       "      <th>Current Weight</th>\n",
       "      <th>Goal Weight</th>\n",
       "      <th>Smoking</th>\n",
       "      <th>Drinking</th>\n",
       "      <th>Phone Number</th>\n",
       "      <th>Request Counselling</th>\n",
       "      <th>Paid Plan</th>\n",
       "      <th>Joined At</th>\n",
       "      <th>Updated At</th>\n",
       "      <th>Is Free</th>\n",
       "    </tr>\n",
       "  </thead>\n",
       "  <tbody>\n",
       "    <tr>\n",
       "      <th>0</th>\n",
       "      <td>안원준</td>\n",
       "      <td>남성</td>\n",
       "      <td>31.0</td>\n",
       "      <td>176.0</td>\n",
       "      <td>78.0</td>\n",
       "      <td>68.0</td>\n",
       "      <td>False</td>\n",
       "      <td>주 1회</td>\n",
       "      <td>010-2292-6251</td>\n",
       "      <td>False</td>\n",
       "      <td>0개월</td>\n",
       "      <td>2016년 07월 05일</td>\n",
       "      <td>2016년 07월 05일</td>\n",
       "      <td>True</td>\n",
       "    </tr>\n",
       "    <tr>\n",
       "      <th>1</th>\n",
       "      <td>유세아</td>\n",
       "      <td>여성</td>\n",
       "      <td>39.0</td>\n",
       "      <td>172.0</td>\n",
       "      <td>56.0</td>\n",
       "      <td>51.0</td>\n",
       "      <td>True</td>\n",
       "      <td>월 1회</td>\n",
       "      <td>01045795881</td>\n",
       "      <td>False</td>\n",
       "      <td>0개월</td>\n",
       "      <td>2016년 10월 02일</td>\n",
       "      <td>2016년 11월 29일</td>\n",
       "      <td>True</td>\n",
       "    </tr>\n",
       "    <tr>\n",
       "      <th>2</th>\n",
       "      <td>송솔은</td>\n",
       "      <td>여성</td>\n",
       "      <td>NaN</td>\n",
       "      <td>167.0</td>\n",
       "      <td>NaN</td>\n",
       "      <td>NaN</td>\n",
       "      <td>True</td>\n",
       "      <td>주 1회</td>\n",
       "      <td>010-7719-8346</td>\n",
       "      <td>False</td>\n",
       "      <td>0개월</td>\n",
       "      <td>2017년 09월 06일</td>\n",
       "      <td>2017년 09월 06일</td>\n",
       "      <td>True</td>\n",
       "    </tr>\n",
       "    <tr>\n",
       "      <th>3</th>\n",
       "      <td>백서원</td>\n",
       "      <td>여성</td>\n",
       "      <td>36.0</td>\n",
       "      <td>NaN</td>\n",
       "      <td>67.0</td>\n",
       "      <td>65.0</td>\n",
       "      <td>True</td>\n",
       "      <td>안 마심</td>\n",
       "      <td>01011947169</td>\n",
       "      <td>False</td>\n",
       "      <td>0개월</td>\n",
       "      <td>2017년 06월 02일</td>\n",
       "      <td>2017년 07월 28일</td>\n",
       "      <td>True</td>\n",
       "    </tr>\n",
       "    <tr>\n",
       "      <th>4</th>\n",
       "      <td>박서은</td>\n",
       "      <td>여성</td>\n",
       "      <td>42.0</td>\n",
       "      <td>167.0</td>\n",
       "      <td>60.0</td>\n",
       "      <td>57.0</td>\n",
       "      <td>False</td>\n",
       "      <td>안 마심</td>\n",
       "      <td>010-2575-6398</td>\n",
       "      <td>True</td>\n",
       "      <td>0개월</td>\n",
       "      <td>2017년 05월 07일</td>\n",
       "      <td>2017년 05월 07일</td>\n",
       "      <td>True</td>\n",
       "    </tr>\n",
       "  </tbody>\n",
       "</table>\n",
       "</div>"
      ],
      "text/plain": [
       "  Name Gender   Age  Height  Current Weight  Goal Weight  Smoking Drinking  \\\n",
       "0  안원준     남성  31.0   176.0            78.0         68.0    False     주 1회   \n",
       "1  유세아     여성  39.0   172.0            56.0         51.0     True     월 1회   \n",
       "2  송솔은     여성   NaN   167.0             NaN          NaN     True     주 1회   \n",
       "3  백서원     여성  36.0     NaN            67.0         65.0     True     안 마심   \n",
       "4  박서은     여성  42.0   167.0            60.0         57.0    False     안 마심   \n",
       "\n",
       "    Phone Number  Request Counselling Paid Plan      Joined At     Updated At  \\\n",
       "0  010-2292-6251                False       0개월  2016년 07월 05일  2016년 07월 05일   \n",
       "1    01045795881                False       0개월  2016년 10월 02일  2016년 11월 29일   \n",
       "2  010-7719-8346                False       0개월  2017년 09월 06일  2017년 09월 06일   \n",
       "3    01011947169                False       0개월  2017년 06월 02일  2017년 07월 28일   \n",
       "4  010-2575-6398                 True       0개월  2017년 05월 07일  2017년 05월 07일   \n",
       "\n",
       "   Is Free  \n",
       "0     True  \n",
       "1     True  \n",
       "2     True  \n",
       "3     True  \n",
       "4     True  "
      ]
     },
     "execution_count": 77,
     "metadata": {},
     "output_type": "execute_result"
    }
   ],
   "source": [
    "users.head()"
   ]
  },
  {
   "cell_type": "code",
   "execution_count": 78,
   "metadata": {},
   "outputs": [
    {
     "data": {
      "text/plain": [
       "0개월     74955\n",
       "3개월     21250\n",
       "6개월      7291\n",
       "12개월     3343\n",
       "Name: Paid Plan, dtype: int64"
      ]
     },
     "execution_count": 78,
     "metadata": {},
     "output_type": "execute_result"
    }
   ],
   "source": [
    "users['Paid Plan'].value_counts()"
   ]
  },
  {
   "cell_type": "code",
   "execution_count": 79,
   "metadata": {},
   "outputs": [
    {
     "data": {
      "text/plain": [
       "106839"
      ]
     },
     "execution_count": 79,
     "metadata": {},
     "output_type": "execute_result"
    }
   ],
   "source": [
    "users['Paid Plan'].count()"
   ]
  },
  {
   "cell_type": "code",
   "execution_count": 80,
   "metadata": {},
   "outputs": [],
   "source": [
    "paid_plan = users['Paid Plan']"
   ]
  },
  {
   "cell_type": "code",
   "execution_count": 81,
   "metadata": {},
   "outputs": [
    {
     "data": {
      "text/plain": [
       "31884"
      ]
     },
     "execution_count": 81,
     "metadata": {},
     "output_type": "execute_result"
    }
   ],
   "source": [
    "(paid_plan == '3개월').sum() + (paid_plan == '6개월').sum() + (paid_plan == '12개월').sum()"
   ]
  },
  {
   "cell_type": "code",
   "execution_count": 82,
   "metadata": {},
   "outputs": [
    {
     "data": {
      "text/plain": [
       "31884"
      ]
     },
     "execution_count": 82,
     "metadata": {},
     "output_type": "execute_result"
    }
   ],
   "source": [
    "paid_plan[(paid_plan=='3개월') | (paid_plan=='6개월') | (paid_plan=='12개월')].count()"
   ]
  },
  {
   "cell_type": "markdown",
   "metadata": {},
   "source": [
    "** 15. 전체 데이터에서 흡연자와 음주 여부를 바탕으로 다음을 분석해주세요. **\n",
    "  1. 흡연과 음주를 둘 다 안 하는 사람의 인원 총합.\n",
    "  1. 흡연은 하지만 음주는 안 하는 사람의 인원 총합.\n",
    "  1. 흡연은 하지 않지만 음주는 하는 사람의 인원 총합.\n",
    "  1. 흡연과 음주를 둘 다 하는 사람의 인원 총합."
   ]
  },
  {
   "cell_type": "code",
   "execution_count": 83,
   "metadata": {},
   "outputs": [
    {
     "data": {
      "text/html": [
       "<div>\n",
       "<style scoped>\n",
       "    .dataframe tbody tr th:only-of-type {\n",
       "        vertical-align: middle;\n",
       "    }\n",
       "\n",
       "    .dataframe tbody tr th {\n",
       "        vertical-align: top;\n",
       "    }\n",
       "\n",
       "    .dataframe thead th {\n",
       "        text-align: right;\n",
       "    }\n",
       "</style>\n",
       "<table border=\"1\" class=\"dataframe\">\n",
       "  <thead>\n",
       "    <tr style=\"text-align: right;\">\n",
       "      <th></th>\n",
       "      <th>Name</th>\n",
       "      <th>Gender</th>\n",
       "      <th>Age</th>\n",
       "      <th>Height</th>\n",
       "      <th>Current Weight</th>\n",
       "      <th>Goal Weight</th>\n",
       "      <th>Smoking</th>\n",
       "      <th>Drinking</th>\n",
       "      <th>Phone Number</th>\n",
       "      <th>Request Counselling</th>\n",
       "      <th>Paid Plan</th>\n",
       "      <th>Joined At</th>\n",
       "      <th>Updated At</th>\n",
       "      <th>Is Free</th>\n",
       "    </tr>\n",
       "  </thead>\n",
       "  <tbody>\n",
       "    <tr>\n",
       "      <th>0</th>\n",
       "      <td>안원준</td>\n",
       "      <td>남성</td>\n",
       "      <td>31.0</td>\n",
       "      <td>176.0</td>\n",
       "      <td>78.0</td>\n",
       "      <td>68.0</td>\n",
       "      <td>False</td>\n",
       "      <td>주 1회</td>\n",
       "      <td>010-2292-6251</td>\n",
       "      <td>False</td>\n",
       "      <td>0개월</td>\n",
       "      <td>2016년 07월 05일</td>\n",
       "      <td>2016년 07월 05일</td>\n",
       "      <td>True</td>\n",
       "    </tr>\n",
       "    <tr>\n",
       "      <th>1</th>\n",
       "      <td>유세아</td>\n",
       "      <td>여성</td>\n",
       "      <td>39.0</td>\n",
       "      <td>172.0</td>\n",
       "      <td>56.0</td>\n",
       "      <td>51.0</td>\n",
       "      <td>True</td>\n",
       "      <td>월 1회</td>\n",
       "      <td>01045795881</td>\n",
       "      <td>False</td>\n",
       "      <td>0개월</td>\n",
       "      <td>2016년 10월 02일</td>\n",
       "      <td>2016년 11월 29일</td>\n",
       "      <td>True</td>\n",
       "    </tr>\n",
       "    <tr>\n",
       "      <th>2</th>\n",
       "      <td>송솔은</td>\n",
       "      <td>여성</td>\n",
       "      <td>NaN</td>\n",
       "      <td>167.0</td>\n",
       "      <td>NaN</td>\n",
       "      <td>NaN</td>\n",
       "      <td>True</td>\n",
       "      <td>주 1회</td>\n",
       "      <td>010-7719-8346</td>\n",
       "      <td>False</td>\n",
       "      <td>0개월</td>\n",
       "      <td>2017년 09월 06일</td>\n",
       "      <td>2017년 09월 06일</td>\n",
       "      <td>True</td>\n",
       "    </tr>\n",
       "    <tr>\n",
       "      <th>3</th>\n",
       "      <td>백서원</td>\n",
       "      <td>여성</td>\n",
       "      <td>36.0</td>\n",
       "      <td>NaN</td>\n",
       "      <td>67.0</td>\n",
       "      <td>65.0</td>\n",
       "      <td>True</td>\n",
       "      <td>안 마심</td>\n",
       "      <td>01011947169</td>\n",
       "      <td>False</td>\n",
       "      <td>0개월</td>\n",
       "      <td>2017년 06월 02일</td>\n",
       "      <td>2017년 07월 28일</td>\n",
       "      <td>True</td>\n",
       "    </tr>\n",
       "    <tr>\n",
       "      <th>4</th>\n",
       "      <td>박서은</td>\n",
       "      <td>여성</td>\n",
       "      <td>42.0</td>\n",
       "      <td>167.0</td>\n",
       "      <td>60.0</td>\n",
       "      <td>57.0</td>\n",
       "      <td>False</td>\n",
       "      <td>안 마심</td>\n",
       "      <td>010-2575-6398</td>\n",
       "      <td>True</td>\n",
       "      <td>0개월</td>\n",
       "      <td>2017년 05월 07일</td>\n",
       "      <td>2017년 05월 07일</td>\n",
       "      <td>True</td>\n",
       "    </tr>\n",
       "  </tbody>\n",
       "</table>\n",
       "</div>"
      ],
      "text/plain": [
       "  Name Gender   Age  Height  Current Weight  Goal Weight  Smoking Drinking  \\\n",
       "0  안원준     남성  31.0   176.0            78.0         68.0    False     주 1회   \n",
       "1  유세아     여성  39.0   172.0            56.0         51.0     True     월 1회   \n",
       "2  송솔은     여성   NaN   167.0             NaN          NaN     True     주 1회   \n",
       "3  백서원     여성  36.0     NaN            67.0         65.0     True     안 마심   \n",
       "4  박서은     여성  42.0   167.0            60.0         57.0    False     안 마심   \n",
       "\n",
       "    Phone Number  Request Counselling Paid Plan      Joined At     Updated At  \\\n",
       "0  010-2292-6251                False       0개월  2016년 07월 05일  2016년 07월 05일   \n",
       "1    01045795881                False       0개월  2016년 10월 02일  2016년 11월 29일   \n",
       "2  010-7719-8346                False       0개월  2017년 09월 06일  2017년 09월 06일   \n",
       "3    01011947169                False       0개월  2017년 06월 02일  2017년 07월 28일   \n",
       "4  010-2575-6398                 True       0개월  2017년 05월 07일  2017년 05월 07일   \n",
       "\n",
       "   Is Free  \n",
       "0     True  \n",
       "1     True  \n",
       "2     True  \n",
       "3     True  \n",
       "4     True  "
      ]
     },
     "execution_count": 83,
     "metadata": {},
     "output_type": "execute_result"
    }
   ],
   "source": [
    "users.head()"
   ]
  },
  {
   "cell_type": "code",
   "execution_count": 84,
   "metadata": {},
   "outputs": [
    {
     "data": {
      "text/plain": [
       "월 2회    32214\n",
       "주 1회    32194\n",
       "월 1회    21037\n",
       "주 2회    10813\n",
       "안 마심    10581\n",
       "Name: Drinking, dtype: int64"
      ]
     },
     "execution_count": 84,
     "metadata": {},
     "output_type": "execute_result"
    }
   ],
   "source": [
    "users['Drinking'].value_counts()"
   ]
  },
  {
   "cell_type": "code",
   "execution_count": 85,
   "metadata": {},
   "outputs": [
    {
     "data": {
      "text/plain": [
       "0"
      ]
     },
     "execution_count": 85,
     "metadata": {},
     "output_type": "execute_result"
    }
   ],
   "source": [
    "users['Drinking'].isnull().sum()"
   ]
  },
  {
   "cell_type": "code",
   "execution_count": 86,
   "metadata": {},
   "outputs": [
    {
     "data": {
      "text/plain": [
       "array(['주 1회', '월 1회', '안 마심', '월 2회', '주 2회'], dtype=object)"
      ]
     },
     "execution_count": 86,
     "metadata": {},
     "output_type": "execute_result"
    }
   ],
   "source": [
    "users['Drinking'].unique()"
   ]
  },
  {
   "cell_type": "code",
   "execution_count": 87,
   "metadata": {},
   "outputs": [
    {
     "data": {
      "text/plain": [
       "106839"
      ]
     },
     "execution_count": 87,
     "metadata": {},
     "output_type": "execute_result"
    }
   ],
   "source": [
    "users['Drinking'].count()"
   ]
  },
  {
   "cell_type": "code",
   "execution_count": 88,
   "metadata": {},
   "outputs": [],
   "source": [
    "users['IsDrinking'] = 0"
   ]
  },
  {
   "cell_type": "code",
   "execution_count": 89,
   "metadata": {},
   "outputs": [],
   "source": [
    "users.loc[users['Drinking'] == '주 1회', 'IsDrinking'] = 1\n",
    "users.loc[users['Drinking'] == '주 2회', 'IsDrinking'] = 1\n",
    "users.loc[users['Drinking'] == '월 1회', 'IsDrinking'] = 1\n",
    "users.loc[users['Drinking'] == '월 2회', 'IsDrinking'] = 1\n",
    "users.loc[users['Drinking'].isnull(), 'IsDrinking'] = np.nan"
   ]
  },
  {
   "cell_type": "code",
   "execution_count": 90,
   "metadata": {},
   "outputs": [
    {
     "data": {
      "text/plain": [
       "1.0    96258\n",
       "0.0    10581\n",
       "Name: IsDrinking, dtype: int64"
      ]
     },
     "execution_count": 90,
     "metadata": {},
     "output_type": "execute_result"
    }
   ],
   "source": [
    "users['IsDrinking'].value_counts()"
   ]
  },
  {
   "cell_type": "code",
   "execution_count": 91,
   "metadata": {},
   "outputs": [
    {
     "data": {
      "text/plain": [
       "array([1., 0.])"
      ]
     },
     "execution_count": 91,
     "metadata": {},
     "output_type": "execute_result"
    }
   ],
   "source": [
    "users['IsDrinking'].unique()"
   ]
  },
  {
   "cell_type": "code",
   "execution_count": 92,
   "metadata": {},
   "outputs": [
    {
     "data": {
      "text/plain": [
       "10581"
      ]
     },
     "execution_count": 92,
     "metadata": {},
     "output_type": "execute_result"
    }
   ],
   "source": [
    "(users['IsDrinking'] == 0).sum()"
   ]
  },
  {
   "cell_type": "markdown",
   "metadata": {},
   "source": [
    "- 흡연과 음주를 둘 다 안 하는 사람의 인원 총합."
   ]
  },
  {
   "cell_type": "code",
   "execution_count": 93,
   "metadata": {},
   "outputs": [],
   "source": [
    "drinking = users['IsDrinking']\n",
    "smoking = users['Smoking']"
   ]
  },
  {
   "cell_type": "code",
   "execution_count": 94,
   "metadata": {},
   "outputs": [
    {
     "data": {
      "text/plain": [
       "array([False,  True])"
      ]
     },
     "execution_count": 94,
     "metadata": {},
     "output_type": "execute_result"
    }
   ],
   "source": [
    "users['Smoking'].unique()"
   ]
  },
  {
   "cell_type": "code",
   "execution_count": 95,
   "metadata": {},
   "outputs": [
    {
     "data": {
      "text/plain": [
       "8488"
      ]
     },
     "execution_count": 95,
     "metadata": {},
     "output_type": "execute_result"
    }
   ],
   "source": [
    "len(users[(smoking == 0) & (drinking == 0)])"
   ]
  },
  {
   "cell_type": "markdown",
   "metadata": {},
   "source": [
    "- 흡연은 하지만 음주는 안 하는 사람의 인원 총합."
   ]
  },
  {
   "cell_type": "code",
   "execution_count": 96,
   "metadata": {},
   "outputs": [
    {
     "data": {
      "text/plain": [
       "2093"
      ]
     },
     "execution_count": 96,
     "metadata": {},
     "output_type": "execute_result"
    }
   ],
   "source": [
    "len(users[(smoking == 1) & (drinking == 0)])"
   ]
  },
  {
   "cell_type": "markdown",
   "metadata": {},
   "source": [
    "- 흡연은 하지 않지만 음주는 하는 사람의 인원 총합."
   ]
  },
  {
   "cell_type": "code",
   "execution_count": 97,
   "metadata": {},
   "outputs": [
    {
     "data": {
      "text/plain": [
       "76980"
      ]
     },
     "execution_count": 97,
     "metadata": {},
     "output_type": "execute_result"
    }
   ],
   "source": [
    "len(users[(smoking == 0) & (drinking == 1)])"
   ]
  },
  {
   "cell_type": "markdown",
   "metadata": {},
   "source": [
    "- 흡연과 음주를 둘 다 하는 사람의 인원 총합"
   ]
  },
  {
   "cell_type": "code",
   "execution_count": 98,
   "metadata": {},
   "outputs": [
    {
     "data": {
      "text/plain": [
       "19278"
      ]
     },
     "execution_count": 98,
     "metadata": {},
     "output_type": "execute_result"
    }
   ],
   "source": [
    "len(users[(smoking == 1) & (drinking == 1)])"
   ]
  },
  {
   "cell_type": "code",
   "execution_count": 99,
   "metadata": {},
   "outputs": [],
   "source": [
    "users.to_csv('./data/USER_INFO_07.csv', index=False)"
   ]
  },
  {
   "cell_type": "code",
   "execution_count": null,
   "metadata": {},
   "outputs": [],
   "source": []
  }
 ],
 "metadata": {
  "kernelspec": {
   "display_name": "Python 3",
   "language": "python",
   "name": "python3"
  },
  "language_info": {
   "codemirror_mode": {
    "name": "ipython",
    "version": 3
   },
   "file_extension": ".py",
   "mimetype": "text/x-python",
   "name": "python",
   "nbconvert_exporter": "python",
   "pygments_lexer": "ipython3",
   "version": "3.6.4"
  }
 },
 "nbformat": 4,
 "nbformat_minor": 2
}
