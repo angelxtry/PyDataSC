{
 "cells": [
  {
   "cell_type": "markdown",
   "metadata": {},
   "source": [
    "## TKX 피트니스에 오신 것을 환영합니다!\n",
    "\n",
    "안녕하세요! TKX 피트니스 데이터분석팀에 오신 것을 환영합니다.\n",
    "\n",
    "TKX는 국내 최대의 프렌차이즈 피트니스 센터로서, 매월 수 천명에 달하는 신규 회원을 받아 데이터를 분석하고 있습니다.\n",
    "\n",
    "TKX 피트니스의 장점은 프로그래밍 언어 파이썬(Python)과 데이터 분석 프레임워크 판다스(Pandas)를 활용한 면밀한 데이터 분석입니다. 이 데이터 분석을 바탕으로 KTX의 오퍼레이션 팀 / 코칭 팀은 피트니스 센터에 방문하는 고객 분들, 그리고 방문하지 않는 고객 분들에게도 최선의 맞춤 서비스를 제공해 드리고 있습니다.\n",
    "\n",
    "오늘 이 노트북을 받은 분이 해주셔야 하는 일은 2016년도 1월부터 2017년도 12월까지의 신규 가입 고객 데이터를 받아와, 차후에 데이터분석을 더 용이하게 할 수 있도록 데이터를 정리해주는 작업, 일명 데이터 클리닝(Data Cleaning) 작업입니다.\n",
    "\n",
    "저희 TKX 피트니스는 언제나 잘 정리되어 있는 고객 정보를 받아서 데이터 분석팀에게 맡길려고 노력하고 있으나, (이 노트북을 받은 분들도 아시겠지만) 현실은 언제나 100% 잘 정리되어있는 데이터를 받아오기가 어렵습니다.\n",
    "\n",
    "때문에 이번 시간에는 신규 가입 고객 데이터를 분석하여, 데이터에 몇몇 누락된 부분이나 잘못 기입된 부분 등을 판다스로 정리하고 그 결과를 분석하는 일을 해주셨으면 합니다.\n",
    "\n",
    "데이터는 다음의 URL [https://goo.gl/8XGH4T](https://goo.gl/8XGH4T) 에서 다운받을 수 있습니다. 데이터를 다운받아 읽어온 뒤, 하기에 적어놓은 내용대로 데이터를 분석 및 정리를 해주세요.\n",
    "\n",
    "\n"
   ]
  },
  {
   "cell_type": "markdown",
   "metadata": {},
   "source": [
    "## Load Dataset"
   ]
  },
  {
   "cell_type": "code",
   "execution_count": 1,
   "metadata": {},
   "outputs": [],
   "source": [
    "import numpy as np\n",
    "import pandas as pd\n",
    "from pandas import DataFrame, Series"
   ]
  },
  {
   "cell_type": "code",
   "execution_count": 2,
   "metadata": {},
   "outputs": [],
   "source": [
    "user_info = pd.read_csv('./data/tkx-user-data.csv')"
   ]
  },
  {
   "cell_type": "code",
   "execution_count": 4,
   "metadata": {},
   "outputs": [
    {
     "data": {
      "text/html": [
       "<div>\n",
       "<style scoped>\n",
       "    .dataframe tbody tr th:only-of-type {\n",
       "        vertical-align: middle;\n",
       "    }\n",
       "\n",
       "    .dataframe tbody tr th {\n",
       "        vertical-align: top;\n",
       "    }\n",
       "\n",
       "    .dataframe thead th {\n",
       "        text-align: right;\n",
       "    }\n",
       "</style>\n",
       "<table border=\"1\" class=\"dataframe\">\n",
       "  <thead>\n",
       "    <tr style=\"text-align: right;\">\n",
       "      <th></th>\n",
       "      <th>이름</th>\n",
       "      <th>성별</th>\n",
       "      <th>전화번호</th>\n",
       "      <th>나이</th>\n",
       "      <th>현재 체중</th>\n",
       "      <th>목표 체중</th>\n",
       "      <th>키</th>\n",
       "      <th>회원 가입일</th>\n",
       "      <th>회원 정보 갱신일</th>\n",
       "      <th>흡연 여부</th>\n",
       "      <th>음주 여부</th>\n",
       "      <th>가입 개월 수</th>\n",
       "      <th>개인상담 요청</th>\n",
       "    </tr>\n",
       "  </thead>\n",
       "  <tbody>\n",
       "    <tr>\n",
       "      <th>0</th>\n",
       "      <td>안원준</td>\n",
       "      <td>남성</td>\n",
       "      <td>010-2292-6251</td>\n",
       "      <td>31세</td>\n",
       "      <td>78</td>\n",
       "      <td>68</td>\n",
       "      <td>176</td>\n",
       "      <td>2016년 07월 05일</td>\n",
       "      <td>2016년 07월 05일</td>\n",
       "      <td>아니오</td>\n",
       "      <td>주 1회</td>\n",
       "      <td>0개월</td>\n",
       "      <td>아니요</td>\n",
       "    </tr>\n",
       "    <tr>\n",
       "      <th>1</th>\n",
       "      <td>유세아</td>\n",
       "      <td>여성</td>\n",
       "      <td>01045795881</td>\n",
       "      <td>39</td>\n",
       "      <td>56kg</td>\n",
       "      <td>51kg</td>\n",
       "      <td>172</td>\n",
       "      <td>2016년 10월 02일</td>\n",
       "      <td>2016년 11월 29일</td>\n",
       "      <td>예</td>\n",
       "      <td>월 1회</td>\n",
       "      <td>0개월</td>\n",
       "      <td>아니요</td>\n",
       "    </tr>\n",
       "    <tr>\n",
       "      <th>2</th>\n",
       "      <td>송솔은</td>\n",
       "      <td>여성</td>\n",
       "      <td>010-7719-8346</td>\n",
       "      <td>NaN</td>\n",
       "      <td>29</td>\n",
       "      <td>21</td>\n",
       "      <td>167</td>\n",
       "      <td>2017년 09월 06일</td>\n",
       "      <td>2017년 09월 06일</td>\n",
       "      <td>예</td>\n",
       "      <td>주 1회</td>\n",
       "      <td>0개월</td>\n",
       "      <td>아니요</td>\n",
       "    </tr>\n",
       "    <tr>\n",
       "      <th>3</th>\n",
       "      <td>백서원</td>\n",
       "      <td>여성</td>\n",
       "      <td>01011947169</td>\n",
       "      <td>36</td>\n",
       "      <td>67</td>\n",
       "      <td>65</td>\n",
       "      <td>0</td>\n",
       "      <td>2017년 06월 02일</td>\n",
       "      <td>2017년 07월 28일</td>\n",
       "      <td>예</td>\n",
       "      <td>안 마심</td>\n",
       "      <td>0개월</td>\n",
       "      <td>아니요</td>\n",
       "    </tr>\n",
       "    <tr>\n",
       "      <th>4</th>\n",
       "      <td>박서은</td>\n",
       "      <td>여성</td>\n",
       "      <td>010-2575-6398</td>\n",
       "      <td>42</td>\n",
       "      <td>60</td>\n",
       "      <td>57</td>\n",
       "      <td>167</td>\n",
       "      <td>2017년 05월 07일</td>\n",
       "      <td>2017년 05월 07일</td>\n",
       "      <td>아니오</td>\n",
       "      <td>안 마심</td>\n",
       "      <td>0개월</td>\n",
       "      <td>예</td>\n",
       "    </tr>\n",
       "  </tbody>\n",
       "</table>\n",
       "</div>"
      ],
      "text/plain": [
       "    이름  성별           전화번호   나이 현재 체중 목표 체중    키         회원 가입일      회원 정보 갱신일  \\\n",
       "0  안원준  남성  010-2292-6251  31세    78    68  176  2016년 07월 05일  2016년 07월 05일   \n",
       "1  유세아  여성    01045795881   39  56kg  51kg  172  2016년 10월 02일  2016년 11월 29일   \n",
       "2  송솔은  여성  010-7719-8346  NaN    29    21  167  2017년 09월 06일  2017년 09월 06일   \n",
       "3  백서원  여성    01011947169   36    67    65    0  2017년 06월 02일  2017년 07월 28일   \n",
       "4  박서은  여성  010-2575-6398   42    60    57  167  2017년 05월 07일  2017년 05월 07일   \n",
       "\n",
       "  흡연 여부 음주 여부 가입 개월 수 개인상담 요청  \n",
       "0   아니오  주 1회     0개월     아니요  \n",
       "1     예  월 1회     0개월     아니요  \n",
       "2     예  주 1회     0개월     아니요  \n",
       "3     예  안 마심     0개월     아니요  \n",
       "4   아니오  안 마심     0개월       예  "
      ]
     },
     "execution_count": 4,
     "metadata": {},
     "output_type": "execute_result"
    }
   ],
   "source": [
    "user_info.head()"
   ]
  },
  {
   "cell_type": "code",
   "execution_count": 5,
   "metadata": {},
   "outputs": [
    {
     "data": {
      "text/plain": [
       "(106839, 13)"
      ]
     },
     "execution_count": 5,
     "metadata": {},
     "output_type": "execute_result"
    }
   ],
   "source": [
    "user_info.shape"
   ]
  },
  {
   "cell_type": "markdown",
   "metadata": {},
   "source": [
    "## 실습"
   ]
  },
  {
   "cell_type": "markdown",
   "metadata": {},
   "source": [
    "** 1. 텍스트로 된 흡연 여부(예/아니오)를 True/False 로 바꾸기 **"
   ]
  },
  {
   "cell_type": "code",
   "execution_count": 7,
   "metadata": {},
   "outputs": [
    {
     "data": {
      "text/plain": [
       "아니오    85468\n",
       "예      21371\n",
       "Name: 흡연 여부, dtype: int64"
      ]
     },
     "execution_count": 7,
     "metadata": {},
     "output_type": "execute_result"
    }
   ],
   "source": [
    "user_info['흡연 여부'].value_counts()"
   ]
  },
  {
   "cell_type": "code",
   "execution_count": 9,
   "metadata": {},
   "outputs": [],
   "source": [
    "user_info['흡연 여부'] = user_info['흡연 여부'] == '예'"
   ]
  },
  {
   "cell_type": "code",
   "execution_count": 10,
   "metadata": {},
   "outputs": [
    {
     "data": {
      "text/plain": [
       "False    85468\n",
       "True     21371\n",
       "Name: 흡연 여부, dtype: int64"
      ]
     },
     "execution_count": 10,
     "metadata": {},
     "output_type": "execute_result"
    }
   ],
   "source": [
    "user_info['흡연 여부'].value_counts()"
   ]
  },
  {
   "cell_type": "code",
   "execution_count": 11,
   "metadata": {},
   "outputs": [
    {
     "data": {
      "text/html": [
       "<div>\n",
       "<style scoped>\n",
       "    .dataframe tbody tr th:only-of-type {\n",
       "        vertical-align: middle;\n",
       "    }\n",
       "\n",
       "    .dataframe tbody tr th {\n",
       "        vertical-align: top;\n",
       "    }\n",
       "\n",
       "    .dataframe thead th {\n",
       "        text-align: right;\n",
       "    }\n",
       "</style>\n",
       "<table border=\"1\" class=\"dataframe\">\n",
       "  <thead>\n",
       "    <tr style=\"text-align: right;\">\n",
       "      <th></th>\n",
       "      <th>이름</th>\n",
       "      <th>성별</th>\n",
       "      <th>전화번호</th>\n",
       "      <th>나이</th>\n",
       "      <th>현재 체중</th>\n",
       "      <th>목표 체중</th>\n",
       "      <th>키</th>\n",
       "      <th>회원 가입일</th>\n",
       "      <th>회원 정보 갱신일</th>\n",
       "      <th>흡연 여부</th>\n",
       "      <th>음주 여부</th>\n",
       "      <th>가입 개월 수</th>\n",
       "      <th>개인상담 요청</th>\n",
       "    </tr>\n",
       "  </thead>\n",
       "  <tbody>\n",
       "    <tr>\n",
       "      <th>0</th>\n",
       "      <td>안원준</td>\n",
       "      <td>남성</td>\n",
       "      <td>010-2292-6251</td>\n",
       "      <td>31세</td>\n",
       "      <td>78</td>\n",
       "      <td>68</td>\n",
       "      <td>176</td>\n",
       "      <td>2016년 07월 05일</td>\n",
       "      <td>2016년 07월 05일</td>\n",
       "      <td>False</td>\n",
       "      <td>주 1회</td>\n",
       "      <td>0개월</td>\n",
       "      <td>아니요</td>\n",
       "    </tr>\n",
       "    <tr>\n",
       "      <th>1</th>\n",
       "      <td>유세아</td>\n",
       "      <td>여성</td>\n",
       "      <td>01045795881</td>\n",
       "      <td>39</td>\n",
       "      <td>56kg</td>\n",
       "      <td>51kg</td>\n",
       "      <td>172</td>\n",
       "      <td>2016년 10월 02일</td>\n",
       "      <td>2016년 11월 29일</td>\n",
       "      <td>True</td>\n",
       "      <td>월 1회</td>\n",
       "      <td>0개월</td>\n",
       "      <td>아니요</td>\n",
       "    </tr>\n",
       "    <tr>\n",
       "      <th>2</th>\n",
       "      <td>송솔은</td>\n",
       "      <td>여성</td>\n",
       "      <td>010-7719-8346</td>\n",
       "      <td>NaN</td>\n",
       "      <td>29</td>\n",
       "      <td>21</td>\n",
       "      <td>167</td>\n",
       "      <td>2017년 09월 06일</td>\n",
       "      <td>2017년 09월 06일</td>\n",
       "      <td>True</td>\n",
       "      <td>주 1회</td>\n",
       "      <td>0개월</td>\n",
       "      <td>아니요</td>\n",
       "    </tr>\n",
       "    <tr>\n",
       "      <th>3</th>\n",
       "      <td>백서원</td>\n",
       "      <td>여성</td>\n",
       "      <td>01011947169</td>\n",
       "      <td>36</td>\n",
       "      <td>67</td>\n",
       "      <td>65</td>\n",
       "      <td>0</td>\n",
       "      <td>2017년 06월 02일</td>\n",
       "      <td>2017년 07월 28일</td>\n",
       "      <td>True</td>\n",
       "      <td>안 마심</td>\n",
       "      <td>0개월</td>\n",
       "      <td>아니요</td>\n",
       "    </tr>\n",
       "    <tr>\n",
       "      <th>4</th>\n",
       "      <td>박서은</td>\n",
       "      <td>여성</td>\n",
       "      <td>010-2575-6398</td>\n",
       "      <td>42</td>\n",
       "      <td>60</td>\n",
       "      <td>57</td>\n",
       "      <td>167</td>\n",
       "      <td>2017년 05월 07일</td>\n",
       "      <td>2017년 05월 07일</td>\n",
       "      <td>False</td>\n",
       "      <td>안 마심</td>\n",
       "      <td>0개월</td>\n",
       "      <td>예</td>\n",
       "    </tr>\n",
       "  </tbody>\n",
       "</table>\n",
       "</div>"
      ],
      "text/plain": [
       "    이름  성별           전화번호   나이 현재 체중 목표 체중    키         회원 가입일      회원 정보 갱신일  \\\n",
       "0  안원준  남성  010-2292-6251  31세    78    68  176  2016년 07월 05일  2016년 07월 05일   \n",
       "1  유세아  여성    01045795881   39  56kg  51kg  172  2016년 10월 02일  2016년 11월 29일   \n",
       "2  송솔은  여성  010-7719-8346  NaN    29    21  167  2017년 09월 06일  2017년 09월 06일   \n",
       "3  백서원  여성    01011947169   36    67    65    0  2017년 06월 02일  2017년 07월 28일   \n",
       "4  박서은  여성  010-2575-6398   42    60    57  167  2017년 05월 07일  2017년 05월 07일   \n",
       "\n",
       "   흡연 여부 음주 여부 가입 개월 수 개인상담 요청  \n",
       "0  False  주 1회     0개월     아니요  \n",
       "1   True  월 1회     0개월     아니요  \n",
       "2   True  주 1회     0개월     아니요  \n",
       "3   True  안 마심     0개월     아니요  \n",
       "4  False  안 마심     0개월       예  "
      ]
     },
     "execution_count": 11,
     "metadata": {},
     "output_type": "execute_result"
    }
   ],
   "source": [
    "user_info.head()"
   ]
  },
  {
   "cell_type": "markdown",
   "metadata": {},
   "source": [
    "** 2. 나이에서 0세라고 되어있는 것을 NaN으로 바꾸기 **"
   ]
  },
  {
   "cell_type": "markdown",
   "metadata": {},
   "source": [
    "- 0인 항목을 찾기 위해 value_counts() 메소드를 이용했는데 이걸로는 확인하기 어려웠다."
   ]
  },
  {
   "cell_type": "code",
   "execution_count": 17,
   "metadata": {},
   "outputs": [
    {
     "data": {
      "text/html": [
       "<div>\n",
       "<style scoped>\n",
       "    .dataframe tbody tr th:only-of-type {\n",
       "        vertical-align: middle;\n",
       "    }\n",
       "\n",
       "    .dataframe tbody tr th {\n",
       "        vertical-align: top;\n",
       "    }\n",
       "\n",
       "    .dataframe thead th {\n",
       "        text-align: right;\n",
       "    }\n",
       "</style>\n",
       "<table border=\"1\" class=\"dataframe\">\n",
       "  <thead>\n",
       "    <tr style=\"text-align: right;\">\n",
       "      <th></th>\n",
       "      <th>이름</th>\n",
       "      <th>성별</th>\n",
       "      <th>전화번호</th>\n",
       "      <th>나이</th>\n",
       "      <th>현재 체중</th>\n",
       "      <th>목표 체중</th>\n",
       "      <th>키</th>\n",
       "      <th>회원 가입일</th>\n",
       "      <th>회원 정보 갱신일</th>\n",
       "      <th>흡연 여부</th>\n",
       "      <th>음주 여부</th>\n",
       "      <th>가입 개월 수</th>\n",
       "      <th>개인상담 요청</th>\n",
       "    </tr>\n",
       "  </thead>\n",
       "  <tbody>\n",
       "  </tbody>\n",
       "</table>\n",
       "</div>"
      ],
      "text/plain": [
       "Empty DataFrame\n",
       "Columns: [이름, 성별, 전화번호, 나이, 현재 체중, 목표 체중, 키, 회원 가입일, 회원 정보 갱신일, 흡연 여부, 음주 여부, 가입 개월 수, 개인상담 요청]\n",
       "Index: []"
      ]
     },
     "execution_count": 17,
     "metadata": {},
     "output_type": "execute_result"
    }
   ],
   "source": [
    "user_info[user_info['나이'] == 0]"
   ]
  },
  {
   "cell_type": "markdown",
   "metadata": {},
   "source": [
    "- 나이가 0인 항목이 없는데?"
   ]
  },
  {
   "cell_type": "markdown",
   "metadata": {},
   "source": [
    "** 3. 나이 컬럼을 정리하기 **"
   ]
  },
  {
   "cell_type": "markdown",
   "metadata": {},
   "source": [
    "** 4. 평균(mean) / 최소(min) / 최대(max) 나이 구하기 **"
   ]
  },
  {
   "cell_type": "markdown",
   "metadata": {},
   "source": [
    "** 5. 컬럼의 순서를 조금 더 직관적으로 바꾸기 **"
   ]
  },
  {
   "cell_type": "markdown",
   "metadata": {},
   "source": [
    "## 과제(초급)"
   ]
  },
  {
   "cell_type": "markdown",
   "metadata": {},
   "source": [
    "### 데이터를 사용하기 용이하게 정리하기"
   ]
  },
  {
   "cell_type": "markdown",
   "metadata": {},
   "source": [
    "**6. 컬럼 이름 바꾸기**\n",
    "\n",
    "보통 프로그래밍을 할 때 한글 컬럼을 사용하면 다양한 문제로 불편을 겪을 때가 많습니다.\n",
    "\n",
    "그러므로 컬럼을 전부 한글에서 영어로 바꿔주세요. 컬럼명은 다음과 같이 바꿔주시면 됩니다.\n",
    "\n",
    "* 이름 - Name\n",
    "* 성별 - Gender\n",
    "* 전화번호 - Phone Number\n",
    "* 나이 - Age\n",
    "* 현재 체중 - Current Weight\n",
    "* 목표 체종 - Goal Weight\n",
    "* 키 - Height\n",
    "* 흡연 여부 - Smoking\n",
    "* 음주 여부 - Drinking\n",
    "* 개인상담 요청 - Request Counselling\n",
    "* 회원 가입일 - Joined At\n",
    "* 회원 정보 갱신일 - Updated At\n",
    "* 가입 개월 수 - Paid Plan"
   ]
  },
  {
   "cell_type": "markdown",
   "metadata": {},
   "source": [
    "** 7. '상담 요청' 컬럼을 예/아니오 에서 True/False로 바꿔주세요 **"
   ]
  },
  {
   "cell_type": "markdown",
   "metadata": {},
   "source": [
    "**8. '가입 개월 수' 컬럼을 분석해서, 무료(0개월)인 경우를 True로, 유료인 경우(3, 6, 9, 12개월)를 False로 보여주는 새로운 컬럼을 만들어주세요.**"
   ]
  },
  {
   "cell_type": "markdown",
   "metadata": {},
   "source": [
    "### 컬럼의 형태를 하나로 통일하고, 빈 값이나 outlier들을 NaN으로 바꾸기"
   ]
  },
  {
   "cell_type": "markdown",
   "metadata": {},
   "source": [
    "** 9. 전화번호 컬럼을 정리해주세요. 다음과 같이 정리해주시면 됩니다. **\n",
    "  * unknown 이라고 표시되어 있는 전화번호는 빈 전화번호입니다. 이를 NaN으로 바꿔주세요."
   ]
  },
  {
   "cell_type": "markdown",
   "metadata": {},
   "source": [
    "** 10. 키(cm) 컬럼을 정리해주세요. 다음과 같이 정리해주시면 됩니다.** \n",
    "\n",
    "* 다양한 형태로 표현되어 있는 키 컬럼(?, ?cm, ? cm 등)을 숫자로 통일해주세요.\n",
    "* 키가 0으로 되어있으면 NaN으로 바꿔주세요.\n",
    "* 키가 너무 작거나(140cm 이하) 너무 크면(210cm 이상) 마찬가지로 NaN으로 바꿔주세요."
   ]
  },
  {
   "cell_type": "markdown",
   "metadata": {},
   "source": [
    "** 11.'현재 체중'과\t'목표 체중' 컬럼을 정리해주세요. 다음과 같이 정리해주시면 됩니다.** \n",
    "\n",
    "* 다양한 형태로 표현되어 있는 몸무게 컬럼(?, ?kg, ? kg 등)을 숫자로 통일해주세요.\n",
    "* 몸무게가 0으로 되어있으면 NaN으로 바꿔주세요.\n",
    "* 몸무게가 너무 작거나(40kg 이하) 너무 크면(150kg 이상) 마찬가지로 NaN으로 바꿔주세요."
   ]
  },
  {
   "cell_type": "markdown",
   "metadata": {},
   "source": [
    "### 기본적인 분석을 하기"
   ]
  },
  {
   "cell_type": "markdown",
   "metadata": {},
   "source": [
    "** 12. 전체 데이터에서 평균/최소/최대 키(cm), 그리고 평균/최소/최대 '현재 체중(kg)'과 '목표 체중(kg)'을 찾아주세요. **"
   ]
  },
  {
   "cell_type": "markdown",
   "metadata": {},
   "source": [
    "** 13. 전체 데이터에서 흡연자와 비흡연자 인원의 총합을 찾아주세요. **"
   ]
  },
  {
   "cell_type": "markdown",
   "metadata": {},
   "source": [
    "** 14. 전체 데이터에서 유료 사용자와 무료 사용자의 인원의 총합을 찾아주세요. **\n",
    "\n",
    "또한 유료 사용자만 한정해서, 3개월 / 6개월 / 12개월 결제자의 인원의 총합을 찾아주세요."
   ]
  },
  {
   "cell_type": "markdown",
   "metadata": {},
   "source": [
    "** 15. 전체 데이터에서 흡연자와 음주 여부를 바탕으로 다음을 분석해주세요. **\n",
    "  1. 흡연과 음주를 둘 다 안 하는 사람의 인원 총합.\n",
    "  1. 흡연은 하지만 음주는 안 하는 사람의 인원 총합.\n",
    "  1. 흡연은 하지 않지만 음주는 하는 사람의 인원 총합.\n",
    "  1. 흡연과 음주를 둘 다 하는 사람의 인원 총합."
   ]
  },
  {
   "cell_type": "markdown",
   "metadata": {},
   "source": [
    "# 과제(중급)"
   ]
  },
  {
   "cell_type": "markdown",
   "metadata": {},
   "source": [
    "** 16. 성별 컬럼을 정리하기 **\n",
    "\n",
    "성별 컬럼을 정리해주세요.\n",
    "\n",
    "데이터를 분석해보면 남성, 여성, 남, 녀, Male, FEMALE 등의 다양한 표현이 있습니다. 이 표현을 male, female으로 통일해주세요."
   ]
  },
  {
   "cell_type": "markdown",
   "metadata": {},
   "source": [
    "**17. 전체 인원이 아닌, 남성/여성 각각의 최소/평균/최대 키/몸무게/나이를 구해주세요.**\n",
    "\n",
    "결과적으로 다음의 수치가 나와야 합니다.\n",
    "  * 전체 남성의 최소/평균/최대 나이\n",
    "  * 전체 남성의 최소/평균/최대 몸무게(kg)\n",
    "  * 전체 남성의 최소/평균/최대 키(cm)\n",
    "  \n",
    "  * 전체 여성의 최소/평균/최대 나이\n",
    "  * 전체 여성의 최소/평균/최대 몸무게(kg)\n",
    "  * 전체 여성의 최소/평균/최대 키(cm)"
   ]
  },
  {
   "cell_type": "markdown",
   "metadata": {},
   "source": [
    "** 18. 감량 목표를 분석하기 **\n",
    "\n",
    "데이터에서 '현재 체중' - '목표 체중' 을 하면 감량 목표가 나올 것입니다. 감량 목표를 찾아서 새로운 컬럼을 만들어주세요.\n",
    "\n",
    "또한 kg별로 감량을 원하는 사람의 총 인원을 구해주세요. 가령 1) 1kg 감량을 원하는 총 인원, 2) 2kg 감량을 원하는 총 인원, ... 10) 10kg 감량을 원하는 총 인원이 나와야 합니다."
   ]
  },
  {
   "cell_type": "markdown",
   "metadata": {},
   "source": [
    "** 19. '가입 개월 수'를 숫자로 표현하기 **\n",
    "\n",
    "'가입 개월 수' 컬럼을 숫자로 정리해주세요. 현재 3개월, 6개월, 12개월로 되어있는데, 이를 3, 6, 12로 정리하시면 됩니다.\n",
    "\n",
    "또한 0개월은 0이 아닌 NaN으로 집어넣어 주세요.\n"
   ]
  },
  {
   "cell_type": "markdown",
   "metadata": {},
   "source": [
    "** 20. '음주 여부'를 숫자로 표현하기**\n",
    "\n",
    "'음주 여부' 컬럼을 숫자로 정리해주세요. 현재 1) 주 2회, 2) 주 1회, 3) 월 2회, 4) 월 1회 5) 안 마심으로 되어 있습니다만, 이를 월 기준 음주 횟수로 통일해주세요. 여기서 월은 30일로, 주는 4주로 고정합니다.\n",
    "\n",
    "가령 1) 주 2회는 8, 2) 주 1회는 4, 3) 월 2회는 2, 4) 월 1회는 1, 5) 안 마심은 0으로 표현하면 됩니다."
   ]
  },
  {
   "cell_type": "markdown",
   "metadata": {},
   "source": [
    "## 과제(고급)"
   ]
  },
  {
   "cell_type": "markdown",
   "metadata": {},
   "source": [
    "** 21.휴대폰 번호 정리하기 **\n",
    "\n",
    "다양한 표현으로 되어있는 휴대폰 번호를 010-xxxx-xxxx 로 통일해주세요. 가령 휴대폰 번호에 하이픈이 없으면 넣어주시면 됩니다.\n",
    "\n",
    "또한 unknown으로 되어있거나 비어있는 값은 NaN으로 처리해주세요."
   ]
  },
  {
   "cell_type": "markdown",
   "metadata": {},
   "source": [
    "** 22. 날짜를 사용 가능하게 정리하기 **\n",
    "\n",
    "현재 '회원 가입일' 컬럼과 '회원 정보 갱신일' 컬럼은 20xx년 xx월 xx일 과 같은 형식으로 되어있습니다.\n",
    "\n",
    "이 데이터를 현재 판다스에서는 날짜 컬럼이 아닌 문자열(텍스트) 컬럼으로 인식하고 있는데, 이 컬럼을 날짜 컬럼으로 인식할 수 있도록 수정해주세요."
   ]
  },
  {
   "cell_type": "markdown",
   "metadata": {},
   "source": [
    "** 23. 날짜를 기준으로 분석하기 **\n",
    "\n",
    "22번에서 날짜 컬럼을 만들었으면 다음을 분석해주세요.\n",
    "\n",
    "1. 월별 전체 회원 가입량\n",
    "2. 월 별 유료/무료 회원 가입량의 차이\n",
    "3. 월 별 남성/여성 회원 가입량의 차이"
   ]
  },
  {
   "cell_type": "code",
   "execution_count": 27,
   "metadata": {
    "collapsed": true
   },
   "outputs": [],
   "source": [
    "# Write code here!"
   ]
  },
  {
   "cell_type": "markdown",
   "metadata": {},
   "source": [
    "** 24. 회원 정보가 맞는지 여부를 확인하는 컬럼을 만들기 **\n",
    "\n",
    "더 정확한 데이터 분석을 위해서는, 현재까지 고객님이 기업한 회원 정보가 정확한지를 확인하는 작업이 필요합니다. 분석팀에서 데이터를 다음과 같이 정리하면, 오퍼레이션 팀과 코칭 팀이 협업을 통해서 고객 정보를 개선하고, 더 좋은 서비스를 제공할 수 있을 것 같습니다. 다음의 내용이 담겨있는 새로운 컬럼을 하나 만들어주세요. 해당 컬럼에는 reject / counselling / duplicated / confirmed 라는 결과값이 들어가야 합니다.\n",
    "\n",
    "다음의 경우에는 재기입을 요청한다. (reject)\n",
    "* 전화번호가 비어있는 경우\n",
    "\n",
    "다음의 경우는 트레이너와 상담을 유도한다. (counselling)\n",
    "* 상담 요청(counselling)이 True인 사람.\n",
    "\n",
    "다음의 경우에는 중복을 확인한다. (duplicated)\n",
    "* 동일한 이름에 동일한 전화번호를 찾아낸다. 이는 중복되었다고 가정한다.\n",
    "\n",
    "나머지는 문제가 없다. (confirmed)"
   ]
  },
  {
   "cell_type": "code",
   "execution_count": 28,
   "metadata": {
    "collapsed": true
   },
   "outputs": [],
   "source": [
    "# Write code here!"
   ]
  },
  {
   "cell_type": "markdown",
   "metadata": {},
   "source": [
    "**25. VIP 찾아내기**\n",
    "\n",
    "다음의 고객을 특별 관리 대상으로 지정합니다. 특별 관리 대상이라고 함은, TKX 서비스의 VIP 플랜을 구매할 확률이 높은 분들을 의미합니다.\n",
    "\n",
    "1. 트레이너와 상담을 요청한 사람. (counselling)\n",
    "2. 상담을 요청하지 않은 사람 중, (현재 체중 - 목표 체중) 이 가장 높은 상위 1,000 명.\n",
    "\n",
    "이 사람들을 특별관리 대상으로 지정하며, VIP라는 이름의 컬럼에 True 값을 넣으면 됩니다. 이후에는 오퍼레이션/코치 팀이 해당 고객님을 개별 컨택하여, 적극적으로 VIP 플랜을 구매하실 수 있도록 노력할 생각입니다. (특별관리 대상이 아닌 분들은 VIP 컬럼에 False 값을 넣으면 됩니다)\n",
    "\n",
    "또한 전체 데이터와는 별개로, VIP 고객들만을 따로 뽑아내서 CSV파일로 저장할 수 있다면 좋겠습니다."
   ]
  },
  {
   "cell_type": "code",
   "execution_count": 29,
   "metadata": {
    "collapsed": true
   },
   "outputs": [],
   "source": [
    "# Write code here!"
   ]
  }
 ],
 "metadata": {
  "kernelspec": {
   "display_name": "Python 3",
   "language": "python",
   "name": "python3"
  },
  "language_info": {
   "codemirror_mode": {
    "name": "ipython",
    "version": 3
   },
   "file_extension": ".py",
   "mimetype": "text/x-python",
   "name": "python",
   "nbconvert_exporter": "python",
   "pygments_lexer": "ipython3",
   "version": "3.6.4"
  }
 },
 "nbformat": 4,
 "nbformat_minor": 2
}
