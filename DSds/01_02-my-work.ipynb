{
 "cells": [
  {
   "cell_type": "markdown",
   "metadata": {},
   "source": [
    "## TKX 피트니스에 오신 것을 환영합니다!\n",
    "\n",
    "안녕하세요! TKX 피트니스 데이터분석팀에 오신 것을 환영합니다.\n",
    "\n",
    "TKX는 국내 최대의 프렌차이즈 피트니스 센터로서, 매월 수 천명에 달하는 신규 회원을 받아 데이터를 분석하고 있습니다.\n",
    "\n",
    "TKX 피트니스의 장점은 프로그래밍 언어 파이썬(Python)과 데이터 분석 프레임워크 판다스(Pandas)를 활용한 면밀한 데이터 분석입니다. 이 데이터 분석을 바탕으로 KTX의 오퍼레이션 팀 / 코칭 팀은 피트니스 센터에 방문하는 고객 분들, 그리고 방문하지 않는 고객 분들에게도 최선의 맞춤 서비스를 제공해 드리고 있습니다.\n",
    "\n",
    "오늘 이 노트북을 받은 분이 해주셔야 하는 일은 2016년도 1월부터 2017년도 12월까지의 신규 가입 고객 데이터를 받아와, 차후에 데이터분석을 더 용이하게 할 수 있도록 데이터를 정리해주는 작업, 일명 데이터 클리닝(Data Cleaning) 작업입니다.\n",
    "\n",
    "저희 TKX 피트니스는 언제나 잘 정리되어 있는 고객 정보를 받아서 데이터 분석팀에게 맡길려고 노력하고 있으나, (이 노트북을 받은 분들도 아시겠지만) 현실은 언제나 100% 잘 정리되어있는 데이터를 받아오기가 어렵습니다.\n",
    "\n",
    "때문에 이번 시간에는 신규 가입 고객 데이터를 분석하여, 데이터에 몇몇 누락된 부분이나 잘못 기입된 부분 등을 판다스로 정리하고 그 결과를 분석하는 일을 해주셨으면 합니다.\n",
    "\n",
    "데이터는 다음의 URL [https://goo.gl/8XGH4T](https://goo.gl/8XGH4T) 에서 다운받을 수 있습니다. 데이터를 다운받아 읽어온 뒤, 하기에 적어놓은 내용대로 데이터를 분석 및 정리를 해주세요.\n",
    "\n",
    "\n"
   ]
  },
  {
   "cell_type": "markdown",
   "metadata": {},
   "source": [
    "## Load Dataset"
   ]
  },
  {
   "cell_type": "code",
   "execution_count": 1,
   "metadata": {},
   "outputs": [],
   "source": [
    "import numpy as np\n",
    "import pandas as pd\n",
    "from pandas import DataFrame, Series"
   ]
  },
  {
   "cell_type": "code",
   "execution_count": 2,
   "metadata": {},
   "outputs": [],
   "source": [
    "user_info = pd.read_csv('./data/tkx-user-data.csv')"
   ]
  },
  {
   "cell_type": "code",
   "execution_count": 3,
   "metadata": {},
   "outputs": [
    {
     "data": {
      "text/html": [
       "<div>\n",
       "<style scoped>\n",
       "    .dataframe tbody tr th:only-of-type {\n",
       "        vertical-align: middle;\n",
       "    }\n",
       "\n",
       "    .dataframe tbody tr th {\n",
       "        vertical-align: top;\n",
       "    }\n",
       "\n",
       "    .dataframe thead th {\n",
       "        text-align: right;\n",
       "    }\n",
       "</style>\n",
       "<table border=\"1\" class=\"dataframe\">\n",
       "  <thead>\n",
       "    <tr style=\"text-align: right;\">\n",
       "      <th></th>\n",
       "      <th>이름</th>\n",
       "      <th>성별</th>\n",
       "      <th>전화번호</th>\n",
       "      <th>나이</th>\n",
       "      <th>현재 체중</th>\n",
       "      <th>목표 체중</th>\n",
       "      <th>키</th>\n",
       "      <th>회원 가입일</th>\n",
       "      <th>회원 정보 갱신일</th>\n",
       "      <th>흡연 여부</th>\n",
       "      <th>음주 여부</th>\n",
       "      <th>가입 개월 수</th>\n",
       "      <th>개인상담 요청</th>\n",
       "    </tr>\n",
       "  </thead>\n",
       "  <tbody>\n",
       "    <tr>\n",
       "      <th>0</th>\n",
       "      <td>안원준</td>\n",
       "      <td>남성</td>\n",
       "      <td>010-2292-6251</td>\n",
       "      <td>31세</td>\n",
       "      <td>78</td>\n",
       "      <td>68</td>\n",
       "      <td>176</td>\n",
       "      <td>2016년 07월 05일</td>\n",
       "      <td>2016년 07월 05일</td>\n",
       "      <td>아니오</td>\n",
       "      <td>주 1회</td>\n",
       "      <td>0개월</td>\n",
       "      <td>아니요</td>\n",
       "    </tr>\n",
       "    <tr>\n",
       "      <th>1</th>\n",
       "      <td>유세아</td>\n",
       "      <td>여성</td>\n",
       "      <td>01045795881</td>\n",
       "      <td>39</td>\n",
       "      <td>56kg</td>\n",
       "      <td>51kg</td>\n",
       "      <td>172</td>\n",
       "      <td>2016년 10월 02일</td>\n",
       "      <td>2016년 11월 29일</td>\n",
       "      <td>예</td>\n",
       "      <td>월 1회</td>\n",
       "      <td>0개월</td>\n",
       "      <td>아니요</td>\n",
       "    </tr>\n",
       "    <tr>\n",
       "      <th>2</th>\n",
       "      <td>송솔은</td>\n",
       "      <td>여성</td>\n",
       "      <td>010-7719-8346</td>\n",
       "      <td>NaN</td>\n",
       "      <td>29</td>\n",
       "      <td>21</td>\n",
       "      <td>167</td>\n",
       "      <td>2017년 09월 06일</td>\n",
       "      <td>2017년 09월 06일</td>\n",
       "      <td>예</td>\n",
       "      <td>주 1회</td>\n",
       "      <td>0개월</td>\n",
       "      <td>아니요</td>\n",
       "    </tr>\n",
       "    <tr>\n",
       "      <th>3</th>\n",
       "      <td>백서원</td>\n",
       "      <td>여성</td>\n",
       "      <td>01011947169</td>\n",
       "      <td>36</td>\n",
       "      <td>67</td>\n",
       "      <td>65</td>\n",
       "      <td>0</td>\n",
       "      <td>2017년 06월 02일</td>\n",
       "      <td>2017년 07월 28일</td>\n",
       "      <td>예</td>\n",
       "      <td>안 마심</td>\n",
       "      <td>0개월</td>\n",
       "      <td>아니요</td>\n",
       "    </tr>\n",
       "    <tr>\n",
       "      <th>4</th>\n",
       "      <td>박서은</td>\n",
       "      <td>여성</td>\n",
       "      <td>010-2575-6398</td>\n",
       "      <td>42</td>\n",
       "      <td>60</td>\n",
       "      <td>57</td>\n",
       "      <td>167</td>\n",
       "      <td>2017년 05월 07일</td>\n",
       "      <td>2017년 05월 07일</td>\n",
       "      <td>아니오</td>\n",
       "      <td>안 마심</td>\n",
       "      <td>0개월</td>\n",
       "      <td>예</td>\n",
       "    </tr>\n",
       "  </tbody>\n",
       "</table>\n",
       "</div>"
      ],
      "text/plain": [
       "    이름  성별           전화번호   나이 현재 체중 목표 체중    키         회원 가입일      회원 정보 갱신일  \\\n",
       "0  안원준  남성  010-2292-6251  31세    78    68  176  2016년 07월 05일  2016년 07월 05일   \n",
       "1  유세아  여성    01045795881   39  56kg  51kg  172  2016년 10월 02일  2016년 11월 29일   \n",
       "2  송솔은  여성  010-7719-8346  NaN    29    21  167  2017년 09월 06일  2017년 09월 06일   \n",
       "3  백서원  여성    01011947169   36    67    65    0  2017년 06월 02일  2017년 07월 28일   \n",
       "4  박서은  여성  010-2575-6398   42    60    57  167  2017년 05월 07일  2017년 05월 07일   \n",
       "\n",
       "  흡연 여부 음주 여부 가입 개월 수 개인상담 요청  \n",
       "0   아니오  주 1회     0개월     아니요  \n",
       "1     예  월 1회     0개월     아니요  \n",
       "2     예  주 1회     0개월     아니요  \n",
       "3     예  안 마심     0개월     아니요  \n",
       "4   아니오  안 마심     0개월       예  "
      ]
     },
     "execution_count": 3,
     "metadata": {},
     "output_type": "execute_result"
    }
   ],
   "source": [
    "user_info.head()"
   ]
  },
  {
   "cell_type": "code",
   "execution_count": 4,
   "metadata": {},
   "outputs": [
    {
     "data": {
      "text/plain": [
       "(106839, 13)"
      ]
     },
     "execution_count": 4,
     "metadata": {},
     "output_type": "execute_result"
    }
   ],
   "source": [
    "user_info.shape"
   ]
  },
  {
   "cell_type": "markdown",
   "metadata": {},
   "source": [
    "## 실습"
   ]
  },
  {
   "cell_type": "markdown",
   "metadata": {},
   "source": [
    "** 1. 텍스트로 된 흡연 여부(예/아니오)를 True/False 로 바꾸기 **"
   ]
  },
  {
   "cell_type": "code",
   "execution_count": 5,
   "metadata": {},
   "outputs": [
    {
     "data": {
      "text/plain": [
       "아니오    85468\n",
       "예      21371\n",
       "Name: 흡연 여부, dtype: int64"
      ]
     },
     "execution_count": 5,
     "metadata": {},
     "output_type": "execute_result"
    }
   ],
   "source": [
    "user_info['흡연 여부'].value_counts()"
   ]
  },
  {
   "cell_type": "code",
   "execution_count": 6,
   "metadata": {},
   "outputs": [],
   "source": [
    "user_info['흡연 여부'] = user_info['흡연 여부'] == '예'"
   ]
  },
  {
   "cell_type": "code",
   "execution_count": 7,
   "metadata": {},
   "outputs": [
    {
     "data": {
      "text/plain": [
       "False    85468\n",
       "True     21371\n",
       "Name: 흡연 여부, dtype: int64"
      ]
     },
     "execution_count": 7,
     "metadata": {},
     "output_type": "execute_result"
    }
   ],
   "source": [
    "user_info['흡연 여부'].value_counts()"
   ]
  },
  {
   "cell_type": "code",
   "execution_count": 8,
   "metadata": {},
   "outputs": [
    {
     "data": {
      "text/html": [
       "<div>\n",
       "<style scoped>\n",
       "    .dataframe tbody tr th:only-of-type {\n",
       "        vertical-align: middle;\n",
       "    }\n",
       "\n",
       "    .dataframe tbody tr th {\n",
       "        vertical-align: top;\n",
       "    }\n",
       "\n",
       "    .dataframe thead th {\n",
       "        text-align: right;\n",
       "    }\n",
       "</style>\n",
       "<table border=\"1\" class=\"dataframe\">\n",
       "  <thead>\n",
       "    <tr style=\"text-align: right;\">\n",
       "      <th></th>\n",
       "      <th>이름</th>\n",
       "      <th>성별</th>\n",
       "      <th>전화번호</th>\n",
       "      <th>나이</th>\n",
       "      <th>현재 체중</th>\n",
       "      <th>목표 체중</th>\n",
       "      <th>키</th>\n",
       "      <th>회원 가입일</th>\n",
       "      <th>회원 정보 갱신일</th>\n",
       "      <th>흡연 여부</th>\n",
       "      <th>음주 여부</th>\n",
       "      <th>가입 개월 수</th>\n",
       "      <th>개인상담 요청</th>\n",
       "    </tr>\n",
       "  </thead>\n",
       "  <tbody>\n",
       "    <tr>\n",
       "      <th>0</th>\n",
       "      <td>안원준</td>\n",
       "      <td>남성</td>\n",
       "      <td>010-2292-6251</td>\n",
       "      <td>31세</td>\n",
       "      <td>78</td>\n",
       "      <td>68</td>\n",
       "      <td>176</td>\n",
       "      <td>2016년 07월 05일</td>\n",
       "      <td>2016년 07월 05일</td>\n",
       "      <td>False</td>\n",
       "      <td>주 1회</td>\n",
       "      <td>0개월</td>\n",
       "      <td>아니요</td>\n",
       "    </tr>\n",
       "    <tr>\n",
       "      <th>1</th>\n",
       "      <td>유세아</td>\n",
       "      <td>여성</td>\n",
       "      <td>01045795881</td>\n",
       "      <td>39</td>\n",
       "      <td>56kg</td>\n",
       "      <td>51kg</td>\n",
       "      <td>172</td>\n",
       "      <td>2016년 10월 02일</td>\n",
       "      <td>2016년 11월 29일</td>\n",
       "      <td>True</td>\n",
       "      <td>월 1회</td>\n",
       "      <td>0개월</td>\n",
       "      <td>아니요</td>\n",
       "    </tr>\n",
       "    <tr>\n",
       "      <th>2</th>\n",
       "      <td>송솔은</td>\n",
       "      <td>여성</td>\n",
       "      <td>010-7719-8346</td>\n",
       "      <td>NaN</td>\n",
       "      <td>29</td>\n",
       "      <td>21</td>\n",
       "      <td>167</td>\n",
       "      <td>2017년 09월 06일</td>\n",
       "      <td>2017년 09월 06일</td>\n",
       "      <td>True</td>\n",
       "      <td>주 1회</td>\n",
       "      <td>0개월</td>\n",
       "      <td>아니요</td>\n",
       "    </tr>\n",
       "    <tr>\n",
       "      <th>3</th>\n",
       "      <td>백서원</td>\n",
       "      <td>여성</td>\n",
       "      <td>01011947169</td>\n",
       "      <td>36</td>\n",
       "      <td>67</td>\n",
       "      <td>65</td>\n",
       "      <td>0</td>\n",
       "      <td>2017년 06월 02일</td>\n",
       "      <td>2017년 07월 28일</td>\n",
       "      <td>True</td>\n",
       "      <td>안 마심</td>\n",
       "      <td>0개월</td>\n",
       "      <td>아니요</td>\n",
       "    </tr>\n",
       "    <tr>\n",
       "      <th>4</th>\n",
       "      <td>박서은</td>\n",
       "      <td>여성</td>\n",
       "      <td>010-2575-6398</td>\n",
       "      <td>42</td>\n",
       "      <td>60</td>\n",
       "      <td>57</td>\n",
       "      <td>167</td>\n",
       "      <td>2017년 05월 07일</td>\n",
       "      <td>2017년 05월 07일</td>\n",
       "      <td>False</td>\n",
       "      <td>안 마심</td>\n",
       "      <td>0개월</td>\n",
       "      <td>예</td>\n",
       "    </tr>\n",
       "  </tbody>\n",
       "</table>\n",
       "</div>"
      ],
      "text/plain": [
       "    이름  성별           전화번호   나이 현재 체중 목표 체중    키         회원 가입일      회원 정보 갱신일  \\\n",
       "0  안원준  남성  010-2292-6251  31세    78    68  176  2016년 07월 05일  2016년 07월 05일   \n",
       "1  유세아  여성    01045795881   39  56kg  51kg  172  2016년 10월 02일  2016년 11월 29일   \n",
       "2  송솔은  여성  010-7719-8346  NaN    29    21  167  2017년 09월 06일  2017년 09월 06일   \n",
       "3  백서원  여성    01011947169   36    67    65    0  2017년 06월 02일  2017년 07월 28일   \n",
       "4  박서은  여성  010-2575-6398   42    60    57  167  2017년 05월 07일  2017년 05월 07일   \n",
       "\n",
       "   흡연 여부 음주 여부 가입 개월 수 개인상담 요청  \n",
       "0  False  주 1회     0개월     아니요  \n",
       "1   True  월 1회     0개월     아니요  \n",
       "2   True  주 1회     0개월     아니요  \n",
       "3   True  안 마심     0개월     아니요  \n",
       "4  False  안 마심     0개월       예  "
      ]
     },
     "execution_count": 8,
     "metadata": {},
     "output_type": "execute_result"
    }
   ],
   "source": [
    "user_info.head()"
   ]
  },
  {
   "cell_type": "markdown",
   "metadata": {},
   "source": [
    "** 2. 나이에서 0세라고 되어있는 것을 NaN으로 바꾸기 **"
   ]
  },
  {
   "cell_type": "markdown",
   "metadata": {},
   "source": [
    "- 0인 항목을 찾기 위해 value_counts() 메소드를 이용했는데 이걸로는 확인하기 어려웠다."
   ]
  },
  {
   "cell_type": "code",
   "execution_count": 9,
   "metadata": {},
   "outputs": [
    {
     "data": {
      "text/html": [
       "<div>\n",
       "<style scoped>\n",
       "    .dataframe tbody tr th:only-of-type {\n",
       "        vertical-align: middle;\n",
       "    }\n",
       "\n",
       "    .dataframe tbody tr th {\n",
       "        vertical-align: top;\n",
       "    }\n",
       "\n",
       "    .dataframe thead th {\n",
       "        text-align: right;\n",
       "    }\n",
       "</style>\n",
       "<table border=\"1\" class=\"dataframe\">\n",
       "  <thead>\n",
       "    <tr style=\"text-align: right;\">\n",
       "      <th></th>\n",
       "      <th>이름</th>\n",
       "      <th>성별</th>\n",
       "      <th>전화번호</th>\n",
       "      <th>나이</th>\n",
       "      <th>현재 체중</th>\n",
       "      <th>목표 체중</th>\n",
       "      <th>키</th>\n",
       "      <th>회원 가입일</th>\n",
       "      <th>회원 정보 갱신일</th>\n",
       "      <th>흡연 여부</th>\n",
       "      <th>음주 여부</th>\n",
       "      <th>가입 개월 수</th>\n",
       "      <th>개인상담 요청</th>\n",
       "    </tr>\n",
       "  </thead>\n",
       "  <tbody>\n",
       "  </tbody>\n",
       "</table>\n",
       "</div>"
      ],
      "text/plain": [
       "Empty DataFrame\n",
       "Columns: [이름, 성별, 전화번호, 나이, 현재 체중, 목표 체중, 키, 회원 가입일, 회원 정보 갱신일, 흡연 여부, 음주 여부, 가입 개월 수, 개인상담 요청]\n",
       "Index: []"
      ]
     },
     "execution_count": 9,
     "metadata": {},
     "output_type": "execute_result"
    }
   ],
   "source": [
    "user_info[user_info['나이'] == 0]"
   ]
  },
  {
   "cell_type": "markdown",
   "metadata": {},
   "source": [
    "- 나이가 0인 항목이 없는데?"
   ]
  },
  {
   "cell_type": "markdown",
   "metadata": {},
   "source": [
    "** 3. 나이 컬럼을 정리하기 **"
   ]
  },
  {
   "cell_type": "code",
   "execution_count": 10,
   "metadata": {},
   "outputs": [
    {
     "data": {
      "text/plain": [
       "array(['31세', '39', nan, '36', '42', '32', '27', '29', '37', '37세', '34',\n",
       "       '40', '33 세', '35', '30', '28', '50', '43', '31', '27세', '20',\n",
       "       '36세', '22', '33세', '33', '25', '38', '23', '38 세', '26', '34 세',\n",
       "       '2', '31 세', '35 세', '49', '41', '24', '44', '39세', '105', '118',\n",
       "       '36 세', '5', '28 세', '37 세', '19', '32 세', '21', '25 세', '42세',\n",
       "       '44세', '46', '24 세', '85', '26 세', '39 세', '43세', '47', '82',\n",
       "       '38세', '45세', '30 세', '19세', '32세', '20세', '116', '40세', '34세',\n",
       "       '6', '6 세', '47세', '16', '81', '30세', '24세', '45', '18', '20 세',\n",
       "       '42 세', '26세', '27 세', '35세', '110', '4', '8', '21 세', '115',\n",
       "       '25세', '28세', '29세', '7', '80세', '21세', '3', '96 세', '23 세', '15',\n",
       "       '119', '14', '29 세', '5세', '91', '44 세', '112', '40 세', '109',\n",
       "       '17', '92', '51', '16세', '94', '22 세', '41세', '5 세', '41 세', '48',\n",
       "       '102', '22세', '114', '84', '106', '50세', '96', '87', '95', '23세',\n",
       "       '49세', '8 세', '111', '46세', '101', '97세', '7 세', '112세', '113',\n",
       "       '7세', '86', '43 세', '107', '97', '46 세', '45 세', '3세', '19 세',\n",
       "       '90', '103', '4 세', '117', '92 세', '88', '100', '108', '13',\n",
       "       '107 세', '80', '90세', '50 세', '99', '104', '47 세', '93', '98',\n",
       "       '110세', '108 세', '3 세', '87 세', '101세', '52', '109 세', '48세',\n",
       "       '94세', '18 세', '16 세', '18세', '114세', '92세', '8세', '83', '2 세',\n",
       "       '107세', '80 세', '2세', '4세', '103 세', '53', '110 세', '89', '119세',\n",
       "       '99세', '82세', '91 세', '84 세', '17세', '104세', '85세', '113세', '17 세',\n",
       "       '119 세', '86세', '91세', '6세', '49 세', '102 세', '13 세', '48 세',\n",
       "       '52세', '101 세', '117세', '94 세', '11', '54', '104 세', '89세', '116세',\n",
       "       '87세', '88세', '89 세', '12', '98세', '90 세', '103세', '106 세', '15세',\n",
       "       '97 세', '112 세', '81 세', '100 세', '95세', '81세', '85 세', '93세',\n",
       "       '100세', '105 세', '118세', '116 세', '105세', '111 세', '106세', '98 세',\n",
       "       '88 세', '109세'], dtype=object)"
      ]
     },
     "execution_count": 10,
     "metadata": {},
     "output_type": "execute_result"
    }
   ],
   "source": [
    "user_info['나이'].unique()"
   ]
  },
  {
   "cell_type": "code",
   "execution_count": 11,
   "metadata": {},
   "outputs": [],
   "source": [
    "def clean_num_col(old, new):\n",
    "    def wrapper(data):\n",
    "        if type(data) is str:\n",
    "            num = data.replace(old, new)\n",
    "            return int(num)\n",
    "        return data\n",
    "    return wrapper"
   ]
  },
  {
   "cell_type": "code",
   "execution_count": 12,
   "metadata": {},
   "outputs": [],
   "source": [
    "clean_age = clean_num_col('세', '')\n",
    "user_info['나이'] = user_info['나이'].map(clean_age)"
   ]
  },
  {
   "cell_type": "code",
   "execution_count": 13,
   "metadata": {},
   "outputs": [
    {
     "data": {
      "text/plain": [
       "array([ 31.,  39.,  nan,  36.,  42.,  32.,  27.,  29.,  37.,  34.,  40.,\n",
       "        33.,  35.,  30.,  28.,  50.,  43.,  20.,  22.,  25.,  38.,  23.,\n",
       "        26.,   2.,  49.,  41.,  24.,  44., 105., 118.,   5.,  19.,  21.,\n",
       "        46.,  85.,  47.,  82.,  45., 116.,   6.,  16.,  81.,  18., 110.,\n",
       "         4.,   8., 115.,   7.,  80.,   3.,  96.,  15., 119.,  14.,  91.,\n",
       "       112., 109.,  17.,  92.,  51.,  94.,  48., 102., 114.,  84., 106.,\n",
       "        87.,  95., 111., 101.,  97., 113.,  86., 107.,  90., 103., 117.,\n",
       "        88., 100., 108.,  13.,  99., 104.,  93.,  98.,  52.,  83.,  53.,\n",
       "        89.,  11.,  54.,  12.])"
      ]
     },
     "execution_count": 13,
     "metadata": {},
     "output_type": "execute_result"
    }
   ],
   "source": [
    "user_info['나이'].unique()"
   ]
  },
  {
   "cell_type": "markdown",
   "metadata": {},
   "source": [
    "** 4. 평균(mean) / 최소(min) / 최대(max) 나이 구하기 **"
   ]
  },
  {
   "cell_type": "code",
   "execution_count": 14,
   "metadata": {},
   "outputs": [
    {
     "data": {
      "text/plain": [
       "(33.29973284545577, 2.0, 119.0)"
      ]
     },
     "execution_count": 14,
     "metadata": {},
     "output_type": "execute_result"
    }
   ],
   "source": [
    "age = user_info['나이']\n",
    "(age.mean(), age.min(), age.max())"
   ]
  },
  {
   "cell_type": "markdown",
   "metadata": {},
   "source": [
    "** 5. 컬럼의 순서를 조금 더 직관적으로 바꾸기 **"
   ]
  },
  {
   "cell_type": "code",
   "execution_count": 15,
   "metadata": {},
   "outputs": [
    {
     "data": {
      "text/html": [
       "<div>\n",
       "<style scoped>\n",
       "    .dataframe tbody tr th:only-of-type {\n",
       "        vertical-align: middle;\n",
       "    }\n",
       "\n",
       "    .dataframe tbody tr th {\n",
       "        vertical-align: top;\n",
       "    }\n",
       "\n",
       "    .dataframe thead th {\n",
       "        text-align: right;\n",
       "    }\n",
       "</style>\n",
       "<table border=\"1\" class=\"dataframe\">\n",
       "  <thead>\n",
       "    <tr style=\"text-align: right;\">\n",
       "      <th></th>\n",
       "      <th>이름</th>\n",
       "      <th>성별</th>\n",
       "      <th>전화번호</th>\n",
       "      <th>나이</th>\n",
       "      <th>현재 체중</th>\n",
       "      <th>목표 체중</th>\n",
       "      <th>키</th>\n",
       "      <th>회원 가입일</th>\n",
       "      <th>회원 정보 갱신일</th>\n",
       "      <th>흡연 여부</th>\n",
       "      <th>음주 여부</th>\n",
       "      <th>가입 개월 수</th>\n",
       "      <th>개인상담 요청</th>\n",
       "    </tr>\n",
       "  </thead>\n",
       "  <tbody>\n",
       "    <tr>\n",
       "      <th>0</th>\n",
       "      <td>안원준</td>\n",
       "      <td>남성</td>\n",
       "      <td>010-2292-6251</td>\n",
       "      <td>31.0</td>\n",
       "      <td>78</td>\n",
       "      <td>68</td>\n",
       "      <td>176</td>\n",
       "      <td>2016년 07월 05일</td>\n",
       "      <td>2016년 07월 05일</td>\n",
       "      <td>False</td>\n",
       "      <td>주 1회</td>\n",
       "      <td>0개월</td>\n",
       "      <td>아니요</td>\n",
       "    </tr>\n",
       "    <tr>\n",
       "      <th>1</th>\n",
       "      <td>유세아</td>\n",
       "      <td>여성</td>\n",
       "      <td>01045795881</td>\n",
       "      <td>39.0</td>\n",
       "      <td>56kg</td>\n",
       "      <td>51kg</td>\n",
       "      <td>172</td>\n",
       "      <td>2016년 10월 02일</td>\n",
       "      <td>2016년 11월 29일</td>\n",
       "      <td>True</td>\n",
       "      <td>월 1회</td>\n",
       "      <td>0개월</td>\n",
       "      <td>아니요</td>\n",
       "    </tr>\n",
       "    <tr>\n",
       "      <th>2</th>\n",
       "      <td>송솔은</td>\n",
       "      <td>여성</td>\n",
       "      <td>010-7719-8346</td>\n",
       "      <td>NaN</td>\n",
       "      <td>29</td>\n",
       "      <td>21</td>\n",
       "      <td>167</td>\n",
       "      <td>2017년 09월 06일</td>\n",
       "      <td>2017년 09월 06일</td>\n",
       "      <td>True</td>\n",
       "      <td>주 1회</td>\n",
       "      <td>0개월</td>\n",
       "      <td>아니요</td>\n",
       "    </tr>\n",
       "    <tr>\n",
       "      <th>3</th>\n",
       "      <td>백서원</td>\n",
       "      <td>여성</td>\n",
       "      <td>01011947169</td>\n",
       "      <td>36.0</td>\n",
       "      <td>67</td>\n",
       "      <td>65</td>\n",
       "      <td>0</td>\n",
       "      <td>2017년 06월 02일</td>\n",
       "      <td>2017년 07월 28일</td>\n",
       "      <td>True</td>\n",
       "      <td>안 마심</td>\n",
       "      <td>0개월</td>\n",
       "      <td>아니요</td>\n",
       "    </tr>\n",
       "    <tr>\n",
       "      <th>4</th>\n",
       "      <td>박서은</td>\n",
       "      <td>여성</td>\n",
       "      <td>010-2575-6398</td>\n",
       "      <td>42.0</td>\n",
       "      <td>60</td>\n",
       "      <td>57</td>\n",
       "      <td>167</td>\n",
       "      <td>2017년 05월 07일</td>\n",
       "      <td>2017년 05월 07일</td>\n",
       "      <td>False</td>\n",
       "      <td>안 마심</td>\n",
       "      <td>0개월</td>\n",
       "      <td>예</td>\n",
       "    </tr>\n",
       "  </tbody>\n",
       "</table>\n",
       "</div>"
      ],
      "text/plain": [
       "    이름  성별           전화번호    나이 현재 체중 목표 체중    키         회원 가입일  \\\n",
       "0  안원준  남성  010-2292-6251  31.0    78    68  176  2016년 07월 05일   \n",
       "1  유세아  여성    01045795881  39.0  56kg  51kg  172  2016년 10월 02일   \n",
       "2  송솔은  여성  010-7719-8346   NaN    29    21  167  2017년 09월 06일   \n",
       "3  백서원  여성    01011947169  36.0    67    65    0  2017년 06월 02일   \n",
       "4  박서은  여성  010-2575-6398  42.0    60    57  167  2017년 05월 07일   \n",
       "\n",
       "       회원 정보 갱신일  흡연 여부 음주 여부 가입 개월 수 개인상담 요청  \n",
       "0  2016년 07월 05일  False  주 1회     0개월     아니요  \n",
       "1  2016년 11월 29일   True  월 1회     0개월     아니요  \n",
       "2  2017년 09월 06일   True  주 1회     0개월     아니요  \n",
       "3  2017년 07월 28일   True  안 마심     0개월     아니요  \n",
       "4  2017년 05월 07일  False  안 마심     0개월       예  "
      ]
     },
     "execution_count": 15,
     "metadata": {},
     "output_type": "execute_result"
    }
   ],
   "source": [
    "user_info.head()"
   ]
  },
  {
   "cell_type": "code",
   "execution_count": 16,
   "metadata": {},
   "outputs": [],
   "source": [
    "private_info = ['이름', '성별', '나이', '키', '현재 체중', '목표 체중', '흡연 여부', '음주 여부', '전화번호']\n",
    "etc_info = ['개인상담 요청', '가입 개월 수', '회원 가입일', '회원 정보 갱신일']"
   ]
  },
  {
   "cell_type": "code",
   "execution_count": 17,
   "metadata": {},
   "outputs": [
    {
     "data": {
      "text/html": [
       "<div>\n",
       "<style scoped>\n",
       "    .dataframe tbody tr th:only-of-type {\n",
       "        vertical-align: middle;\n",
       "    }\n",
       "\n",
       "    .dataframe tbody tr th {\n",
       "        vertical-align: top;\n",
       "    }\n",
       "\n",
       "    .dataframe thead th {\n",
       "        text-align: right;\n",
       "    }\n",
       "</style>\n",
       "<table border=\"1\" class=\"dataframe\">\n",
       "  <thead>\n",
       "    <tr style=\"text-align: right;\">\n",
       "      <th></th>\n",
       "      <th>이름</th>\n",
       "      <th>성별</th>\n",
       "      <th>나이</th>\n",
       "      <th>키</th>\n",
       "      <th>현재 체중</th>\n",
       "      <th>목표 체중</th>\n",
       "      <th>흡연 여부</th>\n",
       "      <th>음주 여부</th>\n",
       "      <th>전화번호</th>\n",
       "      <th>개인상담 요청</th>\n",
       "      <th>가입 개월 수</th>\n",
       "      <th>회원 가입일</th>\n",
       "      <th>회원 정보 갱신일</th>\n",
       "    </tr>\n",
       "  </thead>\n",
       "  <tbody>\n",
       "    <tr>\n",
       "      <th>0</th>\n",
       "      <td>안원준</td>\n",
       "      <td>남성</td>\n",
       "      <td>31.0</td>\n",
       "      <td>176</td>\n",
       "      <td>78</td>\n",
       "      <td>68</td>\n",
       "      <td>False</td>\n",
       "      <td>주 1회</td>\n",
       "      <td>010-2292-6251</td>\n",
       "      <td>아니요</td>\n",
       "      <td>0개월</td>\n",
       "      <td>2016년 07월 05일</td>\n",
       "      <td>2016년 07월 05일</td>\n",
       "    </tr>\n",
       "    <tr>\n",
       "      <th>1</th>\n",
       "      <td>유세아</td>\n",
       "      <td>여성</td>\n",
       "      <td>39.0</td>\n",
       "      <td>172</td>\n",
       "      <td>56kg</td>\n",
       "      <td>51kg</td>\n",
       "      <td>True</td>\n",
       "      <td>월 1회</td>\n",
       "      <td>01045795881</td>\n",
       "      <td>아니요</td>\n",
       "      <td>0개월</td>\n",
       "      <td>2016년 10월 02일</td>\n",
       "      <td>2016년 11월 29일</td>\n",
       "    </tr>\n",
       "    <tr>\n",
       "      <th>2</th>\n",
       "      <td>송솔은</td>\n",
       "      <td>여성</td>\n",
       "      <td>NaN</td>\n",
       "      <td>167</td>\n",
       "      <td>29</td>\n",
       "      <td>21</td>\n",
       "      <td>True</td>\n",
       "      <td>주 1회</td>\n",
       "      <td>010-7719-8346</td>\n",
       "      <td>아니요</td>\n",
       "      <td>0개월</td>\n",
       "      <td>2017년 09월 06일</td>\n",
       "      <td>2017년 09월 06일</td>\n",
       "    </tr>\n",
       "    <tr>\n",
       "      <th>3</th>\n",
       "      <td>백서원</td>\n",
       "      <td>여성</td>\n",
       "      <td>36.0</td>\n",
       "      <td>0</td>\n",
       "      <td>67</td>\n",
       "      <td>65</td>\n",
       "      <td>True</td>\n",
       "      <td>안 마심</td>\n",
       "      <td>01011947169</td>\n",
       "      <td>아니요</td>\n",
       "      <td>0개월</td>\n",
       "      <td>2017년 06월 02일</td>\n",
       "      <td>2017년 07월 28일</td>\n",
       "    </tr>\n",
       "    <tr>\n",
       "      <th>4</th>\n",
       "      <td>박서은</td>\n",
       "      <td>여성</td>\n",
       "      <td>42.0</td>\n",
       "      <td>167</td>\n",
       "      <td>60</td>\n",
       "      <td>57</td>\n",
       "      <td>False</td>\n",
       "      <td>안 마심</td>\n",
       "      <td>010-2575-6398</td>\n",
       "      <td>예</td>\n",
       "      <td>0개월</td>\n",
       "      <td>2017년 05월 07일</td>\n",
       "      <td>2017년 05월 07일</td>\n",
       "    </tr>\n",
       "  </tbody>\n",
       "</table>\n",
       "</div>"
      ],
      "text/plain": [
       "    이름  성별    나이    키 현재 체중 목표 체중  흡연 여부 음주 여부           전화번호 개인상담 요청 가입 개월 수  \\\n",
       "0  안원준  남성  31.0  176    78    68  False  주 1회  010-2292-6251     아니요     0개월   \n",
       "1  유세아  여성  39.0  172  56kg  51kg   True  월 1회    01045795881     아니요     0개월   \n",
       "2  송솔은  여성   NaN  167    29    21   True  주 1회  010-7719-8346     아니요     0개월   \n",
       "3  백서원  여성  36.0    0    67    65   True  안 마심    01011947169     아니요     0개월   \n",
       "4  박서은  여성  42.0  167    60    57  False  안 마심  010-2575-6398       예     0개월   \n",
       "\n",
       "          회원 가입일      회원 정보 갱신일  \n",
       "0  2016년 07월 05일  2016년 07월 05일  \n",
       "1  2016년 10월 02일  2016년 11월 29일  \n",
       "2  2017년 09월 06일  2017년 09월 06일  \n",
       "3  2017년 06월 02일  2017년 07월 28일  \n",
       "4  2017년 05월 07일  2017년 05월 07일  "
      ]
     },
     "execution_count": 17,
     "metadata": {},
     "output_type": "execute_result"
    }
   ],
   "source": [
    "user_info_ordered = user_info[private_info + etc_info]\n",
    "user_info_ordered.head()"
   ]
  },
  {
   "cell_type": "markdown",
   "metadata": {},
   "source": [
    "## 과제(초급)"
   ]
  },
  {
   "cell_type": "markdown",
   "metadata": {},
   "source": [
    "### 데이터를 사용하기 용이하게 정리하기"
   ]
  },
  {
   "cell_type": "markdown",
   "metadata": {},
   "source": [
    "**6. 컬럼 이름 바꾸기**\n",
    "\n",
    "보통 프로그래밍을 할 때 한글 컬럼을 사용하면 다양한 문제로 불편을 겪을 때가 많습니다.\n",
    "\n",
    "그러므로 컬럼을 전부 한글에서 영어로 바꿔주세요. 컬럼명은 다음과 같이 바꿔주시면 됩니다.\n",
    "\n",
    "* 이름 - Name\n",
    "* 성별 - Gender\n",
    "* 전화번호 - Phone Number\n",
    "* 나이 - Age\n",
    "* 현재 체중 - Current Weight\n",
    "* 목표 체종 - Goal Weight\n",
    "* 키 - Height\n",
    "* 흡연 여부 - Smoking\n",
    "* 음주 여부 - Drinking\n",
    "* 개인상담 요청 - Request Counselling\n",
    "* 회원 가입일 - Joined At\n",
    "* 회원 정보 갱신일 - Updated At\n",
    "* 가입 개월 수 - Paid Plan"
   ]
  },
  {
   "cell_type": "code",
   "execution_count": 18,
   "metadata": {},
   "outputs": [],
   "source": [
    "col_name = {'이름': 'Name',\n",
    "            '성별': 'Gender',\n",
    "            '전화번호': 'Phone Number',\n",
    "            '나이': 'Age',\n",
    "            '현재 체중': 'Current Weight',\n",
    "            '목표 체중': 'Goal Weight',\n",
    "            '키': 'Height',\n",
    "            '흡연 여부': 'Smoking',\n",
    "            '음주 여부': 'Drinking',\n",
    "            '개인상담 요청': 'Request Counselling',\n",
    "            '회원 가입일': 'Joined At',\n",
    "            '회원 정보 갱신일': 'Updated At',\n",
    "            '가입 개월 수': 'Paid Plan'}"
   ]
  },
  {
   "cell_type": "code",
   "execution_count": 19,
   "metadata": {},
   "outputs": [
    {
     "data": {
      "text/html": [
       "<div>\n",
       "<style scoped>\n",
       "    .dataframe tbody tr th:only-of-type {\n",
       "        vertical-align: middle;\n",
       "    }\n",
       "\n",
       "    .dataframe tbody tr th {\n",
       "        vertical-align: top;\n",
       "    }\n",
       "\n",
       "    .dataframe thead th {\n",
       "        text-align: right;\n",
       "    }\n",
       "</style>\n",
       "<table border=\"1\" class=\"dataframe\">\n",
       "  <thead>\n",
       "    <tr style=\"text-align: right;\">\n",
       "      <th></th>\n",
       "      <th>Name</th>\n",
       "      <th>Gender</th>\n",
       "      <th>Age</th>\n",
       "      <th>Height</th>\n",
       "      <th>Current Weight</th>\n",
       "      <th>Goal Weight</th>\n",
       "      <th>Smoking</th>\n",
       "      <th>Drinking</th>\n",
       "      <th>Phone Number</th>\n",
       "      <th>Request Counselling</th>\n",
       "      <th>Paid Plan</th>\n",
       "      <th>Joined At</th>\n",
       "      <th>Updated At</th>\n",
       "    </tr>\n",
       "  </thead>\n",
       "  <tbody>\n",
       "    <tr>\n",
       "      <th>0</th>\n",
       "      <td>안원준</td>\n",
       "      <td>남성</td>\n",
       "      <td>31.0</td>\n",
       "      <td>176</td>\n",
       "      <td>78</td>\n",
       "      <td>68</td>\n",
       "      <td>False</td>\n",
       "      <td>주 1회</td>\n",
       "      <td>010-2292-6251</td>\n",
       "      <td>아니요</td>\n",
       "      <td>0개월</td>\n",
       "      <td>2016년 07월 05일</td>\n",
       "      <td>2016년 07월 05일</td>\n",
       "    </tr>\n",
       "    <tr>\n",
       "      <th>1</th>\n",
       "      <td>유세아</td>\n",
       "      <td>여성</td>\n",
       "      <td>39.0</td>\n",
       "      <td>172</td>\n",
       "      <td>56kg</td>\n",
       "      <td>51kg</td>\n",
       "      <td>True</td>\n",
       "      <td>월 1회</td>\n",
       "      <td>01045795881</td>\n",
       "      <td>아니요</td>\n",
       "      <td>0개월</td>\n",
       "      <td>2016년 10월 02일</td>\n",
       "      <td>2016년 11월 29일</td>\n",
       "    </tr>\n",
       "    <tr>\n",
       "      <th>2</th>\n",
       "      <td>송솔은</td>\n",
       "      <td>여성</td>\n",
       "      <td>NaN</td>\n",
       "      <td>167</td>\n",
       "      <td>29</td>\n",
       "      <td>21</td>\n",
       "      <td>True</td>\n",
       "      <td>주 1회</td>\n",
       "      <td>010-7719-8346</td>\n",
       "      <td>아니요</td>\n",
       "      <td>0개월</td>\n",
       "      <td>2017년 09월 06일</td>\n",
       "      <td>2017년 09월 06일</td>\n",
       "    </tr>\n",
       "    <tr>\n",
       "      <th>3</th>\n",
       "      <td>백서원</td>\n",
       "      <td>여성</td>\n",
       "      <td>36.0</td>\n",
       "      <td>0</td>\n",
       "      <td>67</td>\n",
       "      <td>65</td>\n",
       "      <td>True</td>\n",
       "      <td>안 마심</td>\n",
       "      <td>01011947169</td>\n",
       "      <td>아니요</td>\n",
       "      <td>0개월</td>\n",
       "      <td>2017년 06월 02일</td>\n",
       "      <td>2017년 07월 28일</td>\n",
       "    </tr>\n",
       "    <tr>\n",
       "      <th>4</th>\n",
       "      <td>박서은</td>\n",
       "      <td>여성</td>\n",
       "      <td>42.0</td>\n",
       "      <td>167</td>\n",
       "      <td>60</td>\n",
       "      <td>57</td>\n",
       "      <td>False</td>\n",
       "      <td>안 마심</td>\n",
       "      <td>010-2575-6398</td>\n",
       "      <td>예</td>\n",
       "      <td>0개월</td>\n",
       "      <td>2017년 05월 07일</td>\n",
       "      <td>2017년 05월 07일</td>\n",
       "    </tr>\n",
       "  </tbody>\n",
       "</table>\n",
       "</div>"
      ],
      "text/plain": [
       "  Name Gender   Age Height Current Weight Goal Weight  Smoking Drinking  \\\n",
       "0  안원준     남성  31.0    176             78          68    False     주 1회   \n",
       "1  유세아     여성  39.0    172           56kg        51kg     True     월 1회   \n",
       "2  송솔은     여성   NaN    167             29          21     True     주 1회   \n",
       "3  백서원     여성  36.0      0             67          65     True     안 마심   \n",
       "4  박서은     여성  42.0    167             60          57    False     안 마심   \n",
       "\n",
       "    Phone Number Request Counselling Paid Plan      Joined At     Updated At  \n",
       "0  010-2292-6251                 아니요       0개월  2016년 07월 05일  2016년 07월 05일  \n",
       "1    01045795881                 아니요       0개월  2016년 10월 02일  2016년 11월 29일  \n",
       "2  010-7719-8346                 아니요       0개월  2017년 09월 06일  2017년 09월 06일  \n",
       "3    01011947169                 아니요       0개월  2017년 06월 02일  2017년 07월 28일  \n",
       "4  010-2575-6398                   예       0개월  2017년 05월 07일  2017년 05월 07일  "
      ]
     },
     "execution_count": 19,
     "metadata": {},
     "output_type": "execute_result"
    }
   ],
   "source": [
    "user_info2 = user_info_ordered.rename(columns=col_name)\n",
    "user_info2.head()"
   ]
  },
  {
   "cell_type": "markdown",
   "metadata": {},
   "source": [
    "** 7. '상담 요청' 컬럼을 예/아니오 에서 True/False로 바꿔주세요 **"
   ]
  },
  {
   "cell_type": "code",
   "execution_count": 20,
   "metadata": {},
   "outputs": [
    {
     "data": {
      "text/plain": [
       "아니요    96260\n",
       "예      10579\n",
       "Name: Request Counselling, dtype: int64"
      ]
     },
     "execution_count": 20,
     "metadata": {},
     "output_type": "execute_result"
    }
   ],
   "source": [
    "user_info2['Request Counselling'].value_counts()"
   ]
  },
  {
   "cell_type": "code",
   "execution_count": 21,
   "metadata": {},
   "outputs": [],
   "source": [
    "user_info2['Request Counselling'] = user_info2['Request Counselling'] == '예'"
   ]
  },
  {
   "cell_type": "code",
   "execution_count": 22,
   "metadata": {},
   "outputs": [
    {
     "data": {
      "text/plain": [
       "False    96260\n",
       "True     10579\n",
       "Name: Request Counselling, dtype: int64"
      ]
     },
     "execution_count": 22,
     "metadata": {},
     "output_type": "execute_result"
    }
   ],
   "source": [
    "user_info2['Request Counselling'].value_counts()"
   ]
  },
  {
   "cell_type": "markdown",
   "metadata": {},
   "source": [
    "**8. '가입 개월 수' 컬럼을 분석해서, 무료(0개월)인 경우를 True로, 유료인 경우(3, 6, 9, 12개월)를 False로 보여주는 새로운 컬럼을 만들어주세요.**"
   ]
  },
  {
   "cell_type": "code",
   "execution_count": 23,
   "metadata": {},
   "outputs": [
    {
     "data": {
      "text/plain": [
       "0개월     74955\n",
       "3개월     21250\n",
       "6개월      7291\n",
       "12개월     3343\n",
       "Name: Paid Plan, dtype: int64"
      ]
     },
     "execution_count": 23,
     "metadata": {},
     "output_type": "execute_result"
    }
   ],
   "source": [
    "user_info2['Paid Plan'].value_counts()"
   ]
  },
  {
   "cell_type": "code",
   "execution_count": 24,
   "metadata": {},
   "outputs": [],
   "source": [
    "user_info2['Is Free'] = user_info2['Paid Plan'] == '0개월'"
   ]
  },
  {
   "cell_type": "code",
   "execution_count": 25,
   "metadata": {},
   "outputs": [
    {
     "data": {
      "text/html": [
       "<div>\n",
       "<style scoped>\n",
       "    .dataframe tbody tr th:only-of-type {\n",
       "        vertical-align: middle;\n",
       "    }\n",
       "\n",
       "    .dataframe tbody tr th {\n",
       "        vertical-align: top;\n",
       "    }\n",
       "\n",
       "    .dataframe thead th {\n",
       "        text-align: right;\n",
       "    }\n",
       "</style>\n",
       "<table border=\"1\" class=\"dataframe\">\n",
       "  <thead>\n",
       "    <tr style=\"text-align: right;\">\n",
       "      <th></th>\n",
       "      <th>Name</th>\n",
       "      <th>Gender</th>\n",
       "      <th>Age</th>\n",
       "      <th>Height</th>\n",
       "      <th>Current Weight</th>\n",
       "      <th>Goal Weight</th>\n",
       "      <th>Smoking</th>\n",
       "      <th>Drinking</th>\n",
       "      <th>Phone Number</th>\n",
       "      <th>Request Counselling</th>\n",
       "      <th>Paid Plan</th>\n",
       "      <th>Joined At</th>\n",
       "      <th>Updated At</th>\n",
       "      <th>Is Free</th>\n",
       "    </tr>\n",
       "  </thead>\n",
       "  <tbody>\n",
       "    <tr>\n",
       "      <th>0</th>\n",
       "      <td>안원준</td>\n",
       "      <td>남성</td>\n",
       "      <td>31.0</td>\n",
       "      <td>176</td>\n",
       "      <td>78</td>\n",
       "      <td>68</td>\n",
       "      <td>False</td>\n",
       "      <td>주 1회</td>\n",
       "      <td>010-2292-6251</td>\n",
       "      <td>False</td>\n",
       "      <td>0개월</td>\n",
       "      <td>2016년 07월 05일</td>\n",
       "      <td>2016년 07월 05일</td>\n",
       "      <td>True</td>\n",
       "    </tr>\n",
       "    <tr>\n",
       "      <th>1</th>\n",
       "      <td>유세아</td>\n",
       "      <td>여성</td>\n",
       "      <td>39.0</td>\n",
       "      <td>172</td>\n",
       "      <td>56kg</td>\n",
       "      <td>51kg</td>\n",
       "      <td>True</td>\n",
       "      <td>월 1회</td>\n",
       "      <td>01045795881</td>\n",
       "      <td>False</td>\n",
       "      <td>0개월</td>\n",
       "      <td>2016년 10월 02일</td>\n",
       "      <td>2016년 11월 29일</td>\n",
       "      <td>True</td>\n",
       "    </tr>\n",
       "    <tr>\n",
       "      <th>2</th>\n",
       "      <td>송솔은</td>\n",
       "      <td>여성</td>\n",
       "      <td>NaN</td>\n",
       "      <td>167</td>\n",
       "      <td>29</td>\n",
       "      <td>21</td>\n",
       "      <td>True</td>\n",
       "      <td>주 1회</td>\n",
       "      <td>010-7719-8346</td>\n",
       "      <td>False</td>\n",
       "      <td>0개월</td>\n",
       "      <td>2017년 09월 06일</td>\n",
       "      <td>2017년 09월 06일</td>\n",
       "      <td>True</td>\n",
       "    </tr>\n",
       "    <tr>\n",
       "      <th>3</th>\n",
       "      <td>백서원</td>\n",
       "      <td>여성</td>\n",
       "      <td>36.0</td>\n",
       "      <td>0</td>\n",
       "      <td>67</td>\n",
       "      <td>65</td>\n",
       "      <td>True</td>\n",
       "      <td>안 마심</td>\n",
       "      <td>01011947169</td>\n",
       "      <td>False</td>\n",
       "      <td>0개월</td>\n",
       "      <td>2017년 06월 02일</td>\n",
       "      <td>2017년 07월 28일</td>\n",
       "      <td>True</td>\n",
       "    </tr>\n",
       "    <tr>\n",
       "      <th>4</th>\n",
       "      <td>박서은</td>\n",
       "      <td>여성</td>\n",
       "      <td>42.0</td>\n",
       "      <td>167</td>\n",
       "      <td>60</td>\n",
       "      <td>57</td>\n",
       "      <td>False</td>\n",
       "      <td>안 마심</td>\n",
       "      <td>010-2575-6398</td>\n",
       "      <td>True</td>\n",
       "      <td>0개월</td>\n",
       "      <td>2017년 05월 07일</td>\n",
       "      <td>2017년 05월 07일</td>\n",
       "      <td>True</td>\n",
       "    </tr>\n",
       "  </tbody>\n",
       "</table>\n",
       "</div>"
      ],
      "text/plain": [
       "  Name Gender   Age Height Current Weight Goal Weight  Smoking Drinking  \\\n",
       "0  안원준     남성  31.0    176             78          68    False     주 1회   \n",
       "1  유세아     여성  39.0    172           56kg        51kg     True     월 1회   \n",
       "2  송솔은     여성   NaN    167             29          21     True     주 1회   \n",
       "3  백서원     여성  36.0      0             67          65     True     안 마심   \n",
       "4  박서은     여성  42.0    167             60          57    False     안 마심   \n",
       "\n",
       "    Phone Number  Request Counselling Paid Plan      Joined At     Updated At  \\\n",
       "0  010-2292-6251                False       0개월  2016년 07월 05일  2016년 07월 05일   \n",
       "1    01045795881                False       0개월  2016년 10월 02일  2016년 11월 29일   \n",
       "2  010-7719-8346                False       0개월  2017년 09월 06일  2017년 09월 06일   \n",
       "3    01011947169                False       0개월  2017년 06월 02일  2017년 07월 28일   \n",
       "4  010-2575-6398                 True       0개월  2017년 05월 07일  2017년 05월 07일   \n",
       "\n",
       "   Is Free  \n",
       "0     True  \n",
       "1     True  \n",
       "2     True  \n",
       "3     True  \n",
       "4     True  "
      ]
     },
     "execution_count": 25,
     "metadata": {},
     "output_type": "execute_result"
    }
   ],
   "source": [
    "user_info2.head()"
   ]
  },
  {
   "cell_type": "code",
   "execution_count": 26,
   "metadata": {},
   "outputs": [
    {
     "data": {
      "text/html": [
       "<div>\n",
       "<style scoped>\n",
       "    .dataframe tbody tr th:only-of-type {\n",
       "        vertical-align: middle;\n",
       "    }\n",
       "\n",
       "    .dataframe tbody tr th {\n",
       "        vertical-align: top;\n",
       "    }\n",
       "\n",
       "    .dataframe thead th {\n",
       "        text-align: right;\n",
       "    }\n",
       "</style>\n",
       "<table border=\"1\" class=\"dataframe\">\n",
       "  <thead>\n",
       "    <tr style=\"text-align: right;\">\n",
       "      <th></th>\n",
       "      <th>Paid Plan</th>\n",
       "      <th>Is Free</th>\n",
       "    </tr>\n",
       "  </thead>\n",
       "  <tbody>\n",
       "    <tr>\n",
       "      <th>0</th>\n",
       "      <td>0개월</td>\n",
       "      <td>True</td>\n",
       "    </tr>\n",
       "    <tr>\n",
       "      <th>1</th>\n",
       "      <td>0개월</td>\n",
       "      <td>True</td>\n",
       "    </tr>\n",
       "    <tr>\n",
       "      <th>2</th>\n",
       "      <td>0개월</td>\n",
       "      <td>True</td>\n",
       "    </tr>\n",
       "    <tr>\n",
       "      <th>3</th>\n",
       "      <td>0개월</td>\n",
       "      <td>True</td>\n",
       "    </tr>\n",
       "    <tr>\n",
       "      <th>4</th>\n",
       "      <td>0개월</td>\n",
       "      <td>True</td>\n",
       "    </tr>\n",
       "    <tr>\n",
       "      <th>5</th>\n",
       "      <td>3개월</td>\n",
       "      <td>False</td>\n",
       "    </tr>\n",
       "    <tr>\n",
       "      <th>6</th>\n",
       "      <td>12개월</td>\n",
       "      <td>False</td>\n",
       "    </tr>\n",
       "    <tr>\n",
       "      <th>7</th>\n",
       "      <td>0개월</td>\n",
       "      <td>True</td>\n",
       "    </tr>\n",
       "    <tr>\n",
       "      <th>8</th>\n",
       "      <td>0개월</td>\n",
       "      <td>True</td>\n",
       "    </tr>\n",
       "    <tr>\n",
       "      <th>9</th>\n",
       "      <td>3개월</td>\n",
       "      <td>False</td>\n",
       "    </tr>\n",
       "  </tbody>\n",
       "</table>\n",
       "</div>"
      ],
      "text/plain": [
       "  Paid Plan  Is Free\n",
       "0       0개월     True\n",
       "1       0개월     True\n",
       "2       0개월     True\n",
       "3       0개월     True\n",
       "4       0개월     True\n",
       "5       3개월    False\n",
       "6      12개월    False\n",
       "7       0개월     True\n",
       "8       0개월     True\n",
       "9       3개월    False"
      ]
     },
     "execution_count": 26,
     "metadata": {},
     "output_type": "execute_result"
    }
   ],
   "source": [
    "user_info2[['Paid Plan', 'Is Free']].head(10)"
   ]
  },
  {
   "cell_type": "markdown",
   "metadata": {},
   "source": [
    "### 컬럼의 형태를 하나로 통일하고, 빈 값이나 outlier들을 NaN으로 바꾸기"
   ]
  },
  {
   "cell_type": "markdown",
   "metadata": {},
   "source": [
    "** 9. 전화번호 컬럼을 정리해주세요. 다음과 같이 정리해주시면 됩니다. **\n",
    "  * unknown 이라고 표시되어 있는 전화번호는 빈 전화번호입니다. 이를 NaN으로 바꿔주세요."
   ]
  },
  {
   "cell_type": "code",
   "execution_count": 27,
   "metadata": {},
   "outputs": [
    {
     "data": {
      "text/html": [
       "<div>\n",
       "<style scoped>\n",
       "    .dataframe tbody tr th:only-of-type {\n",
       "        vertical-align: middle;\n",
       "    }\n",
       "\n",
       "    .dataframe tbody tr th {\n",
       "        vertical-align: top;\n",
       "    }\n",
       "\n",
       "    .dataframe thead th {\n",
       "        text-align: right;\n",
       "    }\n",
       "</style>\n",
       "<table border=\"1\" class=\"dataframe\">\n",
       "  <thead>\n",
       "    <tr style=\"text-align: right;\">\n",
       "      <th></th>\n",
       "      <th>Name</th>\n",
       "      <th>Gender</th>\n",
       "      <th>Age</th>\n",
       "      <th>Height</th>\n",
       "      <th>Current Weight</th>\n",
       "      <th>Goal Weight</th>\n",
       "      <th>Smoking</th>\n",
       "      <th>Drinking</th>\n",
       "      <th>Phone Number</th>\n",
       "      <th>Request Counselling</th>\n",
       "      <th>Paid Plan</th>\n",
       "      <th>Joined At</th>\n",
       "      <th>Updated At</th>\n",
       "      <th>Is Free</th>\n",
       "    </tr>\n",
       "  </thead>\n",
       "  <tbody>\n",
       "    <tr>\n",
       "      <th>0</th>\n",
       "      <td>안원준</td>\n",
       "      <td>남성</td>\n",
       "      <td>31.0</td>\n",
       "      <td>176</td>\n",
       "      <td>78</td>\n",
       "      <td>68</td>\n",
       "      <td>False</td>\n",
       "      <td>주 1회</td>\n",
       "      <td>010-2292-6251</td>\n",
       "      <td>False</td>\n",
       "      <td>0개월</td>\n",
       "      <td>2016년 07월 05일</td>\n",
       "      <td>2016년 07월 05일</td>\n",
       "      <td>True</td>\n",
       "    </tr>\n",
       "    <tr>\n",
       "      <th>1</th>\n",
       "      <td>유세아</td>\n",
       "      <td>여성</td>\n",
       "      <td>39.0</td>\n",
       "      <td>172</td>\n",
       "      <td>56kg</td>\n",
       "      <td>51kg</td>\n",
       "      <td>True</td>\n",
       "      <td>월 1회</td>\n",
       "      <td>01045795881</td>\n",
       "      <td>False</td>\n",
       "      <td>0개월</td>\n",
       "      <td>2016년 10월 02일</td>\n",
       "      <td>2016년 11월 29일</td>\n",
       "      <td>True</td>\n",
       "    </tr>\n",
       "    <tr>\n",
       "      <th>2</th>\n",
       "      <td>송솔은</td>\n",
       "      <td>여성</td>\n",
       "      <td>NaN</td>\n",
       "      <td>167</td>\n",
       "      <td>29</td>\n",
       "      <td>21</td>\n",
       "      <td>True</td>\n",
       "      <td>주 1회</td>\n",
       "      <td>010-7719-8346</td>\n",
       "      <td>False</td>\n",
       "      <td>0개월</td>\n",
       "      <td>2017년 09월 06일</td>\n",
       "      <td>2017년 09월 06일</td>\n",
       "      <td>True</td>\n",
       "    </tr>\n",
       "    <tr>\n",
       "      <th>3</th>\n",
       "      <td>백서원</td>\n",
       "      <td>여성</td>\n",
       "      <td>36.0</td>\n",
       "      <td>0</td>\n",
       "      <td>67</td>\n",
       "      <td>65</td>\n",
       "      <td>True</td>\n",
       "      <td>안 마심</td>\n",
       "      <td>01011947169</td>\n",
       "      <td>False</td>\n",
       "      <td>0개월</td>\n",
       "      <td>2017년 06월 02일</td>\n",
       "      <td>2017년 07월 28일</td>\n",
       "      <td>True</td>\n",
       "    </tr>\n",
       "    <tr>\n",
       "      <th>4</th>\n",
       "      <td>박서은</td>\n",
       "      <td>여성</td>\n",
       "      <td>42.0</td>\n",
       "      <td>167</td>\n",
       "      <td>60</td>\n",
       "      <td>57</td>\n",
       "      <td>False</td>\n",
       "      <td>안 마심</td>\n",
       "      <td>010-2575-6398</td>\n",
       "      <td>True</td>\n",
       "      <td>0개월</td>\n",
       "      <td>2017년 05월 07일</td>\n",
       "      <td>2017년 05월 07일</td>\n",
       "      <td>True</td>\n",
       "    </tr>\n",
       "  </tbody>\n",
       "</table>\n",
       "</div>"
      ],
      "text/plain": [
       "  Name Gender   Age Height Current Weight Goal Weight  Smoking Drinking  \\\n",
       "0  안원준     남성  31.0    176             78          68    False     주 1회   \n",
       "1  유세아     여성  39.0    172           56kg        51kg     True     월 1회   \n",
       "2  송솔은     여성   NaN    167             29          21     True     주 1회   \n",
       "3  백서원     여성  36.0      0             67          65     True     안 마심   \n",
       "4  박서은     여성  42.0    167             60          57    False     안 마심   \n",
       "\n",
       "    Phone Number  Request Counselling Paid Plan      Joined At     Updated At  \\\n",
       "0  010-2292-6251                False       0개월  2016년 07월 05일  2016년 07월 05일   \n",
       "1    01045795881                False       0개월  2016년 10월 02일  2016년 11월 29일   \n",
       "2  010-7719-8346                False       0개월  2017년 09월 06일  2017년 09월 06일   \n",
       "3    01011947169                False       0개월  2017년 06월 02일  2017년 07월 28일   \n",
       "4  010-2575-6398                 True       0개월  2017년 05월 07일  2017년 05월 07일   \n",
       "\n",
       "   Is Free  \n",
       "0     True  \n",
       "1     True  \n",
       "2     True  \n",
       "3     True  \n",
       "4     True  "
      ]
     },
     "execution_count": 27,
     "metadata": {},
     "output_type": "execute_result"
    }
   ],
   "source": [
    "# 일단 user_info2가 어떻게 생겼나보자.\n",
    "user_info2.head()"
   ]
  },
  {
   "cell_type": "code",
   "execution_count": 28,
   "metadata": {},
   "outputs": [
    {
     "data": {
      "text/plain": [
       "0    010-2292-6251\n",
       "1      01045795881\n",
       "2    010-7719-8346\n",
       "3      01011947169\n",
       "4    010-2575-6398\n",
       "5    010-7299-1288\n",
       "6    010-2132-4484\n",
       "7      01019249265\n",
       "8      01045337615\n",
       "9      01036423916\n",
       "Name: Phone Number, dtype: object"
      ]
     },
     "execution_count": 28,
     "metadata": {},
     "output_type": "execute_result"
    }
   ],
   "source": [
    "# 전화번호 컬럼은 Phone Number로 변경했다.\n",
    "# 어떤 데이터가 있는지 보자.\n",
    "# 전화번호니까 분포를 볼 필요는 없을 것 같다. 그냥 Series를 출력한다.\n",
    "user_info2['Phone Number'].head(10)"
   ]
  },
  {
   "cell_type": "code",
   "execution_count": 29,
   "metadata": {},
   "outputs": [
    {
     "data": {
      "text/html": [
       "<div>\n",
       "<style scoped>\n",
       "    .dataframe tbody tr th:only-of-type {\n",
       "        vertical-align: middle;\n",
       "    }\n",
       "\n",
       "    .dataframe tbody tr th {\n",
       "        vertical-align: top;\n",
       "    }\n",
       "\n",
       "    .dataframe thead th {\n",
       "        text-align: right;\n",
       "    }\n",
       "</style>\n",
       "<table border=\"1\" class=\"dataframe\">\n",
       "  <thead>\n",
       "    <tr style=\"text-align: right;\">\n",
       "      <th></th>\n",
       "      <th>Name</th>\n",
       "      <th>Gender</th>\n",
       "      <th>Age</th>\n",
       "      <th>Height</th>\n",
       "      <th>Current Weight</th>\n",
       "      <th>Goal Weight</th>\n",
       "      <th>Smoking</th>\n",
       "      <th>Drinking</th>\n",
       "      <th>Phone Number</th>\n",
       "      <th>Request Counselling</th>\n",
       "      <th>Paid Plan</th>\n",
       "      <th>Joined At</th>\n",
       "      <th>Updated At</th>\n",
       "      <th>Is Free</th>\n",
       "    </tr>\n",
       "  </thead>\n",
       "  <tbody>\n",
       "    <tr>\n",
       "      <th>10</th>\n",
       "      <td>한대권</td>\n",
       "      <td>남성</td>\n",
       "      <td>37.0</td>\n",
       "      <td>0</td>\n",
       "      <td>78</td>\n",
       "      <td>69</td>\n",
       "      <td>False</td>\n",
       "      <td>주 1회</td>\n",
       "      <td>unknown</td>\n",
       "      <td>False</td>\n",
       "      <td>3개월</td>\n",
       "      <td>2016년 04월 10일</td>\n",
       "      <td>2016년 04월 10일</td>\n",
       "      <td>False</td>\n",
       "    </tr>\n",
       "    <tr>\n",
       "      <th>16</th>\n",
       "      <td>황서은</td>\n",
       "      <td>여성</td>\n",
       "      <td>34.0</td>\n",
       "      <td>172</td>\n",
       "      <td>59</td>\n",
       "      <td>56</td>\n",
       "      <td>False</td>\n",
       "      <td>월 2회</td>\n",
       "      <td>unknown</td>\n",
       "      <td>False</td>\n",
       "      <td>0개월</td>\n",
       "      <td>2016년 08월 17일</td>\n",
       "      <td>2016년 08월 29일</td>\n",
       "      <td>True</td>\n",
       "    </tr>\n",
       "    <tr>\n",
       "      <th>28</th>\n",
       "      <td>박성원</td>\n",
       "      <td>남성</td>\n",
       "      <td>34.0</td>\n",
       "      <td>0</td>\n",
       "      <td>0</td>\n",
       "      <td>0</td>\n",
       "      <td>False</td>\n",
       "      <td>월 2회</td>\n",
       "      <td>unknown</td>\n",
       "      <td>False</td>\n",
       "      <td>6개월</td>\n",
       "      <td>2016년 09월 21일</td>\n",
       "      <td>2016년 09월 21일</td>\n",
       "      <td>False</td>\n",
       "    </tr>\n",
       "    <tr>\n",
       "      <th>35</th>\n",
       "      <td>한대윤</td>\n",
       "      <td>남</td>\n",
       "      <td>NaN</td>\n",
       "      <td>176</td>\n",
       "      <td>82kg</td>\n",
       "      <td>75kg</td>\n",
       "      <td>False</td>\n",
       "      <td>월 1회</td>\n",
       "      <td>unknown</td>\n",
       "      <td>False</td>\n",
       "      <td>0개월</td>\n",
       "      <td>2017년 08월 13일</td>\n",
       "      <td>2017년 08월 13일</td>\n",
       "      <td>True</td>\n",
       "    </tr>\n",
       "    <tr>\n",
       "      <th>49</th>\n",
       "      <td>황은우</td>\n",
       "      <td>남성</td>\n",
       "      <td>37.0</td>\n",
       "      <td>174</td>\n",
       "      <td>82kg</td>\n",
       "      <td>81kg</td>\n",
       "      <td>False</td>\n",
       "      <td>주 1회</td>\n",
       "      <td>unknown</td>\n",
       "      <td>False</td>\n",
       "      <td>0개월</td>\n",
       "      <td>2017년 11월 10일</td>\n",
       "      <td>2018년 02월 16일</td>\n",
       "      <td>True</td>\n",
       "    </tr>\n",
       "    <tr>\n",
       "      <th>54</th>\n",
       "      <td>강지빈</td>\n",
       "      <td>남성</td>\n",
       "      <td>36.0</td>\n",
       "      <td>176</td>\n",
       "      <td>82</td>\n",
       "      <td>77</td>\n",
       "      <td>True</td>\n",
       "      <td>월 1회</td>\n",
       "      <td>unknown</td>\n",
       "      <td>False</td>\n",
       "      <td>0개월</td>\n",
       "      <td>2016년 02월 24일</td>\n",
       "      <td>2016년 02월 24일</td>\n",
       "      <td>True</td>\n",
       "    </tr>\n",
       "    <tr>\n",
       "      <th>60</th>\n",
       "      <td>고윤찬</td>\n",
       "      <td>남성</td>\n",
       "      <td>38.0</td>\n",
       "      <td>171</td>\n",
       "      <td>84</td>\n",
       "      <td>78</td>\n",
       "      <td>False</td>\n",
       "      <td>월 2회</td>\n",
       "      <td>unknown</td>\n",
       "      <td>False</td>\n",
       "      <td>3개월</td>\n",
       "      <td>2017년 07월 07일</td>\n",
       "      <td>2017년 08월 24일</td>\n",
       "      <td>False</td>\n",
       "    </tr>\n",
       "    <tr>\n",
       "      <th>74</th>\n",
       "      <td>황승엽</td>\n",
       "      <td>male</td>\n",
       "      <td>34.0</td>\n",
       "      <td>172</td>\n",
       "      <td>84</td>\n",
       "      <td>79</td>\n",
       "      <td>True</td>\n",
       "      <td>월 2회</td>\n",
       "      <td>unknown</td>\n",
       "      <td>False</td>\n",
       "      <td>3개월</td>\n",
       "      <td>2017년 07월 10일</td>\n",
       "      <td>2017년 07월 10일</td>\n",
       "      <td>False</td>\n",
       "    </tr>\n",
       "    <tr>\n",
       "      <th>78</th>\n",
       "      <td>고서아</td>\n",
       "      <td>여</td>\n",
       "      <td>34.0</td>\n",
       "      <td>170</td>\n",
       "      <td>55</td>\n",
       "      <td>52</td>\n",
       "      <td>False</td>\n",
       "      <td>주 2회</td>\n",
       "      <td>unknown</td>\n",
       "      <td>True</td>\n",
       "      <td>0개월</td>\n",
       "      <td>2016년 03월 15일</td>\n",
       "      <td>2016년 03월 15일</td>\n",
       "      <td>True</td>\n",
       "    </tr>\n",
       "    <tr>\n",
       "      <th>80</th>\n",
       "      <td>오은찬</td>\n",
       "      <td>남성</td>\n",
       "      <td>2.0</td>\n",
       "      <td>181</td>\n",
       "      <td>82</td>\n",
       "      <td>74</td>\n",
       "      <td>False</td>\n",
       "      <td>월 2회</td>\n",
       "      <td>unknown</td>\n",
       "      <td>False</td>\n",
       "      <td>0개월</td>\n",
       "      <td>2016년 06월 11일</td>\n",
       "      <td>2016년 06월 11일</td>\n",
       "      <td>True</td>\n",
       "    </tr>\n",
       "  </tbody>\n",
       "</table>\n",
       "</div>"
      ],
      "text/plain": [
       "   Name Gender   Age Height Current Weight Goal Weight  Smoking Drinking  \\\n",
       "10  한대권     남성  37.0      0             78          69    False     주 1회   \n",
       "16  황서은     여성  34.0    172             59          56    False     월 2회   \n",
       "28  박성원     남성  34.0      0              0           0    False     월 2회   \n",
       "35  한대윤      남   NaN    176           82kg        75kg    False     월 1회   \n",
       "49  황은우     남성  37.0    174           82kg        81kg    False     주 1회   \n",
       "54  강지빈     남성  36.0    176             82          77     True     월 1회   \n",
       "60  고윤찬     남성  38.0    171             84          78    False     월 2회   \n",
       "74  황승엽   male  34.0    172             84          79     True     월 2회   \n",
       "78  고서아      여  34.0    170             55          52    False     주 2회   \n",
       "80  오은찬     남성   2.0    181             82          74    False     월 2회   \n",
       "\n",
       "   Phone Number  Request Counselling Paid Plan      Joined At     Updated At  \\\n",
       "10      unknown                False       3개월  2016년 04월 10일  2016년 04월 10일   \n",
       "16      unknown                False       0개월  2016년 08월 17일  2016년 08월 29일   \n",
       "28      unknown                False       6개월  2016년 09월 21일  2016년 09월 21일   \n",
       "35      unknown                False       0개월  2017년 08월 13일  2017년 08월 13일   \n",
       "49      unknown                False       0개월  2017년 11월 10일  2018년 02월 16일   \n",
       "54      unknown                False       0개월  2016년 02월 24일  2016년 02월 24일   \n",
       "60      unknown                False       3개월  2017년 07월 07일  2017년 08월 24일   \n",
       "74      unknown                False       3개월  2017년 07월 10일  2017년 07월 10일   \n",
       "78      unknown                 True       0개월  2016년 03월 15일  2016년 03월 15일   \n",
       "80      unknown                False       0개월  2016년 06월 11일  2016년 06월 11일   \n",
       "\n",
       "    Is Free  \n",
       "10    False  \n",
       "16     True  \n",
       "28    False  \n",
       "35     True  \n",
       "49     True  \n",
       "54     True  \n",
       "60    False  \n",
       "74    False  \n",
       "78     True  \n",
       "80     True  "
      ]
     },
     "execution_count": 29,
     "metadata": {},
     "output_type": "execute_result"
    }
   ],
   "source": [
    "# 먼저 unknown인 것을 출력해보자.\n",
    "user_info2[user_info2['Phone Number'] == 'unknown'].head(10)"
   ]
  },
  {
   "cell_type": "markdown",
   "metadata": {},
   "source": [
    "- **unknown을 NaN으로 변환한다.**"
   ]
  },
  {
   "cell_type": "code",
   "execution_count": 30,
   "metadata": {},
   "outputs": [],
   "source": [
    "user_info2[user_info2['Phone Number'] == 'unknown'] = np.nan"
   ]
  },
  {
   "cell_type": "code",
   "execution_count": 31,
   "metadata": {},
   "outputs": [
    {
     "data": {
      "text/html": [
       "<div>\n",
       "<style scoped>\n",
       "    .dataframe tbody tr th:only-of-type {\n",
       "        vertical-align: middle;\n",
       "    }\n",
       "\n",
       "    .dataframe tbody tr th {\n",
       "        vertical-align: top;\n",
       "    }\n",
       "\n",
       "    .dataframe thead th {\n",
       "        text-align: right;\n",
       "    }\n",
       "</style>\n",
       "<table border=\"1\" class=\"dataframe\">\n",
       "  <thead>\n",
       "    <tr style=\"text-align: right;\">\n",
       "      <th></th>\n",
       "      <th>Name</th>\n",
       "      <th>Gender</th>\n",
       "      <th>Age</th>\n",
       "      <th>Height</th>\n",
       "      <th>Current Weight</th>\n",
       "      <th>Goal Weight</th>\n",
       "      <th>Smoking</th>\n",
       "      <th>Drinking</th>\n",
       "      <th>Phone Number</th>\n",
       "      <th>Request Counselling</th>\n",
       "      <th>Paid Plan</th>\n",
       "      <th>Joined At</th>\n",
       "      <th>Updated At</th>\n",
       "      <th>Is Free</th>\n",
       "    </tr>\n",
       "  </thead>\n",
       "  <tbody>\n",
       "  </tbody>\n",
       "</table>\n",
       "</div>"
      ],
      "text/plain": [
       "Empty DataFrame\n",
       "Columns: [Name, Gender, Age, Height, Current Weight, Goal Weight, Smoking, Drinking, Phone Number, Request Counselling, Paid Plan, Joined At, Updated At, Is Free]\n",
       "Index: []"
      ]
     },
     "execution_count": 31,
     "metadata": {},
     "output_type": "execute_result"
    }
   ],
   "source": [
    "# unknown은 없는 것이 확인됐다.\n",
    "user_info2[user_info2['Phone Number'] == 'unknown']"
   ]
  },
  {
   "cell_type": "code",
   "execution_count": 32,
   "metadata": {},
   "outputs": [
    {
     "data": {
      "text/plain": [
       "10640"
      ]
     },
     "execution_count": 32,
     "metadata": {},
     "output_type": "execute_result"
    }
   ],
   "source": [
    "user_info2['Phone Number'].isnull().sum()"
   ]
  },
  {
   "cell_type": "code",
   "execution_count": 33,
   "metadata": {},
   "outputs": [
    {
     "data": {
      "text/plain": [
       "0    010-2292-6251\n",
       "1      01045795881\n",
       "2    010-7719-8346\n",
       "3      01011947169\n",
       "4    010-2575-6398\n",
       "5    010-7299-1288\n",
       "6    010-2132-4484\n",
       "7      01019249265\n",
       "8      01045337615\n",
       "9      01036423916\n",
       "Name: Phone Number, dtype: object"
      ]
     },
     "execution_count": 33,
     "metadata": {},
     "output_type": "execute_result"
    }
   ],
   "source": [
    "user_info2['Phone Number'].head(10)"
   ]
  },
  {
   "cell_type": "markdown",
   "metadata": {},
   "source": [
    "** 10. 키(cm) 컬럼을 정리해주세요. 다음과 같이 정리해주시면 됩니다.** \n",
    "\n",
    "* 다양한 형태로 표현되어 있는 키 컬럼(?, ?cm, ? cm 등)을 숫자로 통일해주세요.\n",
    "* 키가 0으로 되어있으면 NaN으로 바꿔주세요.\n",
    "* 키가 너무 작거나(140cm 이하) 너무 크면(210cm 이상) 마찬가지로 NaN으로 바꿔주세요."
   ]
  },
  {
   "cell_type": "code",
   "execution_count": 34,
   "metadata": {},
   "outputs": [
    {
     "data": {
      "text/html": [
       "<div>\n",
       "<style scoped>\n",
       "    .dataframe tbody tr th:only-of-type {\n",
       "        vertical-align: middle;\n",
       "    }\n",
       "\n",
       "    .dataframe tbody tr th {\n",
       "        vertical-align: top;\n",
       "    }\n",
       "\n",
       "    .dataframe thead th {\n",
       "        text-align: right;\n",
       "    }\n",
       "</style>\n",
       "<table border=\"1\" class=\"dataframe\">\n",
       "  <thead>\n",
       "    <tr style=\"text-align: right;\">\n",
       "      <th></th>\n",
       "      <th>Name</th>\n",
       "      <th>Gender</th>\n",
       "      <th>Age</th>\n",
       "      <th>Height</th>\n",
       "      <th>Current Weight</th>\n",
       "      <th>Goal Weight</th>\n",
       "      <th>Smoking</th>\n",
       "      <th>Drinking</th>\n",
       "      <th>Phone Number</th>\n",
       "      <th>Request Counselling</th>\n",
       "      <th>Paid Plan</th>\n",
       "      <th>Joined At</th>\n",
       "      <th>Updated At</th>\n",
       "      <th>Is Free</th>\n",
       "    </tr>\n",
       "  </thead>\n",
       "  <tbody>\n",
       "    <tr>\n",
       "      <th>0</th>\n",
       "      <td>안원준</td>\n",
       "      <td>남성</td>\n",
       "      <td>31.0</td>\n",
       "      <td>176</td>\n",
       "      <td>78</td>\n",
       "      <td>68</td>\n",
       "      <td>0.0</td>\n",
       "      <td>주 1회</td>\n",
       "      <td>010-2292-6251</td>\n",
       "      <td>0.0</td>\n",
       "      <td>0개월</td>\n",
       "      <td>2016년 07월 05일</td>\n",
       "      <td>2016년 07월 05일</td>\n",
       "      <td>1.0</td>\n",
       "    </tr>\n",
       "    <tr>\n",
       "      <th>1</th>\n",
       "      <td>유세아</td>\n",
       "      <td>여성</td>\n",
       "      <td>39.0</td>\n",
       "      <td>172</td>\n",
       "      <td>56kg</td>\n",
       "      <td>51kg</td>\n",
       "      <td>1.0</td>\n",
       "      <td>월 1회</td>\n",
       "      <td>01045795881</td>\n",
       "      <td>0.0</td>\n",
       "      <td>0개월</td>\n",
       "      <td>2016년 10월 02일</td>\n",
       "      <td>2016년 11월 29일</td>\n",
       "      <td>1.0</td>\n",
       "    </tr>\n",
       "    <tr>\n",
       "      <th>2</th>\n",
       "      <td>송솔은</td>\n",
       "      <td>여성</td>\n",
       "      <td>NaN</td>\n",
       "      <td>167</td>\n",
       "      <td>29</td>\n",
       "      <td>21</td>\n",
       "      <td>1.0</td>\n",
       "      <td>주 1회</td>\n",
       "      <td>010-7719-8346</td>\n",
       "      <td>0.0</td>\n",
       "      <td>0개월</td>\n",
       "      <td>2017년 09월 06일</td>\n",
       "      <td>2017년 09월 06일</td>\n",
       "      <td>1.0</td>\n",
       "    </tr>\n",
       "    <tr>\n",
       "      <th>3</th>\n",
       "      <td>백서원</td>\n",
       "      <td>여성</td>\n",
       "      <td>36.0</td>\n",
       "      <td>0</td>\n",
       "      <td>67</td>\n",
       "      <td>65</td>\n",
       "      <td>1.0</td>\n",
       "      <td>안 마심</td>\n",
       "      <td>01011947169</td>\n",
       "      <td>0.0</td>\n",
       "      <td>0개월</td>\n",
       "      <td>2017년 06월 02일</td>\n",
       "      <td>2017년 07월 28일</td>\n",
       "      <td>1.0</td>\n",
       "    </tr>\n",
       "    <tr>\n",
       "      <th>4</th>\n",
       "      <td>박서은</td>\n",
       "      <td>여성</td>\n",
       "      <td>42.0</td>\n",
       "      <td>167</td>\n",
       "      <td>60</td>\n",
       "      <td>57</td>\n",
       "      <td>0.0</td>\n",
       "      <td>안 마심</td>\n",
       "      <td>010-2575-6398</td>\n",
       "      <td>1.0</td>\n",
       "      <td>0개월</td>\n",
       "      <td>2017년 05월 07일</td>\n",
       "      <td>2017년 05월 07일</td>\n",
       "      <td>1.0</td>\n",
       "    </tr>\n",
       "  </tbody>\n",
       "</table>\n",
       "</div>"
      ],
      "text/plain": [
       "  Name Gender   Age Height Current Weight Goal Weight  Smoking Drinking  \\\n",
       "0  안원준     남성  31.0    176             78          68      0.0     주 1회   \n",
       "1  유세아     여성  39.0    172           56kg        51kg      1.0     월 1회   \n",
       "2  송솔은     여성   NaN    167             29          21      1.0     주 1회   \n",
       "3  백서원     여성  36.0      0             67          65      1.0     안 마심   \n",
       "4  박서은     여성  42.0    167             60          57      0.0     안 마심   \n",
       "\n",
       "    Phone Number  Request Counselling Paid Plan      Joined At     Updated At  \\\n",
       "0  010-2292-6251                  0.0       0개월  2016년 07월 05일  2016년 07월 05일   \n",
       "1    01045795881                  0.0       0개월  2016년 10월 02일  2016년 11월 29일   \n",
       "2  010-7719-8346                  0.0       0개월  2017년 09월 06일  2017년 09월 06일   \n",
       "3    01011947169                  0.0       0개월  2017년 06월 02일  2017년 07월 28일   \n",
       "4  010-2575-6398                  1.0       0개월  2017년 05월 07일  2017년 05월 07일   \n",
       "\n",
       "   Is Free  \n",
       "0      1.0  \n",
       "1      1.0  \n",
       "2      1.0  \n",
       "3      1.0  \n",
       "4      1.0  "
      ]
     },
     "execution_count": 34,
     "metadata": {},
     "output_type": "execute_result"
    }
   ],
   "source": [
    "user_info2.head()"
   ]
  },
  {
   "cell_type": "code",
   "execution_count": 35,
   "metadata": {},
   "outputs": [
    {
     "data": {
      "text/plain": [
       "array(['176', '172', '167', '0', '171', '177', nan, '164', '170', '178',\n",
       "       '182', '184', '217 cm', '159', '169', '175', '173', '121cm', '156',\n",
       "       '168', '166', '165', '206cm', '181', '177 cm', '157', '172cm',\n",
       "       '180 cm', '175cm', '179cm', '179', '161', '183', '132', '185',\n",
       "       '180', '172 cm', '169 cm', '174 cm', '162', '174cm', '170 cm',\n",
       "       '188', '160', '171cm', '174', '158', '176 cm', '173 cm', '167 cm',\n",
       "       '162cm', '134cm', '234', '159cm', '155', '180cm', '182cm', '178cm',\n",
       "       '104', '126', '163 cm', '162 cm', '166 cm', '187', '114', '163',\n",
       "       '106', '164cm', '173cm', '182 cm', '166cm', '181cm', '186 cm',\n",
       "       '192', '165 cm', '160 cm', '181 cm', '170cm', '171 cm', '179 cm',\n",
       "       '186', '201', '243', '168cm', '208', '219', '178 cm', '176cm',\n",
       "       '177cm', '152', '238', '225', '211', '184 cm', '183cm', '155cm',\n",
       "       '169cm', '167cm', '110', '247', '246', '165cm', '161cm', '109',\n",
       "       '183 cm', '222', '191', '125', '175 cm', '206', '154', '163cm',\n",
       "       '212', '230', '218', '159 cm', '119', '168 cm', '164 cm', '242',\n",
       "       '129 cm', '161 cm', '124', '187 cm', '107', '137', '160cm',\n",
       "       '185cm', '189', '210cm', '213', '200', '131', '241', '100',\n",
       "       '187cm', '122 cm', '158cm', '101', '215', '134', '234cm', '209',\n",
       "       '224', '190cm', '185 cm', '130', '129', '127', '214cm', '139cm',\n",
       "       '153', '184cm', '220', '231', '193', '227', '102', '158 cm',\n",
       "       '155 cm', '136', '225cm', '205', '228', '190', '219cm', '117',\n",
       "       '115', '127 cm', '186cm', '138', '235', '205cm', '157cm', '188 cm',\n",
       "       '108', '203', '243cm', '133', '207', '214', '149', '127cm',\n",
       "       '130 cm', '108cm', '101cm', '236', '120', '154cm', '156cm', '128',\n",
       "       '233', '239', '210', '245', '226', '115 cm', '216', '151', '103',\n",
       "       '247cm', '221', '121', '122', '112', '249', '234 cm', '237',\n",
       "       '223 cm', '105', '204', '248', '202', '135', '223', '157 cm',\n",
       "       '118', '211cm', '151cm', '204cm', '217', '103cm', '229', '227cm',\n",
       "       '244', '111', '139', '118 cm', '245 cm', '116', '240', '121 cm',\n",
       "       '113', '244cm', '194', '152cm', '236 cm', '113 cm', '233 cm',\n",
       "       '153cm', '229 cm', '100cm', '208cm', '150', '126cm', '188cm',\n",
       "       '223cm', '123', '114cm', '111cm', '220cm', '153 cm', '216 cm',\n",
       "       '136cm', '224cm', '189 cm', '216cm', '137 cm', '130cm', '154 cm',\n",
       "       '138 cm', '135cm', '125 cm', '100 cm', '209cm', '226 cm', '116cm',\n",
       "       '126 cm', '239cm', '210 cm', '248cm', '221cm', '232 cm', '195',\n",
       "       '189cm', '120cm', '247 cm', '228 cm', '129cm', '128cm', '124 cm',\n",
       "       '229cm', '246 cm', '156 cm', '119 cm', '212 cm', '117cm', '238 cm',\n",
       "       '120 cm', '207cm', '101 cm', '232', '105cm', '190 cm', '191 cm',\n",
       "       '215 cm', '123cm', '131 cm', '226cm', '204 cm', '136 cm', '104cm',\n",
       "       '115cm', '102cm', '117 cm', '193cm', '108 cm', '209 cm', '218cm',\n",
       "       '152 cm', '237 cm', '196', '137cm', '138cm', '217cm', '114 cm',\n",
       "       '197', '110cm', '102 cm', '112 cm', '240 cm', '236cm', '242cm',\n",
       "       '192cm', '246cm', '139 cm', '132 cm', '194cm', '222 cm', '241 cm',\n",
       "       '106 cm', '104 cm', '221 cm', '230cm', '133cm', '131cm', '201 cm',\n",
       "       '211 cm', '111 cm', '125cm', '132cm', '107cm', '213 cm', '207 cm',\n",
       "       '208 cm', '240cm', '200 cm', '237cm', '206 cm', '151 cm', '212cm',\n",
       "       '135 cm', '112cm', '224 cm', '150cm'], dtype=object)"
      ]
     },
     "execution_count": 35,
     "metadata": {},
     "output_type": "execute_result"
    }
   ],
   "source": [
    "user_info2['Height'].unique()"
   ]
  },
  {
   "cell_type": "code",
   "execution_count": 36,
   "metadata": {},
   "outputs": [],
   "source": [
    "clean_height = clean_num_col('cm', '')\n",
    "user_info2['Height'] = user_info2['Height'].map(clean_height)"
   ]
  },
  {
   "cell_type": "code",
   "execution_count": 37,
   "metadata": {},
   "outputs": [
    {
     "data": {
      "text/plain": [
       "array([176., 172., 167.,   0., 171., 177.,  nan, 164., 170., 178., 182.,\n",
       "       184., 217., 159., 169., 175., 173., 121., 156., 168., 166., 165.,\n",
       "       206., 181., 157., 180., 179., 161., 183., 132., 185., 174., 162.,\n",
       "       188., 160., 158., 134., 234., 155., 104., 126., 163., 187., 114.,\n",
       "       106., 186., 192., 201., 243., 208., 219., 152., 238., 225., 211.,\n",
       "       110., 247., 246., 109., 222., 191., 125., 154., 212., 230., 218.,\n",
       "       119., 242., 129., 124., 107., 137., 189., 210., 213., 200., 131.,\n",
       "       241., 100., 122., 101., 215., 209., 224., 190., 130., 127., 214.,\n",
       "       139., 153., 220., 231., 193., 227., 102., 136., 205., 228., 117.,\n",
       "       115., 138., 235., 108., 203., 133., 207., 149., 236., 120., 128.,\n",
       "       233., 239., 245., 226., 216., 151., 103., 221., 112., 249., 237.,\n",
       "       223., 105., 204., 248., 202., 135., 118., 229., 244., 111., 116.,\n",
       "       240., 113., 194., 150., 123., 232., 195., 196., 197.])"
      ]
     },
     "execution_count": 37,
     "metadata": {},
     "output_type": "execute_result"
    }
   ],
   "source": [
    "user_info2['Height'].unique()"
   ]
  },
  {
   "cell_type": "code",
   "execution_count": 38,
   "metadata": {},
   "outputs": [],
   "source": [
    "def drop_value(func):\n",
    "    def wrapper(data):\n",
    "        if func(data):\n",
    "            return np.nan\n",
    "        return data\n",
    "    return wrapper"
   ]
  },
  {
   "cell_type": "code",
   "execution_count": 39,
   "metadata": {},
   "outputs": [],
   "source": [
    "drop_height_min_value = drop_value(lambda x: x <= 120 or x >= 210)"
   ]
  },
  {
   "cell_type": "code",
   "execution_count": 40,
   "metadata": {},
   "outputs": [
    {
     "data": {
      "text/plain": [
       "nan"
      ]
     },
     "execution_count": 40,
     "metadata": {},
     "output_type": "execute_result"
    }
   ],
   "source": [
    "drop_height_min_value(220)"
   ]
  },
  {
   "cell_type": "code",
   "execution_count": 41,
   "metadata": {},
   "outputs": [],
   "source": [
    "user_info2['Height'] = user_info2['Height'].map(drop_height_min_value)"
   ]
  },
  {
   "cell_type": "code",
   "execution_count": 42,
   "metadata": {},
   "outputs": [
    {
     "data": {
      "text/plain": [
       "array([176., 172., 167.,  nan, 171., 177., 164., 170., 178., 182., 184.,\n",
       "       159., 169., 175., 173., 121., 156., 168., 166., 165., 206., 181.,\n",
       "       157., 180., 179., 161., 183., 132., 185., 174., 162., 188., 160.,\n",
       "       158., 134., 155., 126., 163., 187., 186., 192., 201., 208., 152.,\n",
       "       191., 125., 154., 129., 124., 137., 189., 200., 131., 122., 209.,\n",
       "       190., 130., 127., 139., 153., 193., 136., 205., 138., 203., 133.,\n",
       "       207., 149., 128., 151., 204., 202., 135., 194., 150., 123., 195.,\n",
       "       196., 197.])"
      ]
     },
     "execution_count": 42,
     "metadata": {},
     "output_type": "execute_result"
    }
   ],
   "source": [
    "user_info2['Height'].unique()"
   ]
  },
  {
   "cell_type": "markdown",
   "metadata": {},
   "source": [
    "** 11.'현재 체중'과\t'목표 체중' 컬럼을 정리해주세요. 다음과 같이 정리해주시면 됩니다.** \n",
    "\n",
    "* 다양한 형태로 표현되어 있는 몸무게 컬럼(?, ?kg, ? kg 등)을 숫자로 통일해주세요.\n",
    "* 몸무게가 0으로 되어있으면 NaN으로 바꿔주세요.\n",
    "* 몸무게가 너무 작거나(40kg 이하) 너무 크면(150kg 이상) 마찬가지로 NaN으로 바꿔주세요."
   ]
  },
  {
   "cell_type": "code",
   "execution_count": 43,
   "metadata": {},
   "outputs": [
    {
     "data": {
      "text/html": [
       "<div>\n",
       "<style scoped>\n",
       "    .dataframe tbody tr th:only-of-type {\n",
       "        vertical-align: middle;\n",
       "    }\n",
       "\n",
       "    .dataframe tbody tr th {\n",
       "        vertical-align: top;\n",
       "    }\n",
       "\n",
       "    .dataframe thead th {\n",
       "        text-align: right;\n",
       "    }\n",
       "</style>\n",
       "<table border=\"1\" class=\"dataframe\">\n",
       "  <thead>\n",
       "    <tr style=\"text-align: right;\">\n",
       "      <th></th>\n",
       "      <th>Name</th>\n",
       "      <th>Gender</th>\n",
       "      <th>Age</th>\n",
       "      <th>Height</th>\n",
       "      <th>Current Weight</th>\n",
       "      <th>Goal Weight</th>\n",
       "      <th>Smoking</th>\n",
       "      <th>Drinking</th>\n",
       "      <th>Phone Number</th>\n",
       "      <th>Request Counselling</th>\n",
       "      <th>Paid Plan</th>\n",
       "      <th>Joined At</th>\n",
       "      <th>Updated At</th>\n",
       "      <th>Is Free</th>\n",
       "    </tr>\n",
       "  </thead>\n",
       "  <tbody>\n",
       "    <tr>\n",
       "      <th>0</th>\n",
       "      <td>안원준</td>\n",
       "      <td>남성</td>\n",
       "      <td>31.0</td>\n",
       "      <td>176.0</td>\n",
       "      <td>78</td>\n",
       "      <td>68</td>\n",
       "      <td>0.0</td>\n",
       "      <td>주 1회</td>\n",
       "      <td>010-2292-6251</td>\n",
       "      <td>0.0</td>\n",
       "      <td>0개월</td>\n",
       "      <td>2016년 07월 05일</td>\n",
       "      <td>2016년 07월 05일</td>\n",
       "      <td>1.0</td>\n",
       "    </tr>\n",
       "    <tr>\n",
       "      <th>1</th>\n",
       "      <td>유세아</td>\n",
       "      <td>여성</td>\n",
       "      <td>39.0</td>\n",
       "      <td>172.0</td>\n",
       "      <td>56kg</td>\n",
       "      <td>51kg</td>\n",
       "      <td>1.0</td>\n",
       "      <td>월 1회</td>\n",
       "      <td>01045795881</td>\n",
       "      <td>0.0</td>\n",
       "      <td>0개월</td>\n",
       "      <td>2016년 10월 02일</td>\n",
       "      <td>2016년 11월 29일</td>\n",
       "      <td>1.0</td>\n",
       "    </tr>\n",
       "    <tr>\n",
       "      <th>2</th>\n",
       "      <td>송솔은</td>\n",
       "      <td>여성</td>\n",
       "      <td>NaN</td>\n",
       "      <td>167.0</td>\n",
       "      <td>29</td>\n",
       "      <td>21</td>\n",
       "      <td>1.0</td>\n",
       "      <td>주 1회</td>\n",
       "      <td>010-7719-8346</td>\n",
       "      <td>0.0</td>\n",
       "      <td>0개월</td>\n",
       "      <td>2017년 09월 06일</td>\n",
       "      <td>2017년 09월 06일</td>\n",
       "      <td>1.0</td>\n",
       "    </tr>\n",
       "    <tr>\n",
       "      <th>3</th>\n",
       "      <td>백서원</td>\n",
       "      <td>여성</td>\n",
       "      <td>36.0</td>\n",
       "      <td>NaN</td>\n",
       "      <td>67</td>\n",
       "      <td>65</td>\n",
       "      <td>1.0</td>\n",
       "      <td>안 마심</td>\n",
       "      <td>01011947169</td>\n",
       "      <td>0.0</td>\n",
       "      <td>0개월</td>\n",
       "      <td>2017년 06월 02일</td>\n",
       "      <td>2017년 07월 28일</td>\n",
       "      <td>1.0</td>\n",
       "    </tr>\n",
       "    <tr>\n",
       "      <th>4</th>\n",
       "      <td>박서은</td>\n",
       "      <td>여성</td>\n",
       "      <td>42.0</td>\n",
       "      <td>167.0</td>\n",
       "      <td>60</td>\n",
       "      <td>57</td>\n",
       "      <td>0.0</td>\n",
       "      <td>안 마심</td>\n",
       "      <td>010-2575-6398</td>\n",
       "      <td>1.0</td>\n",
       "      <td>0개월</td>\n",
       "      <td>2017년 05월 07일</td>\n",
       "      <td>2017년 05월 07일</td>\n",
       "      <td>1.0</td>\n",
       "    </tr>\n",
       "  </tbody>\n",
       "</table>\n",
       "</div>"
      ],
      "text/plain": [
       "  Name Gender   Age  Height Current Weight Goal Weight  Smoking Drinking  \\\n",
       "0  안원준     남성  31.0   176.0             78          68      0.0     주 1회   \n",
       "1  유세아     여성  39.0   172.0           56kg        51kg      1.0     월 1회   \n",
       "2  송솔은     여성   NaN   167.0             29          21      1.0     주 1회   \n",
       "3  백서원     여성  36.0     NaN             67          65      1.0     안 마심   \n",
       "4  박서은     여성  42.0   167.0             60          57      0.0     안 마심   \n",
       "\n",
       "    Phone Number  Request Counselling Paid Plan      Joined At     Updated At  \\\n",
       "0  010-2292-6251                  0.0       0개월  2016년 07월 05일  2016년 07월 05일   \n",
       "1    01045795881                  0.0       0개월  2016년 10월 02일  2016년 11월 29일   \n",
       "2  010-7719-8346                  0.0       0개월  2017년 09월 06일  2017년 09월 06일   \n",
       "3    01011947169                  0.0       0개월  2017년 06월 02일  2017년 07월 28일   \n",
       "4  010-2575-6398                  1.0       0개월  2017년 05월 07일  2017년 05월 07일   \n",
       "\n",
       "   Is Free  \n",
       "0      1.0  \n",
       "1      1.0  \n",
       "2      1.0  \n",
       "3      1.0  \n",
       "4      1.0  "
      ]
     },
     "execution_count": 43,
     "metadata": {},
     "output_type": "execute_result"
    }
   ],
   "source": [
    "user_info2.head()"
   ]
  },
  {
   "cell_type": "code",
   "execution_count": 44,
   "metadata": {},
   "outputs": [],
   "source": [
    "clean_weight = clean_num_col('kg', '')\n",
    "user_info2['Current Weight'] = user_info2['Current Weight'].map(clean_weight)\n",
    "user_info2['Goal Weight'] = user_info2['Goal Weight'].map(clean_weight)"
   ]
  },
  {
   "cell_type": "code",
   "execution_count": 45,
   "metadata": {},
   "outputs": [
    {
     "data": {
      "text/plain": [
       "array([ 78.,  56.,  29.,  67.,  60.,  76.,   0.,  83.,  nan,  84.,  80.,\n",
       "        81.,  82.,  62.,  59.,  77.,  55.,  75.,  58.,  66.,  63.,  57.,\n",
       "       142.,  73.,  39.,  85.,  61.,  86.,  65.,  79.,  74.,  52.,  53.,\n",
       "        64.,  33.,  38.,  72.,  20.,  50.,  68.,  54.,  34.,  88.,  22.,\n",
       "       121.,  71.,  87.,  30.,  37.,  25.,  70.,  51., 133., 146., 127.,\n",
       "        35., 134., 131., 135., 120., 138., 132., 130., 141.,  23.,  89.,\n",
       "        27.,  26., 139.,  24.,  21., 140.,  31.,  69., 145.,  36., 148.,\n",
       "        49., 136., 123., 129., 126.,  90., 143., 122., 137., 144.,  32.,\n",
       "       147., 128.,  28., 124., 125.,  48., 149.,  44.,  91.,  92.])"
      ]
     },
     "execution_count": 45,
     "metadata": {},
     "output_type": "execute_result"
    }
   ],
   "source": [
    "user_info2['Current Weight'].unique()"
   ]
  },
  {
   "cell_type": "code",
   "execution_count": 46,
   "metadata": {},
   "outputs": [
    {
     "data": {
      "text/plain": [
       "array([ 68.,  51.,  21.,  65.,  57.,  73.,   0.,  78.,  58.,  70.,  nan,\n",
       "        50.,  82.,  77.,  72.,  74.,  75.,  79.,  55.,  80.,  76.,  48.,\n",
       "        53.,  62.,  54.,  52.,  56.,  71.,  47., 138.,  67.,  29.,  46.,\n",
       "        69.,  66.,  49.,  81.,  59.,  43.,  30.,  63.,  31.,  10.,  42.,\n",
       "        61.,  25.,  64.,  60., 113.,  45.,  20.,  32.,  24.,  84.,  83.,\n",
       "        33.,  28., 132., 143., 122., 126., 124., 131.,  86., 128.,  27.,\n",
       "       123., 135., 134.,  44.,  26., 136.,  17., 137.,  13., 115., 112.,\n",
       "        19.,  23.,  14.,  85., 141., 127.,  15., 129., 133.,  18., 121.,\n",
       "       111.,  88.,  34., 117., 130.,  11.,  22.,  16.,  38., 116.,  41.,\n",
       "       139., 118., 146.,  40., 114., 140.,  36., 120., 144.,  39., 145.,\n",
       "        37.,  12., 119.,  87.,  35., 110., 125., 142., 147.,  89., 148.,\n",
       "        90.])"
      ]
     },
     "execution_count": 46,
     "metadata": {},
     "output_type": "execute_result"
    }
   ],
   "source": [
    "user_info2['Goal Weight'].unique()"
   ]
  },
  {
   "cell_type": "code",
   "execution_count": 47,
   "metadata": {},
   "outputs": [],
   "source": [
    "drop_weight_min_value = drop_value(lambda x: x <= 40 or x >= 150)\n",
    "user_info2['Current Weight'] = user_info2['Current Weight'].map(drop_weight_min_value)\n",
    "user_info2['Goal Weight'] = user_info2['Goal Weight'].map(drop_weight_min_value)"
   ]
  },
  {
   "cell_type": "code",
   "execution_count": 48,
   "metadata": {},
   "outputs": [
    {
     "data": {
      "text/plain": [
       "array([ 78.,  56.,  nan,  67.,  60.,  76.,  83.,  84.,  80.,  81.,  82.,\n",
       "        62.,  59.,  77.,  55.,  75.,  58.,  66.,  63.,  57., 142.,  73.,\n",
       "        85.,  61.,  86.,  65.,  79.,  74.,  52.,  53.,  64.,  72.,  50.,\n",
       "        68.,  54.,  88., 121.,  71.,  87.,  70.,  51., 133., 146., 127.,\n",
       "       134., 131., 135., 120., 138., 132., 130., 141.,  89., 139., 140.,\n",
       "        69., 145., 148.,  49., 136., 123., 129., 126.,  90., 143., 122.,\n",
       "       137., 144., 147., 128., 124., 125.,  48., 149.,  44.,  91.,  92.])"
      ]
     },
     "execution_count": 48,
     "metadata": {},
     "output_type": "execute_result"
    }
   ],
   "source": [
    "user_info2['Current Weight'].unique()"
   ]
  },
  {
   "cell_type": "code",
   "execution_count": 49,
   "metadata": {},
   "outputs": [
    {
     "data": {
      "text/plain": [
       "array([ 68.,  51.,  nan,  65.,  57.,  73.,  78.,  58.,  70.,  50.,  82.,\n",
       "        77.,  72.,  74.,  75.,  79.,  55.,  80.,  76.,  48.,  53.,  62.,\n",
       "        54.,  52.,  56.,  71.,  47., 138.,  67.,  46.,  69.,  66.,  49.,\n",
       "        81.,  59.,  43.,  63.,  42.,  61.,  64.,  60., 113.,  45.,  84.,\n",
       "        83., 132., 143., 122., 126., 124., 131.,  86., 128., 123., 135.,\n",
       "       134.,  44., 136., 137., 115., 112.,  85., 141., 127., 129., 133.,\n",
       "       121., 111.,  88., 117., 130., 116.,  41., 139., 118., 146., 114.,\n",
       "       140., 120., 144., 145., 119.,  87., 110., 125., 142., 147.,  89.,\n",
       "       148.,  90.])"
      ]
     },
     "execution_count": 49,
     "metadata": {},
     "output_type": "execute_result"
    }
   ],
   "source": [
    "user_info2['Goal Weight'].unique()"
   ]
  },
  {
   "cell_type": "markdown",
   "metadata": {},
   "source": [
    "### 기본적인 분석을 하기"
   ]
  },
  {
   "cell_type": "markdown",
   "metadata": {},
   "source": [
    "** 12. 전체 데이터에서 평균/최소/최대 키(cm), 그리고 평균/최소/최대 '현재 체중(kg)'과 '목표 체중(kg)'을 찾아주세요. **"
   ]
  },
  {
   "cell_type": "code",
   "execution_count": 50,
   "metadata": {},
   "outputs": [
    {
     "data": {
      "text/html": [
       "<div>\n",
       "<style scoped>\n",
       "    .dataframe tbody tr th:only-of-type {\n",
       "        vertical-align: middle;\n",
       "    }\n",
       "\n",
       "    .dataframe tbody tr th {\n",
       "        vertical-align: top;\n",
       "    }\n",
       "\n",
       "    .dataframe thead th {\n",
       "        text-align: right;\n",
       "    }\n",
       "</style>\n",
       "<table border=\"1\" class=\"dataframe\">\n",
       "  <thead>\n",
       "    <tr style=\"text-align: right;\">\n",
       "      <th></th>\n",
       "      <th>Name</th>\n",
       "      <th>Gender</th>\n",
       "      <th>Age</th>\n",
       "      <th>Height</th>\n",
       "      <th>Current Weight</th>\n",
       "      <th>Goal Weight</th>\n",
       "      <th>Smoking</th>\n",
       "      <th>Drinking</th>\n",
       "      <th>Phone Number</th>\n",
       "      <th>Request Counselling</th>\n",
       "      <th>Paid Plan</th>\n",
       "      <th>Joined At</th>\n",
       "      <th>Updated At</th>\n",
       "      <th>Is Free</th>\n",
       "    </tr>\n",
       "  </thead>\n",
       "  <tbody>\n",
       "    <tr>\n",
       "      <th>0</th>\n",
       "      <td>안원준</td>\n",
       "      <td>남성</td>\n",
       "      <td>31.0</td>\n",
       "      <td>176.0</td>\n",
       "      <td>78.0</td>\n",
       "      <td>68.0</td>\n",
       "      <td>0.0</td>\n",
       "      <td>주 1회</td>\n",
       "      <td>010-2292-6251</td>\n",
       "      <td>0.0</td>\n",
       "      <td>0개월</td>\n",
       "      <td>2016년 07월 05일</td>\n",
       "      <td>2016년 07월 05일</td>\n",
       "      <td>1.0</td>\n",
       "    </tr>\n",
       "    <tr>\n",
       "      <th>1</th>\n",
       "      <td>유세아</td>\n",
       "      <td>여성</td>\n",
       "      <td>39.0</td>\n",
       "      <td>172.0</td>\n",
       "      <td>56.0</td>\n",
       "      <td>51.0</td>\n",
       "      <td>1.0</td>\n",
       "      <td>월 1회</td>\n",
       "      <td>01045795881</td>\n",
       "      <td>0.0</td>\n",
       "      <td>0개월</td>\n",
       "      <td>2016년 10월 02일</td>\n",
       "      <td>2016년 11월 29일</td>\n",
       "      <td>1.0</td>\n",
       "    </tr>\n",
       "    <tr>\n",
       "      <th>2</th>\n",
       "      <td>송솔은</td>\n",
       "      <td>여성</td>\n",
       "      <td>NaN</td>\n",
       "      <td>167.0</td>\n",
       "      <td>NaN</td>\n",
       "      <td>NaN</td>\n",
       "      <td>1.0</td>\n",
       "      <td>주 1회</td>\n",
       "      <td>010-7719-8346</td>\n",
       "      <td>0.0</td>\n",
       "      <td>0개월</td>\n",
       "      <td>2017년 09월 06일</td>\n",
       "      <td>2017년 09월 06일</td>\n",
       "      <td>1.0</td>\n",
       "    </tr>\n",
       "    <tr>\n",
       "      <th>3</th>\n",
       "      <td>백서원</td>\n",
       "      <td>여성</td>\n",
       "      <td>36.0</td>\n",
       "      <td>NaN</td>\n",
       "      <td>67.0</td>\n",
       "      <td>65.0</td>\n",
       "      <td>1.0</td>\n",
       "      <td>안 마심</td>\n",
       "      <td>01011947169</td>\n",
       "      <td>0.0</td>\n",
       "      <td>0개월</td>\n",
       "      <td>2017년 06월 02일</td>\n",
       "      <td>2017년 07월 28일</td>\n",
       "      <td>1.0</td>\n",
       "    </tr>\n",
       "    <tr>\n",
       "      <th>4</th>\n",
       "      <td>박서은</td>\n",
       "      <td>여성</td>\n",
       "      <td>42.0</td>\n",
       "      <td>167.0</td>\n",
       "      <td>60.0</td>\n",
       "      <td>57.0</td>\n",
       "      <td>0.0</td>\n",
       "      <td>안 마심</td>\n",
       "      <td>010-2575-6398</td>\n",
       "      <td>1.0</td>\n",
       "      <td>0개월</td>\n",
       "      <td>2017년 05월 07일</td>\n",
       "      <td>2017년 05월 07일</td>\n",
       "      <td>1.0</td>\n",
       "    </tr>\n",
       "  </tbody>\n",
       "</table>\n",
       "</div>"
      ],
      "text/plain": [
       "  Name Gender   Age  Height  Current Weight  Goal Weight  Smoking Drinking  \\\n",
       "0  안원준     남성  31.0   176.0            78.0         68.0      0.0     주 1회   \n",
       "1  유세아     여성  39.0   172.0            56.0         51.0      1.0     월 1회   \n",
       "2  송솔은     여성   NaN   167.0             NaN          NaN      1.0     주 1회   \n",
       "3  백서원     여성  36.0     NaN            67.0         65.0      1.0     안 마심   \n",
       "4  박서은     여성  42.0   167.0            60.0         57.0      0.0     안 마심   \n",
       "\n",
       "    Phone Number  Request Counselling Paid Plan      Joined At     Updated At  \\\n",
       "0  010-2292-6251                  0.0       0개월  2016년 07월 05일  2016년 07월 05일   \n",
       "1    01045795881                  0.0       0개월  2016년 10월 02일  2016년 11월 29일   \n",
       "2  010-7719-8346                  0.0       0개월  2017년 09월 06일  2017년 09월 06일   \n",
       "3    01011947169                  0.0       0개월  2017년 06월 02일  2017년 07월 28일   \n",
       "4  010-2575-6398                  1.0       0개월  2017년 05월 07일  2017년 05월 07일   \n",
       "\n",
       "   Is Free  \n",
       "0      1.0  \n",
       "1      1.0  \n",
       "2      1.0  \n",
       "3      1.0  \n",
       "4      1.0  "
      ]
     },
     "execution_count": 50,
     "metadata": {},
     "output_type": "execute_result"
    }
   ],
   "source": [
    "user_info2.head()"
   ]
  },
  {
   "cell_type": "code",
   "execution_count": 51,
   "metadata": {},
   "outputs": [
    {
     "data": {
      "text/plain": [
       "'키 평균: 172.05277446230897, 최소: 121.0, 최대: 209.0'"
      ]
     },
     "execution_count": 51,
     "metadata": {},
     "output_type": "execute_result"
    }
   ],
   "source": [
    "height = user_info2['Height']\n",
    "'키 평균: {}, 최소: {}, 최대: {}'.format(height.mean(), height.min(), height.max())"
   ]
  },
  {
   "cell_type": "code",
   "execution_count": 52,
   "metadata": {},
   "outputs": [
    {
     "data": {
      "text/plain": [
       "'현재 체중 평균: 71.85905672477118, 최소: 44.0, 최대: 149.0'"
      ]
     },
     "execution_count": 52,
     "metadata": {},
     "output_type": "execute_result"
    }
   ],
   "source": [
    "cw = user_info2['Current Weight']\n",
    "'현재 체중 평균: {}, 최소: {}, 최대: {}'.format(cw.mean(), cw.min(), cw.max())"
   ]
  },
  {
   "cell_type": "code",
   "execution_count": 53,
   "metadata": {},
   "outputs": [
    {
     "data": {
      "text/plain": [
       "'목표 체중 평균: 66.36555729178814, 최소: 41.0, 최대: 148.0'"
      ]
     },
     "execution_count": 53,
     "metadata": {},
     "output_type": "execute_result"
    }
   ],
   "source": [
    "gw = user_info2['Goal Weight']\n",
    "'목표 체중 평균: {}, 최소: {}, 최대: {}'.format(gw.mean(), gw.min(), gw.max())"
   ]
  },
  {
   "cell_type": "markdown",
   "metadata": {},
   "source": [
    "** 13. 전체 데이터에서 흡연자와 비흡연자 인원의 총합을 찾아주세요. **"
   ]
  },
  {
   "cell_type": "code",
   "execution_count": 54,
   "metadata": {},
   "outputs": [
    {
     "data": {
      "text/plain": [
       "array([ 0.,  1., nan])"
      ]
     },
     "execution_count": 54,
     "metadata": {},
     "output_type": "execute_result"
    }
   ],
   "source": [
    "user_info2['Smoking'].unique()"
   ]
  },
  {
   "cell_type": "code",
   "execution_count": 55,
   "metadata": {},
   "outputs": [
    {
     "data": {
      "text/plain": [
       "0.0    76932\n",
       "1.0    19267\n",
       "Name: Smoking, dtype: int64"
      ]
     },
     "execution_count": 55,
     "metadata": {},
     "output_type": "execute_result"
    }
   ],
   "source": [
    "user_info2['Smoking'].value_counts()"
   ]
  },
  {
   "cell_type": "code",
   "execution_count": 56,
   "metadata": {},
   "outputs": [
    {
     "data": {
      "text/plain": [
       "(106839, 14)"
      ]
     },
     "execution_count": 56,
     "metadata": {},
     "output_type": "execute_result"
    }
   ],
   "source": [
    "user_info2.shape"
   ]
  },
  {
   "cell_type": "markdown",
   "metadata": {},
   "source": [
    "** 14. 전체 데이터에서 유료 사용자와 무료 사용자의 인원의 총합을 찾아주세요. **\n",
    "\n",
    "또한 유료 사용자만 한정해서, 3개월 / 6개월 / 12개월 결제자의 인원의 총합을 찾아주세요."
   ]
  },
  {
   "cell_type": "code",
   "execution_count": 57,
   "metadata": {},
   "outputs": [
    {
     "data": {
      "text/html": [
       "<div>\n",
       "<style scoped>\n",
       "    .dataframe tbody tr th:only-of-type {\n",
       "        vertical-align: middle;\n",
       "    }\n",
       "\n",
       "    .dataframe tbody tr th {\n",
       "        vertical-align: top;\n",
       "    }\n",
       "\n",
       "    .dataframe thead th {\n",
       "        text-align: right;\n",
       "    }\n",
       "</style>\n",
       "<table border=\"1\" class=\"dataframe\">\n",
       "  <thead>\n",
       "    <tr style=\"text-align: right;\">\n",
       "      <th></th>\n",
       "      <th>Name</th>\n",
       "      <th>Gender</th>\n",
       "      <th>Age</th>\n",
       "      <th>Height</th>\n",
       "      <th>Current Weight</th>\n",
       "      <th>Goal Weight</th>\n",
       "      <th>Smoking</th>\n",
       "      <th>Drinking</th>\n",
       "      <th>Phone Number</th>\n",
       "      <th>Request Counselling</th>\n",
       "      <th>Paid Plan</th>\n",
       "      <th>Joined At</th>\n",
       "      <th>Updated At</th>\n",
       "      <th>Is Free</th>\n",
       "    </tr>\n",
       "  </thead>\n",
       "  <tbody>\n",
       "    <tr>\n",
       "      <th>0</th>\n",
       "      <td>안원준</td>\n",
       "      <td>남성</td>\n",
       "      <td>31.0</td>\n",
       "      <td>176.0</td>\n",
       "      <td>78.0</td>\n",
       "      <td>68.0</td>\n",
       "      <td>0.0</td>\n",
       "      <td>주 1회</td>\n",
       "      <td>010-2292-6251</td>\n",
       "      <td>0.0</td>\n",
       "      <td>0개월</td>\n",
       "      <td>2016년 07월 05일</td>\n",
       "      <td>2016년 07월 05일</td>\n",
       "      <td>1.0</td>\n",
       "    </tr>\n",
       "    <tr>\n",
       "      <th>1</th>\n",
       "      <td>유세아</td>\n",
       "      <td>여성</td>\n",
       "      <td>39.0</td>\n",
       "      <td>172.0</td>\n",
       "      <td>56.0</td>\n",
       "      <td>51.0</td>\n",
       "      <td>1.0</td>\n",
       "      <td>월 1회</td>\n",
       "      <td>01045795881</td>\n",
       "      <td>0.0</td>\n",
       "      <td>0개월</td>\n",
       "      <td>2016년 10월 02일</td>\n",
       "      <td>2016년 11월 29일</td>\n",
       "      <td>1.0</td>\n",
       "    </tr>\n",
       "    <tr>\n",
       "      <th>2</th>\n",
       "      <td>송솔은</td>\n",
       "      <td>여성</td>\n",
       "      <td>NaN</td>\n",
       "      <td>167.0</td>\n",
       "      <td>NaN</td>\n",
       "      <td>NaN</td>\n",
       "      <td>1.0</td>\n",
       "      <td>주 1회</td>\n",
       "      <td>010-7719-8346</td>\n",
       "      <td>0.0</td>\n",
       "      <td>0개월</td>\n",
       "      <td>2017년 09월 06일</td>\n",
       "      <td>2017년 09월 06일</td>\n",
       "      <td>1.0</td>\n",
       "    </tr>\n",
       "    <tr>\n",
       "      <th>3</th>\n",
       "      <td>백서원</td>\n",
       "      <td>여성</td>\n",
       "      <td>36.0</td>\n",
       "      <td>NaN</td>\n",
       "      <td>67.0</td>\n",
       "      <td>65.0</td>\n",
       "      <td>1.0</td>\n",
       "      <td>안 마심</td>\n",
       "      <td>01011947169</td>\n",
       "      <td>0.0</td>\n",
       "      <td>0개월</td>\n",
       "      <td>2017년 06월 02일</td>\n",
       "      <td>2017년 07월 28일</td>\n",
       "      <td>1.0</td>\n",
       "    </tr>\n",
       "    <tr>\n",
       "      <th>4</th>\n",
       "      <td>박서은</td>\n",
       "      <td>여성</td>\n",
       "      <td>42.0</td>\n",
       "      <td>167.0</td>\n",
       "      <td>60.0</td>\n",
       "      <td>57.0</td>\n",
       "      <td>0.0</td>\n",
       "      <td>안 마심</td>\n",
       "      <td>010-2575-6398</td>\n",
       "      <td>1.0</td>\n",
       "      <td>0개월</td>\n",
       "      <td>2017년 05월 07일</td>\n",
       "      <td>2017년 05월 07일</td>\n",
       "      <td>1.0</td>\n",
       "    </tr>\n",
       "  </tbody>\n",
       "</table>\n",
       "</div>"
      ],
      "text/plain": [
       "  Name Gender   Age  Height  Current Weight  Goal Weight  Smoking Drinking  \\\n",
       "0  안원준     남성  31.0   176.0            78.0         68.0      0.0     주 1회   \n",
       "1  유세아     여성  39.0   172.0            56.0         51.0      1.0     월 1회   \n",
       "2  송솔은     여성   NaN   167.0             NaN          NaN      1.0     주 1회   \n",
       "3  백서원     여성  36.0     NaN            67.0         65.0      1.0     안 마심   \n",
       "4  박서은     여성  42.0   167.0            60.0         57.0      0.0     안 마심   \n",
       "\n",
       "    Phone Number  Request Counselling Paid Plan      Joined At     Updated At  \\\n",
       "0  010-2292-6251                  0.0       0개월  2016년 07월 05일  2016년 07월 05일   \n",
       "1    01045795881                  0.0       0개월  2016년 10월 02일  2016년 11월 29일   \n",
       "2  010-7719-8346                  0.0       0개월  2017년 09월 06일  2017년 09월 06일   \n",
       "3    01011947169                  0.0       0개월  2017년 06월 02일  2017년 07월 28일   \n",
       "4  010-2575-6398                  1.0       0개월  2017년 05월 07일  2017년 05월 07일   \n",
       "\n",
       "   Is Free  \n",
       "0      1.0  \n",
       "1      1.0  \n",
       "2      1.0  \n",
       "3      1.0  \n",
       "4      1.0  "
      ]
     },
     "execution_count": 57,
     "metadata": {},
     "output_type": "execute_result"
    }
   ],
   "source": [
    "user_info2.head()"
   ]
  },
  {
   "cell_type": "code",
   "execution_count": 58,
   "metadata": {},
   "outputs": [
    {
     "data": {
      "text/plain": [
       "0개월     67472\n",
       "3개월     19145\n",
       "6개월      6562\n",
       "12개월     3020\n",
       "Name: Paid Plan, dtype: int64"
      ]
     },
     "execution_count": 58,
     "metadata": {},
     "output_type": "execute_result"
    }
   ],
   "source": [
    "user_info2['Paid Plan'].value_counts()"
   ]
  },
  {
   "cell_type": "code",
   "execution_count": 59,
   "metadata": {},
   "outputs": [
    {
     "data": {
      "text/plain": [
       "96199"
      ]
     },
     "execution_count": 59,
     "metadata": {},
     "output_type": "execute_result"
    }
   ],
   "source": [
    "user_info2['Paid Plan'].count()"
   ]
  },
  {
   "cell_type": "code",
   "execution_count": 60,
   "metadata": {},
   "outputs": [],
   "source": [
    "paid_plan = user_info2['Paid Plan']"
   ]
  },
  {
   "cell_type": "code",
   "execution_count": 61,
   "metadata": {},
   "outputs": [
    {
     "data": {
      "text/plain": [
       "28727"
      ]
     },
     "execution_count": 61,
     "metadata": {},
     "output_type": "execute_result"
    }
   ],
   "source": [
    "(paid_plan == '3개월').sum() + (paid_plan == '6개월').sum() + (paid_plan == '12개월').sum()"
   ]
  },
  {
   "cell_type": "code",
   "execution_count": 62,
   "metadata": {},
   "outputs": [
    {
     "data": {
      "text/plain": [
       "28727"
      ]
     },
     "execution_count": 62,
     "metadata": {},
     "output_type": "execute_result"
    }
   ],
   "source": [
    "paid_plan[(paid_plan=='3개월') | (paid_plan=='6개월') | (paid_plan=='12개월')].count()"
   ]
  },
  {
   "cell_type": "markdown",
   "metadata": {},
   "source": [
    "** 15. 전체 데이터에서 흡연자와 음주 여부를 바탕으로 다음을 분석해주세요. **\n",
    "  1. 흡연과 음주를 둘 다 안 하는 사람의 인원 총합.\n",
    "  1. 흡연은 하지만 음주는 안 하는 사람의 인원 총합.\n",
    "  1. 흡연은 하지 않지만 음주는 하는 사람의 인원 총합.\n",
    "  1. 흡연과 음주를 둘 다 하는 사람의 인원 총합."
   ]
  },
  {
   "cell_type": "code",
   "execution_count": 63,
   "metadata": {},
   "outputs": [
    {
     "data": {
      "text/html": [
       "<div>\n",
       "<style scoped>\n",
       "    .dataframe tbody tr th:only-of-type {\n",
       "        vertical-align: middle;\n",
       "    }\n",
       "\n",
       "    .dataframe tbody tr th {\n",
       "        vertical-align: top;\n",
       "    }\n",
       "\n",
       "    .dataframe thead th {\n",
       "        text-align: right;\n",
       "    }\n",
       "</style>\n",
       "<table border=\"1\" class=\"dataframe\">\n",
       "  <thead>\n",
       "    <tr style=\"text-align: right;\">\n",
       "      <th></th>\n",
       "      <th>Name</th>\n",
       "      <th>Gender</th>\n",
       "      <th>Age</th>\n",
       "      <th>Height</th>\n",
       "      <th>Current Weight</th>\n",
       "      <th>Goal Weight</th>\n",
       "      <th>Smoking</th>\n",
       "      <th>Drinking</th>\n",
       "      <th>Phone Number</th>\n",
       "      <th>Request Counselling</th>\n",
       "      <th>Paid Plan</th>\n",
       "      <th>Joined At</th>\n",
       "      <th>Updated At</th>\n",
       "      <th>Is Free</th>\n",
       "    </tr>\n",
       "  </thead>\n",
       "  <tbody>\n",
       "    <tr>\n",
       "      <th>0</th>\n",
       "      <td>안원준</td>\n",
       "      <td>남성</td>\n",
       "      <td>31.0</td>\n",
       "      <td>176.0</td>\n",
       "      <td>78.0</td>\n",
       "      <td>68.0</td>\n",
       "      <td>0.0</td>\n",
       "      <td>주 1회</td>\n",
       "      <td>010-2292-6251</td>\n",
       "      <td>0.0</td>\n",
       "      <td>0개월</td>\n",
       "      <td>2016년 07월 05일</td>\n",
       "      <td>2016년 07월 05일</td>\n",
       "      <td>1.0</td>\n",
       "    </tr>\n",
       "    <tr>\n",
       "      <th>1</th>\n",
       "      <td>유세아</td>\n",
       "      <td>여성</td>\n",
       "      <td>39.0</td>\n",
       "      <td>172.0</td>\n",
       "      <td>56.0</td>\n",
       "      <td>51.0</td>\n",
       "      <td>1.0</td>\n",
       "      <td>월 1회</td>\n",
       "      <td>01045795881</td>\n",
       "      <td>0.0</td>\n",
       "      <td>0개월</td>\n",
       "      <td>2016년 10월 02일</td>\n",
       "      <td>2016년 11월 29일</td>\n",
       "      <td>1.0</td>\n",
       "    </tr>\n",
       "    <tr>\n",
       "      <th>2</th>\n",
       "      <td>송솔은</td>\n",
       "      <td>여성</td>\n",
       "      <td>NaN</td>\n",
       "      <td>167.0</td>\n",
       "      <td>NaN</td>\n",
       "      <td>NaN</td>\n",
       "      <td>1.0</td>\n",
       "      <td>주 1회</td>\n",
       "      <td>010-7719-8346</td>\n",
       "      <td>0.0</td>\n",
       "      <td>0개월</td>\n",
       "      <td>2017년 09월 06일</td>\n",
       "      <td>2017년 09월 06일</td>\n",
       "      <td>1.0</td>\n",
       "    </tr>\n",
       "    <tr>\n",
       "      <th>3</th>\n",
       "      <td>백서원</td>\n",
       "      <td>여성</td>\n",
       "      <td>36.0</td>\n",
       "      <td>NaN</td>\n",
       "      <td>67.0</td>\n",
       "      <td>65.0</td>\n",
       "      <td>1.0</td>\n",
       "      <td>안 마심</td>\n",
       "      <td>01011947169</td>\n",
       "      <td>0.0</td>\n",
       "      <td>0개월</td>\n",
       "      <td>2017년 06월 02일</td>\n",
       "      <td>2017년 07월 28일</td>\n",
       "      <td>1.0</td>\n",
       "    </tr>\n",
       "    <tr>\n",
       "      <th>4</th>\n",
       "      <td>박서은</td>\n",
       "      <td>여성</td>\n",
       "      <td>42.0</td>\n",
       "      <td>167.0</td>\n",
       "      <td>60.0</td>\n",
       "      <td>57.0</td>\n",
       "      <td>0.0</td>\n",
       "      <td>안 마심</td>\n",
       "      <td>010-2575-6398</td>\n",
       "      <td>1.0</td>\n",
       "      <td>0개월</td>\n",
       "      <td>2017년 05월 07일</td>\n",
       "      <td>2017년 05월 07일</td>\n",
       "      <td>1.0</td>\n",
       "    </tr>\n",
       "  </tbody>\n",
       "</table>\n",
       "</div>"
      ],
      "text/plain": [
       "  Name Gender   Age  Height  Current Weight  Goal Weight  Smoking Drinking  \\\n",
       "0  안원준     남성  31.0   176.0            78.0         68.0      0.0     주 1회   \n",
       "1  유세아     여성  39.0   172.0            56.0         51.0      1.0     월 1회   \n",
       "2  송솔은     여성   NaN   167.0             NaN          NaN      1.0     주 1회   \n",
       "3  백서원     여성  36.0     NaN            67.0         65.0      1.0     안 마심   \n",
       "4  박서은     여성  42.0   167.0            60.0         57.0      0.0     안 마심   \n",
       "\n",
       "    Phone Number  Request Counselling Paid Plan      Joined At     Updated At  \\\n",
       "0  010-2292-6251                  0.0       0개월  2016년 07월 05일  2016년 07월 05일   \n",
       "1    01045795881                  0.0       0개월  2016년 10월 02일  2016년 11월 29일   \n",
       "2  010-7719-8346                  0.0       0개월  2017년 09월 06일  2017년 09월 06일   \n",
       "3    01011947169                  0.0       0개월  2017년 06월 02일  2017년 07월 28일   \n",
       "4  010-2575-6398                  1.0       0개월  2017년 05월 07일  2017년 05월 07일   \n",
       "\n",
       "   Is Free  \n",
       "0      1.0  \n",
       "1      1.0  \n",
       "2      1.0  \n",
       "3      1.0  \n",
       "4      1.0  "
      ]
     },
     "execution_count": 63,
     "metadata": {},
     "output_type": "execute_result"
    }
   ],
   "source": [
    "user_info2.head()"
   ]
  },
  {
   "cell_type": "code",
   "execution_count": 64,
   "metadata": {},
   "outputs": [
    {
     "data": {
      "text/plain": [
       "주 1회    29008\n",
       "월 2회    28979\n",
       "월 1회    18948\n",
       "주 2회     9737\n",
       "안 마심     9527\n",
       "Name: Drinking, dtype: int64"
      ]
     },
     "execution_count": 64,
     "metadata": {},
     "output_type": "execute_result"
    }
   ],
   "source": [
    "user_info2['Drinking'].value_counts()"
   ]
  },
  {
   "cell_type": "code",
   "execution_count": 65,
   "metadata": {},
   "outputs": [
    {
     "data": {
      "text/plain": [
       "10640"
      ]
     },
     "execution_count": 65,
     "metadata": {},
     "output_type": "execute_result"
    }
   ],
   "source": [
    "user_info2['Drinking'].isnull().sum()"
   ]
  },
  {
   "cell_type": "code",
   "execution_count": 66,
   "metadata": {},
   "outputs": [
    {
     "data": {
      "text/plain": [
       "array(['주 1회', '월 1회', '안 마심', '월 2회', nan, '주 2회'], dtype=object)"
      ]
     },
     "execution_count": 66,
     "metadata": {},
     "output_type": "execute_result"
    }
   ],
   "source": [
    "user_info2['Drinking'].unique()"
   ]
  },
  {
   "cell_type": "code",
   "execution_count": 67,
   "metadata": {},
   "outputs": [
    {
     "data": {
      "text/plain": [
       "96199"
      ]
     },
     "execution_count": 67,
     "metadata": {},
     "output_type": "execute_result"
    }
   ],
   "source": [
    "user_info2['Drinking'].count()"
   ]
  },
  {
   "cell_type": "code",
   "execution_count": 68,
   "metadata": {},
   "outputs": [],
   "source": [
    "user_info2['IsDrinking'] = 0"
   ]
  },
  {
   "cell_type": "code",
   "execution_count": 69,
   "metadata": {},
   "outputs": [],
   "source": [
    "user_info2.loc[user_info2['Drinking'] == '주 1회', 'IsDrinking'] = 1\n",
    "user_info2.loc[user_info2['Drinking'] == '주 2회', 'IsDrinking'] = 1\n",
    "user_info2.loc[user_info2['Drinking'] == '월 1회', 'IsDrinking'] = 1\n",
    "user_info2.loc[user_info2['Drinking'] == '월 2회', 'IsDrinking'] = 1\n",
    "user_info2.loc[user_info2['Drinking'].isna(), 'IsDrinking'] = np.nan"
   ]
  },
  {
   "cell_type": "code",
   "execution_count": 70,
   "metadata": {},
   "outputs": [
    {
     "data": {
      "text/plain": [
       "1.0    86672\n",
       "0.0     9527\n",
       "Name: IsDrinking, dtype: int64"
      ]
     },
     "execution_count": 70,
     "metadata": {},
     "output_type": "execute_result"
    }
   ],
   "source": [
    "user_info2['IsDrinking'].value_counts()"
   ]
  },
  {
   "cell_type": "code",
   "execution_count": 71,
   "metadata": {},
   "outputs": [
    {
     "data": {
      "text/plain": [
       "array([ 1.,  0., nan])"
      ]
     },
     "execution_count": 71,
     "metadata": {},
     "output_type": "execute_result"
    }
   ],
   "source": [
    "user_info2['IsDrinking'].unique()"
   ]
  },
  {
   "cell_type": "code",
   "execution_count": 72,
   "metadata": {},
   "outputs": [
    {
     "data": {
      "text/plain": [
       "9527"
      ]
     },
     "execution_count": 72,
     "metadata": {},
     "output_type": "execute_result"
    }
   ],
   "source": [
    "(user_info2['IsDrinking'] == 0).sum()"
   ]
  },
  {
   "cell_type": "markdown",
   "metadata": {},
   "source": [
    "흡연과 음주를 둘 다 안 하는 사람의 인원 총합."
   ]
  },
  {
   "cell_type": "code",
   "execution_count": 73,
   "metadata": {},
   "outputs": [],
   "source": [
    "drinking = user_info2['IsDrinking']\n",
    "smoking = user_info2['Smoking']"
   ]
  },
  {
   "cell_type": "code",
   "execution_count": 74,
   "metadata": {},
   "outputs": [
    {
     "data": {
      "text/plain": [
       "array([ 0.,  1., nan])"
      ]
     },
     "execution_count": 74,
     "metadata": {},
     "output_type": "execute_result"
    }
   ],
   "source": [
    "user_info2['Smoking'].unique()"
   ]
  },
  {
   "cell_type": "code",
   "execution_count": 75,
   "metadata": {},
   "outputs": [
    {
     "data": {
      "text/plain": [
       "7638"
      ]
     },
     "execution_count": 75,
     "metadata": {},
     "output_type": "execute_result"
    }
   ],
   "source": [
    "len(user_info2[(smoking == 0) & (drinking == 0)])"
   ]
  },
  {
   "cell_type": "markdown",
   "metadata": {},
   "source": [
    "흡연은 하지만 음주는 안 하는 사람의 인원 총합."
   ]
  },
  {
   "cell_type": "code",
   "execution_count": 76,
   "metadata": {},
   "outputs": [
    {
     "data": {
      "text/plain": [
       "1889"
      ]
     },
     "execution_count": 76,
     "metadata": {},
     "output_type": "execute_result"
    }
   ],
   "source": [
    "len(user_info2[(smoking == 1) & (drinking == 0)])"
   ]
  },
  {
   "cell_type": "markdown",
   "metadata": {},
   "source": [
    "흡연은 하지 않지만 음주는 하는 사람의 인원 총합."
   ]
  },
  {
   "cell_type": "code",
   "execution_count": 77,
   "metadata": {},
   "outputs": [
    {
     "data": {
      "text/plain": [
       "69294"
      ]
     },
     "execution_count": 77,
     "metadata": {},
     "output_type": "execute_result"
    }
   ],
   "source": [
    "len(user_info2[(smoking == 0) & (drinking == 1)])"
   ]
  },
  {
   "cell_type": "markdown",
   "metadata": {},
   "source": [
    "흡연과 음주를 둘 다 하는 사람의 인원 총합"
   ]
  },
  {
   "cell_type": "code",
   "execution_count": 78,
   "metadata": {},
   "outputs": [
    {
     "data": {
      "text/plain": [
       "17378"
      ]
     },
     "execution_count": 78,
     "metadata": {},
     "output_type": "execute_result"
    }
   ],
   "source": [
    "len(user_info2[(smoking == 1) & (drinking == 1)])"
   ]
  },
  {
   "cell_type": "markdown",
   "metadata": {},
   "source": [
    "# 과제(중급)"
   ]
  },
  {
   "cell_type": "markdown",
   "metadata": {},
   "source": [
    "** 16. 성별 컬럼을 정리하기 **\n",
    "\n",
    "성별 컬럼을 정리해주세요.\n",
    "\n",
    "데이터를 분석해보면 남성, 여성, 남, 녀, Male, FEMALE 등의 다양한 표현이 있습니다. 이 표현을 male, female으로 통일해주세요."
   ]
  },
  {
   "cell_type": "markdown",
   "metadata": {},
   "source": [
    "**17. 전체 인원이 아닌, 남성/여성 각각의 최소/평균/최대 키/몸무게/나이를 구해주세요.**\n",
    "\n",
    "결과적으로 다음의 수치가 나와야 합니다.\n",
    "  * 전체 남성의 최소/평균/최대 나이\n",
    "  * 전체 남성의 최소/평균/최대 몸무게(kg)\n",
    "  * 전체 남성의 최소/평균/최대 키(cm)\n",
    "  \n",
    "  * 전체 여성의 최소/평균/최대 나이\n",
    "  * 전체 여성의 최소/평균/최대 몸무게(kg)\n",
    "  * 전체 여성의 최소/평균/최대 키(cm)"
   ]
  },
  {
   "cell_type": "markdown",
   "metadata": {},
   "source": [
    "** 18. 감량 목표를 분석하기 **\n",
    "\n",
    "데이터에서 '현재 체중' - '목표 체중' 을 하면 감량 목표가 나올 것입니다. 감량 목표를 찾아서 새로운 컬럼을 만들어주세요.\n",
    "\n",
    "또한 kg별로 감량을 원하는 사람의 총 인원을 구해주세요. 가령 1) 1kg 감량을 원하는 총 인원, 2) 2kg 감량을 원하는 총 인원, ... 10) 10kg 감량을 원하는 총 인원이 나와야 합니다."
   ]
  },
  {
   "cell_type": "markdown",
   "metadata": {},
   "source": [
    "** 19. '가입 개월 수'를 숫자로 표현하기 **\n",
    "\n",
    "'가입 개월 수' 컬럼을 숫자로 정리해주세요. 현재 3개월, 6개월, 12개월로 되어있는데, 이를 3, 6, 12로 정리하시면 됩니다.\n",
    "\n",
    "또한 0개월은 0이 아닌 NaN으로 집어넣어 주세요.\n"
   ]
  },
  {
   "cell_type": "markdown",
   "metadata": {},
   "source": [
    "** 20. '음주 여부'를 숫자로 표현하기**\n",
    "\n",
    "'음주 여부' 컬럼을 숫자로 정리해주세요. 현재 1) 주 2회, 2) 주 1회, 3) 월 2회, 4) 월 1회 5) 안 마심으로 되어 있습니다만, 이를 월 기준 음주 횟수로 통일해주세요. 여기서 월은 30일로, 주는 4주로 고정합니다.\n",
    "\n",
    "가령 1) 주 2회는 8, 2) 주 1회는 4, 3) 월 2회는 2, 4) 월 1회는 1, 5) 안 마심은 0으로 표현하면 됩니다."
   ]
  },
  {
   "cell_type": "markdown",
   "metadata": {},
   "source": [
    "## 과제(고급)"
   ]
  },
  {
   "cell_type": "markdown",
   "metadata": {},
   "source": [
    "** 21.휴대폰 번호 정리하기 **\n",
    "\n",
    "다양한 표현으로 되어있는 휴대폰 번호를 010-xxxx-xxxx 로 통일해주세요. 가령 휴대폰 번호에 하이픈이 없으면 넣어주시면 됩니다.\n",
    "\n",
    "또한 unknown으로 되어있거나 비어있는 값은 NaN으로 처리해주세요."
   ]
  },
  {
   "cell_type": "markdown",
   "metadata": {},
   "source": [
    "** 22. 날짜를 사용 가능하게 정리하기 **\n",
    "\n",
    "현재 '회원 가입일' 컬럼과 '회원 정보 갱신일' 컬럼은 20xx년 xx월 xx일 과 같은 형식으로 되어있습니다.\n",
    "\n",
    "이 데이터를 현재 판다스에서는 날짜 컬럼이 아닌 문자열(텍스트) 컬럼으로 인식하고 있는데, 이 컬럼을 날짜 컬럼으로 인식할 수 있도록 수정해주세요."
   ]
  },
  {
   "cell_type": "markdown",
   "metadata": {},
   "source": [
    "** 23. 날짜를 기준으로 분석하기 **\n",
    "\n",
    "22번에서 날짜 컬럼을 만들었으면 다음을 분석해주세요.\n",
    "\n",
    "1. 월별 전체 회원 가입량\n",
    "2. 월 별 유료/무료 회원 가입량의 차이\n",
    "3. 월 별 남성/여성 회원 가입량의 차이"
   ]
  },
  {
   "cell_type": "code",
   "execution_count": 79,
   "metadata": {},
   "outputs": [],
   "source": [
    "# Write code here!"
   ]
  },
  {
   "cell_type": "markdown",
   "metadata": {},
   "source": [
    "** 24. 회원 정보가 맞는지 여부를 확인하는 컬럼을 만들기 **\n",
    "\n",
    "더 정확한 데이터 분석을 위해서는, 현재까지 고객님이 기업한 회원 정보가 정확한지를 확인하는 작업이 필요합니다. 분석팀에서 데이터를 다음과 같이 정리하면, 오퍼레이션 팀과 코칭 팀이 협업을 통해서 고객 정보를 개선하고, 더 좋은 서비스를 제공할 수 있을 것 같습니다. 다음의 내용이 담겨있는 새로운 컬럼을 하나 만들어주세요. 해당 컬럼에는 reject / counselling / duplicated / confirmed 라는 결과값이 들어가야 합니다.\n",
    "\n",
    "다음의 경우에는 재기입을 요청한다. (reject)\n",
    "* 전화번호가 비어있는 경우\n",
    "\n",
    "다음의 경우는 트레이너와 상담을 유도한다. (counselling)\n",
    "* 상담 요청(counselling)이 True인 사람.\n",
    "\n",
    "다음의 경우에는 중복을 확인한다. (duplicated)\n",
    "* 동일한 이름에 동일한 전화번호를 찾아낸다. 이는 중복되었다고 가정한다.\n",
    "\n",
    "나머지는 문제가 없다. (confirmed)"
   ]
  },
  {
   "cell_type": "code",
   "execution_count": 80,
   "metadata": {},
   "outputs": [],
   "source": [
    "# Write code here!"
   ]
  },
  {
   "cell_type": "markdown",
   "metadata": {},
   "source": [
    "**25. VIP 찾아내기**\n",
    "\n",
    "다음의 고객을 특별 관리 대상으로 지정합니다. 특별 관리 대상이라고 함은, TKX 서비스의 VIP 플랜을 구매할 확률이 높은 분들을 의미합니다.\n",
    "\n",
    "1. 트레이너와 상담을 요청한 사람. (counselling)\n",
    "2. 상담을 요청하지 않은 사람 중, (현재 체중 - 목표 체중) 이 가장 높은 상위 1,000 명.\n",
    "\n",
    "이 사람들을 특별관리 대상으로 지정하며, VIP라는 이름의 컬럼에 True 값을 넣으면 됩니다. 이후에는 오퍼레이션/코치 팀이 해당 고객님을 개별 컨택하여, 적극적으로 VIP 플랜을 구매하실 수 있도록 노력할 생각입니다. (특별관리 대상이 아닌 분들은 VIP 컬럼에 False 값을 넣으면 됩니다)\n",
    "\n",
    "또한 전체 데이터와는 별개로, VIP 고객들만을 따로 뽑아내서 CSV파일로 저장할 수 있다면 좋겠습니다."
   ]
  },
  {
   "cell_type": "code",
   "execution_count": 81,
   "metadata": {},
   "outputs": [],
   "source": [
    "# Write code here!"
   ]
  }
 ],
 "metadata": {
  "kernelspec": {
   "display_name": "Python 3",
   "language": "python",
   "name": "python3"
  },
  "language_info": {
   "codemirror_mode": {
    "name": "ipython",
    "version": 3
   },
   "file_extension": ".py",
   "mimetype": "text/x-python",
   "name": "python",
   "nbconvert_exporter": "python",
   "pygments_lexer": "ipython3",
   "version": "3.6.4"
  }
 },
 "nbformat": 4,
 "nbformat_minor": 2
}
