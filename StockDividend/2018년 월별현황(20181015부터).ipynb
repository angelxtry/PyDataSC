{
 "cells": [
  {
   "cell_type": "markdown",
   "metadata": {},
   "source": [
    "# 2018년 월별현황(20181015부터)"
   ]
  },
  {
   "cell_type": "markdown",
   "metadata": {},
   "source": [
    "- 20181015 기준\n",
    "- 각 종목별 투자 금액($)\n",
    "    - 종목별 주식 수량 -> OK\n",
    "    - 1주당 단가\n",
    "    - 주식 수량만 정리하고 1주당 단가는 API를 이용하여 입수하여 처리하자.\n",
    "- 각 종목별 2018년 누적 배당\n",
    "- 각 종목의 배당률"
   ]
  },
  {
   "cell_type": "code",
   "execution_count": null,
   "metadata": {},
   "outputs": [],
   "source": []
  }
 ],
 "metadata": {
  "kernelspec": {
   "display_name": "Python 3",
   "language": "python",
   "name": "python3"
  },
  "language_info": {
   "codemirror_mode": {
    "name": "ipython",
    "version": 3
   },
   "file_extension": ".py",
   "mimetype": "text/x-python",
   "name": "python",
   "nbconvert_exporter": "python",
   "pygments_lexer": "ipython3",
   "version": "3.6.1"
  }
 },
 "nbformat": 4,
 "nbformat_minor": 2
}
