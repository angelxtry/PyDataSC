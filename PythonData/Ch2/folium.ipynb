{
 "cells": [
  {
   "cell_type": "code",
   "execution_count": null,
   "metadata": {},
   "outputs": [],
   "source": [
    "import folium"
   ]
  },
  {
   "cell_type": "code",
   "execution_count": null,
   "metadata": {},
   "outputs": [],
   "source": [
    "map_osm = folium.Map(location=[45.5236, -122.6057])\n",
    "map_osm"
   ]
  },
  {
   "cell_type": "code",
   "execution_count": null,
   "metadata": {},
   "outputs": [],
   "source": [
    "stamen = folium.Map(location=[45.5236, -122.6750], zoom_start=13)\n",
    "stamen"
   ]
  },
  {
   "cell_type": "code",
   "execution_count": null,
   "metadata": {},
   "outputs": [],
   "source": [
    "stamen = folium.Map(location=[45.5236, -122.6750],\n",
    "                    tiles='Stamen Toner', zoom_start=13)\n",
    "stamen"
   ]
  },
  {
   "cell_type": "code",
   "execution_count": null,
   "metadata": {},
   "outputs": [],
   "source": [
    "map_2 = folium.Map(location=[45.5236, -122.6570],\n",
    "                   tiles='Stamen Toner', zoom_start=13)\n",
    "folium.Marker([45.5244, -122.6699], popup='The Waterfront').add_to(map_2)\n",
    "folium.CircleMarker([45.5215, -122.6261], radius=100,\n",
    "                    popup='Laurelhurst Park', color='#3186cc',\n",
    "                    fill_color='#3186cc', fill=True).add_to(map_2)\n",
    "map_2"
   ]
  },
  {
   "cell_type": "code",
   "execution_count": null,
   "metadata": {},
   "outputs": [],
   "source": [
    "import folium\n",
    "import pandas as pd"
   ]
  },
  {
   "cell_type": "code",
   "execution_count": null,
   "metadata": {},
   "outputs": [],
   "source": [
    "state_unemployment = '../data/02.folium_US_Unemployment_Oct2012.csv'\n",
    "state_data = pd.read_csv(state_unemployment)\n",
    "state_data.head()"
   ]
  },
  {
   "cell_type": "code",
   "execution_count": null,
   "metadata": {},
   "outputs": [],
   "source": [
    "state_geo = '../data/02.folium_us-states.json'\n",
    "map = folium.Map(location=[40, -98], zoom_start=4)\n",
    "map.choropleth(geo_data=state_geo, data=state_data,\n",
    "               columns=['State', 'Unemployment'],\n",
    "               key_on='feature.id',\n",
    "               fill_color='YlGn',\n",
    "               legend_name='Unemployment Rate(%)')\n",
    "map"
   ]
  },
  {
   "cell_type": "code",
   "execution_count": null,
   "metadata": {},
   "outputs": [],
   "source": []
  }
 ],
 "metadata": {
  "kernelspec": {
   "display_name": "Python 3",
   "language": "python",
   "name": "python3"
  },
  "language_info": {
   "codemirror_mode": {
    "name": "ipython",
    "version": 3
   },
   "file_extension": ".py",
   "mimetype": "text/x-python",
   "name": "python",
   "nbconvert_exporter": "python",
   "pygments_lexer": "ipython3",
   "version": "3.6.1"
  }
 },
 "nbformat": 4,
 "nbformat_minor": 2
}
